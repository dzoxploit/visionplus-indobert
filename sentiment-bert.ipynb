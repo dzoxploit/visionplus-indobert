{
  "cells": [
    {
      "cell_type": "code",
      "execution_count": 72,
      "metadata": {
        "id": "tk6PjpC9O7hY"
      },
      "outputs": [],
      "source": [
        "# from google.colab import drive\n",
        "# drive.mount('/content/drive')"
      ]
    },
    {
      "cell_type": "code",
      "execution_count": 73,
      "metadata": {
        "colab": {
          "base_uri": "https://localhost:8080/"
        },
        "id": "OjNwwCisxNmW",
        "outputId": "20bf5478-f182-4318-f23d-424cc6c41cff"
      },
      "outputs": [
        {
          "name": "stdout",
          "output_type": "stream",
          "text": [
            "Mon May  1 10:30:23 2023       \n",
            "+-----------------------------------------------------------------------------+\n",
            "| NVIDIA-SMI 462.30       Driver Version: 462.30       CUDA Version: 11.2     |\n",
            "|-------------------------------+----------------------+----------------------+\n",
            "| GPU  Name            TCC/WDDM | Bus-Id        Disp.A | Volatile Uncorr. ECC |\n",
            "| Fan  Temp  Perf  Pwr:Usage/Cap|         Memory-Usage | GPU-Util  Compute M. |\n",
            "|                               |                      |               MIG M. |\n",
            "|===============================+======================+======================|\n",
            "|   0  GeForce GTX 165... WDDM  | 00000000:01:00.0 Off |                  N/A |\n",
            "| N/A   60C    P8     6W /  N/A |    134MiB /  4096MiB |      0%      Default |\n",
            "|                               |                      |                  N/A |\n",
            "+-------------------------------+----------------------+----------------------+\n",
            "                                                                               \n",
            "+-----------------------------------------------------------------------------+\n",
            "| Processes:                                                                  |\n",
            "|  GPU   GI   CI        PID   Type   Process name                  GPU Memory |\n",
            "|        ID   ID                                                   Usage      |\n",
            "|=============================================================================|\n",
            "|  No running processes found                                                 |\n",
            "+-----------------------------------------------------------------------------+\n"
          ]
        }
      ],
      "source": [
        "!nvidia-smi"
      ]
    },
    {
      "cell_type": "code",
      "execution_count": 74,
      "metadata": {
        "id": "FrLd7UC24ylG"
      },
      "outputs": [],
      "source": [
        "# !rm -r indonlu"
      ]
    },
    {
      "cell_type": "code",
      "execution_count": 75,
      "metadata": {
        "colab": {
          "base_uri": "https://localhost:8080/"
        },
        "id": "777UVUlaZ9OY",
        "outputId": "f6871bfa-ac7f-42f4-943d-4d81bef90555"
      },
      "outputs": [
        {
          "name": "stderr",
          "output_type": "stream",
          "text": [
            "fatal: destination path 'indonlu' already exists and is not an empty directory.\n"
          ]
        }
      ],
      "source": [
        "!git clone https://github.com/ezaaputra/indonlu.git"
      ]
    },
    {
      "cell_type": "markdown",
      "metadata": {
        "id": "3SQTbtqlxYLr"
      },
      "source": [
        "# 1. Import Library"
      ]
    },
    {
      "cell_type": "code",
      "execution_count": 76,
      "metadata": {
        "colab": {
          "base_uri": "https://localhost:8080/"
        },
        "id": "LNA5CC1L1Dcs",
        "outputId": "04fdec15-4736-481c-832c-12deade9b2f1"
      },
      "outputs": [
        {
          "name": "stderr",
          "output_type": "stream",
          "text": [
            "'pip' is not recognized as an internal or external command,\n",
            "operable program or batch file.\n",
            "'pip' is not recognized as an internal or external command,\n",
            "operable program or batch file.\n",
            "'pip' is not recognized as an internal or external command,\n",
            "operable program or batch file.\n"
          ]
        }
      ],
      "source": [
        "!pip install emoji\n",
        "!pip install Sastrawi\n",
        "!pip install transformers"
      ]
    },
    {
      "cell_type": "code",
      "execution_count": 77,
      "metadata": {
        "colab": {
          "base_uri": "https://localhost:8080/"
        },
        "id": "WRE--usdxP5N",
        "outputId": "17a44dd9-dfd7-42ec-c4fb-3c4c2e9319db"
      },
      "outputs": [
        {
          "name": "stderr",
          "output_type": "stream",
          "text": [
            "[nltk_data] Downloading package punkt to\n",
            "[nltk_data]     C:\\Users\\didin\\AppData\\Roaming\\nltk_data...\n",
            "[nltk_data]   Package punkt is already up-to-date!\n"
          ]
        }
      ],
      "source": [
        "import pandas as pd\n",
        "import numpy as np\n",
        "import re\n",
        "from sklearn.model_selection import train_test_split\n",
        "from sklearn.metrics import confusion_matrix\n",
        "from sklearn.metrics import classification_report\n",
        "from collections import defaultdict\n",
        "\n",
        "# NLP\n",
        "import nltk\n",
        "nltk.download('punkt')\n",
        "# from Sastrawi.Stemmer.StemmerFactory import StemmerFactory\n",
        "from nltk.probability import FreqDist\n",
        "from nltk.tokenize import word_tokenize\n",
        "import emoji\n",
        "\n",
        "# Viz\n",
        "import matplotlib.pyplot as plt\n",
        "import seaborn as sns\n",
        "import matplotlib as mpl\n",
        "from wordcloud import WordCloud\n",
        "\n",
        "#Model IndoBERT\n",
        "import random\n",
        "import torch\n",
        "import torch.nn.functional as F\n",
        "from torch import optim\n",
        "from tqdm import tqdm\n",
        "\n",
        "from transformers import BertForSequenceClassification, BertConfig, BertTokenizer\n",
        "from indonlu.utils.data_utils import DocumentSentimentDataset, DocumentSentimentDataLoader\n",
        "from indonlu.utils.forward_fn import forward_sequence_classification\n",
        "from indonlu.utils.metrics import document_sentiment_metrics_fn\n"
      ]
    },
    {
      "cell_type": "markdown",
      "metadata": {
        "id": "Law54nfdxhEt"
      },
      "source": [
        "# 2. Exploratory Data Analysis"
      ]
    },
    {
      "cell_type": "code",
      "execution_count": 78,
      "metadata": {
        "id": "SGKNbYG5e920"
      },
      "outputs": [],
      "source": [
        "df_path = 'vision_mentah_second.csv'\n",
        "stopword_path = 'stopword.txt'\n",
        "kamus_alay_path = 'kamus_alay.csv'"
      ]
    },
    {
      "cell_type": "code",
      "execution_count": 79,
      "metadata": {
        "id": "69SlxPp5yEDa"
      },
      "outputs": [],
      "source": [
        "# Import data\n",
        "df = pd.read_csv(df_path)"
      ]
    },
    {
      "cell_type": "code",
      "execution_count": 80,
      "metadata": {
        "colab": {
          "base_uri": "https://localhost:8080/",
          "height": 204
        },
        "id": "Y4LoTFhSYRo3",
        "outputId": "74d9ffb6-9d91-4825-8ca9-9d65d2fd97d9"
      },
      "outputs": [
        {
          "data": {
            "text/html": [
              "<div>\n",
              "<style scoped>\n",
              "    .dataframe tbody tr th:only-of-type {\n",
              "        vertical-align: middle;\n",
              "    }\n",
              "\n",
              "    .dataframe tbody tr th {\n",
              "        vertical-align: top;\n",
              "    }\n",
              "\n",
              "    .dataframe thead th {\n",
              "        text-align: right;\n",
              "    }\n",
              "</style>\n",
              "<table border=\"1\" class=\"dataframe\">\n",
              "  <thead>\n",
              "    <tr style=\"text-align: right;\">\n",
              "      <th></th>\n",
              "      <th>reviewId</th>\n",
              "      <th>userName</th>\n",
              "      <th>userImage</th>\n",
              "      <th>content</th>\n",
              "      <th>score</th>\n",
              "      <th>thumbsUpCount</th>\n",
              "      <th>reviewCreatedVersion</th>\n",
              "      <th>at</th>\n",
              "      <th>replyContent</th>\n",
              "      <th>repliedAt</th>\n",
              "    </tr>\n",
              "  </thead>\n",
              "  <tbody>\n",
              "    <tr>\n",
              "      <th>4778</th>\n",
              "      <td>32aab192-4a18-42f0-a75a-547f5e71a908</td>\n",
              "      <td>Cepi Indo</td>\n",
              "      <td>https://play-lh.googleusercontent.com/a/AGNmyx...</td>\n",
              "      <td>Versi Android kitkat 4.4.4 vision+ kok ga ada ...</td>\n",
              "      <td>4</td>\n",
              "      <td>1</td>\n",
              "      <td>6.2.3</td>\n",
              "      <td>2021-01-24 10:05:17</td>\n",
              "      <td>Terima kasih atas review-nya. Vision+ sangat m...</td>\n",
              "      <td>2021-01-24 10:22:10</td>\n",
              "    </tr>\n",
              "    <tr>\n",
              "      <th>7660</th>\n",
              "      <td>1a02c3d9-5c17-4ba0-a4b1-5dd0f67d6543</td>\n",
              "      <td>Pengguna Google</td>\n",
              "      <td>https://play-lh.googleusercontent.com/EGemoI2N...</td>\n",
              "      <td>Aplikasi ini sngat berguna bagi anak anak untu...</td>\n",
              "      <td>5</td>\n",
              "      <td>0</td>\n",
              "      <td>NaN</td>\n",
              "      <td>2018-11-16 14:25:29</td>\n",
              "      <td>Terima kasih atas review-nya, selamat menikmat...</td>\n",
              "      <td>2018-11-16 15:10:14</td>\n",
              "    </tr>\n",
              "    <tr>\n",
              "      <th>295</th>\n",
              "      <td>90d2b10d-e4c5-4fd9-af86-9d9f0dc56dd9</td>\n",
              "      <td>Rivi Hamzah</td>\n",
              "      <td>https://play-lh.googleusercontent.com/a/AGNmyx...</td>\n",
              "      <td>Aplikasinya jelek. Aplikasinya terlalu berat u...</td>\n",
              "      <td>1</td>\n",
              "      <td>0</td>\n",
              "      <td>6.20.0</td>\n",
              "      <td>2023-02-14 18:26:37</td>\n",
              "      <td>Hi Villenial....Mohon Maaf atas ketidaknyamana...</td>\n",
              "      <td>2023-02-14 18:38:58</td>\n",
              "    </tr>\n",
              "    <tr>\n",
              "      <th>5636</th>\n",
              "      <td>ca19a1db-7939-4d76-9f31-187607760fa6</td>\n",
              "      <td>Junaidi Sa</td>\n",
              "      <td>https://play-lh.googleusercontent.com/a/AGNmyx...</td>\n",
              "      <td>Bagus .. cuma aplikasinya belum ada di tv andr...</td>\n",
              "      <td>3</td>\n",
              "      <td>0</td>\n",
              "      <td>6.1.1</td>\n",
              "      <td>2020-12-19 01:45:16</td>\n",
              "      <td>Mohon maaf atas ketidaknyamanannya. Aplikasi V...</td>\n",
              "      <td>2020-12-20 01:32:46</td>\n",
              "    </tr>\n",
              "    <tr>\n",
              "      <th>2839</th>\n",
              "      <td>4cf47f0c-afb5-449e-a168-e8b14935c107</td>\n",
              "      <td>Pengguna Google</td>\n",
              "      <td>https://play-lh.googleusercontent.com/EGemoI2N...</td>\n",
              "      <td>Bagus2 aja sih ga ada kendala...buat yg ga bis...</td>\n",
              "      <td>5</td>\n",
              "      <td>0</td>\n",
              "      <td>NaN</td>\n",
              "      <td>2020-01-15 13:14:05</td>\n",
              "      <td>Terima kasih atas review-nya. Untuk tayangan y...</td>\n",
              "      <td>2020-01-15 15:02:23</td>\n",
              "    </tr>\n",
              "  </tbody>\n",
              "</table>\n",
              "</div>"
            ],
            "text/plain": [
              "                                  reviewId         userName  \\\n",
              "4778  32aab192-4a18-42f0-a75a-547f5e71a908        Cepi Indo   \n",
              "7660  1a02c3d9-5c17-4ba0-a4b1-5dd0f67d6543  Pengguna Google   \n",
              "295   90d2b10d-e4c5-4fd9-af86-9d9f0dc56dd9      Rivi Hamzah   \n",
              "5636  ca19a1db-7939-4d76-9f31-187607760fa6       Junaidi Sa   \n",
              "2839  4cf47f0c-afb5-449e-a168-e8b14935c107  Pengguna Google   \n",
              "\n",
              "                                              userImage  \\\n",
              "4778  https://play-lh.googleusercontent.com/a/AGNmyx...   \n",
              "7660  https://play-lh.googleusercontent.com/EGemoI2N...   \n",
              "295   https://play-lh.googleusercontent.com/a/AGNmyx...   \n",
              "5636  https://play-lh.googleusercontent.com/a/AGNmyx...   \n",
              "2839  https://play-lh.googleusercontent.com/EGemoI2N...   \n",
              "\n",
              "                                                content  score  thumbsUpCount  \\\n",
              "4778  Versi Android kitkat 4.4.4 vision+ kok ga ada ...      4              1   \n",
              "7660  Aplikasi ini sngat berguna bagi anak anak untu...      5              0   \n",
              "295   Aplikasinya jelek. Aplikasinya terlalu berat u...      1              0   \n",
              "5636  Bagus .. cuma aplikasinya belum ada di tv andr...      3              0   \n",
              "2839  Bagus2 aja sih ga ada kendala...buat yg ga bis...      5              0   \n",
              "\n",
              "     reviewCreatedVersion                   at  \\\n",
              "4778                6.2.3  2021-01-24 10:05:17   \n",
              "7660                  NaN  2018-11-16 14:25:29   \n",
              "295                6.20.0  2023-02-14 18:26:37   \n",
              "5636                6.1.1  2020-12-19 01:45:16   \n",
              "2839                  NaN  2020-01-15 13:14:05   \n",
              "\n",
              "                                           replyContent            repliedAt  \n",
              "4778  Terima kasih atas review-nya. Vision+ sangat m...  2021-01-24 10:22:10  \n",
              "7660  Terima kasih atas review-nya, selamat menikmat...  2018-11-16 15:10:14  \n",
              "295   Hi Villenial....Mohon Maaf atas ketidaknyamana...  2023-02-14 18:38:58  \n",
              "5636  Mohon maaf atas ketidaknyamanannya. Aplikasi V...  2020-12-20 01:32:46  \n",
              "2839  Terima kasih atas review-nya. Untuk tayangan y...  2020-01-15 15:02:23  "
            ]
          },
          "execution_count": 80,
          "metadata": {},
          "output_type": "execute_result"
        }
      ],
      "source": [
        "df.sample(5)"
      ]
    },
    {
      "cell_type": "code",
      "execution_count": 81,
      "metadata": {
        "colab": {
          "base_uri": "https://localhost:8080/"
        },
        "id": "ya7zzlmQyXkb",
        "outputId": "6f81dcd2-1322-46ea-8245-cabc4685b918"
      },
      "outputs": [
        {
          "name": "stdout",
          "output_type": "stream",
          "text": [
            "shape: (8000, 10)\n"
          ]
        }
      ],
      "source": [
        "print(f'shape: {df.shape}')"
      ]
    },
    {
      "cell_type": "code",
      "execution_count": 82,
      "metadata": {},
      "outputs": [
        {
          "data": {
            "image/png": "[encoded data removed]",
            "text/plain": [
              "<Figure size 640x480 with 1 Axes>"
            ]
          },
          "metadata": {},
          "output_type": "display_data"
        }
      ],
      "source": [
        "sns.countplot(x=df[\"score\"])\n",
        "plt.xlabel('review score');"
      ]
    },
    {
      "cell_type": "code",
      "execution_count": 83,
      "metadata": {},
      "outputs": [],
      "source": [
        "def to_sentiment(rating):\n",
        "    \n",
        "    rating = int(rating)\n",
        "    \n",
        "    # Convert to class\n",
        "    if rating <= 2:\n",
        "        return 0\n",
        "    elif rating == 3:\n",
        "        return 1\n",
        "    else:\n",
        "        return 2\n",
        "\n",
        "# Apply to the dataset \n",
        "df['category'] = df[\"score\"].apply(to_sentiment)\n"
      ]
    },
    {
      "cell_type": "code",
      "execution_count": 84,
      "metadata": {},
      "outputs": [
        {
          "data": {
            "text/html": [
              "<div>\n",
              "<style scoped>\n",
              "    .dataframe tbody tr th:only-of-type {\n",
              "        vertical-align: middle;\n",
              "    }\n",
              "\n",
              "    .dataframe tbody tr th {\n",
              "        vertical-align: top;\n",
              "    }\n",
              "\n",
              "    .dataframe thead th {\n",
              "        text-align: right;\n",
              "    }\n",
              "</style>\n",
              "<table border=\"1\" class=\"dataframe\">\n",
              "  <thead>\n",
              "    <tr style=\"text-align: right;\">\n",
              "      <th></th>\n",
              "      <th>reviewId</th>\n",
              "      <th>userName</th>\n",
              "      <th>userImage</th>\n",
              "      <th>content</th>\n",
              "      <th>score</th>\n",
              "      <th>thumbsUpCount</th>\n",
              "      <th>reviewCreatedVersion</th>\n",
              "      <th>at</th>\n",
              "      <th>replyContent</th>\n",
              "      <th>repliedAt</th>\n",
              "      <th>category</th>\n",
              "    </tr>\n",
              "  </thead>\n",
              "  <tbody>\n",
              "    <tr>\n",
              "      <th>0</th>\n",
              "      <td>e62be63f-800b-4aa1-acb1-235a13cd3ba9</td>\n",
              "      <td>Muhammad Sofyan Zain</td>\n",
              "      <td>https://play-lh.googleusercontent.com/a-/ACB-R...</td>\n",
              "      <td>Saya masih ngetes dulu nih berlangganan 1 bula...</td>\n",
              "      <td>1</td>\n",
              "      <td>4</td>\n",
              "      <td>6.24.0</td>\n",
              "      <td>2023-04-28 19:36:30</td>\n",
              "      <td>Hi Villenial...Mohon Maaf atas ketidaknyamanan...</td>\n",
              "      <td>2023-04-28 21:13:27</td>\n",
              "      <td>0</td>\n",
              "    </tr>\n",
              "    <tr>\n",
              "      <th>1</th>\n",
              "      <td>8857ee5e-6a31-404e-a3bc-547b0c2337ba</td>\n",
              "      <td>Dinna Agsari</td>\n",
              "      <td>https://play-lh.googleusercontent.com/a-/ACB-R...</td>\n",
              "      <td>Tolong tingkatkan lagi. Lagi enak2 nonton samp...</td>\n",
              "      <td>1</td>\n",
              "      <td>29</td>\n",
              "      <td>6.24.0</td>\n",
              "      <td>2023-04-23 09:10:39</td>\n",
              "      <td>Mohon Maaf atas ketidaknyamanannya kak Dinna. ...</td>\n",
              "      <td>2023-04-23 10:15:16</td>\n",
              "      <td>0</td>\n",
              "    </tr>\n",
              "    <tr>\n",
              "      <th>2</th>\n",
              "      <td>c7de4e7e-dd9a-4319-9186-4ee6abb3bec6</td>\n",
              "      <td>Bary Hastomo Kristyadi</td>\n",
              "      <td>https://play-lh.googleusercontent.com/a-/ACB-R...</td>\n",
              "      <td>Wah.. Status langganan masih aktif, tp dipake ...</td>\n",
              "      <td>1</td>\n",
              "      <td>1</td>\n",
              "      <td>6.24.0</td>\n",
              "      <td>2023-04-29 20:23:21</td>\n",
              "      <td>Mohon Maaf atas ketidaknyamanannya kak Bary .....</td>\n",
              "      <td>2023-04-30 00:50:53</td>\n",
              "      <td>0</td>\n",
              "    </tr>\n",
              "    <tr>\n",
              "      <th>3</th>\n",
              "      <td>4d2a5e1d-a99c-4b18-a2d0-75252bf6d544</td>\n",
              "      <td>Syamila</td>\n",
              "      <td>https://play-lh.googleusercontent.com/a-/ACB-R...</td>\n",
              "      <td>Aplikasinya jelek, udah langganan premium eh b...</td>\n",
              "      <td>1</td>\n",
              "      <td>1</td>\n",
              "      <td>6.24.0</td>\n",
              "      <td>2023-04-28 14:06:58</td>\n",
              "      <td>Hi Villenial....Mohon Maaf atas ketidaknyamana...</td>\n",
              "      <td>2023-04-28 14:17:52</td>\n",
              "      <td>0</td>\n",
              "    </tr>\n",
              "    <tr>\n",
              "      <th>4</th>\n",
              "      <td>2e1c3d16-21e5-4d33-a626-08ba1d003c75</td>\n",
              "      <td>Ash</td>\n",
              "      <td>https://play-lh.googleusercontent.com/a-/ACB-R...</td>\n",
              "      <td>Kalo mau pilih episode susah, dipencet2 tetep ...</td>\n",
              "      <td>2</td>\n",
              "      <td>52</td>\n",
              "      <td>6.22.0</td>\n",
              "      <td>2023-02-07 20:19:35</td>\n",
              "      <td>Hi Villenial....Mohon maaf atas ketidaknyamana...</td>\n",
              "      <td>2023-02-07 20:35:53</td>\n",
              "      <td>0</td>\n",
              "    </tr>\n",
              "  </tbody>\n",
              "</table>\n",
              "</div>"
            ],
            "text/plain": [
              "                               reviewId                userName  \\\n",
              "0  e62be63f-800b-4aa1-acb1-235a13cd3ba9    Muhammad Sofyan Zain   \n",
              "1  8857ee5e-6a31-404e-a3bc-547b0c2337ba            Dinna Agsari   \n",
              "2  c7de4e7e-dd9a-4319-9186-4ee6abb3bec6  Bary Hastomo Kristyadi   \n",
              "3  4d2a5e1d-a99c-4b18-a2d0-75252bf6d544                 Syamila   \n",
              "4  2e1c3d16-21e5-4d33-a626-08ba1d003c75                     Ash   \n",
              "\n",
              "                                           userImage  \\\n",
              "0  https://play-lh.googleusercontent.com/a-/ACB-R...   \n",
              "1  https://play-lh.googleusercontent.com/a-/ACB-R...   \n",
              "2  https://play-lh.googleusercontent.com/a-/ACB-R...   \n",
              "3  https://play-lh.googleusercontent.com/a-/ACB-R...   \n",
              "4  https://play-lh.googleusercontent.com/a-/ACB-R...   \n",
              "\n",
              "                                             content  score  thumbsUpCount  \\\n",
              "0  Saya masih ngetes dulu nih berlangganan 1 bula...      1              4   \n",
              "1  Tolong tingkatkan lagi. Lagi enak2 nonton samp...      1             29   \n",
              "2  Wah.. Status langganan masih aktif, tp dipake ...      1              1   \n",
              "3  Aplikasinya jelek, udah langganan premium eh b...      1              1   \n",
              "4  Kalo mau pilih episode susah, dipencet2 tetep ...      2             52   \n",
              "\n",
              "  reviewCreatedVersion                   at  \\\n",
              "0               6.24.0  2023-04-28 19:36:30   \n",
              "1               6.24.0  2023-04-23 09:10:39   \n",
              "2               6.24.0  2023-04-29 20:23:21   \n",
              "3               6.24.0  2023-04-28 14:06:58   \n",
              "4               6.22.0  2023-02-07 20:19:35   \n",
              "\n",
              "                                        replyContent            repliedAt  \\\n",
              "0  Hi Villenial...Mohon Maaf atas ketidaknyamanan...  2023-04-28 21:13:27   \n",
              "1  Mohon Maaf atas ketidaknyamanannya kak Dinna. ...  2023-04-23 10:15:16   \n",
              "2  Mohon Maaf atas ketidaknyamanannya kak Bary .....  2023-04-30 00:50:53   \n",
              "3  Hi Villenial....Mohon Maaf atas ketidaknyamana...  2023-04-28 14:17:52   \n",
              "4  Hi Villenial....Mohon maaf atas ketidaknyamana...  2023-02-07 20:35:53   \n",
              "\n",
              "   category  \n",
              "0         0  \n",
              "1         0  \n",
              "2         0  \n",
              "3         0  \n",
              "4         0  "
            ]
          },
          "execution_count": 84,
          "metadata": {},
          "output_type": "execute_result"
        }
      ],
      "source": [
        "df.head()"
      ]
    },
    {
      "cell_type": "code",
      "execution_count": 85,
      "metadata": {},
      "outputs": [
        {
          "data": {
            "image/png": "[encoded data removed]",
            "text/plain": [
              "<Figure size 640x480 with 1 Axes>"
            ]
          },
          "metadata": {},
          "output_type": "display_data"
        }
      ],
      "source": [
        "class_names = ['negative', 'neutral', 'positive']\n",
        "\n",
        "ax = sns.countplot(x = df[\"category\"])\n",
        "ax.set_xticks(range(len(class_names)))\n",
        "ax.set_xticklabels(class_names)\n",
        "\n",
        "plt.xlabel('review sentiment')\n",
        "plt.show()"
      ]
    },
    {
      "cell_type": "code",
      "execution_count": 86,
      "metadata": {},
      "outputs": [],
      "source": [
        "def to_sentiment(rating):\n",
        "    \n",
        "    rating = int(rating)\n",
        "    \n",
        "    # Convert to class\n",
        "    if rating <= 2:\n",
        "        return \"negative\"\n",
        "    elif rating == 3:\n",
        "        return \"neutral\"\n",
        "    else:\n",
        "        return \"positive\"\n",
        "\n",
        "# Apply to the dataset \n",
        "df['category'] = df[\"score\"].apply(to_sentiment)"
      ]
    },
    {
      "cell_type": "code",
      "execution_count": 87,
      "metadata": {},
      "outputs": [
        {
          "data": {
            "text/plain": [
              "positive    4219\n",
              "negative    3060\n",
              "neutral      721\n",
              "Name: category, dtype: int64"
            ]
          },
          "execution_count": 87,
          "metadata": {},
          "output_type": "execute_result"
        }
      ],
      "source": [
        "df[\"category\"].value_counts()"
      ]
    },
    {
      "cell_type": "markdown",
      "metadata": {
        "id": "VSN_4zfhNbxo"
      },
      "source": [
        "## Proporsi Variabel Target"
      ]
    },
    {
      "cell_type": "code",
      "execution_count": 88,
      "metadata": {
        "colab": {
          "base_uri": "https://localhost:8080/"
        },
        "id": "wUvBSxB4ya4W",
        "outputId": "21d503d8-8502-468d-d0b1-ec7447a6e72e"
      },
      "outputs": [
        {
          "data": {
            "text/plain": [
              "positive    4219\n",
              "negative    3060\n",
              "neutral      721\n",
              "Name: category, dtype: int64"
            ]
          },
          "execution_count": 88,
          "metadata": {},
          "output_type": "execute_result"
        }
      ],
      "source": [
        "df['category'].value_counts()"
      ]
    },
    {
      "cell_type": "code",
      "execution_count": 89,
      "metadata": {
        "id": "XZG7YoIENYjq"
      },
      "outputs": [],
      "source": [
        "# Function to make a donut chart\n",
        "def donut(sizes, ax, angle=90, labels=None,colors=None, explode=None, shadow=None):\n",
        "\n",
        "    # Plot\n",
        "    ax.pie(sizes, colors = colors, labels=labels, autopct='%.1f%%', \n",
        "           startangle = angle, pctdistance=0.8, explode = explode, \n",
        "           wedgeprops=dict(width=0.4), shadow=shadow)\n",
        "\n",
        "    # Formatting\n",
        "    plt.axis('equal')  \n",
        "    plt.tight_layout()"
      ]
    },
    {
      "cell_type": "code",
      "execution_count": 90,
      "metadata": {
        "id": "1tsIZNReNbCg"
      },
      "outputs": [],
      "source": [
        "# Plot arguments\n",
        "sizes = df.category.value_counts()\n",
        "labels = ['Review Baik', 'Review Netral', 'Review Negatif']\n",
        "colors = ['lightgreen', 'lightskyblue', 'lightcoral']\n",
        "explode = (0,0,0)"
      ]
    },
    {
      "cell_type": "code",
      "execution_count": 91,
      "metadata": {
        "colab": {
          "base_uri": "https://localhost:8080/",
          "height": 315
        },
        "id": "eRDwtqUJOKOx",
        "outputId": "d67f80d9-95d4-443e-ddc9-961abc16616b"
      },
      "outputs": [
        {
          "data": {
            "image/png": "[encoded data removed]",
            "text/plain": [
              "<Figure size 600x400 with 1 Axes>"
            ]
          },
          "metadata": {},
          "output_type": "display_data"
        }
      ],
      "source": [
        "# Create axes\n",
        "f, ax = plt.subplots(figsize=(6,4))\n",
        "\n",
        "# plot donut\n",
        "donut(sizes, ax, 90, labels, colors=colors, explode=explode, shadow=True)\n",
        "ax.set_title('Review Category Proportions')\n",
        "\n",
        "plt.show()"
      ]
    },
    {
      "cell_type": "markdown",
      "metadata": {
        "id": "8O0LhuQZxnrI"
      },
      "source": [
        "# 3. PreProcessing"
      ]
    },
    {
      "cell_type": "markdown",
      "metadata": {
        "id": "8ntmcT2RPDN6"
      },
      "source": [
        "## Preprocessing Tahap 1"
      ]
    },
    {
      "cell_type": "code",
      "execution_count": 92,
      "metadata": {
        "id": "Wfu8bOVwq0HN"
      },
      "outputs": [],
      "source": [
        "character = ['.',',',';',':','-,','...','?','!','(',')','[',']','{','}','<','>','\"','/','\\'','#','-','@',\n",
        "             'a','b','c','d','e','f','g','h','i','j','k','l','m','n','o','p','q','r','s','t','u','v','w','x','y','z',\n",
        "             'A','B','C','D','E','F','G','H','I','J','K','L','M','N','O','P','Q','R','S','T','U','V','W','X','Y','Z']\n",
        "\n",
        "# hapus karakter yang berulang\n",
        "def repeatcharClean(text): \n",
        "  for i in range(len(character)):\n",
        "    charac_long = 5\n",
        "    while charac_long > 2:\n",
        "      char = character[i]*charac_long \n",
        "      text = text.replace(char,character[i])\n",
        "      charac_long -= 1\n",
        "  return text"
      ]
    },
    {
      "cell_type": "code",
      "execution_count": 93,
      "metadata": {
        "id": "WeUKmZzT1Htu"
      },
      "outputs": [],
      "source": [
        "def clean_review(text):\n",
        "  # ubah text menjadi huruf kecil\n",
        "  text = text.lower()\n",
        "  # ubah enter menjadi spasi\n",
        "  text = re.sub(r'\\n', ' ', text)\n",
        "  # hapus emoji\n",
        "  text = emoji.demojize(text)\n",
        "  text = re.sub(':[A-Za-z_-]+:', ' ', text) # delete emoji\n",
        "  # hapus emoticon\n",
        "  text = re.sub(r\"([xX;:]'?[dDpPvVoO3)(])\", ' ', text)\n",
        "  # hapus link\n",
        "  text = re.sub(r\"(https?:\\/\\/(?:www\\.|(?!www))[a-zA-Z0-9][a-zA-Z0-9-]+[a-zA-Z0-9]\\.[^\\s]{2,}|www\\.[a-zA-Z0-9][a-zA-Z0-9-]+[a-zA-Z0-9]\\.[^\\s]{2,}|https?:\\/\\/(?:www\\.|(?!www))[a-zA-Z0-9]+\\.[^\\s]{2,}|www\\.[a-zA-Z0-9]+\\.[^\\s]{2,})\", \"\", text)\n",
        "  # hapus usename\n",
        "  text = re.sub(r\"@[^\\s]+[\\s]?\", ' ', text)\n",
        "  # hapus hashtag\n",
        "  text = re.sub(r'#(\\S+)', r'\\1', text)\n",
        "  # hapus angka dan beberapa simbol\n",
        "  text = re.sub('[^a-zA-Z,.?!]+',' ',text)\n",
        "  # hapus karakter berulang\n",
        "  text = repeatcharClean(text)\n",
        "  # clear spasi\n",
        "  text = re.sub('[ ]+',' ',text)\n",
        "  return text"
      ]
    },
    {
      "cell_type": "code",
      "execution_count": 94,
      "metadata": {
        "id": "DTvdDAYFz5_P"
      },
      "outputs": [],
      "source": [
        "def preprocess_v1(df):\n",
        "  df_pp = df.copy()\n",
        "  df_pp.content = df_pp.content.map(clean_review)\n",
        "\n",
        "  # delete empty row\n",
        "  df_pp.content.replace('', np.nan, inplace=True)\n",
        "  df_pp.content.replace(' ', np.nan, inplace=True)\n",
        "  df_pp.dropna(subset=['content'], inplace=True)\n",
        "  return df_pp"
      ]
    },
    {
      "cell_type": "code",
      "execution_count": 95,
      "metadata": {
        "id": "UgGizhXf6lGk"
      },
      "outputs": [],
      "source": [
        "df_v1 = preprocess_v1(df)"
      ]
    },
    {
      "cell_type": "code",
      "execution_count": 96,
      "metadata": {
        "id": "YQLDUjxIPBR6"
      },
      "outputs": [],
      "source": [
        "# export to tsv\n",
        "# df_v1.to_csv('df_v1.tsv', sep='\\t', header=None, index=False)"
      ]
    },
    {
      "cell_type": "markdown",
      "metadata": {
        "id": "0IOxU-KdPOmw"
      },
      "source": [
        "## Preprocessing Tahap 2"
      ]
    },
    {
      "cell_type": "code",
      "execution_count": 97,
      "metadata": {
        "id": "2fPS4naMsTxY"
      },
      "outputs": [],
      "source": [
        "# additional_stopword:list kata tdk penting\n",
        "additional_stop = [] #['ya', 'deh', 'dia']\n",
        "# default stopword\n",
        "default_stop = pd.read_csv(stopword_path, names=['stopwords'])\n",
        "default_stop = default_stop.stopwords.to_list()\n",
        "# combine all stopword\n",
        "list_stopwords = []\n",
        "list_stopwords = default_stop + additional_stop\n",
        "# remove specific stopword\n",
        "# list_stopwords.remove(\"sangat\")\n",
        "# list_stopwords.remove(\"sekali\")"
      ]
    },
    {
      "cell_type": "code",
      "execution_count": 98,
      "metadata": {
        "id": "mUj_Po2suuZf"
      },
      "outputs": [],
      "source": [
        "kamus_alay = pd.read_csv(kamus_alay_path) \n",
        "\n",
        "normalize_word_dict = {}\n",
        "for index, row in kamus_alay.iterrows():\n",
        "    if row[0] not in normalize_word_dict:\n",
        "        normalize_word_dict[row[0]] = row[1]"
      ]
    },
    {
      "cell_type": "code",
      "execution_count": 99,
      "metadata": {
        "id": "M5hkPvo6smFX"
      },
      "outputs": [],
      "source": [
        "def normalize_review(text):\n",
        "  # tokenize\n",
        "  list_text = word_tokenize(text)\n",
        "  # ubah bahasa alay\n",
        "  list_text = [normalize_word_dict[term] if term in normalize_word_dict else term for term in list_text]\n",
        "  # stemming\n",
        "  # factory = StemmerFactory()\n",
        "  # stemmer = factory.create_stemmer()\n",
        "  # list_text = [stemmer.stem(word) for word in list_text]\n",
        "  # hapus kata yang termasuk stopword\n",
        "  # list_text = [word for word in list_text if word not in list_stopwords]\n",
        "  # gabung kembali kalimat\n",
        "  text = \" \".join(list_text)\n",
        "  return text"
      ]
    },
    {
      "cell_type": "code",
      "execution_count": 100,
      "metadata": {
        "id": "_CaD8WmY_WnU"
      },
      "outputs": [],
      "source": [
        "def preprocess_v2(df):\n",
        "  df_pp = df.copy()\n",
        "  df_pp.content = df_pp.content.map(normalize_review)\n",
        "\n",
        "  # delete empty row\n",
        "  df_pp.content.replace('', np.nan, inplace=True)\n",
        "  df_pp.content.replace(' ', np.nan, inplace=True)\n",
        "  df_pp.dropna(subset=['content'], inplace=True)\n",
        "  return df_pp"
      ]
    },
    {
      "cell_type": "code",
      "execution_count": 101,
      "metadata": {
        "id": "TTx_ZyIV_eFh"
      },
      "outputs": [],
      "source": [
        "# take a while\n",
        "df_v2  = preprocess_v2(df_v1)"
      ]
    },
    {
      "cell_type": "code",
      "execution_count": 102,
      "metadata": {
        "id": "ohB2rTxfnOzo"
      },
      "outputs": [],
      "source": [
        "# export to tsv\n",
        "# df_v2.to_csv('df_v2.tsv', sep='\\t', header=None, index=False)"
      ]
    },
    {
      "cell_type": "code",
      "execution_count": 103,
      "metadata": {
        "id": "V2T1mZP71Utm"
      },
      "outputs": [],
      "source": [
        "def make_corpus(column):\n",
        "    \n",
        "    corpus_list = []\n",
        "\n",
        "    for text in column:\n",
        "        cleaned_list = text.split(' ')\n",
        "        corpus_list.extend(cleaned_list)     \n",
        "        \n",
        "    # transform list of words into 1 body of text\n",
        "    corpus = ' '.join(corpus_list)\n",
        "    corpus = re.sub('[ ]+',' ',corpus) # replace double whitespace with one\n",
        "        \n",
        "    return corpus"
      ]
    },
    {
      "cell_type": "code",
      "execution_count": 104,
      "metadata": {
        "id": "15MLgols2TrZ"
      },
      "outputs": [],
      "source": [
        "# Takes a while\n",
        "corpus = make_corpus(df_v2.content)"
      ]
    },
    {
      "cell_type": "code",
      "execution_count": 105,
      "metadata": {
        "colab": {
          "base_uri": "https://localhost:8080/"
        },
        "id": "oT8nS9m02eLf",
        "outputId": "87b6e682-5c8f-4027-df1b-f791910dbc8d"
      },
      "outputs": [
        {
          "name": "stdout",
          "output_type": "stream",
          "text": [
            "Count of unique words in corpus: 10261\n"
          ]
        }
      ],
      "source": [
        "# counting unique words\n",
        "corpus_set = set(corpus.split(' '))\n",
        "\n",
        "print(f'Count of unique words in corpus: {len(corpus_set)}')"
      ]
    },
    {
      "cell_type": "code",
      "execution_count": 106,
      "metadata": {
        "id": "7HChDFai2eo4"
      },
      "outputs": [],
      "source": [
        "# function for freqdist\n",
        "def word_freq(corpus, top=5):\n",
        "    tokenized_word = word_tokenize(corpus)\n",
        "    freqdist = FreqDist(tokenized_word)\n",
        "    freqdist = freqdist.most_common(top) # list of tuples \n",
        "    \n",
        "    # decompose into label and frequency\n",
        "    label = [tup[0] for tup in freqdist]\n",
        "    freq = [tup[1] for tup in freqdist]\n",
        "    df = pd.DataFrame({'word':label, 'freq':freq})\n",
        "    \n",
        "    return df"
      ]
    },
    {
      "cell_type": "code",
      "execution_count": 107,
      "metadata": {
        "id": "G7HE7lEE2il1"
      },
      "outputs": [],
      "source": [
        "corpus_freq = word_freq(corpus, top=20)"
      ]
    },
    {
      "cell_type": "code",
      "execution_count": 108,
      "metadata": {
        "colab": {
          "base_uri": "https://localhost:8080/",
          "height": 450
        },
        "id": "4Xl5tek62lYi",
        "outputId": "8f0c2229-b20c-4073-8aec-5eb3f499f2d6"
      },
      "outputs": [
        {
          "data": {
            "image/png": "[encoded data removed]",
            "text/plain": [
              "<Figure size 1500x500 with 1 Axes>"
            ]
          },
          "metadata": {},
          "output_type": "display_data"
        }
      ],
      "source": [
        "# Config params\n",
        "plt.style.use('default')\n",
        "sns.set(style='ticks', palette='Set2')\n",
        "mpl.rcParams['axes.titlesize'] = 20\n",
        "mpl.rcParams['axes.titlepad'] = 20\n",
        "\n",
        "# Compare plots of train and test corpus\n",
        "f, ax1 = plt.subplots(1,figsize=(15,5))\n",
        "\n",
        "sns.barplot(x='word', y='freq', data=corpus_freq, ax=ax1)\n",
        "ax1.set_title('Word Frequency in Train Data')\n",
        "ax1.tick_params(axis='x', rotation=45)\n",
        "\n",
        "# sns.barplot(x='word', y='freq', data=corpus_freq, ax=ax2)\n",
        "# ax2.set_title('Word Frequency in Train Data')\n",
        "# ax2.tick_params(axis='x', rotation=45)\n",
        "\n",
        "# sns.despine(ax=ax1)\n",
        "# sns.despine(ax=ax2)\n",
        "plt.show()"
      ]
    },
    {
      "cell_type": "code",
      "execution_count": 109,
      "metadata": {
        "colab": {
          "base_uri": "https://localhost:8080/",
          "height": 285
        },
        "id": "t4rw54GG2p4c",
        "outputId": "18fd7da6-3f53-49e5-c61f-b389cc023cad"
      },
      "outputs": [
        {
          "data": {
            "image/png": "[encoded data removed]",
            "text/plain": [
              "<Figure size 640x480 with 1 Axes>"
            ]
          },
          "metadata": {},
          "output_type": "display_data"
        }
      ],
      "source": [
        "# Cloud for corpus\n",
        "wordcloud = WordCloud(max_font_size=50, max_words=100, background_color=\"white\").generate(corpus)\n",
        "plt.figure()\n",
        "plt.imshow(wordcloud, interpolation=\"bilinear\")\n",
        "plt.axis(\"off\")\n",
        "plt.show()"
      ]
    },
    {
      "cell_type": "markdown",
      "metadata": {
        "id": "WRllCseqgC1d"
      },
      "source": [
        "# 4. Splitting"
      ]
    },
    {
      "cell_type": "code",
      "execution_count": 110,
      "metadata": {
        "id": "rSy1HXnfxaCZ"
      },
      "outputs": [],
      "source": [
        "# train val split\n",
        "train_set, val_set = train_test_split(df_v2, test_size=0.3, stratify=df_v2.category, random_state=1)\n",
        "val_set, test_set = train_test_split(val_set, test_size=0.33, stratify=val_set.category, random_state=1)"
      ]
    },
    {
      "cell_type": "code",
      "execution_count": 111,
      "metadata": {
        "colab": {
          "base_uri": "https://localhost:8080/"
        },
        "id": "WSyvFOrHxcLc",
        "outputId": "585fca2a-4ff6-458a-9bd7-fb7b7731ca54"
      },
      "outputs": [
        {
          "name": "stdout",
          "output_type": "stream",
          "text": [
            "Train shape: (5599, 11)\n",
            "Val shape: (1608, 11)\n",
            "Test shape: (792, 11)\n"
          ]
        }
      ],
      "source": [
        "print(f'Train shape: {train_set.shape}')\n",
        "print(f'Val shape: {val_set.shape}')\n",
        "print(f'Test shape: {test_set.shape}')"
      ]
    },
    {
      "cell_type": "code",
      "execution_count": 112,
      "metadata": {},
      "outputs": [
        {
          "data": {
            "text/html": [
              "<div>\n",
              "<style scoped>\n",
              "    .dataframe tbody tr th:only-of-type {\n",
              "        vertical-align: middle;\n",
              "    }\n",
              "\n",
              "    .dataframe tbody tr th {\n",
              "        vertical-align: top;\n",
              "    }\n",
              "\n",
              "    .dataframe thead th {\n",
              "        text-align: right;\n",
              "    }\n",
              "</style>\n",
              "<table border=\"1\" class=\"dataframe\">\n",
              "  <thead>\n",
              "    <tr style=\"text-align: right;\">\n",
              "      <th></th>\n",
              "      <th>reviewId</th>\n",
              "      <th>userName</th>\n",
              "      <th>userImage</th>\n",
              "      <th>content</th>\n",
              "      <th>score</th>\n",
              "      <th>thumbsUpCount</th>\n",
              "      <th>reviewCreatedVersion</th>\n",
              "      <th>at</th>\n",
              "      <th>replyContent</th>\n",
              "      <th>repliedAt</th>\n",
              "      <th>category</th>\n",
              "    </tr>\n",
              "  </thead>\n",
              "  <tbody>\n",
              "    <tr>\n",
              "      <th>2714</th>\n",
              "      <td>aced06de-188f-41df-a255-6ab835ace7ab</td>\n",
              "      <td>elly latifa</td>\n",
              "      <td>https://play-lh.googleusercontent.com/a/AGNmyx...</td>\n",
              "      <td>mantul sekale appnya , banyak chanel pilihan y...</td>\n",
              "      <td>5</td>\n",
              "      <td>0</td>\n",
              "      <td>NaN</td>\n",
              "      <td>2020-10-09 16:08:41</td>\n",
              "      <td>Terima kasih reviewnya, kami akan terus tingka...</td>\n",
              "      <td>2020-10-09 16:09:10</td>\n",
              "      <td>positive</td>\n",
              "    </tr>\n",
              "    <tr>\n",
              "      <th>5061</th>\n",
              "      <td>ed24ef38-261e-44df-abc7-864ee9d57f17</td>\n",
              "      <td>Pengguna Google</td>\n",
              "      <td>https://play-lh.googleusercontent.com/EGemoI2N...</td>\n",
              "      <td>ya sudah di download hanya tidak ada gambarnya...</td>\n",
              "      <td>5</td>\n",
              "      <td>0</td>\n",
              "      <td>3.3.9</td>\n",
              "      <td>2018-09-17 20:59:34</td>\n",
              "      <td>Mohon Maaf atas ketidaknyamanannya.Silakan men...</td>\n",
              "      <td>2018-09-17 21:51:38</td>\n",
              "      <td>positive</td>\n",
              "    </tr>\n",
              "    <tr>\n",
              "      <th>7226</th>\n",
              "      <td>3b86948e-aea8-4a60-99a3-aa48f9caa6f6</td>\n",
              "      <td>Wawan Sndi</td>\n",
              "      <td>https://play-lh.googleusercontent.com/a-/ACB-R...</td>\n",
              "      <td>aplikasi babi buat menonton tv saja susah bang...</td>\n",
              "      <td>1</td>\n",
              "      <td>0</td>\n",
              "      <td>NaN</td>\n",
              "      <td>2023-04-10 22:24:29</td>\n",
              "      <td>Mohon Maaf atas ketidaknyamanannya. Silahkan c...</td>\n",
              "      <td>2023-04-10 22:36:40</td>\n",
              "      <td>negative</td>\n",
              "    </tr>\n",
              "    <tr>\n",
              "      <th>760</th>\n",
              "      <td>3c0909ec-02df-46ff-9ef3-e9492fa0ea3a</td>\n",
              "      <td>Pengguna Google</td>\n",
              "      <td>https://play-lh.googleusercontent.com/EGemoI2N...</td>\n",
              "      <td>streaming terputus otomatis setelah menit . en...</td>\n",
              "      <td>2</td>\n",
              "      <td>0</td>\n",
              "      <td>3.3.21</td>\n",
              "      <td>2019-04-22 09:31:34</td>\n",
              "      <td>Mohon Maaf atas ketidaknyamanannya.Silakan cob...</td>\n",
              "      <td>2019-04-22 09:32:47</td>\n",
              "      <td>negative</td>\n",
              "    </tr>\n",
              "    <tr>\n",
              "      <th>5039</th>\n",
              "      <td>5a6c9027-64b2-4cec-bf24-93bbda5acdb3</td>\n",
              "      <td>Lucas lucy</td>\n",
              "      <td>https://play-lh.googleusercontent.com/a/AGNmyx...</td>\n",
              "      <td>aplikasinya bagus tapi pas gue menonton kok ka...</td>\n",
              "      <td>3</td>\n",
              "      <td>0</td>\n",
              "      <td>4.4.5</td>\n",
              "      <td>2020-08-01 19:05:48</td>\n",
              "      <td>Mohon Maaf atas ketidaknyamanannya. Silakan co...</td>\n",
              "      <td>2020-08-01 21:39:22</td>\n",
              "      <td>neutral</td>\n",
              "    </tr>\n",
              "  </tbody>\n",
              "</table>\n",
              "</div>"
            ],
            "text/plain": [
              "                                  reviewId         userName  \\\n",
              "2714  aced06de-188f-41df-a255-6ab835ace7ab      elly latifa   \n",
              "5061  ed24ef38-261e-44df-abc7-864ee9d57f17  Pengguna Google   \n",
              "7226  3b86948e-aea8-4a60-99a3-aa48f9caa6f6       Wawan Sndi   \n",
              "760   3c0909ec-02df-46ff-9ef3-e9492fa0ea3a  Pengguna Google   \n",
              "5039  5a6c9027-64b2-4cec-bf24-93bbda5acdb3       Lucas lucy   \n",
              "\n",
              "                                              userImage  \\\n",
              "2714  https://play-lh.googleusercontent.com/a/AGNmyx...   \n",
              "5061  https://play-lh.googleusercontent.com/EGemoI2N...   \n",
              "7226  https://play-lh.googleusercontent.com/a-/ACB-R...   \n",
              "760   https://play-lh.googleusercontent.com/EGemoI2N...   \n",
              "5039  https://play-lh.googleusercontent.com/a/AGNmyx...   \n",
              "\n",
              "                                                content  score  thumbsUpCount  \\\n",
              "2714  mantul sekale appnya , banyak chanel pilihan y...      5              0   \n",
              "5061  ya sudah di download hanya tidak ada gambarnya...      5              0   \n",
              "7226  aplikasi babi buat menonton tv saja susah bang...      1              0   \n",
              "760   streaming terputus otomatis setelah menit . en...      2              0   \n",
              "5039  aplikasinya bagus tapi pas gue menonton kok ka...      3              0   \n",
              "\n",
              "     reviewCreatedVersion                   at  \\\n",
              "2714                  NaN  2020-10-09 16:08:41   \n",
              "5061                3.3.9  2018-09-17 20:59:34   \n",
              "7226                  NaN  2023-04-10 22:24:29   \n",
              "760                3.3.21  2019-04-22 09:31:34   \n",
              "5039                4.4.5  2020-08-01 19:05:48   \n",
              "\n",
              "                                           replyContent            repliedAt  \\\n",
              "2714  Terima kasih reviewnya, kami akan terus tingka...  2020-10-09 16:09:10   \n",
              "5061  Mohon Maaf atas ketidaknyamanannya.Silakan men...  2018-09-17 21:51:38   \n",
              "7226  Mohon Maaf atas ketidaknyamanannya. Silahkan c...  2023-04-10 22:36:40   \n",
              "760   Mohon Maaf atas ketidaknyamanannya.Silakan cob...  2019-04-22 09:32:47   \n",
              "5039  Mohon Maaf atas ketidaknyamanannya. Silakan co...  2020-08-01 21:39:22   \n",
              "\n",
              "      category  \n",
              "2714  positive  \n",
              "5061  positive  \n",
              "7226  negative  \n",
              "760   negative  \n",
              "5039   neutral  "
            ]
          },
          "execution_count": 112,
          "metadata": {},
          "output_type": "execute_result"
        }
      ],
      "source": [
        "train_set.head()"
      ]
    },
    {
      "cell_type": "code",
      "execution_count": 113,
      "metadata": {},
      "outputs": [
        {
          "data": {
            "text/html": [
              "<div>\n",
              "<style scoped>\n",
              "    .dataframe tbody tr th:only-of-type {\n",
              "        vertical-align: middle;\n",
              "    }\n",
              "\n",
              "    .dataframe tbody tr th {\n",
              "        vertical-align: top;\n",
              "    }\n",
              "\n",
              "    .dataframe thead th {\n",
              "        text-align: right;\n",
              "    }\n",
              "</style>\n",
              "<table border=\"1\" class=\"dataframe\">\n",
              "  <thead>\n",
              "    <tr style=\"text-align: right;\">\n",
              "      <th></th>\n",
              "      <th>content</th>\n",
              "      <th>category</th>\n",
              "    </tr>\n",
              "  </thead>\n",
              "  <tbody>\n",
              "    <tr>\n",
              "      <th>2714</th>\n",
              "      <td>mantul sekale appnya , banyak chanel pilihan y...</td>\n",
              "      <td>positive</td>\n",
              "    </tr>\n",
              "    <tr>\n",
              "      <th>5061</th>\n",
              "      <td>ya sudah di download hanya tidak ada gambarnya...</td>\n",
              "      <td>positive</td>\n",
              "    </tr>\n",
              "    <tr>\n",
              "      <th>7226</th>\n",
              "      <td>aplikasi babi buat menonton tv saja susah bang...</td>\n",
              "      <td>negative</td>\n",
              "    </tr>\n",
              "    <tr>\n",
              "      <th>760</th>\n",
              "      <td>streaming terputus otomatis setelah menit . en...</td>\n",
              "      <td>negative</td>\n",
              "    </tr>\n",
              "    <tr>\n",
              "      <th>5039</th>\n",
              "      <td>aplikasinya bagus tapi pas gue menonton kok ka...</td>\n",
              "      <td>neutral</td>\n",
              "    </tr>\n",
              "  </tbody>\n",
              "</table>\n",
              "</div>"
            ],
            "text/plain": [
              "                                                content  category\n",
              "2714  mantul sekale appnya , banyak chanel pilihan y...  positive\n",
              "5061  ya sudah di download hanya tidak ada gambarnya...  positive\n",
              "7226  aplikasi babi buat menonton tv saja susah bang...  negative\n",
              "760   streaming terputus otomatis setelah menit . en...  negative\n",
              "5039  aplikasinya bagus tapi pas gue menonton kok ka...   neutral"
            ]
          },
          "execution_count": 113,
          "metadata": {},
          "output_type": "execute_result"
        }
      ],
      "source": [
        "train_set_main = train_set[[\"content\", \"category\"]]\n",
        "val_set_main = val_set[[\"content\", \"category\"]]\n",
        "test_set_main = test_set[[\"content\", \"category\"]]\n",
        "train_set_main.head()"
      ]
    },
    {
      "cell_type": "code",
      "execution_count": 114,
      "metadata": {
        "id": "SjyhWJIF448b"
      },
      "outputs": [],
      "source": [
        "# export to tsv\n",
        "train_set_main.to_csv('train_set.tsv', sep='\\t', header=None, index=False)\n",
        "val_set_main.to_csv('val_set.tsv', sep='\\t', header=None, index=False)\n",
        "test_set_main.to_csv('test_set.tsv', sep='\\t', header=None, index=False)"
      ]
    },
    {
      "cell_type": "markdown",
      "metadata": {
        "id": "ZCWqc8alniBC"
      },
      "source": [
        "# 5. Modeling"
      ]
    },
    {
      "cell_type": "markdown",
      "metadata": {
        "id": "EbJo9evyo4V3"
      },
      "source": [
        "## a. Finetuning IndoBERT"
      ]
    },
    {
      "cell_type": "code",
      "execution_count": 115,
      "metadata": {
        "id": "iU1ivYtXnkMI"
      },
      "outputs": [],
      "source": [
        "###\n",
        "# common functions\n",
        "###\n",
        "def set_seed(seed):\n",
        "    random.seed(seed)\n",
        "    np.random.seed(seed)\n",
        "    torch.manual_seed(seed)\n",
        "    torch.cuda.manual_seed(seed)\n",
        "    \n",
        "def count_param(module, trainable=False):\n",
        "    if trainable:\n",
        "        return sum(p.numel() for p in module.parameters() if p.requires_grad)\n",
        "    else:\n",
        "        return sum(p.numel() for p in module.parameters())\n",
        "    \n",
        "def get_lr(optimizer):\n",
        "    for param_group in optimizer.param_groups:\n",
        "        return param_group['lr']\n",
        "\n",
        "def metrics_to_string(metric_dict):\n",
        "    string_list = []\n",
        "    for key, value in metric_dict.items():\n",
        "        string_list.append('{}:{:.2f}'.format(key, value))\n",
        "    return ' '.join(string_list)"
      ]
    },
    {
      "cell_type": "code",
      "execution_count": 116,
      "metadata": {
        "id": "yW1z-vg7oZXj"
      },
      "outputs": [],
      "source": [
        "# Set random seed\n",
        "set_seed(27)"
      ]
    },
    {
      "cell_type": "markdown",
      "metadata": {
        "id": "K8PY7WgGohZt"
      },
      "source": [
        "## b. Load Model"
      ]
    },
    {
      "cell_type": "code",
      "execution_count": 117,
      "metadata": {
        "colab": {
          "base_uri": "https://localhost:8080/",
          "height": 232,
          "referenced_widgets": [
            "36ad5aaaf7544ed58610469f355122ae",
            "eb39ead4a9e345aaa408df0d7f283dab",
            "2b907b6c256b4f4ebfa0c52201ad2d4a",
            "2b205fefb4544af184296d9a38f016fe",
            "7ba3775edcc74987b3b93e8e54ceb837",
            "9b763ebafa17421890bb7973f9824d26",
            "f2141a2561c24e35acdad4693c5cbb4a",
            "7c95bad9224f43db88f7e5523aa15e7c",
            "42b01c8e8b524e13a70080ebe75feabb",
            "a10733028c47468090b8424601267c2f",
            "5b824cc420a345b786466897fcb92fc5",
            "20d367f760be4eda95643ef1242e0dce",
            "45edefeeef534250b6c58e118bb2645d",
            "5f42cdb561154d6f90ecd8c7c64dc5b1",
            "bdcb870258c44b58b8e935e54f856a7a",
            "719f5d964a3648e88950336b1e9ae459",
            "cc35399d052645e0942c245645dcceee",
            "e866b368eed646a493ecd05bbc7630fb",
            "32876c55ffea45e9a857ae4fa9100325",
            "486d413a455c48eb8b545b2f2a4a436b",
            "7e173c6b52ac40658726fb6a36177a3a",
            "79e7fc0cdac24b70b4c0857d04655486",
            "a4ebdd073be447a386ade543c3b1b8f6",
            "654547b8576d46cc9d95c11954411101",
            "0f3f3903da204cf089e053850345e507",
            "ab6700e7540a4f358ca4e0db8820ee77",
            "65ded8984c6648c2afbf519068b0d54e",
            "a68927a17a35411a8506f97a2061463d",
            "9c2e287c12d8427ea0fc05f80dac7ef4",
            "bf2bc371bbe7437db81bf919153db166",
            "3273595cc2154f598fcabb33274ba69c",
            "e4c7134d2a294fe5aa52e40a45368a80",
            "84428041919347358de39eb07ffd97ac",
            "fcec3b93f311428f9f110cb9776ead10",
            "37bcf7e540644288a9890d95c5395b28",
            "c9c5948259c3434093042bbb492e62c5",
            "626045ad79ed4735a427973a75c1d2c8",
            "34bebca0edf3457481ec11ba843fae43",
            "657c3602a17c4b7582648c82750f9e0b",
            "5f29d8881c2d4a44954399356b8ecc63",
            "eb29b19031034d20891a345abea65606",
            "9f764b2815f54ceb978bb2e2838103ac",
            "8cbda4153f424559bc787a447b170552",
            "35705f380d1b4b5897d06b3a81f23be2",
            "1f17677b2b164913bf6348ea17d80c7d",
            "b70bb9d13c884cfbb168f256161eb59a",
            "9820aed8a5024d4a9c0fad43b2807982",
            "88a80658cd8144a8afd0872c8214742e",
            "b93272012d124e0a9fb44e043b332ae7",
            "576974cec136425582f25f174fd22f47",
            "0eadb21c16f34c4f85ca3433a418247b",
            "a13a4ed422df44e7a8724e9f2476e798",
            "38cc3dd57fed4c7ca771a80b04eda7a2",
            "ebc1844d2c0f4c9eabd843edbe63ef08",
            "8e314608a04a43c7958b2da714ccc770"
          ]
        },
        "id": "hjWu4VL9ocDA",
        "outputId": "3a6fe9a5-335e-4053-cb08-efe21ef7c94d"
      },
      "outputs": [
        {
          "name": "stderr",
          "output_type": "stream",
          "text": [
            "Some weights of BertForSequenceClassification were not initialized from the model checkpoint at indobenchmark/indobert-base-p1 and are newly initialized: ['classifier.bias', 'classifier.weight']\n",
            "You should probably TRAIN this model on a down-stream task to be able to use it for predictions and inference.\n"
          ]
        }
      ],
      "source": [
        "# Load Tokenizer and Config\n",
        "tokenizer = BertTokenizer.from_pretrained('indobenchmark/indobert-base-p1')\n",
        "config = BertConfig.from_pretrained('indobenchmark/indobert-base-p1')\n",
        "config.num_labels = DocumentSentimentDataset.NUM_LABELS\n",
        "\n",
        "# Instantiate model\n",
        "model = BertForSequenceClassification.from_pretrained('indobenchmark/indobert-base-p1', config=config)"
      ]
    },
    {
      "cell_type": "code",
      "execution_count": 118,
      "metadata": {
        "colab": {
          "base_uri": "https://localhost:8080/"
        },
        "id": "zVX7X2GTotg1",
        "outputId": "00c38405-548c-4948-da5d-2906bbcb256c"
      },
      "outputs": [
        {
          "data": {
            "text/plain": [
              "BertForSequenceClassification(\n",
              "  (bert): BertModel(\n",
              "    (embeddings): BertEmbeddings(\n",
              "      (word_embeddings): Embedding(50000, 768, padding_idx=0)\n",
              "      (position_embeddings): Embedding(512, 768)\n",
              "      (token_type_embeddings): Embedding(2, 768)\n",
              "      (LayerNorm): LayerNorm((768,), eps=1e-12, elementwise_affine=True)\n",
              "      (dropout): Dropout(p=0.1, inplace=False)\n",
              "    )\n",
              "    (encoder): BertEncoder(\n",
              "      (layer): ModuleList(\n",
              "        (0-11): 12 x BertLayer(\n",
              "          (attention): BertAttention(\n",
              "            (self): BertSelfAttention(\n",
              "              (query): Linear(in_features=768, out_features=768, bias=True)\n",
              "              (key): Linear(in_features=768, out_features=768, bias=True)\n",
              "              (value): Linear(in_features=768, out_features=768, bias=True)\n",
              "              (dropout): Dropout(p=0.1, inplace=False)\n",
              "            )\n",
              "            (output): BertSelfOutput(\n",
              "              (dense): Linear(in_features=768, out_features=768, bias=True)\n",
              "              (LayerNorm): LayerNorm((768,), eps=1e-12, elementwise_affine=True)\n",
              "              (dropout): Dropout(p=0.1, inplace=False)\n",
              "            )\n",
              "          )\n",
              "          (intermediate): BertIntermediate(\n",
              "            (dense): Linear(in_features=768, out_features=3072, bias=True)\n",
              "            (intermediate_act_fn): GELUActivation()\n",
              "          )\n",
              "          (output): BertOutput(\n",
              "            (dense): Linear(in_features=3072, out_features=768, bias=True)\n",
              "            (LayerNorm): LayerNorm((768,), eps=1e-12, elementwise_affine=True)\n",
              "            (dropout): Dropout(p=0.1, inplace=False)\n",
              "          )\n",
              "        )\n",
              "      )\n",
              "    )\n",
              "    (pooler): BertPooler(\n",
              "      (dense): Linear(in_features=768, out_features=768, bias=True)\n",
              "      (activation): Tanh()\n",
              "    )\n",
              "  )\n",
              "  (dropout): Dropout(p=0.1, inplace=False)\n",
              "  (classifier): Linear(in_features=768, out_features=3, bias=True)\n",
              ")"
            ]
          },
          "execution_count": 118,
          "metadata": {},
          "output_type": "execute_result"
        }
      ],
      "source": [
        "# Struktur model\n",
        "model"
      ]
    },
    {
      "cell_type": "code",
      "execution_count": 119,
      "metadata": {
        "colab": {
          "base_uri": "https://localhost:8080/"
        },
        "id": "O36tVHiBouFu",
        "outputId": "811c0708-93a7-42a3-fae3-ac5a097145e0"
      },
      "outputs": [
        {
          "data": {
            "text/plain": [
              "124443651"
            ]
          },
          "execution_count": 119,
          "metadata": {},
          "output_type": "execute_result"
        }
      ],
      "source": [
        "count_param(model)"
      ]
    },
    {
      "cell_type": "markdown",
      "metadata": {
        "id": "hPjPa94opYh5"
      },
      "source": [
        "## c. Prepare Dataset"
      ]
    },
    {
      "cell_type": "code",
      "execution_count": 120,
      "metadata": {
        "id": "_QnPcTQIoxbb"
      },
      "outputs": [],
      "source": [
        "train_dataset_path = 'train_set.tsv'\n",
        "valid_dataset_path = 'val_set.tsv'\n",
        "test_dataset_path = 'test_set.tsv'"
      ]
    },
    {
      "cell_type": "code",
      "execution_count": 122,
      "metadata": {
        "colab": {
          "base_uri": "https://localhost:8080/"
        },
        "id": "iCh-goe_pr1A",
        "outputId": "7173db82-3746-434a-9009-1a878aac15a5"
      },
      "outputs": [
        {
          "name": "stderr",
          "output_type": "stream",
          "text": [
            "c:\\Users\\didin\\AppData\\Local\\Programs\\Python\\Python39\\lib\\site-packages\\torch\\utils\\data\\dataloader.py:561: UserWarning: This DataLoader will create 16 worker processes in total. Our suggested max number of worker in current system is 12 (`cpuset` is not taken into account), which is smaller than what this DataLoader is going to create. Please be aware that excessive worker creation might get DataLoader running slow or even freeze, lower the worker number to avoid potential slowness/freeze if necessary.\n",
            "  warnings.warn(_create_warning_msg(\n"
          ]
        }
      ],
      "source": [
        "# fungsi dataset loader dari utils IndoNLU\n",
        "train_dataset = DocumentSentimentDataset(train_dataset_path, tokenizer, lowercase=True)\n",
        "valid_dataset = DocumentSentimentDataset(valid_dataset_path, tokenizer, lowercase=True)\n",
        "test_dataset = DocumentSentimentDataset(test_dataset_path, tokenizer, lowercase=True)\n",
        "\n",
        "train_loader = DocumentSentimentDataLoader(dataset=train_dataset, max_seq_len=512, batch_size=32, num_workers=16, shuffle=True)  \n",
        "valid_loader = DocumentSentimentDataLoader(dataset=valid_dataset, max_seq_len=512, batch_size=32, num_workers=16, shuffle=False)  \n",
        "test_loader = DocumentSentimentDataLoader(dataset=test_dataset, max_seq_len=512, batch_size=32, num_workers=16, shuffle=False)"
      ]
    },
    {
      "cell_type": "code",
      "execution_count": 123,
      "metadata": {
        "colab": {
          "base_uri": "https://localhost:8080/"
        },
        "id": "s2jeFxPWuGb2",
        "outputId": "db9d97b3-076a-4eb8-d35c-13bcf267910e"
      },
      "outputs": [
        {
          "name": "stdout",
          "output_type": "stream",
          "text": [
            "{'positive': 0, 'neutral': 1, 'negative': 2}\n",
            "{0: 'positive', 1: 'neutral', 2: 'negative'}\n"
          ]
        }
      ],
      "source": [
        "w2i, i2w = DocumentSentimentDataset.LABEL2INDEX, DocumentSentimentDataset.INDEX2LABEL\n",
        "print(w2i) #word to index\n",
        "print(i2w) #index to word"
      ]
    },
    {
      "cell_type": "markdown",
      "metadata": {
        "id": "B5Ecm6csuTIi"
      },
      "source": [
        "## d. Uji coba pre-trained model"
      ]
    },
    {
      "cell_type": "code",
      "execution_count": 125,
      "metadata": {
        "colab": {
          "base_uri": "https://localhost:8080/"
        },
        "id": "hIlSeernuWNz",
        "outputId": "d7c8cacd-7d02-492d-8a95-c7deeef306f2"
      },
      "outputs": [
        {
          "name": "stdout",
          "output_type": "stream",
          "text": [
            "Text: Saya masih ngetes dulu nih berlangganan 1 bulan yg sport | Label : negative (47.005%)\n"
          ]
        }
      ],
      "source": [
        "text = 'Saya masih ngetes dulu nih berlangganan 1 bulan yg sport'\n",
        "subwords = tokenizer.encode(text)\n",
        "subwords = torch.LongTensor(subwords).view(1, -1).to(model.device)\n",
        "\n",
        "logits = model(subwords)[0]\n",
        "label = torch.topk(logits, k=1, dim=-1)[1].squeeze().item()\n",
        "\n",
        "print(f'Text: {text} | Label : {i2w[label]} ({F.softmax(logits, dim=-1).squeeze()[label] * 100:.3f}%)')"
      ]
    },
    {
      "cell_type": "code",
      "execution_count": 126,
      "metadata": {
        "colab": {
          "base_uri": "https://localhost:8080/"
        },
        "id": "S6cbg2DDud1O",
        "outputId": "f821891e-f642-455a-a47c-f40c563c2cf9"
      },
      "outputs": [
        {
          "name": "stdout",
          "output_type": "stream",
          "text": [
            "Text: bisa transfer antar bank? | Label : negative (48.371%)\n"
          ]
        }
      ],
      "source": [
        "text = 'bisa transfer antar bank?'\n",
        "subwords = tokenizer.encode(text)\n",
        "subwords = torch.LongTensor(subwords).view(1, -1).to(model.device)\n",
        "\n",
        "logits = model(subwords)[0]\n",
        "label = torch.topk(logits, k=1, dim=-1)[1].squeeze().item()\n",
        "\n",
        "print(f'Text: {text} | Label : {i2w[label]} ({F.softmax(logits, dim=-1).squeeze()[label] * 100:.3f}%)')"
      ]
    },
    {
      "cell_type": "code",
      "execution_count": 130,
      "metadata": {
        "colab": {
          "base_uri": "https://localhost:8080/"
        },
        "id": "6XgeK_YXuhD4",
        "outputId": "68fc1d43-a015-449a-d568-ae9b6cd8094d"
      },
      "outputs": [
        {
          "name": "stdout",
          "output_type": "stream",
          "text": [
            "Text: Sudah beli paket premium tapi gak bisa dipake nonton, harus login terus.. habis login tetep aja gak bisa dipake, suruh beli paket lagi | Label : negative (49.653%)\n"
          ]
        }
      ],
      "source": [
        "text = 'Sudah beli paket premium tapi gak bisa dipake nonton, harus login terus.. habis login tetep aja gak bisa dipake, suruh beli paket lagi'\n",
        "subwords = tokenizer.encode(text)\n",
        "subwords = torch.LongTensor(subwords).view(1, -1).to(model.device)\n",
        "\n",
        "logits = model(subwords)[0]\n",
        "label = torch.topk(logits, k=1, dim=-1)[1].squeeze().item()\n",
        "\n",
        "print(f'Text: {text} | Label : {i2w[label]} ({F.softmax(logits, dim=-1).squeeze()[label] * 100:.3f}%)')"
      ]
    },
    {
      "cell_type": "code",
      "execution_count": 134,
      "metadata": {},
      "outputs": [
        {
          "name": "stdout",
          "output_type": "stream",
          "text": [
            "False\n"
          ]
        }
      ],
      "source": [
        "print(torch.cuda.is_available())"
      ]
    },
    {
      "cell_type": "markdown",
      "metadata": {
        "id": "ppc6rGx_um2S"
      },
      "source": [
        "## e. Fine Tuning & Prediksi Evaluation"
      ]
    },
    {
      "cell_type": "code",
      "execution_count": 131,
      "metadata": {
        "id": "YGZJDVKlurcb"
      },
      "outputs": [
        {
          "ename": "AssertionError",
          "evalue": "Torch not compiled with CUDA enabled",
          "output_type": "error",
          "traceback": [
            "\u001b[1;31m---------------------------------------------------------------------------\u001b[0m",
            "\u001b[1;31mAssertionError\u001b[0m                            Traceback (most recent call last)",
            "\u001b[1;32m<ipython-input-131-2171cbd47300>\u001b[0m in \u001b[0;36m<module>\u001b[1;34m\u001b[0m\n\u001b[0;32m      1\u001b[0m \u001b[1;31m# Tentukan optimizer\u001b[0m\u001b[1;33m\u001b[0m\u001b[1;33m\u001b[0m\u001b[1;33m\u001b[0m\u001b[0m\n\u001b[0;32m      2\u001b[0m \u001b[0moptimizer\u001b[0m \u001b[1;33m=\u001b[0m \u001b[0moptim\u001b[0m\u001b[1;33m.\u001b[0m\u001b[0mAdam\u001b[0m\u001b[1;33m(\u001b[0m\u001b[0mmodel\u001b[0m\u001b[1;33m.\u001b[0m\u001b[0mparameters\u001b[0m\u001b[1;33m(\u001b[0m\u001b[1;33m)\u001b[0m\u001b[1;33m,\u001b[0m \u001b[0mlr\u001b[0m\u001b[1;33m=\u001b[0m\u001b[1;36m3e-6\u001b[0m\u001b[1;33m)\u001b[0m\u001b[1;33m\u001b[0m\u001b[1;33m\u001b[0m\u001b[0m\n\u001b[1;32m----> 3\u001b[1;33m \u001b[0mmodel\u001b[0m \u001b[1;33m=\u001b[0m \u001b[0mmodel\u001b[0m\u001b[1;33m.\u001b[0m\u001b[0mcuda\u001b[0m\u001b[1;33m(\u001b[0m\u001b[1;33m)\u001b[0m\u001b[1;33m\u001b[0m\u001b[1;33m\u001b[0m\u001b[0m\n\u001b[0m",
            "\u001b[1;32mc:\\Users\\didin\\AppData\\Local\\Programs\\Python\\Python39\\lib\\site-packages\\torch\\nn\\modules\\module.py\u001b[0m in \u001b[0;36mcuda\u001b[1;34m(self, device)\u001b[0m\n\u001b[0;32m    903\u001b[0m             \u001b[0mModule\u001b[0m\u001b[1;33m:\u001b[0m \u001b[0mself\u001b[0m\u001b[1;33m\u001b[0m\u001b[1;33m\u001b[0m\u001b[0m\n\u001b[0;32m    904\u001b[0m         \"\"\"\n\u001b[1;32m--> 905\u001b[1;33m         \u001b[1;32mreturn\u001b[0m \u001b[0mself\u001b[0m\u001b[1;33m.\u001b[0m\u001b[0m_apply\u001b[0m\u001b[1;33m(\u001b[0m\u001b[1;32mlambda\u001b[0m \u001b[0mt\u001b[0m\u001b[1;33m:\u001b[0m \u001b[0mt\u001b[0m\u001b[1;33m.\u001b[0m\u001b[0mcuda\u001b[0m\u001b[1;33m(\u001b[0m\u001b[0mdevice\u001b[0m\u001b[1;33m)\u001b[0m\u001b[1;33m)\u001b[0m\u001b[1;33m\u001b[0m\u001b[1;33m\u001b[0m\u001b[0m\n\u001b[0m\u001b[0;32m    906\u001b[0m \u001b[1;33m\u001b[0m\u001b[0m\n\u001b[0;32m    907\u001b[0m     \u001b[1;32mdef\u001b[0m \u001b[0mipu\u001b[0m\u001b[1;33m(\u001b[0m\u001b[0mself\u001b[0m\u001b[1;33m:\u001b[0m \u001b[0mT\u001b[0m\u001b[1;33m,\u001b[0m \u001b[0mdevice\u001b[0m\u001b[1;33m:\u001b[0m \u001b[0mOptional\u001b[0m\u001b[1;33m[\u001b[0m\u001b[0mUnion\u001b[0m\u001b[1;33m[\u001b[0m\u001b[0mint\u001b[0m\u001b[1;33m,\u001b[0m \u001b[0mdevice\u001b[0m\u001b[1;33m]\u001b[0m\u001b[1;33m]\u001b[0m \u001b[1;33m=\u001b[0m \u001b[1;32mNone\u001b[0m\u001b[1;33m)\u001b[0m \u001b[1;33m->\u001b[0m \u001b[0mT\u001b[0m\u001b[1;33m:\u001b[0m\u001b[1;33m\u001b[0m\u001b[1;33m\u001b[0m\u001b[0m\n",
            "\u001b[1;32mc:\\Users\\didin\\AppData\\Local\\Programs\\Python\\Python39\\lib\\site-packages\\torch\\nn\\modules\\module.py\u001b[0m in \u001b[0;36m_apply\u001b[1;34m(self, fn)\u001b[0m\n\u001b[0;32m    795\u001b[0m     \u001b[1;32mdef\u001b[0m \u001b[0m_apply\u001b[0m\u001b[1;33m(\u001b[0m\u001b[0mself\u001b[0m\u001b[1;33m,\u001b[0m \u001b[0mfn\u001b[0m\u001b[1;33m)\u001b[0m\u001b[1;33m:\u001b[0m\u001b[1;33m\u001b[0m\u001b[1;33m\u001b[0m\u001b[0m\n\u001b[0;32m    796\u001b[0m         \u001b[1;32mfor\u001b[0m \u001b[0mmodule\u001b[0m \u001b[1;32min\u001b[0m \u001b[0mself\u001b[0m\u001b[1;33m.\u001b[0m\u001b[0mchildren\u001b[0m\u001b[1;33m(\u001b[0m\u001b[1;33m)\u001b[0m\u001b[1;33m:\u001b[0m\u001b[1;33m\u001b[0m\u001b[1;33m\u001b[0m\u001b[0m\n\u001b[1;32m--> 797\u001b[1;33m             \u001b[0mmodule\u001b[0m\u001b[1;33m.\u001b[0m\u001b[0m_apply\u001b[0m\u001b[1;33m(\u001b[0m\u001b[0mfn\u001b[0m\u001b[1;33m)\u001b[0m\u001b[1;33m\u001b[0m\u001b[1;33m\u001b[0m\u001b[0m\n\u001b[0m\u001b[0;32m    798\u001b[0m \u001b[1;33m\u001b[0m\u001b[0m\n\u001b[0;32m    799\u001b[0m         \u001b[1;32mdef\u001b[0m \u001b[0mcompute_should_use_set_data\u001b[0m\u001b[1;33m(\u001b[0m\u001b[0mtensor\u001b[0m\u001b[1;33m,\u001b[0m \u001b[0mtensor_applied\u001b[0m\u001b[1;33m)\u001b[0m\u001b[1;33m:\u001b[0m\u001b[1;33m\u001b[0m\u001b[1;33m\u001b[0m\u001b[0m\n",
            "\u001b[1;32mc:\\Users\\didin\\AppData\\Local\\Programs\\Python\\Python39\\lib\\site-packages\\torch\\nn\\modules\\module.py\u001b[0m in \u001b[0;36m_apply\u001b[1;34m(self, fn)\u001b[0m\n\u001b[0;32m    795\u001b[0m     \u001b[1;32mdef\u001b[0m \u001b[0m_apply\u001b[0m\u001b[1;33m(\u001b[0m\u001b[0mself\u001b[0m\u001b[1;33m,\u001b[0m \u001b[0mfn\u001b[0m\u001b[1;33m)\u001b[0m\u001b[1;33m:\u001b[0m\u001b[1;33m\u001b[0m\u001b[1;33m\u001b[0m\u001b[0m\n\u001b[0;32m    796\u001b[0m         \u001b[1;32mfor\u001b[0m \u001b[0mmodule\u001b[0m \u001b[1;32min\u001b[0m \u001b[0mself\u001b[0m\u001b[1;33m.\u001b[0m\u001b[0mchildren\u001b[0m\u001b[1;33m(\u001b[0m\u001b[1;33m)\u001b[0m\u001b[1;33m:\u001b[0m\u001b[1;33m\u001b[0m\u001b[1;33m\u001b[0m\u001b[0m\n\u001b[1;32m--> 797\u001b[1;33m             \u001b[0mmodule\u001b[0m\u001b[1;33m.\u001b[0m\u001b[0m_apply\u001b[0m\u001b[1;33m(\u001b[0m\u001b[0mfn\u001b[0m\u001b[1;33m)\u001b[0m\u001b[1;33m\u001b[0m\u001b[1;33m\u001b[0m\u001b[0m\n\u001b[0m\u001b[0;32m    798\u001b[0m \u001b[1;33m\u001b[0m\u001b[0m\n\u001b[0;32m    799\u001b[0m         \u001b[1;32mdef\u001b[0m \u001b[0mcompute_should_use_set_data\u001b[0m\u001b[1;33m(\u001b[0m\u001b[0mtensor\u001b[0m\u001b[1;33m,\u001b[0m \u001b[0mtensor_applied\u001b[0m\u001b[1;33m)\u001b[0m\u001b[1;33m:\u001b[0m\u001b[1;33m\u001b[0m\u001b[1;33m\u001b[0m\u001b[0m\n",
            "\u001b[1;32mc:\\Users\\didin\\AppData\\Local\\Programs\\Python\\Python39\\lib\\site-packages\\torch\\nn\\modules\\module.py\u001b[0m in \u001b[0;36m_apply\u001b[1;34m(self, fn)\u001b[0m\n\u001b[0;32m    795\u001b[0m     \u001b[1;32mdef\u001b[0m \u001b[0m_apply\u001b[0m\u001b[1;33m(\u001b[0m\u001b[0mself\u001b[0m\u001b[1;33m,\u001b[0m \u001b[0mfn\u001b[0m\u001b[1;33m)\u001b[0m\u001b[1;33m:\u001b[0m\u001b[1;33m\u001b[0m\u001b[1;33m\u001b[0m\u001b[0m\n\u001b[0;32m    796\u001b[0m         \u001b[1;32mfor\u001b[0m \u001b[0mmodule\u001b[0m \u001b[1;32min\u001b[0m \u001b[0mself\u001b[0m\u001b[1;33m.\u001b[0m\u001b[0mchildren\u001b[0m\u001b[1;33m(\u001b[0m\u001b[1;33m)\u001b[0m\u001b[1;33m:\u001b[0m\u001b[1;33m\u001b[0m\u001b[1;33m\u001b[0m\u001b[0m\n\u001b[1;32m--> 797\u001b[1;33m             \u001b[0mmodule\u001b[0m\u001b[1;33m.\u001b[0m\u001b[0m_apply\u001b[0m\u001b[1;33m(\u001b[0m\u001b[0mfn\u001b[0m\u001b[1;33m)\u001b[0m\u001b[1;33m\u001b[0m\u001b[1;33m\u001b[0m\u001b[0m\n\u001b[0m\u001b[0;32m    798\u001b[0m \u001b[1;33m\u001b[0m\u001b[0m\n\u001b[0;32m    799\u001b[0m         \u001b[1;32mdef\u001b[0m \u001b[0mcompute_should_use_set_data\u001b[0m\u001b[1;33m(\u001b[0m\u001b[0mtensor\u001b[0m\u001b[1;33m,\u001b[0m \u001b[0mtensor_applied\u001b[0m\u001b[1;33m)\u001b[0m\u001b[1;33m:\u001b[0m\u001b[1;33m\u001b[0m\u001b[1;33m\u001b[0m\u001b[0m\n",
            "\u001b[1;32mc:\\Users\\didin\\AppData\\Local\\Programs\\Python\\Python39\\lib\\site-packages\\torch\\nn\\modules\\module.py\u001b[0m in \u001b[0;36m_apply\u001b[1;34m(self, fn)\u001b[0m\n\u001b[0;32m    818\u001b[0m             \u001b[1;31m# `with torch.no_grad():`\u001b[0m\u001b[1;33m\u001b[0m\u001b[1;33m\u001b[0m\u001b[1;33m\u001b[0m\u001b[0m\n\u001b[0;32m    819\u001b[0m             \u001b[1;32mwith\u001b[0m \u001b[0mtorch\u001b[0m\u001b[1;33m.\u001b[0m\u001b[0mno_grad\u001b[0m\u001b[1;33m(\u001b[0m\u001b[1;33m)\u001b[0m\u001b[1;33m:\u001b[0m\u001b[1;33m\u001b[0m\u001b[1;33m\u001b[0m\u001b[0m\n\u001b[1;32m--> 820\u001b[1;33m                 \u001b[0mparam_applied\u001b[0m \u001b[1;33m=\u001b[0m \u001b[0mfn\u001b[0m\u001b[1;33m(\u001b[0m\u001b[0mparam\u001b[0m\u001b[1;33m)\u001b[0m\u001b[1;33m\u001b[0m\u001b[1;33m\u001b[0m\u001b[0m\n\u001b[0m\u001b[0;32m    821\u001b[0m             \u001b[0mshould_use_set_data\u001b[0m \u001b[1;33m=\u001b[0m \u001b[0mcompute_should_use_set_data\u001b[0m\u001b[1;33m(\u001b[0m\u001b[0mparam\u001b[0m\u001b[1;33m,\u001b[0m \u001b[0mparam_applied\u001b[0m\u001b[1;33m)\u001b[0m\u001b[1;33m\u001b[0m\u001b[1;33m\u001b[0m\u001b[0m\n\u001b[0;32m    822\u001b[0m             \u001b[1;32mif\u001b[0m \u001b[0mshould_use_set_data\u001b[0m\u001b[1;33m:\u001b[0m\u001b[1;33m\u001b[0m\u001b[1;33m\u001b[0m\u001b[0m\n",
            "\u001b[1;32mc:\\Users\\didin\\AppData\\Local\\Programs\\Python\\Python39\\lib\\site-packages\\torch\\nn\\modules\\module.py\u001b[0m in \u001b[0;36m<lambda>\u001b[1;34m(t)\u001b[0m\n\u001b[0;32m    903\u001b[0m             \u001b[0mModule\u001b[0m\u001b[1;33m:\u001b[0m \u001b[0mself\u001b[0m\u001b[1;33m\u001b[0m\u001b[1;33m\u001b[0m\u001b[0m\n\u001b[0;32m    904\u001b[0m         \"\"\"\n\u001b[1;32m--> 905\u001b[1;33m         \u001b[1;32mreturn\u001b[0m \u001b[0mself\u001b[0m\u001b[1;33m.\u001b[0m\u001b[0m_apply\u001b[0m\u001b[1;33m(\u001b[0m\u001b[1;32mlambda\u001b[0m \u001b[0mt\u001b[0m\u001b[1;33m:\u001b[0m \u001b[0mt\u001b[0m\u001b[1;33m.\u001b[0m\u001b[0mcuda\u001b[0m\u001b[1;33m(\u001b[0m\u001b[0mdevice\u001b[0m\u001b[1;33m)\u001b[0m\u001b[1;33m)\u001b[0m\u001b[1;33m\u001b[0m\u001b[1;33m\u001b[0m\u001b[0m\n\u001b[0m\u001b[0;32m    906\u001b[0m \u001b[1;33m\u001b[0m\u001b[0m\n\u001b[0;32m    907\u001b[0m     \u001b[1;32mdef\u001b[0m \u001b[0mipu\u001b[0m\u001b[1;33m(\u001b[0m\u001b[0mself\u001b[0m\u001b[1;33m:\u001b[0m \u001b[0mT\u001b[0m\u001b[1;33m,\u001b[0m \u001b[0mdevice\u001b[0m\u001b[1;33m:\u001b[0m \u001b[0mOptional\u001b[0m\u001b[1;33m[\u001b[0m\u001b[0mUnion\u001b[0m\u001b[1;33m[\u001b[0m\u001b[0mint\u001b[0m\u001b[1;33m,\u001b[0m \u001b[0mdevice\u001b[0m\u001b[1;33m]\u001b[0m\u001b[1;33m]\u001b[0m \u001b[1;33m=\u001b[0m \u001b[1;32mNone\u001b[0m\u001b[1;33m)\u001b[0m \u001b[1;33m->\u001b[0m \u001b[0mT\u001b[0m\u001b[1;33m:\u001b[0m\u001b[1;33m\u001b[0m\u001b[1;33m\u001b[0m\u001b[0m\n",
            "\u001b[1;32mc:\\Users\\didin\\AppData\\Local\\Programs\\Python\\Python39\\lib\\site-packages\\torch\\cuda\\__init__.py\u001b[0m in \u001b[0;36m_lazy_init\u001b[1;34m()\u001b[0m\n\u001b[0;32m    237\u001b[0m                 \"multiprocessing, you must use the 'spawn' start method\")\n\u001b[0;32m    238\u001b[0m         \u001b[1;32mif\u001b[0m \u001b[1;32mnot\u001b[0m \u001b[0mhasattr\u001b[0m\u001b[1;33m(\u001b[0m\u001b[0mtorch\u001b[0m\u001b[1;33m.\u001b[0m\u001b[0m_C\u001b[0m\u001b[1;33m,\u001b[0m \u001b[1;34m'_cuda_getDeviceCount'\u001b[0m\u001b[1;33m)\u001b[0m\u001b[1;33m:\u001b[0m\u001b[1;33m\u001b[0m\u001b[1;33m\u001b[0m\u001b[0m\n\u001b[1;32m--> 239\u001b[1;33m             \u001b[1;32mraise\u001b[0m \u001b[0mAssertionError\u001b[0m\u001b[1;33m(\u001b[0m\u001b[1;34m\"Torch not compiled with CUDA enabled\"\u001b[0m\u001b[1;33m)\u001b[0m\u001b[1;33m\u001b[0m\u001b[1;33m\u001b[0m\u001b[0m\n\u001b[0m\u001b[0;32m    240\u001b[0m         \u001b[1;32mif\u001b[0m \u001b[0m_cudart\u001b[0m \u001b[1;32mis\u001b[0m \u001b[1;32mNone\u001b[0m\u001b[1;33m:\u001b[0m\u001b[1;33m\u001b[0m\u001b[1;33m\u001b[0m\u001b[0m\n\u001b[0;32m    241\u001b[0m             raise AssertionError(\n",
            "\u001b[1;31mAssertionError\u001b[0m: Torch not compiled with CUDA enabled"
          ]
        }
      ],
      "source": [
        "# Tentukan optimizer\n",
        "optimizer = optim.Adam(model.parameters(), lr=3e-6)\n",
        "model = model.cuda()"
      ]
    },
    {
      "cell_type": "markdown",
      "metadata": {
        "id": "8T16Q4xvQBWN"
      },
      "source": [
        "### Training"
      ]
    },
    {
      "cell_type": "code",
      "execution_count": null,
      "metadata": {
        "colab": {
          "base_uri": "https://localhost:8080/"
        },
        "id": "EWmlScnxu-C0",
        "outputId": "83dfd5b0-20fa-41f1-d26e-44fb13c94a62"
      },
      "outputs": [
        {
          "name": "stderr",
          "output_type": "stream",
          "text": [
            "\r  0%|          | 0/62 [00:00<?, ?it/s]/usr/local/lib/python3.7/dist-packages/torch/utils/data/dataloader.py:481: UserWarning: This DataLoader will create 16 worker processes in total. Our suggested max number of worker in current system is 2, which is smaller than what this DataLoader is going to create. Please be aware that excessive worker creation might get DataLoader running slow or even freeze, lower the worker number to avoid potential slowness/freeze if necessary.\n",
            "  cpuset_checked))\n",
            "(Epoch 1) TRAIN LOSS:0.8911 LR:0.00000300: 100%|██████████| 62/62 [00:50<00:00,  1.22it/s]\n"
          ]
        },
        {
          "name": "stdout",
          "output_type": "stream",
          "text": [
            "(Epoch 1) TRAIN LOSS:0.8911 ACC:0.62 F1:0.61 REC:0.61 PRE:0.62 LR:0.00000300\n"
          ]
        },
        {
          "name": "stderr",
          "output_type": "stream",
          "text": [
            "VALID LOSS:0.6478 ACC:0.79 F1:0.79 REC:0.79 PRE:0.79: 100%|██████████| 18/18 [00:06<00:00,  2.89it/s]\n"
          ]
        },
        {
          "name": "stdout",
          "output_type": "stream",
          "text": [
            "(Epoch 1) VALID LOSS:0.6478 ACC:0.79 F1:0.79 REC:0.79 PRE:0.79\n"
          ]
        },
        {
          "name": "stderr",
          "output_type": "stream",
          "text": [
            "(Epoch 2) TRAIN LOSS:0.5099 LR:0.00000300: 100%|██████████| 62/62 [00:51<00:00,  1.20it/s]\n"
          ]
        },
        {
          "name": "stdout",
          "output_type": "stream",
          "text": [
            "(Epoch 2) TRAIN LOSS:0.5099 ACC:0.82 F1:0.81 REC:0.81 PRE:0.81 LR:0.00000300\n"
          ]
        },
        {
          "name": "stderr",
          "output_type": "stream",
          "text": [
            "VALID LOSS:0.4463 ACC:0.84 F1:0.84 REC:0.84 PRE:0.84: 100%|██████████| 18/18 [00:06<00:00,  2.94it/s]\n"
          ]
        },
        {
          "name": "stdout",
          "output_type": "stream",
          "text": [
            "(Epoch 2) VALID LOSS:0.4463 ACC:0.84 F1:0.84 REC:0.84 PRE:0.84\n"
          ]
        },
        {
          "name": "stderr",
          "output_type": "stream",
          "text": [
            "(Epoch 3) TRAIN LOSS:0.3815 LR:0.00000300: 100%|██████████| 62/62 [00:49<00:00,  1.26it/s]\n"
          ]
        },
        {
          "name": "stdout",
          "output_type": "stream",
          "text": [
            "(Epoch 3) TRAIN LOSS:0.3815 ACC:0.85 F1:0.85 REC:0.85 PRE:0.85 LR:0.00000300\n"
          ]
        },
        {
          "name": "stderr",
          "output_type": "stream",
          "text": [
            "VALID LOSS:0.4301 ACC:0.85 F1:0.85 REC:0.85 PRE:0.85: 100%|██████████| 18/18 [00:06<00:00,  2.92it/s]\n"
          ]
        },
        {
          "name": "stdout",
          "output_type": "stream",
          "text": [
            "(Epoch 3) VALID LOSS:0.4301 ACC:0.85 F1:0.85 REC:0.85 PRE:0.85\n"
          ]
        },
        {
          "name": "stderr",
          "output_type": "stream",
          "text": [
            "(Epoch 4) TRAIN LOSS:0.3368 LR:0.00000300: 100%|██████████| 62/62 [00:50<00:00,  1.23it/s]\n"
          ]
        },
        {
          "name": "stdout",
          "output_type": "stream",
          "text": [
            "(Epoch 4) TRAIN LOSS:0.3368 ACC:0.87 F1:0.87 REC:0.87 PRE:0.87 LR:0.00000300\n"
          ]
        },
        {
          "name": "stderr",
          "output_type": "stream",
          "text": [
            "VALID LOSS:0.4254 ACC:0.85 F1:0.85 REC:0.84 PRE:0.85: 100%|██████████| 18/18 [00:06<00:00,  2.91it/s]\n"
          ]
        },
        {
          "name": "stdout",
          "output_type": "stream",
          "text": [
            "(Epoch 4) VALID LOSS:0.4254 ACC:0.85 F1:0.85 REC:0.84 PRE:0.85\n"
          ]
        },
        {
          "name": "stderr",
          "output_type": "stream",
          "text": [
            "(Epoch 5) TRAIN LOSS:0.2833 LR:0.00000300: 100%|██████████| 62/62 [00:49<00:00,  1.24it/s]\n"
          ]
        },
        {
          "name": "stdout",
          "output_type": "stream",
          "text": [
            "(Epoch 5) TRAIN LOSS:0.2833 ACC:0.90 F1:0.90 REC:0.90 PRE:0.90 LR:0.00000300\n"
          ]
        },
        {
          "name": "stderr",
          "output_type": "stream",
          "text": [
            "VALID LOSS:0.4448 ACC:0.85 F1:0.84 REC:0.84 PRE:0.84: 100%|██████████| 18/18 [00:06<00:00,  2.90it/s]"
          ]
        },
        {
          "name": "stdout",
          "output_type": "stream",
          "text": [
            "(Epoch 5) VALID LOSS:0.4448 ACC:0.85 F1:0.84 REC:0.84 PRE:0.84\n"
          ]
        },
        {
          "name": "stderr",
          "output_type": "stream",
          "text": [
            "\n"
          ]
        }
      ],
      "source": [
        "# Train\n",
        "n_epochs = 5\n",
        "history = defaultdict(list)\n",
        "for epoch in range(n_epochs):\n",
        "    model.train()\n",
        "    torch.set_grad_enabled(True)\n",
        " \n",
        "    total_train_loss = 0\n",
        "    list_hyp_train, list_label = [], []\n",
        "\n",
        "    train_pbar = tqdm(train_loader, leave=True, total=len(train_loader))\n",
        "    for i, batch_data in enumerate(train_pbar):\n",
        "        # Forward model\n",
        "        loss, batch_hyp, batch_label = forward_sequence_classification(model, batch_data[:-1], i2w=i2w, device='cuda')\n",
        "\n",
        "        # Update model\n",
        "        optimizer.zero_grad()\n",
        "        loss.backward()\n",
        "        optimizer.step()\n",
        "\n",
        "        tr_loss = loss.item()\n",
        "        total_train_loss = total_train_loss + tr_loss\n",
        "\n",
        "        # Hitung skor train metrics\n",
        "        list_hyp_train += batch_hyp\n",
        "        list_label += batch_label\n",
        "\n",
        "        train_pbar.set_description(\"(Epoch {}) TRAIN LOSS:{:.4f} LR:{:.8f}\".format((epoch+1),\n",
        "            total_train_loss/(i+1), get_lr(optimizer)))\n",
        "\n",
        "    metrics = document_sentiment_metrics_fn(list_hyp_train, list_label)\n",
        "    print(\"(Epoch {}) TRAIN LOSS:{:.4f} {} LR:{:.8f}\".format((epoch+1),\n",
        "        total_train_loss/(i+1), metrics_to_string(metrics), get_lr(optimizer)))\n",
        "    \n",
        "    # save train acc for learning curve\n",
        "    history['train_acc'].append(metrics['ACC'])\n",
        "\n",
        "    # Evaluate di validation set\n",
        "    model.eval()\n",
        "    torch.set_grad_enabled(False)\n",
        "    \n",
        "    total_loss, total_correct, total_labels = 0, 0, 0\n",
        "    list_hyp, list_label = [], []\n",
        "\n",
        "    pbar = tqdm(valid_loader, leave=True, total=len(valid_loader))\n",
        "    for i, batch_data in enumerate(pbar):\n",
        "        batch_seq = batch_data[-1]        \n",
        "        loss, batch_hyp, batch_label = forward_sequence_classification(model, batch_data[:-1], i2w=i2w, device='cuda')\n",
        "        \n",
        "        # Hitung total loss\n",
        "        valid_loss = loss.item()\n",
        "        total_loss = total_loss + valid_loss\n",
        "\n",
        "        # Hitung skor evaluation metrics\n",
        "        list_hyp += batch_hyp\n",
        "        list_label += batch_label\n",
        "        metrics = document_sentiment_metrics_fn(list_hyp, list_label)\n",
        "\n",
        "        pbar.set_description(\"VALID LOSS:{:.4f} {}\".format(total_loss/(i+1), metrics_to_string(metrics)))\n",
        "        \n",
        "    metrics = document_sentiment_metrics_fn(list_hyp, list_label)\n",
        "    print(\"(Epoch {}) VALID LOSS:{:.4f} {}\".format((epoch+1),\n",
        "        total_loss/(i+1), metrics_to_string(metrics)))\n",
        "    \n",
        "    # save validation acc for learning curve\n",
        "    history['val_acc'].append(metrics['ACC'])"
      ]
    },
    {
      "cell_type": "markdown",
      "metadata": {
        "id": "doUUU4O0PjJO"
      },
      "source": [
        "### Learning Curve"
      ]
    },
    {
      "cell_type": "code",
      "execution_count": null,
      "metadata": {
        "colab": {
          "base_uri": "https://localhost:8080/",
          "height": 508
        },
        "id": "dYzpLwbiZVyq",
        "outputId": "7bcb2a45-0c3c-4727-8d97-b38a5467b32d"
      },
      "outputs": [
        {
          "data": {
            "image/png": "[encoded data removed]",
            "text/plain": [
              "<Figure size 640x480 with 1 Axes>"
            ]
          },
          "metadata": {},
          "output_type": "display_data"
        }
      ],
      "source": [
        "plt.plot(history['train_acc'], label='train acc')\n",
        "plt.plot(history['val_acc'], label='validation acc')\n",
        "plt.title('Training history')\n",
        "plt.ylabel('acc')\n",
        "plt.xlabel('Epoch')\n",
        "plt.legend()\n",
        "plt.ylim([0, 1]);"
      ]
    },
    {
      "cell_type": "code",
      "execution_count": null,
      "metadata": {
        "id": "uoXQFKD5xd3J"
      },
      "outputs": [],
      "source": [
        "# Simpan Hasil Prediksi Validation Set\n",
        "val_df = pd.read_csv(valid_dataset_path, sep='\\t', names=['review_text', 'category'])\n",
        "val_df['pred'] = list_hyp\n",
        "val_df.head()\n",
        "val_df.to_csv('val result.csv', index=False)"
      ]
    },
    {
      "cell_type": "markdown",
      "metadata": {
        "id": "JY7LeCMAyR-4"
      },
      "source": [
        "## f. Prediksi Test Set"
      ]
    },
    {
      "cell_type": "code",
      "execution_count": null,
      "metadata": {
        "colab": {
          "base_uri": "https://localhost:8080/"
        },
        "id": "T8XQ76juyTpF",
        "outputId": "570ce8c9-1083-4a7d-84cb-5d4e4b444504"
      },
      "outputs": [
        {
          "name": "stderr",
          "output_type": "stream",
          "text": [
            "\r  0%|          | 0/9 [00:00<?, ?it/s]/usr/local/lib/python3.7/dist-packages/torch/utils/data/dataloader.py:481: UserWarning: This DataLoader will create 16 worker processes in total. Our suggested max number of worker in current system is 2, which is smaller than what this DataLoader is going to create. Please be aware that excessive worker creation might get DataLoader running slow or even freeze, lower the worker number to avoid potential slowness/freeze if necessary.\n",
            "  cpuset_checked))\n",
            "100%|██████████| 9/9 [00:03<00:00,  2.66it/s]\n"
          ]
        }
      ],
      "source": [
        "# Prediksi test set\n",
        "model.eval()\n",
        "torch.set_grad_enabled(False)\n",
        "\n",
        "total_loss, total_correct, total_labels = 0, 0, 0\n",
        "pred, list_label = [], []\n",
        "\n",
        "pbar = tqdm(test_loader, leave=True, total=len(test_loader))\n",
        "for i, batch_data in enumerate(pbar):\n",
        "    _, batch_hyp, _ = forward_sequence_classification(model, batch_data[:-1], i2w=i2w, device='cuda')\n",
        "    pred += batch_hyp"
      ]
    },
    {
      "cell_type": "code",
      "execution_count": null,
      "metadata": {
        "id": "uUIhv4hP1oJY"
      },
      "outputs": [],
      "source": [
        "# Simpan prediksi test set\n",
        "test_df = pd.read_csv(test_dataset_path, sep='\\t', names=['review_text', 'category'])\n",
        "test_df['pred'] = pred\n",
        "test_df.head()\n",
        "test_df.to_csv('test result.csv', index=False)"
      ]
    },
    {
      "cell_type": "markdown",
      "metadata": {
        "id": "Qhyz7aMCAeb4"
      },
      "source": [
        "## e. Test fine-tuned model on sample sentences"
      ]
    },
    {
      "cell_type": "code",
      "execution_count": null,
      "metadata": {
        "colab": {
          "base_uri": "https://localhost:8080/"
        },
        "id": "CxY6ymrQAtWA",
        "outputId": "17cc4eab-081c-4260-8b38-fa8012f51fad"
      },
      "outputs": [
        {
          "name": "stdout",
          "output_type": "stream",
          "text": [
            "Text: tidak bisa transfer antar bank | Label : negative (94.544%)\n"
          ]
        }
      ],
      "source": [
        "text = 'tidak bisa transfer antar bank'\n",
        "subwords = tokenizer.encode(text)\n",
        "subwords = torch.LongTensor(subwords).view(1, -1).to(model.device)\n",
        "\n",
        "logits = model(subwords)[0]\n",
        "label = torch.topk(logits, k=1, dim=-1)[1].squeeze().item()\n",
        "\n",
        "print(f'Text: {text} | Label : {i2w[label]} ({F.softmax(logits, dim=-1).squeeze()[label] * 100:.3f}%)')"
      ]
    },
    {
      "cell_type": "code",
      "execution_count": null,
      "metadata": {
        "colab": {
          "base_uri": "https://localhost:8080/"
        },
        "id": "E2p2ed5gAvrS",
        "outputId": "3a7e2387-6b49-4fbf-a025-a1818dcdac7e"
      },
      "outputs": [
        {
          "name": "stdout",
          "output_type": "stream",
          "text": [
            "Text: bisa transfer antar bank | Label : positive (67.669%)\n"
          ]
        }
      ],
      "source": [
        "text = 'bisa transfer antar bank'\n",
        "subwords = tokenizer.encode(text)\n",
        "subwords = torch.LongTensor(subwords).view(1, -1).to(model.device)\n",
        "\n",
        "logits = model(subwords)[0]\n",
        "label = torch.topk(logits, k=1, dim=-1)[1].squeeze().item()\n",
        "\n",
        "print(f'Text: {text} | Label : {i2w[label]} ({F.softmax(logits, dim=-1).squeeze()[label] * 100:.3f}%)')"
      ]
    },
    {
      "cell_type": "code",
      "execution_count": null,
      "metadata": {
        "colab": {
          "base_uri": "https://localhost:8080/"
        },
        "id": "VQGgwcLHAxqy",
        "outputId": "0ea4ba38-1f01-4e25-feda-856e3492aa9c"
      },
      "outputs": [
        {
          "name": "stdout",
          "output_type": "stream",
          "text": [
            "Text: bisa transfer antar bank? | Label : neutral (90.922%)\n"
          ]
        }
      ],
      "source": [
        "text = 'bisa transfer antar bank?'\n",
        "subwords = tokenizer.encode(text)\n",
        "subwords = torch.LongTensor(subwords).view(1, -1).to(model.device)\n",
        "\n",
        "logits = model(subwords)[0]\n",
        "label = torch.topk(logits, k=1, dim=-1)[1].squeeze().item()\n",
        "\n",
        "print(f'Text: {text} | Label : {i2w[label]} ({F.softmax(logits, dim=-1).squeeze()[label] * 100:.3f}%)')"
      ]
    },
    {
      "cell_type": "markdown",
      "metadata": {
        "id": "cS5jEnRrPvm_"
      },
      "source": [
        "# 6. Evaluasi"
      ]
    },
    {
      "cell_type": "code",
      "execution_count": null,
      "metadata": {
        "id": "zMSkxyV-M1Y7"
      },
      "outputs": [],
      "source": [
        "val_real = val_df.category\n",
        "val_pred = val_df.pred\n",
        "\n",
        "test_real = test_df.category\n",
        "test_pred = test_df.pred"
      ]
    },
    {
      "cell_type": "code",
      "execution_count": null,
      "metadata": {
        "colab": {
          "base_uri": "https://localhost:8080/",
          "height": 493
        },
        "id": "mi3iklJsKsdN",
        "outputId": "081c925d-37d7-4b40-a6f1-e74678a26342"
      },
      "outputs": [
        {
          "data": {
            "image/png": "[encoded data removed]",
            "text/plain": [
              "<Figure size 640x480 with 2 Axes>"
            ]
          },
          "metadata": {},
          "output_type": "display_data"
        }
      ],
      "source": [
        "def show_confusion_matrix(confusion_matrix):\n",
        "  hmap = sns.heatmap(confusion_matrix, annot=True, fmt=\"d\", cmap=\"Blues\")\n",
        "  hmap.yaxis.set_ticklabels(hmap.yaxis.get_ticklabels(), rotation=0, ha='right')\n",
        "  hmap.xaxis.set_ticklabels(hmap.xaxis.get_ticklabels(), rotation=30, ha='right')\n",
        "  plt.ylabel('True sentiment')\n",
        "  plt.xlabel('Predicted sentiment');\n",
        "  \n",
        "cm = confusion_matrix(val_real, val_pred)\n",
        "df_cm = pd.DataFrame(cm, index=['positive', 'neutral', 'negative'], columns=['positive', 'neutral', 'negative'])\n",
        "show_confusion_matrix(df_cm)"
      ]
    },
    {
      "cell_type": "code",
      "execution_count": null,
      "metadata": {
        "colab": {
          "base_uri": "https://localhost:8080/"
        },
        "id": "uH_AbCgkxFQw",
        "outputId": "eacdb02d-87c8-403b-c502-9d12f2f75790"
      },
      "outputs": [
        {
          "name": "stdout",
          "output_type": "stream",
          "text": [
            "              precision    recall  f1-score   support\n",
            "\n",
            "    positive       0.84      0.81      0.83       186\n",
            "     neutral       0.78      0.78      0.78       186\n",
            "    negative       0.91      0.94      0.92       192\n",
            "\n",
            "    accuracy                           0.85       564\n",
            "   macro avg       0.84      0.84      0.84       564\n",
            "weighted avg       0.84      0.85      0.85       564\n",
            "\n"
          ]
        }
      ],
      "source": [
        "print(classification_report(val_real, val_pred, target_names=['positive', 'neutral', 'negative']))"
      ]
    },
    {
      "cell_type": "code",
      "execution_count": null,
      "metadata": {
        "colab": {
          "base_uri": "https://localhost:8080/",
          "height": 489
        },
        "id": "IPgzBcKdz08F",
        "outputId": "1692acf4-c679-4484-adfb-b771e0b3c3eb"
      },
      "outputs": [
        {
          "data": {
            "image/png": "[encoded data removed]",
            "text/plain": [
              "<Figure size 640x480 with 2 Axes>"
            ]
          },
          "metadata": {},
          "output_type": "display_data"
        }
      ],
      "source": [
        "def show_confusion_matrix(confusion_matrix):\n",
        "  hmap = sns.heatmap(confusion_matrix, annot=True, fmt=\"d\", cmap=\"Blues\")\n",
        "  hmap.yaxis.set_ticklabels(hmap.yaxis.get_ticklabels(), rotation=0, ha='right')\n",
        "  hmap.xaxis.set_ticklabels(hmap.xaxis.get_ticklabels(), rotation=30, ha='right')\n",
        "  plt.ylabel('True sentiment')\n",
        "  plt.xlabel('Predicted sentiment');\n",
        "  \n",
        "cm = confusion_matrix(test_real, test_pred)\n",
        "df_cm = pd.DataFrame(cm, index=['positive', 'neutral', 'negative'], columns=['positive', 'neutral', 'negative'])\n",
        "show_confusion_matrix(df_cm)"
      ]
    },
    {
      "cell_type": "code",
      "execution_count": null,
      "metadata": {
        "colab": {
          "base_uri": "https://localhost:8080/"
        },
        "id": "DkMoab730HT3",
        "outputId": "ab646701-d253-43f1-8950-96a6ba5a912f"
      },
      "outputs": [
        {
          "name": "stdout",
          "output_type": "stream",
          "text": [
            "              precision    recall  f1-score   support\n",
            "\n",
            "    positive       0.83      0.87      0.85        92\n",
            "     neutral       0.85      0.77      0.81        92\n",
            "    negative       0.91      0.95      0.93        94\n",
            "\n",
            "    accuracy                           0.86       278\n",
            "   macro avg       0.86      0.86      0.86       278\n",
            "weighted avg       0.86      0.86      0.86       278\n",
            "\n"
          ]
        }
      ],
      "source": [
        "print(classification_report(test_real, test_pred, target_names=['positive', 'neutral', 'negative']))"
      ]
    },
    {
      "cell_type": "code",
      "execution_count": null,
      "metadata": {
        "id": "Lza3ZftC2MCH"
      },
      "outputs": [],
      "source": []
    }
  ],
  "metadata": {
    "accelerator": "GPU",
    "colab": {
      "collapsed_sections": [],
      "name": "skripsi-flip.ipynb",
      "provenance": []
    },
    "kernelspec": {
      "display_name": "Python 3",
      "name": "python3"
    },
    "language_info": {
      "codemirror_mode": {
        "name": "ipython",
        "version": 3
      },
      "file_extension": ".py",
      "mimetype": "text/x-python",
      "name": "python",
      "nbconvert_exporter": "python",
      "pygments_lexer": "ipython3",
      "version": "3.9.4"
    },
    "widgets": {
      "application/vnd.jupyter.widget-state+json": {
        "0eadb21c16f34c4f85ca3433a418247b": {
          "model_module": "@jupyter-widgets/base",
          "model_module_version": "1.2.0",
          "model_name": "LayoutModel",
          "state": {
            "_model_module": "@jupyter-widgets/base",
            "_model_module_version": "1.2.0",
            "_model_name": "LayoutModel",
            "_view_count": null,
            "_view_module": "@jupyter-widgets/base",
            "_view_module_version": "1.2.0",
            "_view_name": "LayoutView",
            "align_content": null,
            "align_items": null,
            "align_self": null,
            "border": null,
            "bottom": null,
            "display": null,
            "flex": null,
            "flex_flow": null,
            "grid_area": null,
            "grid_auto_columns": null,
            "grid_auto_flow": null,
            "grid_auto_rows": null,
            "grid_column": null,
            "grid_gap": null,
            "grid_row": null,
            "grid_template_areas": null,
            "grid_template_columns": null,
            "grid_template_rows": null,
            "height": null,
            "justify_content": null,
            "justify_items": null,
            "left": null,
            "margin": null,
            "max_height": null,
            "max_width": null,
            "min_height": null,
            "min_width": null,
            "object_fit": null,
            "object_position": null,
            "order": null,
            "overflow": null,
            "overflow_x": null,
            "overflow_y": null,
            "padding": null,
            "right": null,
            "top": null,
            "visibility": null,
            "width": null
          }
        },
        "0f3f3903da204cf089e053850345e507": {
          "model_module": "@jupyter-widgets/controls",
          "model_module_version": "1.5.0",
          "model_name": "HTMLModel",
          "state": {
            "_dom_classes": [],
            "_model_module": "@jupyter-widgets/controls",
            "_model_module_version": "1.5.0",
            "_model_name": "HTMLModel",
            "_view_count": null,
            "_view_module": "@jupyter-widgets/controls",
            "_view_module_version": "1.5.0",
            "_view_name": "HTMLView",
            "description": "",
            "description_tooltip": null,
            "layout": "IPY_MODEL_9c2e287c12d8427ea0fc05f80dac7ef4",
            "placeholder": "​",
            "style": "IPY_MODEL_a68927a17a35411a8506f97a2061463d",
            "value": "Downloading: 100%"
          }
        },
        "1f17677b2b164913bf6348ea17d80c7d": {
          "model_module": "@jupyter-widgets/controls",
          "model_module_version": "1.5.0",
          "model_name": "HBoxModel",
          "state": {
            "_dom_classes": [],
            "_model_module": "@jupyter-widgets/controls",
            "_model_module_version": "1.5.0",
            "_model_name": "HBoxModel",
            "_view_count": null,
            "_view_module": "@jupyter-widgets/controls",
            "_view_module_version": "1.5.0",
            "_view_name": "HBoxView",
            "box_style": "",
            "children": [
              "IPY_MODEL_9820aed8a5024d4a9c0fad43b2807982",
              "IPY_MODEL_88a80658cd8144a8afd0872c8214742e",
              "IPY_MODEL_b93272012d124e0a9fb44e043b332ae7"
            ],
            "layout": "IPY_MODEL_b70bb9d13c884cfbb168f256161eb59a"
          }
        },
        "20d367f760be4eda95643ef1242e0dce": {
          "model_module": "@jupyter-widgets/controls",
          "model_module_version": "1.5.0",
          "model_name": "HBoxModel",
          "state": {
            "_dom_classes": [],
            "_model_module": "@jupyter-widgets/controls",
            "_model_module_version": "1.5.0",
            "_model_name": "HBoxModel",
            "_view_count": null,
            "_view_module": "@jupyter-widgets/controls",
            "_view_module_version": "1.5.0",
            "_view_name": "HBoxView",
            "box_style": "",
            "children": [
              "IPY_MODEL_5f42cdb561154d6f90ecd8c7c64dc5b1",
              "IPY_MODEL_bdcb870258c44b58b8e935e54f856a7a",
              "IPY_MODEL_719f5d964a3648e88950336b1e9ae459"
            ],
            "layout": "IPY_MODEL_45edefeeef534250b6c58e118bb2645d"
          }
        },
        "2b205fefb4544af184296d9a38f016fe": {
          "model_module": "@jupyter-widgets/controls",
          "model_module_version": "1.5.0",
          "model_name": "FloatProgressModel",
          "state": {
            "_dom_classes": [],
            "_model_module": "@jupyter-widgets/controls",
            "_model_module_version": "1.5.0",
            "_model_name": "FloatProgressModel",
            "_view_count": null,
            "_view_module": "@jupyter-widgets/controls",
            "_view_module_version": "1.5.0",
            "_view_name": "ProgressView",
            "bar_style": "success",
            "description": "",
            "description_tooltip": null,
            "layout": "IPY_MODEL_42b01c8e8b524e13a70080ebe75feabb",
            "max": 229167,
            "min": 0,
            "orientation": "horizontal",
            "style": "IPY_MODEL_7c95bad9224f43db88f7e5523aa15e7c",
            "value": 229167
          }
        },
        "2b907b6c256b4f4ebfa0c52201ad2d4a": {
          "model_module": "@jupyter-widgets/controls",
          "model_module_version": "1.5.0",
          "model_name": "HTMLModel",
          "state": {
            "_dom_classes": [],
            "_model_module": "@jupyter-widgets/controls",
            "_model_module_version": "1.5.0",
            "_model_name": "HTMLModel",
            "_view_count": null,
            "_view_module": "@jupyter-widgets/controls",
            "_view_module_version": "1.5.0",
            "_view_name": "HTMLView",
            "description": "",
            "description_tooltip": null,
            "layout": "IPY_MODEL_f2141a2561c24e35acdad4693c5cbb4a",
            "placeholder": "​",
            "style": "IPY_MODEL_9b763ebafa17421890bb7973f9824d26",
            "value": "Downloading: 100%"
          }
        },
        "3273595cc2154f598fcabb33274ba69c": {
          "model_module": "@jupyter-widgets/base",
          "model_module_version": "1.2.0",
          "model_name": "LayoutModel",
          "state": {
            "_model_module": "@jupyter-widgets/base",
            "_model_module_version": "1.2.0",
            "_model_name": "LayoutModel",
            "_view_count": null,
            "_view_module": "@jupyter-widgets/base",
            "_view_module_version": "1.2.0",
            "_view_name": "LayoutView",
            "align_content": null,
            "align_items": null,
            "align_self": null,
            "border": null,
            "bottom": null,
            "display": null,
            "flex": null,
            "flex_flow": null,
            "grid_area": null,
            "grid_auto_columns": null,
            "grid_auto_flow": null,
            "grid_auto_rows": null,
            "grid_column": null,
            "grid_gap": null,
            "grid_row": null,
            "grid_template_areas": null,
            "grid_template_columns": null,
            "grid_template_rows": null,
            "height": null,
            "justify_content": null,
            "justify_items": null,
            "left": null,
            "margin": null,
            "max_height": null,
            "max_width": null,
            "min_height": null,
            "min_width": null,
            "object_fit": null,
            "object_position": null,
            "order": null,
            "overflow": null,
            "overflow_x": null,
            "overflow_y": null,
            "padding": null,
            "right": null,
            "top": null,
            "visibility": null,
            "width": null
          }
        },
        "32876c55ffea45e9a857ae4fa9100325": {
          "model_module": "@jupyter-widgets/controls",
          "model_module_version": "1.5.0",
          "model_name": "ProgressStyleModel",
          "state": {
            "_model_module": "@jupyter-widgets/controls",
            "_model_module_version": "1.5.0",
            "_model_name": "ProgressStyleModel",
            "_view_count": null,
            "_view_module": "@jupyter-widgets/base",
            "_view_module_version": "1.2.0",
            "_view_name": "StyleView",
            "bar_color": null,
            "description_width": ""
          }
        },
        "34bebca0edf3457481ec11ba843fae43": {
          "model_module": "@jupyter-widgets/controls",
          "model_module_version": "1.5.0",
          "model_name": "HTMLModel",
          "state": {
            "_dom_classes": [],
            "_model_module": "@jupyter-widgets/controls",
            "_model_module_version": "1.5.0",
            "_model_name": "HTMLModel",
            "_view_count": null,
            "_view_module": "@jupyter-widgets/controls",
            "_view_module_version": "1.5.0",
            "_view_name": "HTMLView",
            "description": "",
            "description_tooltip": null,
            "layout": "IPY_MODEL_35705f380d1b4b5897d06b3a81f23be2",
            "placeholder": "​",
            "style": "IPY_MODEL_8cbda4153f424559bc787a447b170552",
            "value": " 1.53k/1.53k [00:00&lt;00:00, 35.5kB/s]"
          }
        },
        "35705f380d1b4b5897d06b3a81f23be2": {
          "model_module": "@jupyter-widgets/base",
          "model_module_version": "1.2.0",
          "model_name": "LayoutModel",
          "state": {
            "_model_module": "@jupyter-widgets/base",
            "_model_module_version": "1.2.0",
            "_model_name": "LayoutModel",
            "_view_count": null,
            "_view_module": "@jupyter-widgets/base",
            "_view_module_version": "1.2.0",
            "_view_name": "LayoutView",
            "align_content": null,
            "align_items": null,
            "align_self": null,
            "border": null,
            "bottom": null,
            "display": null,
            "flex": null,
            "flex_flow": null,
            "grid_area": null,
            "grid_auto_columns": null,
            "grid_auto_flow": null,
            "grid_auto_rows": null,
            "grid_column": null,
            "grid_gap": null,
            "grid_row": null,
            "grid_template_areas": null,
            "grid_template_columns": null,
            "grid_template_rows": null,
            "height": null,
            "justify_content": null,
            "justify_items": null,
            "left": null,
            "margin": null,
            "max_height": null,
            "max_width": null,
            "min_height": null,
            "min_width": null,
            "object_fit": null,
            "object_position": null,
            "order": null,
            "overflow": null,
            "overflow_x": null,
            "overflow_y": null,
            "padding": null,
            "right": null,
            "top": null,
            "visibility": null,
            "width": null
          }
        },
        "36ad5aaaf7544ed58610469f355122ae": {
          "model_module": "@jupyter-widgets/controls",
          "model_module_version": "1.5.0",
          "model_name": "HBoxModel",
          "state": {
            "_dom_classes": [],
            "_model_module": "@jupyter-widgets/controls",
            "_model_module_version": "1.5.0",
            "_model_name": "HBoxModel",
            "_view_count": null,
            "_view_module": "@jupyter-widgets/controls",
            "_view_module_version": "1.5.0",
            "_view_name": "HBoxView",
            "box_style": "",
            "children": [
              "IPY_MODEL_2b907b6c256b4f4ebfa0c52201ad2d4a",
              "IPY_MODEL_2b205fefb4544af184296d9a38f016fe",
              "IPY_MODEL_7ba3775edcc74987b3b93e8e54ceb837"
            ],
            "layout": "IPY_MODEL_eb39ead4a9e345aaa408df0d7f283dab"
          }
        },
        "37bcf7e540644288a9890d95c5395b28": {
          "model_module": "@jupyter-widgets/base",
          "model_module_version": "1.2.0",
          "model_name": "LayoutModel",
          "state": {
            "_model_module": "@jupyter-widgets/base",
            "_model_module_version": "1.2.0",
            "_model_name": "LayoutModel",
            "_view_count": null,
            "_view_module": "@jupyter-widgets/base",
            "_view_module_version": "1.2.0",
            "_view_name": "LayoutView",
            "align_content": null,
            "align_items": null,
            "align_self": null,
            "border": null,
            "bottom": null,
            "display": null,
            "flex": null,
            "flex_flow": null,
            "grid_area": null,
            "grid_auto_columns": null,
            "grid_auto_flow": null,
            "grid_auto_rows": null,
            "grid_column": null,
            "grid_gap": null,
            "grid_row": null,
            "grid_template_areas": null,
            "grid_template_columns": null,
            "grid_template_rows": null,
            "height": null,
            "justify_content": null,
            "justify_items": null,
            "left": null,
            "margin": null,
            "max_height": null,
            "max_width": null,
            "min_height": null,
            "min_width": null,
            "object_fit": null,
            "object_position": null,
            "order": null,
            "overflow": null,
            "overflow_x": null,
            "overflow_y": null,
            "padding": null,
            "right": null,
            "top": null,
            "visibility": null,
            "width": null
          }
        },
        "38cc3dd57fed4c7ca771a80b04eda7a2": {
          "model_module": "@jupyter-widgets/base",
          "model_module_version": "1.2.0",
          "model_name": "LayoutModel",
          "state": {
            "_model_module": "@jupyter-widgets/base",
            "_model_module_version": "1.2.0",
            "_model_name": "LayoutModel",
            "_view_count": null,
            "_view_module": "@jupyter-widgets/base",
            "_view_module_version": "1.2.0",
            "_view_name": "LayoutView",
            "align_content": null,
            "align_items": null,
            "align_self": null,
            "border": null,
            "bottom": null,
            "display": null,
            "flex": null,
            "flex_flow": null,
            "grid_area": null,
            "grid_auto_columns": null,
            "grid_auto_flow": null,
            "grid_auto_rows": null,
            "grid_column": null,
            "grid_gap": null,
            "grid_row": null,
            "grid_template_areas": null,
            "grid_template_columns": null,
            "grid_template_rows": null,
            "height": null,
            "justify_content": null,
            "justify_items": null,
            "left": null,
            "margin": null,
            "max_height": null,
            "max_width": null,
            "min_height": null,
            "min_width": null,
            "object_fit": null,
            "object_position": null,
            "order": null,
            "overflow": null,
            "overflow_x": null,
            "overflow_y": null,
            "padding": null,
            "right": null,
            "top": null,
            "visibility": null,
            "width": null
          }
        },
        "42b01c8e8b524e13a70080ebe75feabb": {
          "model_module": "@jupyter-widgets/base",
          "model_module_version": "1.2.0",
          "model_name": "LayoutModel",
          "state": {
            "_model_module": "@jupyter-widgets/base",
            "_model_module_version": "1.2.0",
            "_model_name": "LayoutModel",
            "_view_count": null,
            "_view_module": "@jupyter-widgets/base",
            "_view_module_version": "1.2.0",
            "_view_name": "LayoutView",
            "align_content": null,
            "align_items": null,
            "align_self": null,
            "border": null,
            "bottom": null,
            "display": null,
            "flex": null,
            "flex_flow": null,
            "grid_area": null,
            "grid_auto_columns": null,
            "grid_auto_flow": null,
            "grid_auto_rows": null,
            "grid_column": null,
            "grid_gap": null,
            "grid_row": null,
            "grid_template_areas": null,
            "grid_template_columns": null,
            "grid_template_rows": null,
            "height": null,
            "justify_content": null,
            "justify_items": null,
            "left": null,
            "margin": null,
            "max_height": null,
            "max_width": null,
            "min_height": null,
            "min_width": null,
            "object_fit": null,
            "object_position": null,
            "order": null,
            "overflow": null,
            "overflow_x": null,
            "overflow_y": null,
            "padding": null,
            "right": null,
            "top": null,
            "visibility": null,
            "width": null
          }
        },
        "45edefeeef534250b6c58e118bb2645d": {
          "model_module": "@jupyter-widgets/base",
          "model_module_version": "1.2.0",
          "model_name": "LayoutModel",
          "state": {
            "_model_module": "@jupyter-widgets/base",
            "_model_module_version": "1.2.0",
            "_model_name": "LayoutModel",
            "_view_count": null,
            "_view_module": "@jupyter-widgets/base",
            "_view_module_version": "1.2.0",
            "_view_name": "LayoutView",
            "align_content": null,
            "align_items": null,
            "align_self": null,
            "border": null,
            "bottom": null,
            "display": null,
            "flex": null,
            "flex_flow": null,
            "grid_area": null,
            "grid_auto_columns": null,
            "grid_auto_flow": null,
            "grid_auto_rows": null,
            "grid_column": null,
            "grid_gap": null,
            "grid_row": null,
            "grid_template_areas": null,
            "grid_template_columns": null,
            "grid_template_rows": null,
            "height": null,
            "justify_content": null,
            "justify_items": null,
            "left": null,
            "margin": null,
            "max_height": null,
            "max_width": null,
            "min_height": null,
            "min_width": null,
            "object_fit": null,
            "object_position": null,
            "order": null,
            "overflow": null,
            "overflow_x": null,
            "overflow_y": null,
            "padding": null,
            "right": null,
            "top": null,
            "visibility": null,
            "width": null
          }
        },
        "486d413a455c48eb8b545b2f2a4a436b": {
          "model_module": "@jupyter-widgets/base",
          "model_module_version": "1.2.0",
          "model_name": "LayoutModel",
          "state": {
            "_model_module": "@jupyter-widgets/base",
            "_model_module_version": "1.2.0",
            "_model_name": "LayoutModel",
            "_view_count": null,
            "_view_module": "@jupyter-widgets/base",
            "_view_module_version": "1.2.0",
            "_view_name": "LayoutView",
            "align_content": null,
            "align_items": null,
            "align_self": null,
            "border": null,
            "bottom": null,
            "display": null,
            "flex": null,
            "flex_flow": null,
            "grid_area": null,
            "grid_auto_columns": null,
            "grid_auto_flow": null,
            "grid_auto_rows": null,
            "grid_column": null,
            "grid_gap": null,
            "grid_row": null,
            "grid_template_areas": null,
            "grid_template_columns": null,
            "grid_template_rows": null,
            "height": null,
            "justify_content": null,
            "justify_items": null,
            "left": null,
            "margin": null,
            "max_height": null,
            "max_width": null,
            "min_height": null,
            "min_width": null,
            "object_fit": null,
            "object_position": null,
            "order": null,
            "overflow": null,
            "overflow_x": null,
            "overflow_y": null,
            "padding": null,
            "right": null,
            "top": null,
            "visibility": null,
            "width": null
          }
        },
        "576974cec136425582f25f174fd22f47": {
          "model_module": "@jupyter-widgets/controls",
          "model_module_version": "1.5.0",
          "model_name": "DescriptionStyleModel",
          "state": {
            "_model_module": "@jupyter-widgets/controls",
            "_model_module_version": "1.5.0",
            "_model_name": "DescriptionStyleModel",
            "_view_count": null,
            "_view_module": "@jupyter-widgets/base",
            "_view_module_version": "1.2.0",
            "_view_name": "StyleView",
            "description_width": ""
          }
        },
        "5b824cc420a345b786466897fcb92fc5": {
          "model_module": "@jupyter-widgets/base",
          "model_module_version": "1.2.0",
          "model_name": "LayoutModel",
          "state": {
            "_model_module": "@jupyter-widgets/base",
            "_model_module_version": "1.2.0",
            "_model_name": "LayoutModel",
            "_view_count": null,
            "_view_module": "@jupyter-widgets/base",
            "_view_module_version": "1.2.0",
            "_view_name": "LayoutView",
            "align_content": null,
            "align_items": null,
            "align_self": null,
            "border": null,
            "bottom": null,
            "display": null,
            "flex": null,
            "flex_flow": null,
            "grid_area": null,
            "grid_auto_columns": null,
            "grid_auto_flow": null,
            "grid_auto_rows": null,
            "grid_column": null,
            "grid_gap": null,
            "grid_row": null,
            "grid_template_areas": null,
            "grid_template_columns": null,
            "grid_template_rows": null,
            "height": null,
            "justify_content": null,
            "justify_items": null,
            "left": null,
            "margin": null,
            "max_height": null,
            "max_width": null,
            "min_height": null,
            "min_width": null,
            "object_fit": null,
            "object_position": null,
            "order": null,
            "overflow": null,
            "overflow_x": null,
            "overflow_y": null,
            "padding": null,
            "right": null,
            "top": null,
            "visibility": null,
            "width": null
          }
        },
        "5f29d8881c2d4a44954399356b8ecc63": {
          "model_module": "@jupyter-widgets/base",
          "model_module_version": "1.2.0",
          "model_name": "LayoutModel",
          "state": {
            "_model_module": "@jupyter-widgets/base",
            "_model_module_version": "1.2.0",
            "_model_name": "LayoutModel",
            "_view_count": null,
            "_view_module": "@jupyter-widgets/base",
            "_view_module_version": "1.2.0",
            "_view_name": "LayoutView",
            "align_content": null,
            "align_items": null,
            "align_self": null,
            "border": null,
            "bottom": null,
            "display": null,
            "flex": null,
            "flex_flow": null,
            "grid_area": null,
            "grid_auto_columns": null,
            "grid_auto_flow": null,
            "grid_auto_rows": null,
            "grid_column": null,
            "grid_gap": null,
            "grid_row": null,
            "grid_template_areas": null,
            "grid_template_columns": null,
            "grid_template_rows": null,
            "height": null,
            "justify_content": null,
            "justify_items": null,
            "left": null,
            "margin": null,
            "max_height": null,
            "max_width": null,
            "min_height": null,
            "min_width": null,
            "object_fit": null,
            "object_position": null,
            "order": null,
            "overflow": null,
            "overflow_x": null,
            "overflow_y": null,
            "padding": null,
            "right": null,
            "top": null,
            "visibility": null,
            "width": null
          }
        },
        "5f42cdb561154d6f90ecd8c7c64dc5b1": {
          "model_module": "@jupyter-widgets/controls",
          "model_module_version": "1.5.0",
          "model_name": "HTMLModel",
          "state": {
            "_dom_classes": [],
            "_model_module": "@jupyter-widgets/controls",
            "_model_module_version": "1.5.0",
            "_model_name": "HTMLModel",
            "_view_count": null,
            "_view_module": "@jupyter-widgets/controls",
            "_view_module_version": "1.5.0",
            "_view_name": "HTMLView",
            "description": "",
            "description_tooltip": null,
            "layout": "IPY_MODEL_e866b368eed646a493ecd05bbc7630fb",
            "placeholder": "​",
            "style": "IPY_MODEL_cc35399d052645e0942c245645dcceee",
            "value": "Downloading: 100%"
          }
        },
        "626045ad79ed4735a427973a75c1d2c8": {
          "model_module": "@jupyter-widgets/controls",
          "model_module_version": "1.5.0",
          "model_name": "FloatProgressModel",
          "state": {
            "_dom_classes": [],
            "_model_module": "@jupyter-widgets/controls",
            "_model_module_version": "1.5.0",
            "_model_name": "FloatProgressModel",
            "_view_count": null,
            "_view_module": "@jupyter-widgets/controls",
            "_view_module_version": "1.5.0",
            "_view_name": "ProgressView",
            "bar_style": "success",
            "description": "",
            "description_tooltip": null,
            "layout": "IPY_MODEL_9f764b2815f54ceb978bb2e2838103ac",
            "max": 1534,
            "min": 0,
            "orientation": "horizontal",
            "style": "IPY_MODEL_eb29b19031034d20891a345abea65606",
            "value": 1534
          }
        },
        "654547b8576d46cc9d95c11954411101": {
          "model_module": "@jupyter-widgets/base",
          "model_module_version": "1.2.0",
          "model_name": "LayoutModel",
          "state": {
            "_model_module": "@jupyter-widgets/base",
            "_model_module_version": "1.2.0",
            "_model_name": "LayoutModel",
            "_view_count": null,
            "_view_module": "@jupyter-widgets/base",
            "_view_module_version": "1.2.0",
            "_view_name": "LayoutView",
            "align_content": null,
            "align_items": null,
            "align_self": null,
            "border": null,
            "bottom": null,
            "display": null,
            "flex": null,
            "flex_flow": null,
            "grid_area": null,
            "grid_auto_columns": null,
            "grid_auto_flow": null,
            "grid_auto_rows": null,
            "grid_column": null,
            "grid_gap": null,
            "grid_row": null,
            "grid_template_areas": null,
            "grid_template_columns": null,
            "grid_template_rows": null,
            "height": null,
            "justify_content": null,
            "justify_items": null,
            "left": null,
            "margin": null,
            "max_height": null,
            "max_width": null,
            "min_height": null,
            "min_width": null,
            "object_fit": null,
            "object_position": null,
            "order": null,
            "overflow": null,
            "overflow_x": null,
            "overflow_y": null,
            "padding": null,
            "right": null,
            "top": null,
            "visibility": null,
            "width": null
          }
        },
        "657c3602a17c4b7582648c82750f9e0b": {
          "model_module": "@jupyter-widgets/controls",
          "model_module_version": "1.5.0",
          "model_name": "DescriptionStyleModel",
          "state": {
            "_model_module": "@jupyter-widgets/controls",
            "_model_module_version": "1.5.0",
            "_model_name": "DescriptionStyleModel",
            "_view_count": null,
            "_view_module": "@jupyter-widgets/base",
            "_view_module_version": "1.2.0",
            "_view_name": "StyleView",
            "description_width": ""
          }
        },
        "65ded8984c6648c2afbf519068b0d54e": {
          "model_module": "@jupyter-widgets/controls",
          "model_module_version": "1.5.0",
          "model_name": "HTMLModel",
          "state": {
            "_dom_classes": [],
            "_model_module": "@jupyter-widgets/controls",
            "_model_module_version": "1.5.0",
            "_model_name": "HTMLModel",
            "_view_count": null,
            "_view_module": "@jupyter-widgets/controls",
            "_view_module_version": "1.5.0",
            "_view_name": "HTMLView",
            "description": "",
            "description_tooltip": null,
            "layout": "IPY_MODEL_84428041919347358de39eb07ffd97ac",
            "placeholder": "​",
            "style": "IPY_MODEL_e4c7134d2a294fe5aa52e40a45368a80",
            "value": " 2.00/2.00 [00:00&lt;00:00, 36.6B/s]"
          }
        },
        "719f5d964a3648e88950336b1e9ae459": {
          "model_module": "@jupyter-widgets/controls",
          "model_module_version": "1.5.0",
          "model_name": "HTMLModel",
          "state": {
            "_dom_classes": [],
            "_model_module": "@jupyter-widgets/controls",
            "_model_module_version": "1.5.0",
            "_model_name": "HTMLModel",
            "_view_count": null,
            "_view_module": "@jupyter-widgets/controls",
            "_view_module_version": "1.5.0",
            "_view_name": "HTMLView",
            "description": "",
            "description_tooltip": null,
            "layout": "IPY_MODEL_79e7fc0cdac24b70b4c0857d04655486",
            "placeholder": "​",
            "style": "IPY_MODEL_7e173c6b52ac40658726fb6a36177a3a",
            "value": " 112/112 [00:00&lt;00:00, 2.33kB/s]"
          }
        },
        "79e7fc0cdac24b70b4c0857d04655486": {
          "model_module": "@jupyter-widgets/base",
          "model_module_version": "1.2.0",
          "model_name": "LayoutModel",
          "state": {
            "_model_module": "@jupyter-widgets/base",
            "_model_module_version": "1.2.0",
            "_model_name": "LayoutModel",
            "_view_count": null,
            "_view_module": "@jupyter-widgets/base",
            "_view_module_version": "1.2.0",
            "_view_name": "LayoutView",
            "align_content": null,
            "align_items": null,
            "align_self": null,
            "border": null,
            "bottom": null,
            "display": null,
            "flex": null,
            "flex_flow": null,
            "grid_area": null,
            "grid_auto_columns": null,
            "grid_auto_flow": null,
            "grid_auto_rows": null,
            "grid_column": null,
            "grid_gap": null,
            "grid_row": null,
            "grid_template_areas": null,
            "grid_template_columns": null,
            "grid_template_rows": null,
            "height": null,
            "justify_content": null,
            "justify_items": null,
            "left": null,
            "margin": null,
            "max_height": null,
            "max_width": null,
            "min_height": null,
            "min_width": null,
            "object_fit": null,
            "object_position": null,
            "order": null,
            "overflow": null,
            "overflow_x": null,
            "overflow_y": null,
            "padding": null,
            "right": null,
            "top": null,
            "visibility": null,
            "width": null
          }
        },
        "7ba3775edcc74987b3b93e8e54ceb837": {
          "model_module": "@jupyter-widgets/controls",
          "model_module_version": "1.5.0",
          "model_name": "HTMLModel",
          "state": {
            "_dom_classes": [],
            "_model_module": "@jupyter-widgets/controls",
            "_model_module_version": "1.5.0",
            "_model_name": "HTMLModel",
            "_view_count": null,
            "_view_module": "@jupyter-widgets/controls",
            "_view_module_version": "1.5.0",
            "_view_name": "HTMLView",
            "description": "",
            "description_tooltip": null,
            "layout": "IPY_MODEL_5b824cc420a345b786466897fcb92fc5",
            "placeholder": "​",
            "style": "IPY_MODEL_a10733028c47468090b8424601267c2f",
            "value": " 229k/229k [00:00&lt;00:00, 976kB/s]"
          }
        },
        "7c95bad9224f43db88f7e5523aa15e7c": {
          "model_module": "@jupyter-widgets/controls",
          "model_module_version": "1.5.0",
          "model_name": "ProgressStyleModel",
          "state": {
            "_model_module": "@jupyter-widgets/controls",
            "_model_module_version": "1.5.0",
            "_model_name": "ProgressStyleModel",
            "_view_count": null,
            "_view_module": "@jupyter-widgets/base",
            "_view_module_version": "1.2.0",
            "_view_name": "StyleView",
            "bar_color": null,
            "description_width": ""
          }
        },
        "7e173c6b52ac40658726fb6a36177a3a": {
          "model_module": "@jupyter-widgets/controls",
          "model_module_version": "1.5.0",
          "model_name": "DescriptionStyleModel",
          "state": {
            "_model_module": "@jupyter-widgets/controls",
            "_model_module_version": "1.5.0",
            "_model_name": "DescriptionStyleModel",
            "_view_count": null,
            "_view_module": "@jupyter-widgets/base",
            "_view_module_version": "1.2.0",
            "_view_name": "StyleView",
            "description_width": ""
          }
        },
        "84428041919347358de39eb07ffd97ac": {
          "model_module": "@jupyter-widgets/base",
          "model_module_version": "1.2.0",
          "model_name": "LayoutModel",
          "state": {
            "_model_module": "@jupyter-widgets/base",
            "_model_module_version": "1.2.0",
            "_model_name": "LayoutModel",
            "_view_count": null,
            "_view_module": "@jupyter-widgets/base",
            "_view_module_version": "1.2.0",
            "_view_name": "LayoutView",
            "align_content": null,
            "align_items": null,
            "align_self": null,
            "border": null,
            "bottom": null,
            "display": null,
            "flex": null,
            "flex_flow": null,
            "grid_area": null,
            "grid_auto_columns": null,
            "grid_auto_flow": null,
            "grid_auto_rows": null,
            "grid_column": null,
            "grid_gap": null,
            "grid_row": null,
            "grid_template_areas": null,
            "grid_template_columns": null,
            "grid_template_rows": null,
            "height": null,
            "justify_content": null,
            "justify_items": null,
            "left": null,
            "margin": null,
            "max_height": null,
            "max_width": null,
            "min_height": null,
            "min_width": null,
            "object_fit": null,
            "object_position": null,
            "order": null,
            "overflow": null,
            "overflow_x": null,
            "overflow_y": null,
            "padding": null,
            "right": null,
            "top": null,
            "visibility": null,
            "width": null
          }
        },
        "88a80658cd8144a8afd0872c8214742e": {
          "model_module": "@jupyter-widgets/controls",
          "model_module_version": "1.5.0",
          "model_name": "FloatProgressModel",
          "state": {
            "_dom_classes": [],
            "_model_module": "@jupyter-widgets/controls",
            "_model_module_version": "1.5.0",
            "_model_name": "FloatProgressModel",
            "_view_count": null,
            "_view_module": "@jupyter-widgets/controls",
            "_view_module_version": "1.5.0",
            "_view_name": "ProgressView",
            "bar_style": "success",
            "description": "",
            "description_tooltip": null,
            "layout": "IPY_MODEL_38cc3dd57fed4c7ca771a80b04eda7a2",
            "max": 497810400,
            "min": 0,
            "orientation": "horizontal",
            "style": "IPY_MODEL_a13a4ed422df44e7a8724e9f2476e798",
            "value": 497810400
          }
        },
        "8cbda4153f424559bc787a447b170552": {
          "model_module": "@jupyter-widgets/controls",
          "model_module_version": "1.5.0",
          "model_name": "DescriptionStyleModel",
          "state": {
            "_model_module": "@jupyter-widgets/controls",
            "_model_module_version": "1.5.0",
            "_model_name": "DescriptionStyleModel",
            "_view_count": null,
            "_view_module": "@jupyter-widgets/base",
            "_view_module_version": "1.2.0",
            "_view_name": "StyleView",
            "description_width": ""
          }
        },
        "8e314608a04a43c7958b2da714ccc770": {
          "model_module": "@jupyter-widgets/base",
          "model_module_version": "1.2.0",
          "model_name": "LayoutModel",
          "state": {
            "_model_module": "@jupyter-widgets/base",
            "_model_module_version": "1.2.0",
            "_model_name": "LayoutModel",
            "_view_count": null,
            "_view_module": "@jupyter-widgets/base",
            "_view_module_version": "1.2.0",
            "_view_name": "LayoutView",
            "align_content": null,
            "align_items": null,
            "align_self": null,
            "border": null,
            "bottom": null,
            "display": null,
            "flex": null,
            "flex_flow": null,
            "grid_area": null,
            "grid_auto_columns": null,
            "grid_auto_flow": null,
            "grid_auto_rows": null,
            "grid_column": null,
            "grid_gap": null,
            "grid_row": null,
            "grid_template_areas": null,
            "grid_template_columns": null,
            "grid_template_rows": null,
            "height": null,
            "justify_content": null,
            "justify_items": null,
            "left": null,
            "margin": null,
            "max_height": null,
            "max_width": null,
            "min_height": null,
            "min_width": null,
            "object_fit": null,
            "object_position": null,
            "order": null,
            "overflow": null,
            "overflow_x": null,
            "overflow_y": null,
            "padding": null,
            "right": null,
            "top": null,
            "visibility": null,
            "width": null
          }
        },
        "9820aed8a5024d4a9c0fad43b2807982": {
          "model_module": "@jupyter-widgets/controls",
          "model_module_version": "1.5.0",
          "model_name": "HTMLModel",
          "state": {
            "_dom_classes": [],
            "_model_module": "@jupyter-widgets/controls",
            "_model_module_version": "1.5.0",
            "_model_name": "HTMLModel",
            "_view_count": null,
            "_view_module": "@jupyter-widgets/controls",
            "_view_module_version": "1.5.0",
            "_view_name": "HTMLView",
            "description": "",
            "description_tooltip": null,
            "layout": "IPY_MODEL_0eadb21c16f34c4f85ca3433a418247b",
            "placeholder": "​",
            "style": "IPY_MODEL_576974cec136425582f25f174fd22f47",
            "value": "Downloading: 100%"
          }
        },
        "9b763ebafa17421890bb7973f9824d26": {
          "model_module": "@jupyter-widgets/controls",
          "model_module_version": "1.5.0",
          "model_name": "DescriptionStyleModel",
          "state": {
            "_model_module": "@jupyter-widgets/controls",
            "_model_module_version": "1.5.0",
            "_model_name": "DescriptionStyleModel",
            "_view_count": null,
            "_view_module": "@jupyter-widgets/base",
            "_view_module_version": "1.2.0",
            "_view_name": "StyleView",
            "description_width": ""
          }
        },
        "9c2e287c12d8427ea0fc05f80dac7ef4": {
          "model_module": "@jupyter-widgets/base",
          "model_module_version": "1.2.0",
          "model_name": "LayoutModel",
          "state": {
            "_model_module": "@jupyter-widgets/base",
            "_model_module_version": "1.2.0",
            "_model_name": "LayoutModel",
            "_view_count": null,
            "_view_module": "@jupyter-widgets/base",
            "_view_module_version": "1.2.0",
            "_view_name": "LayoutView",
            "align_content": null,
            "align_items": null,
            "align_self": null,
            "border": null,
            "bottom": null,
            "display": null,
            "flex": null,
            "flex_flow": null,
            "grid_area": null,
            "grid_auto_columns": null,
            "grid_auto_flow": null,
            "grid_auto_rows": null,
            "grid_column": null,
            "grid_gap": null,
            "grid_row": null,
            "grid_template_areas": null,
            "grid_template_columns": null,
            "grid_template_rows": null,
            "height": null,
            "justify_content": null,
            "justify_items": null,
            "left": null,
            "margin": null,
            "max_height": null,
            "max_width": null,
            "min_height": null,
            "min_width": null,
            "object_fit": null,
            "object_position": null,
            "order": null,
            "overflow": null,
            "overflow_x": null,
            "overflow_y": null,
            "padding": null,
            "right": null,
            "top": null,
            "visibility": null,
            "width": null
          }
        },
        "9f764b2815f54ceb978bb2e2838103ac": {
          "model_module": "@jupyter-widgets/base",
          "model_module_version": "1.2.0",
          "model_name": "LayoutModel",
          "state": {
            "_model_module": "@jupyter-widgets/base",
            "_model_module_version": "1.2.0",
            "_model_name": "LayoutModel",
            "_view_count": null,
            "_view_module": "@jupyter-widgets/base",
            "_view_module_version": "1.2.0",
            "_view_name": "LayoutView",
            "align_content": null,
            "align_items": null,
            "align_self": null,
            "border": null,
            "bottom": null,
            "display": null,
            "flex": null,
            "flex_flow": null,
            "grid_area": null,
            "grid_auto_columns": null,
            "grid_auto_flow": null,
            "grid_auto_rows": null,
            "grid_column": null,
            "grid_gap": null,
            "grid_row": null,
            "grid_template_areas": null,
            "grid_template_columns": null,
            "grid_template_rows": null,
            "height": null,
            "justify_content": null,
            "justify_items": null,
            "left": null,
            "margin": null,
            "max_height": null,
            "max_width": null,
            "min_height": null,
            "min_width": null,
            "object_fit": null,
            "object_position": null,
            "order": null,
            "overflow": null,
            "overflow_x": null,
            "overflow_y": null,
            "padding": null,
            "right": null,
            "top": null,
            "visibility": null,
            "width": null
          }
        },
        "a10733028c47468090b8424601267c2f": {
          "model_module": "@jupyter-widgets/controls",
          "model_module_version": "1.5.0",
          "model_name": "DescriptionStyleModel",
          "state": {
            "_model_module": "@jupyter-widgets/controls",
            "_model_module_version": "1.5.0",
            "_model_name": "DescriptionStyleModel",
            "_view_count": null,
            "_view_module": "@jupyter-widgets/base",
            "_view_module_version": "1.2.0",
            "_view_name": "StyleView",
            "description_width": ""
          }
        },
        "a13a4ed422df44e7a8724e9f2476e798": {
          "model_module": "@jupyter-widgets/controls",
          "model_module_version": "1.5.0",
          "model_name": "ProgressStyleModel",
          "state": {
            "_model_module": "@jupyter-widgets/controls",
            "_model_module_version": "1.5.0",
            "_model_name": "ProgressStyleModel",
            "_view_count": null,
            "_view_module": "@jupyter-widgets/base",
            "_view_module_version": "1.2.0",
            "_view_name": "StyleView",
            "bar_color": null,
            "description_width": ""
          }
        },
        "a4ebdd073be447a386ade543c3b1b8f6": {
          "model_module": "@jupyter-widgets/controls",
          "model_module_version": "1.5.0",
          "model_name": "HBoxModel",
          "state": {
            "_dom_classes": [],
            "_model_module": "@jupyter-widgets/controls",
            "_model_module_version": "1.5.0",
            "_model_name": "HBoxModel",
            "_view_count": null,
            "_view_module": "@jupyter-widgets/controls",
            "_view_module_version": "1.5.0",
            "_view_name": "HBoxView",
            "box_style": "",
            "children": [
              "IPY_MODEL_0f3f3903da204cf089e053850345e507",
              "IPY_MODEL_ab6700e7540a4f358ca4e0db8820ee77",
              "IPY_MODEL_65ded8984c6648c2afbf519068b0d54e"
            ],
            "layout": "IPY_MODEL_654547b8576d46cc9d95c11954411101"
          }
        },
        "a68927a17a35411a8506f97a2061463d": {
          "model_module": "@jupyter-widgets/controls",
          "model_module_version": "1.5.0",
          "model_name": "DescriptionStyleModel",
          "state": {
            "_model_module": "@jupyter-widgets/controls",
            "_model_module_version": "1.5.0",
            "_model_name": "DescriptionStyleModel",
            "_view_count": null,
            "_view_module": "@jupyter-widgets/base",
            "_view_module_version": "1.2.0",
            "_view_name": "StyleView",
            "description_width": ""
          }
        },
        "ab6700e7540a4f358ca4e0db8820ee77": {
          "model_module": "@jupyter-widgets/controls",
          "model_module_version": "1.5.0",
          "model_name": "FloatProgressModel",
          "state": {
            "_dom_classes": [],
            "_model_module": "@jupyter-widgets/controls",
            "_model_module_version": "1.5.0",
            "_model_name": "FloatProgressModel",
            "_view_count": null,
            "_view_module": "@jupyter-widgets/controls",
            "_view_module_version": "1.5.0",
            "_view_name": "ProgressView",
            "bar_style": "success",
            "description": "",
            "description_tooltip": null,
            "layout": "IPY_MODEL_3273595cc2154f598fcabb33274ba69c",
            "max": 2,
            "min": 0,
            "orientation": "horizontal",
            "style": "IPY_MODEL_bf2bc371bbe7437db81bf919153db166",
            "value": 2
          }
        },
        "b70bb9d13c884cfbb168f256161eb59a": {
          "model_module": "@jupyter-widgets/base",
          "model_module_version": "1.2.0",
          "model_name": "LayoutModel",
          "state": {
            "_model_module": "@jupyter-widgets/base",
            "_model_module_version": "1.2.0",
            "_model_name": "LayoutModel",
            "_view_count": null,
            "_view_module": "@jupyter-widgets/base",
            "_view_module_version": "1.2.0",
            "_view_name": "LayoutView",
            "align_content": null,
            "align_items": null,
            "align_self": null,
            "border": null,
            "bottom": null,
            "display": null,
            "flex": null,
            "flex_flow": null,
            "grid_area": null,
            "grid_auto_columns": null,
            "grid_auto_flow": null,
            "grid_auto_rows": null,
            "grid_column": null,
            "grid_gap": null,
            "grid_row": null,
            "grid_template_areas": null,
            "grid_template_columns": null,
            "grid_template_rows": null,
            "height": null,
            "justify_content": null,
            "justify_items": null,
            "left": null,
            "margin": null,
            "max_height": null,
            "max_width": null,
            "min_height": null,
            "min_width": null,
            "object_fit": null,
            "object_position": null,
            "order": null,
            "overflow": null,
            "overflow_x": null,
            "overflow_y": null,
            "padding": null,
            "right": null,
            "top": null,
            "visibility": null,
            "width": null
          }
        },
        "b93272012d124e0a9fb44e043b332ae7": {
          "model_module": "@jupyter-widgets/controls",
          "model_module_version": "1.5.0",
          "model_name": "HTMLModel",
          "state": {
            "_dom_classes": [],
            "_model_module": "@jupyter-widgets/controls",
            "_model_module_version": "1.5.0",
            "_model_name": "HTMLModel",
            "_view_count": null,
            "_view_module": "@jupyter-widgets/controls",
            "_view_module_version": "1.5.0",
            "_view_name": "HTMLView",
            "description": "",
            "description_tooltip": null,
            "layout": "IPY_MODEL_8e314608a04a43c7958b2da714ccc770",
            "placeholder": "​",
            "style": "IPY_MODEL_ebc1844d2c0f4c9eabd843edbe63ef08",
            "value": " 498M/498M [00:17&lt;00:00, 29.8MB/s]"
          }
        },
        "bdcb870258c44b58b8e935e54f856a7a": {
          "model_module": "@jupyter-widgets/controls",
          "model_module_version": "1.5.0",
          "model_name": "FloatProgressModel",
          "state": {
            "_dom_classes": [],
            "_model_module": "@jupyter-widgets/controls",
            "_model_module_version": "1.5.0",
            "_model_name": "FloatProgressModel",
            "_view_count": null,
            "_view_module": "@jupyter-widgets/controls",
            "_view_module_version": "1.5.0",
            "_view_name": "ProgressView",
            "bar_style": "success",
            "description": "",
            "description_tooltip": null,
            "layout": "IPY_MODEL_486d413a455c48eb8b545b2f2a4a436b",
            "max": 112,
            "min": 0,
            "orientation": "horizontal",
            "style": "IPY_MODEL_32876c55ffea45e9a857ae4fa9100325",
            "value": 112
          }
        },
        "bf2bc371bbe7437db81bf919153db166": {
          "model_module": "@jupyter-widgets/controls",
          "model_module_version": "1.5.0",
          "model_name": "ProgressStyleModel",
          "state": {
            "_model_module": "@jupyter-widgets/controls",
            "_model_module_version": "1.5.0",
            "_model_name": "ProgressStyleModel",
            "_view_count": null,
            "_view_module": "@jupyter-widgets/base",
            "_view_module_version": "1.2.0",
            "_view_name": "StyleView",
            "bar_color": null,
            "description_width": ""
          }
        },
        "c9c5948259c3434093042bbb492e62c5": {
          "model_module": "@jupyter-widgets/controls",
          "model_module_version": "1.5.0",
          "model_name": "HTMLModel",
          "state": {
            "_dom_classes": [],
            "_model_module": "@jupyter-widgets/controls",
            "_model_module_version": "1.5.0",
            "_model_name": "HTMLModel",
            "_view_count": null,
            "_view_module": "@jupyter-widgets/controls",
            "_view_module_version": "1.5.0",
            "_view_name": "HTMLView",
            "description": "",
            "description_tooltip": null,
            "layout": "IPY_MODEL_5f29d8881c2d4a44954399356b8ecc63",
            "placeholder": "​",
            "style": "IPY_MODEL_657c3602a17c4b7582648c82750f9e0b",
            "value": "Downloading: 100%"
          }
        },
        "cc35399d052645e0942c245645dcceee": {
          "model_module": "@jupyter-widgets/controls",
          "model_module_version": "1.5.0",
          "model_name": "DescriptionStyleModel",
          "state": {
            "_model_module": "@jupyter-widgets/controls",
            "_model_module_version": "1.5.0",
            "_model_name": "DescriptionStyleModel",
            "_view_count": null,
            "_view_module": "@jupyter-widgets/base",
            "_view_module_version": "1.2.0",
            "_view_name": "StyleView",
            "description_width": ""
          }
        },
        "e4c7134d2a294fe5aa52e40a45368a80": {
          "model_module": "@jupyter-widgets/controls",
          "model_module_version": "1.5.0",
          "model_name": "DescriptionStyleModel",
          "state": {
            "_model_module": "@jupyter-widgets/controls",
            "_model_module_version": "1.5.0",
            "_model_name": "DescriptionStyleModel",
            "_view_count": null,
            "_view_module": "@jupyter-widgets/base",
            "_view_module_version": "1.2.0",
            "_view_name": "StyleView",
            "description_width": ""
          }
        },
        "e866b368eed646a493ecd05bbc7630fb": {
          "model_module": "@jupyter-widgets/base",
          "model_module_version": "1.2.0",
          "model_name": "LayoutModel",
          "state": {
            "_model_module": "@jupyter-widgets/base",
            "_model_module_version": "1.2.0",
            "_model_name": "LayoutModel",
            "_view_count": null,
            "_view_module": "@jupyter-widgets/base",
            "_view_module_version": "1.2.0",
            "_view_name": "LayoutView",
            "align_content": null,
            "align_items": null,
            "align_self": null,
            "border": null,
            "bottom": null,
            "display": null,
            "flex": null,
            "flex_flow": null,
            "grid_area": null,
            "grid_auto_columns": null,
            "grid_auto_flow": null,
            "grid_auto_rows": null,
            "grid_column": null,
            "grid_gap": null,
            "grid_row": null,
            "grid_template_areas": null,
            "grid_template_columns": null,
            "grid_template_rows": null,
            "height": null,
            "justify_content": null,
            "justify_items": null,
            "left": null,
            "margin": null,
            "max_height": null,
            "max_width": null,
            "min_height": null,
            "min_width": null,
            "object_fit": null,
            "object_position": null,
            "order": null,
            "overflow": null,
            "overflow_x": null,
            "overflow_y": null,
            "padding": null,
            "right": null,
            "top": null,
            "visibility": null,
            "width": null
          }
        },
        "eb29b19031034d20891a345abea65606": {
          "model_module": "@jupyter-widgets/controls",
          "model_module_version": "1.5.0",
          "model_name": "ProgressStyleModel",
          "state": {
            "_model_module": "@jupyter-widgets/controls",
            "_model_module_version": "1.5.0",
            "_model_name": "ProgressStyleModel",
            "_view_count": null,
            "_view_module": "@jupyter-widgets/base",
            "_view_module_version": "1.2.0",
            "_view_name": "StyleView",
            "bar_color": null,
            "description_width": ""
          }
        },
        "eb39ead4a9e345aaa408df0d7f283dab": {
          "model_module": "@jupyter-widgets/base",
          "model_module_version": "1.2.0",
          "model_name": "LayoutModel",
          "state": {
            "_model_module": "@jupyter-widgets/base",
            "_model_module_version": "1.2.0",
            "_model_name": "LayoutModel",
            "_view_count": null,
            "_view_module": "@jupyter-widgets/base",
            "_view_module_version": "1.2.0",
            "_view_name": "LayoutView",
            "align_content": null,
            "align_items": null,
            "align_self": null,
            "border": null,
            "bottom": null,
            "display": null,
            "flex": null,
            "flex_flow": null,
            "grid_area": null,
            "grid_auto_columns": null,
            "grid_auto_flow": null,
            "grid_auto_rows": null,
            "grid_column": null,
            "grid_gap": null,
            "grid_row": null,
            "grid_template_areas": null,
            "grid_template_columns": null,
            "grid_template_rows": null,
            "height": null,
            "justify_content": null,
            "justify_items": null,
            "left": null,
            "margin": null,
            "max_height": null,
            "max_width": null,
            "min_height": null,
            "min_width": null,
            "object_fit": null,
            "object_position": null,
            "order": null,
            "overflow": null,
            "overflow_x": null,
            "overflow_y": null,
            "padding": null,
            "right": null,
            "top": null,
            "visibility": null,
            "width": null
          }
        },
        "ebc1844d2c0f4c9eabd843edbe63ef08": {
          "model_module": "@jupyter-widgets/controls",
          "model_module_version": "1.5.0",
          "model_name": "DescriptionStyleModel",
          "state": {
            "_model_module": "@jupyter-widgets/controls",
            "_model_module_version": "1.5.0",
            "_model_name": "DescriptionStyleModel",
            "_view_count": null,
            "_view_module": "@jupyter-widgets/base",
            "_view_module_version": "1.2.0",
            "_view_name": "StyleView",
            "description_width": ""
          }
        },
        "f2141a2561c24e35acdad4693c5cbb4a": {
          "model_module": "@jupyter-widgets/base",
          "model_module_version": "1.2.0",
          "model_name": "LayoutModel",
          "state": {
            "_model_module": "@jupyter-widgets/base",
            "_model_module_version": "1.2.0",
            "_model_name": "LayoutModel",
            "_view_count": null,
            "_view_module": "@jupyter-widgets/base",
            "_view_module_version": "1.2.0",
            "_view_name": "LayoutView",
            "align_content": null,
            "align_items": null,
            "align_self": null,
            "border": null,
            "bottom": null,
            "display": null,
            "flex": null,
            "flex_flow": null,
            "grid_area": null,
            "grid_auto_columns": null,
            "grid_auto_flow": null,
            "grid_auto_rows": null,
            "grid_column": null,
            "grid_gap": null,
            "grid_row": null,
            "grid_template_areas": null,
            "grid_template_columns": null,
            "grid_template_rows": null,
            "height": null,
            "justify_content": null,
            "justify_items": null,
            "left": null,
            "margin": null,
            "max_height": null,
            "max_width": null,
            "min_height": null,
            "min_width": null,
            "object_fit": null,
            "object_position": null,
            "order": null,
            "overflow": null,
            "overflow_x": null,
            "overflow_y": null,
            "padding": null,
            "right": null,
            "top": null,
            "visibility": null,
            "width": null
          }
        },
        "fcec3b93f311428f9f110cb9776ead10": {
          "model_module": "@jupyter-widgets/controls",
          "model_module_version": "1.5.0",
          "model_name": "HBoxModel",
          "state": {
            "_dom_classes": [],
            "_model_module": "@jupyter-widgets/controls",
            "_model_module_version": "1.5.0",
            "_model_name": "HBoxModel",
            "_view_count": null,
            "_view_module": "@jupyter-widgets/controls",
            "_view_module_version": "1.5.0",
            "_view_name": "HBoxView",
            "box_style": "",
            "children": [
              "IPY_MODEL_c9c5948259c3434093042bbb492e62c5",
              "IPY_MODEL_626045ad79ed4735a427973a75c1d2c8",
              "IPY_MODEL_34bebca0edf3457481ec11ba843fae43"
            ],
            "layout": "IPY_MODEL_37bcf7e540644288a9890d95c5395b28"
          }
        }
      }
    }
  },
  "nbformat": 4,
  "nbformat_minor": 0
}
