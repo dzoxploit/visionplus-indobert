{
  "cells": [
    {
      "cell_type": "code",
      "execution_count": 67,
      "metadata": {
        "id": "tk6PjpC9O7hY"
      },
      "outputs": [],
      "source": [
        "# from google.colab import drive\n",
        "# drive.mount('/content/drive')"
      ]
    },
    {
      "cell_type": "code",
      "execution_count": 68,
      "metadata": {
        "colab": {
          "base_uri": "https://localhost:8080/"
        },
        "id": "OjNwwCisxNmW",
        "outputId": "12ba1c66-b0bc-4b3b-af0c-71b81801ed6d"
      },
      "outputs": [
        {
          "output_type": "stream",
          "name": "stdout",
          "text": [
            "Tue Aug  1 13:02:48 2023       \n",
            "+-----------------------------------------------------------------------------+\n",
            "| NVIDIA-SMI 525.105.17   Driver Version: 525.105.17   CUDA Version: 12.0     |\n",
            "|-------------------------------+----------------------+----------------------+\n",
            "| GPU  Name        Persistence-M| Bus-Id        Disp.A | Volatile Uncorr. ECC |\n",
            "| Fan  Temp  Perf  Pwr:Usage/Cap|         Memory-Usage | GPU-Util  Compute M. |\n",
            "|                               |                      |               MIG M. |\n",
            "|===============================+======================+======================|\n",
            "|   0  Tesla T4            Off  | 00000000:00:04.0 Off |                    0 |\n",
            "| N/A   42C    P8    10W /  70W |      0MiB / 15360MiB |      0%      Default |\n",
            "|                               |                      |                  N/A |\n",
            "+-------------------------------+----------------------+----------------------+\n",
            "                                                                               \n",
            "+-----------------------------------------------------------------------------+\n",
            "| Processes:                                                                  |\n",
            "|  GPU   GI   CI        PID   Type   Process name                  GPU Memory |\n",
            "|        ID   ID                                                   Usage      |\n",
            "|=============================================================================|\n",
            "|  No running processes found                                                 |\n",
            "+-----------------------------------------------------------------------------+\n"
          ]
        }
      ],
      "source": [
        "!nvidia-smi"
      ]
    },
    {
      "cell_type": "code",
      "execution_count": 69,
      "metadata": {
        "id": "FrLd7UC24ylG"
      },
      "outputs": [],
      "source": [
        "# !rm -r indonlu"
      ]
    },
    {
      "cell_type": "code",
      "execution_count": 70,
      "metadata": {
        "colab": {
          "base_uri": "https://localhost:8080/"
        },
        "id": "777UVUlaZ9OY",
        "outputId": "59adff37-9d14-4993-d093-ffed987e5162"
      },
      "outputs": [
        {
          "output_type": "stream",
          "name": "stdout",
          "text": [
            "fatal: destination path 'indonlu' already exists and is not an empty directory.\n"
          ]
        }
      ],
      "source": [
        "!git clone https://github.com/ezaaputra/indonlu.git"
      ]
    },
    {
      "cell_type": "markdown",
      "metadata": {
        "id": "3SQTbtqlxYLr"
      },
      "source": [
        "# 1. Import Library"
      ]
    },
    {
      "cell_type": "code",
      "execution_count": 71,
      "metadata": {
        "colab": {
          "base_uri": "https://localhost:8080/"
        },
        "id": "LNA5CC1L1Dcs",
        "outputId": "f0f8a489-28bd-4046-e8f3-caa479e9b359"
      },
      "outputs": [
        {
          "output_type": "stream",
          "name": "stdout",
          "text": [
            "Requirement already satisfied: emoji in /usr/local/lib/python3.10/dist-packages (2.7.0)\n",
            "Requirement already satisfied: Sastrawi in /usr/local/lib/python3.10/dist-packages (1.0.1)\n",
            "Requirement already satisfied: transformers in /usr/local/lib/python3.10/dist-packages (4.31.0)\n",
            "Requirement already satisfied: filelock in /usr/local/lib/python3.10/dist-packages (from transformers) (3.12.2)\n",
            "Requirement already satisfied: huggingface-hub<1.0,>=0.14.1 in /usr/local/lib/python3.10/dist-packages (from transformers) (0.16.4)\n",
            "Requirement already satisfied: numpy>=1.17 in /usr/local/lib/python3.10/dist-packages (from transformers) (1.22.4)\n",
            "Requirement already satisfied: packaging>=20.0 in /usr/local/lib/python3.10/dist-packages (from transformers) (23.1)\n",
            "Requirement already satisfied: pyyaml>=5.1 in /usr/local/lib/python3.10/dist-packages (from transformers) (6.0.1)\n",
            "Requirement already satisfied: regex!=2019.12.17 in /usr/local/lib/python3.10/dist-packages (from transformers) (2022.10.31)\n",
            "Requirement already satisfied: requests in /usr/local/lib/python3.10/dist-packages (from transformers) (2.27.1)\n",
            "Requirement already satisfied: tokenizers!=0.11.3,<0.14,>=0.11.1 in /usr/local/lib/python3.10/dist-packages (from transformers) (0.13.3)\n",
            "Requirement already satisfied: safetensors>=0.3.1 in /usr/local/lib/python3.10/dist-packages (from transformers) (0.3.1)\n",
            "Requirement already satisfied: tqdm>=4.27 in /usr/local/lib/python3.10/dist-packages (from transformers) (4.65.0)\n",
            "Requirement already satisfied: fsspec in /usr/local/lib/python3.10/dist-packages (from huggingface-hub<1.0,>=0.14.1->transformers) (2023.6.0)\n",
            "Requirement already satisfied: typing-extensions>=3.7.4.3 in /usr/local/lib/python3.10/dist-packages (from huggingface-hub<1.0,>=0.14.1->transformers) (4.7.1)\n",
            "Requirement already satisfied: urllib3<1.27,>=1.21.1 in /usr/local/lib/python3.10/dist-packages (from requests->transformers) (1.26.16)\n",
            "Requirement already satisfied: certifi>=2017.4.17 in /usr/local/lib/python3.10/dist-packages (from requests->transformers) (2023.7.22)\n",
            "Requirement already satisfied: charset-normalizer~=2.0.0 in /usr/local/lib/python3.10/dist-packages (from requests->transformers) (2.0.12)\n",
            "Requirement already satisfied: idna<4,>=2.5 in /usr/local/lib/python3.10/dist-packages (from requests->transformers) (3.4)\n"
          ]
        }
      ],
      "source": [
        "!pip install emoji\n",
        "!pip install Sastrawi\n",
        "!pip install transformers"
      ]
    },
    {
      "cell_type": "code",
      "execution_count": 72,
      "metadata": {
        "colab": {
          "base_uri": "https://localhost:8080/"
        },
        "id": "WRE--usdxP5N",
        "outputId": "f61bafc8-09f0-46fe-877b-ae55073904c1"
      },
      "outputs": [
        {
          "output_type": "stream",
          "name": "stderr",
          "text": [
            "[nltk_data] Downloading package punkt to /root/nltk_data...\n",
            "[nltk_data]   Package punkt is already up-to-date!\n"
          ]
        }
      ],
      "source": [
        "import pandas as pd\n",
        "import numpy as np\n",
        "import re\n",
        "from sklearn.model_selection import train_test_split\n",
        "from sklearn.metrics import confusion_matrix\n",
        "from sklearn.metrics import classification_report\n",
        "from collections import defaultdict\n",
        "\n",
        "# NLP\n",
        "import nltk\n",
        "nltk.download('punkt')\n",
        "# from Sastrawi.Stemmer.StemmerFactory import StemmerFactory\n",
        "from nltk.probability import FreqDist\n",
        "from nltk.tokenize import word_tokenize\n",
        "import emoji\n",
        "\n",
        "# Viz\n",
        "import matplotlib.pyplot as plt\n",
        "import seaborn as sns\n",
        "import matplotlib as mpl\n",
        "from wordcloud import WordCloud\n",
        "\n",
        "#Model IndoBERT\n",
        "import random\n",
        "import torch\n",
        "import torch.nn.functional as F\n",
        "from torch import optim\n",
        "from tqdm import tqdm\n",
        "\n",
        "from transformers import BertForSequenceClassification, BertConfig, BertTokenizer\n",
        "from indonlu.utils.data_utils import DocumentSentimentDataset, DocumentSentimentDataLoader\n",
        "from indonlu.utils.forward_fn import forward_sequence_classification\n",
        "from indonlu.utils.metrics import document_sentiment_metrics_fn\n"
      ]
    },
    {
      "cell_type": "markdown",
      "metadata": {
        "id": "Law54nfdxhEt"
      },
      "source": [
        "# 2. Exploratory Data Analysis"
      ]
    },
    {
      "cell_type": "code",
      "execution_count": 73,
      "metadata": {
        "id": "SGKNbYG5e920"
      },
      "outputs": [],
      "source": [
        "df_path = 'vision_mentah_baru.csv'\n",
        "stopword_path = 'stopword.txt'\n",
        "kamus_alay_path = 'kamus_gokil.csv'"
      ]
    },
    {
      "cell_type": "code",
      "execution_count": 74,
      "metadata": {
        "id": "69SlxPp5yEDa"
      },
      "outputs": [],
      "source": [
        "# Import data\n",
        "df = pd.read_csv(df_path)"
      ]
    },
    {
      "cell_type": "code",
      "execution_count": 75,
      "metadata": {
        "colab": {
          "base_uri": "https://localhost:8080/",
          "height": 406
        },
        "id": "Y4LoTFhSYRo3",
        "outputId": "4df4bebb-563d-4ebb-a269-f10f2795d6cb"
      },
      "outputs": [
        {
          "output_type": "execute_result",
          "data": {
            "text/plain": [
              "                                  reviewId         userName  \\\n",
              "2877  905fae9a-e9ff-4ee5-9d44-621cef191d05      dara azizah   \n",
              "597   e47449ec-b06b-4055-a0a9-ec91cc971490   LEENA APRILLIA   \n",
              "3667  e9025770-0e07-47f2-8b4b-2b115ebe844d   Tiharoh sanusi   \n",
              "3230  d26e2893-31b7-458d-8eee-f4072f100bba        Syafiq VR   \n",
              "215   68e67ea6-a487-4f6d-b185-b3417a25b0d9  Fikri Imanulhaq   \n",
              "\n",
              "                                              userImage  \\\n",
              "2877  https://play-lh.googleusercontent.com/a/AGNmyx...   \n",
              "597   https://play-lh.googleusercontent.com/a/AGNmyx...   \n",
              "3667  https://play-lh.googleusercontent.com/a/AGNmyx...   \n",
              "3230  https://play-lh.googleusercontent.com/a/AGNmyx...   \n",
              "215   https://play-lh.googleusercontent.com/a-/ACB-R...   \n",
              "\n",
              "                                                content  score  thumbsUpCount  \\\n",
              "2877  Ini aplikasi nya kenapa yaa kemaren saya nonto...      1              0   \n",
              "597   Sekarang kok jelek sih udah langganan masak mo...      3              0   \n",
              "3667  mantap banyak saluran barunya nih jadi lebih b...      5              0   \n",
              "3230  Blm ngebuka aplikasi tiba2 keluar dengan sendi...      1              0   \n",
              "215   Bagus Aplikasinya.. Tolong diperbaiki lagi ten...      5              1   \n",
              "\n",
              "     reviewCreatedVersion                   at  \\\n",
              "2877               4.4.60  2020-11-01 17:40:49   \n",
              "597                   NaN  2023-04-17 19:26:58   \n",
              "3667                  NaN  2020-10-15 12:40:19   \n",
              "3230               6.22.0  2022-12-23 16:23:11   \n",
              "215                6.22.0  2022-12-21 19:04:41   \n",
              "\n",
              "                                           replyContent            repliedAt  \n",
              "2877  Mohon Maaf atas ketidaknyamanannya. Untuk kend...  2020-11-01 18:39:00  \n",
              "597   Hi Villenial...Mohon Maaf atas ketidaknyamanan...  2023-04-17 21:51:27  \n",
              "3667  Terima kasih atas review-nya, selamat menikmat...  2020-10-15 12:53:23  \n",
              "3230                                                NaN                  NaN  \n",
              "215   Hi kak Fikri Imanulhaq ....Terima kasih atas r...  2022-12-21 19:16:49  "
            ],
            "text/html": [
              "\n",
              "\n",
              "  <div id=\"df-4a11cba7-63ab-4776-91c9-79a85d7dfdf6\">\n",
              "    <div class=\"colab-df-container\">\n",
              "      <div>\n",
              "<style scoped>\n",
              "    .dataframe tbody tr th:only-of-type {\n",
              "        vertical-align: middle;\n",
              "    }\n",
              "\n",
              "    .dataframe tbody tr th {\n",
              "        vertical-align: top;\n",
              "    }\n",
              "\n",
              "    .dataframe thead th {\n",
              "        text-align: right;\n",
              "    }\n",
              "</style>\n",
              "<table border=\"1\" class=\"dataframe\">\n",
              "  <thead>\n",
              "    <tr style=\"text-align: right;\">\n",
              "      <th></th>\n",
              "      <th>reviewId</th>\n",
              "      <th>userName</th>\n",
              "      <th>userImage</th>\n",
              "      <th>content</th>\n",
              "      <th>score</th>\n",
              "      <th>thumbsUpCount</th>\n",
              "      <th>reviewCreatedVersion</th>\n",
              "      <th>at</th>\n",
              "      <th>replyContent</th>\n",
              "      <th>repliedAt</th>\n",
              "    </tr>\n",
              "  </thead>\n",
              "  <tbody>\n",
              "    <tr>\n",
              "      <th>2877</th>\n",
              "      <td>905fae9a-e9ff-4ee5-9d44-621cef191d05</td>\n",
              "      <td>dara azizah</td>\n",
              "      <td>https://play-lh.googleusercontent.com/a/AGNmyx...</td>\n",
              "      <td>Ini aplikasi nya kenapa yaa kemaren saya nonto...</td>\n",
              "      <td>1</td>\n",
              "      <td>0</td>\n",
              "      <td>4.4.60</td>\n",
              "      <td>2020-11-01 17:40:49</td>\n",
              "      <td>Mohon Maaf atas ketidaknyamanannya. Untuk kend...</td>\n",
              "      <td>2020-11-01 18:39:00</td>\n",
              "    </tr>\n",
              "    <tr>\n",
              "      <th>597</th>\n",
              "      <td>e47449ec-b06b-4055-a0a9-ec91cc971490</td>\n",
              "      <td>LEENA APRILLIA</td>\n",
              "      <td>https://play-lh.googleusercontent.com/a/AGNmyx...</td>\n",
              "      <td>Sekarang kok jelek sih udah langganan masak mo...</td>\n",
              "      <td>3</td>\n",
              "      <td>0</td>\n",
              "      <td>NaN</td>\n",
              "      <td>2023-04-17 19:26:58</td>\n",
              "      <td>Hi Villenial...Mohon Maaf atas ketidaknyamanan...</td>\n",
              "      <td>2023-04-17 21:51:27</td>\n",
              "    </tr>\n",
              "    <tr>\n",
              "      <th>3667</th>\n",
              "      <td>e9025770-0e07-47f2-8b4b-2b115ebe844d</td>\n",
              "      <td>Tiharoh sanusi</td>\n",
              "      <td>https://play-lh.googleusercontent.com/a/AGNmyx...</td>\n",
              "      <td>mantap banyak saluran barunya nih jadi lebih b...</td>\n",
              "      <td>5</td>\n",
              "      <td>0</td>\n",
              "      <td>NaN</td>\n",
              "      <td>2020-10-15 12:40:19</td>\n",
              "      <td>Terima kasih atas review-nya, selamat menikmat...</td>\n",
              "      <td>2020-10-15 12:53:23</td>\n",
              "    </tr>\n",
              "    <tr>\n",
              "      <th>3230</th>\n",
              "      <td>d26e2893-31b7-458d-8eee-f4072f100bba</td>\n",
              "      <td>Syafiq VR</td>\n",
              "      <td>https://play-lh.googleusercontent.com/a/AGNmyx...</td>\n",
              "      <td>Blm ngebuka aplikasi tiba2 keluar dengan sendi...</td>\n",
              "      <td>1</td>\n",
              "      <td>0</td>\n",
              "      <td>6.22.0</td>\n",
              "      <td>2022-12-23 16:23:11</td>\n",
              "      <td>NaN</td>\n",
              "      <td>NaN</td>\n",
              "    </tr>\n",
              "    <tr>\n",
              "      <th>215</th>\n",
              "      <td>68e67ea6-a487-4f6d-b185-b3417a25b0d9</td>\n",
              "      <td>Fikri Imanulhaq</td>\n",
              "      <td>https://play-lh.googleusercontent.com/a-/ACB-R...</td>\n",
              "      <td>Bagus Aplikasinya.. Tolong diperbaiki lagi ten...</td>\n",
              "      <td>5</td>\n",
              "      <td>1</td>\n",
              "      <td>6.22.0</td>\n",
              "      <td>2022-12-21 19:04:41</td>\n",
              "      <td>Hi kak Fikri Imanulhaq ....Terima kasih atas r...</td>\n",
              "      <td>2022-12-21 19:16:49</td>\n",
              "    </tr>\n",
              "  </tbody>\n",
              "</table>\n",
              "</div>\n",
              "      <button class=\"colab-df-convert\" onclick=\"convertToInteractive('df-4a11cba7-63ab-4776-91c9-79a85d7dfdf6')\"\n",
              "              title=\"Convert this dataframe to an interactive table.\"\n",
              "              style=\"display:none;\">\n",
              "\n",
              "  <svg xmlns=\"http://www.w3.org/2000/svg\" height=\"24px\"viewBox=\"0 0 24 24\"\n",
              "       width=\"24px\">\n",
              "    <path d=\"M0 0h24v24H0V0z\" fill=\"none\"/>\n",
              "    <path d=\"M18.56 5.44l.94 2.06.94-2.06 2.06-.94-2.06-.94-.94-2.06-.94 2.06-2.06.94zm-11 1L8.5 8.5l.94-2.06 2.06-.94-2.06-.94L8.5 2.5l-.94 2.06-2.06.94zm10 10l.94 2.06.94-2.06 2.06-.94-2.06-.94-.94-2.06-.94 2.06-2.06.94z\"/><path d=\"M17.41 7.96l-1.37-1.37c-.4-.4-.92-.59-1.43-.59-.52 0-1.04.2-1.43.59L10.3 9.45l-7.72 7.72c-.78.78-.78 2.05 0 2.83L4 21.41c.39.39.9.59 1.41.59.51 0 1.02-.2 1.41-.59l7.78-7.78 2.81-2.81c.8-.78.8-2.07 0-2.86zM5.41 20L4 18.59l7.72-7.72 1.47 1.35L5.41 20z\"/>\n",
              "  </svg>\n",
              "      </button>\n",
              "\n",
              "\n",
              "\n",
              "    <div id=\"df-eec2c09c-0527-4dd5-a21f-7a54e2523a44\">\n",
              "      <button class=\"colab-df-quickchart\" onclick=\"quickchart('df-eec2c09c-0527-4dd5-a21f-7a54e2523a44')\"\n",
              "              title=\"Suggest charts.\"\n",
              "              style=\"display:none;\">\n",
              "\n",
              "<svg xmlns=\"http://www.w3.org/2000/svg\" height=\"24px\"viewBox=\"0 0 24 24\"\n",
              "     width=\"24px\">\n",
              "    <g>\n",
              "        <path d=\"M19 3H5c-1.1 0-2 .9-2 2v14c0 1.1.9 2 2 2h14c1.1 0 2-.9 2-2V5c0-1.1-.9-2-2-2zM9 17H7v-7h2v7zm4 0h-2V7h2v10zm4 0h-2v-4h2v4z\"/>\n",
              "    </g>\n",
              "</svg>\n",
              "      </button>\n",
              "    </div>\n",
              "\n",
              "<style>\n",
              "  .colab-df-quickchart {\n",
              "    background-color: #E8F0FE;\n",
              "    border: none;\n",
              "    border-radius: 50%;\n",
              "    cursor: pointer;\n",
              "    display: none;\n",
              "    fill: #1967D2;\n",
              "    height: 32px;\n",
              "    padding: 0 0 0 0;\n",
              "    width: 32px;\n",
              "  }\n",
              "\n",
              "  .colab-df-quickchart:hover {\n",
              "    background-color: #E2EBFA;\n",
              "    box-shadow: 0px 1px 2px rgba(60, 64, 67, 0.3), 0px 1px 3px 1px rgba(60, 64, 67, 0.15);\n",
              "    fill: #174EA6;\n",
              "  }\n",
              "\n",
              "  [theme=dark] .colab-df-quickchart {\n",
              "    background-color: #3B4455;\n",
              "    fill: #D2E3FC;\n",
              "  }\n",
              "\n",
              "  [theme=dark] .colab-df-quickchart:hover {\n",
              "    background-color: #434B5C;\n",
              "    box-shadow: 0px 1px 3px 1px rgba(0, 0, 0, 0.15);\n",
              "    filter: drop-shadow(0px 1px 2px rgba(0, 0, 0, 0.3));\n",
              "    fill: #FFFFFF;\n",
              "  }\n",
              "</style>\n",
              "\n",
              "    <script>\n",
              "      async function quickchart(key) {\n",
              "        const containerElement = document.querySelector('#' + key);\n",
              "        const charts = await google.colab.kernel.invokeFunction(\n",
              "            'suggestCharts', [key], {});\n",
              "      }\n",
              "    </script>\n",
              "\n",
              "      <script>\n",
              "\n",
              "function displayQuickchartButton(domScope) {\n",
              "  let quickchartButtonEl =\n",
              "    domScope.querySelector('#df-eec2c09c-0527-4dd5-a21f-7a54e2523a44 button.colab-df-quickchart');\n",
              "  quickchartButtonEl.style.display =\n",
              "    google.colab.kernel.accessAllowed ? 'block' : 'none';\n",
              "}\n",
              "\n",
              "        displayQuickchartButton(document);\n",
              "      </script>\n",
              "      <style>\n",
              "    .colab-df-container {\n",
              "      display:flex;\n",
              "      flex-wrap:wrap;\n",
              "      gap: 12px;\n",
              "    }\n",
              "\n",
              "    .colab-df-convert {\n",
              "      background-color: #E8F0FE;\n",
              "      border: none;\n",
              "      border-radius: 50%;\n",
              "      cursor: pointer;\n",
              "      display: none;\n",
              "      fill: #1967D2;\n",
              "      height: 32px;\n",
              "      padding: 0 0 0 0;\n",
              "      width: 32px;\n",
              "    }\n",
              "\n",
              "    .colab-df-convert:hover {\n",
              "      background-color: #E2EBFA;\n",
              "      box-shadow: 0px 1px 2px rgba(60, 64, 67, 0.3), 0px 1px 3px 1px rgba(60, 64, 67, 0.15);\n",
              "      fill: #174EA6;\n",
              "    }\n",
              "\n",
              "    [theme=dark] .colab-df-convert {\n",
              "      background-color: #3B4455;\n",
              "      fill: #D2E3FC;\n",
              "    }\n",
              "\n",
              "    [theme=dark] .colab-df-convert:hover {\n",
              "      background-color: #434B5C;\n",
              "      box-shadow: 0px 1px 3px 1px rgba(0, 0, 0, 0.15);\n",
              "      filter: drop-shadow(0px 1px 2px rgba(0, 0, 0, 0.3));\n",
              "      fill: #FFFFFF;\n",
              "    }\n",
              "  </style>\n",
              "\n",
              "      <script>\n",
              "        const buttonEl =\n",
              "          document.querySelector('#df-4a11cba7-63ab-4776-91c9-79a85d7dfdf6 button.colab-df-convert');\n",
              "        buttonEl.style.display =\n",
              "          google.colab.kernel.accessAllowed ? 'block' : 'none';\n",
              "\n",
              "        async function convertToInteractive(key) {\n",
              "          const element = document.querySelector('#df-4a11cba7-63ab-4776-91c9-79a85d7dfdf6');\n",
              "          const dataTable =\n",
              "            await google.colab.kernel.invokeFunction('convertToInteractive',\n",
              "                                                     [key], {});\n",
              "          if (!dataTable) return;\n",
              "\n",
              "          const docLinkHtml = 'Like what you see? Visit the ' +\n",
              "            '<a target=\"_blank\" href=https://colab.research.google.com/notebooks/data_table.ipynb>data table notebook</a>'\n",
              "            + ' to learn more about interactive tables.';\n",
              "          element.innerHTML = '';\n",
              "          dataTable['output_type'] = 'display_data';\n",
              "          await google.colab.output.renderOutput(dataTable, element);\n",
              "          const docLink = document.createElement('div');\n",
              "          docLink.innerHTML = docLinkHtml;\n",
              "          element.appendChild(docLink);\n",
              "        }\n",
              "      </script>\n",
              "    </div>\n",
              "  </div>\n"
            ]
          },
          "metadata": {},
          "execution_count": 75
        }
      ],
      "source": [
        "df.sample(5)"
      ]
    },
    {
      "cell_type": "code",
      "source": [
        "# Function to remove characters and dots from a string\n",
        "def remove_chars_and_dots(text):\n",
        "    return text.replace(\".\", \"\").replace(\"-\", \"\").replace(\"_\", \"\").replace(\"?\", \"\").replace(\"!\", \"\").replace(\"*\", \"\").replace(\"#\", \"\").replace(\"@\", \"\").replace(\"&\", \"\").replace(\"$\", \"\").replace(\"(\", \"\").replace(\")\", \"\").replace(\"{\", \"\").replace(\"}\", \"\").replace(\"[\", \"\").replace(\"]\", \"\").replace(\"<\", \"\").replace(\">\", \"\").replace(\"|\", \"\").replace(\"\\\\\", \"\").replace(\"/\", \"\").replace(\",\", \"\").replace(\";\", \"\").replace(\":\", \"\")\n",
        "\n",
        "# Apply the remove_chars_and_dots function to the 'content' column\n",
        "df['content'] = df['content'].apply(remove_chars_and_dots)\n",
        "\n",
        "df.sample(5)\n",
        "\n"
      ],
      "metadata": {
        "colab": {
          "base_uri": "https://localhost:8080/",
          "height": 389
        },
        "id": "pyQ_yd0eLRlA",
        "outputId": "66ad6f07-ad15-4fba-97ea-dd2db1bf0d96"
      },
      "execution_count": 76,
      "outputs": [
        {
          "output_type": "execute_result",
          "data": {
            "text/plain": [
              "                                  reviewId         userName  \\\n",
              "6337  341bce43-1181-48c5-845b-1efd55249587  Pengguna Google   \n",
              "7255  0578c6c8-759f-4940-b80e-bacfd680b6cc  Pengguna Google   \n",
              "4822  427b2609-92d7-4f55-b233-5d336a2d9bd0      Yusuf Mhmmd   \n",
              "3852  01bfab5e-0f3d-4861-936d-07caa466e094    Aziih Rachman   \n",
              "3537  5188e769-e3ad-480a-803e-67b0d610830e       hand dorie   \n",
              "\n",
              "                                              userImage  \\\n",
              "6337  https://play-lh.googleusercontent.com/EGemoI2N...   \n",
              "7255  https://play-lh.googleusercontent.com/EGemoI2N...   \n",
              "4822  https://play-lh.googleusercontent.com/a-/ACB-R...   \n",
              "3852  https://play-lh.googleusercontent.com/a/AGNmyx...   \n",
              "3537  https://play-lh.googleusercontent.com/a-/ACB-R...   \n",
              "\n",
              "                                                content  score  thumbsUpCount  \\\n",
              "6337  channel luar filmnya selalu di ulang2 semakin ...      3              0   \n",
              "7255  Udah lama download ini cuma buat nonton preman...      1              0   \n",
              "4822  sangat oke buat nntn tv bisa dimana aja kualit...      5              0   \n",
              "3852  sangat tidak menyenangkan kenapa sekarang visi...      1              0   \n",
              "3537              Aplikasi sampah sekali FC terus parah      1              0   \n",
              "\n",
              "     reviewCreatedVersion                   at  \\\n",
              "6337               3.3.15   2018-12-26 3:23:04   \n",
              "7255                  NaN   2019-11-21 9:06:01   \n",
              "4822                  NaN  2020-11-24 19:45:44   \n",
              "3852               6.18.0   2022-09-07 6:25:33   \n",
              "3537               6.22.0  2023-01-12 19:04:24   \n",
              "\n",
              "                                           replyContent            repliedAt  \n",
              "6337  Terima kasih reviewnya, kami akan terus tingka...   2018-12-26 8:36:56  \n",
              "7255  Mohon Maaf atas ketidaknyamanannya. Untuk Seri...   2019-11-21 9:29:56  \n",
              "4822  Terima kasih atas review-nya, selamat menikmat...   2020-11-25 9:54:06  \n",
              "3852  Hi kak Aziih...Mohon Maaf atas ketidaknyamanan...   2022-09-07 8:07:20  \n",
              "3537  Mohon Maaf atas ketidaknyamanannya. Silahkan c...  2023-01-12 20:13:25  "
            ],
            "text/html": [
              "\n",
              "\n",
              "  <div id=\"df-206d862e-aa56-453b-be84-dcfbddab635f\">\n",
              "    <div class=\"colab-df-container\">\n",
              "      <div>\n",
              "<style scoped>\n",
              "    .dataframe tbody tr th:only-of-type {\n",
              "        vertical-align: middle;\n",
              "    }\n",
              "\n",
              "    .dataframe tbody tr th {\n",
              "        vertical-align: top;\n",
              "    }\n",
              "\n",
              "    .dataframe thead th {\n",
              "        text-align: right;\n",
              "    }\n",
              "</style>\n",
              "<table border=\"1\" class=\"dataframe\">\n",
              "  <thead>\n",
              "    <tr style=\"text-align: right;\">\n",
              "      <th></th>\n",
              "      <th>reviewId</th>\n",
              "      <th>userName</th>\n",
              "      <th>userImage</th>\n",
              "      <th>content</th>\n",
              "      <th>score</th>\n",
              "      <th>thumbsUpCount</th>\n",
              "      <th>reviewCreatedVersion</th>\n",
              "      <th>at</th>\n",
              "      <th>replyContent</th>\n",
              "      <th>repliedAt</th>\n",
              "    </tr>\n",
              "  </thead>\n",
              "  <tbody>\n",
              "    <tr>\n",
              "      <th>6337</th>\n",
              "      <td>341bce43-1181-48c5-845b-1efd55249587</td>\n",
              "      <td>Pengguna Google</td>\n",
              "      <td>https://play-lh.googleusercontent.com/EGemoI2N...</td>\n",
              "      <td>channel luar filmnya selalu di ulang2 semakin ...</td>\n",
              "      <td>3</td>\n",
              "      <td>0</td>\n",
              "      <td>3.3.15</td>\n",
              "      <td>2018-12-26 3:23:04</td>\n",
              "      <td>Terima kasih reviewnya, kami akan terus tingka...</td>\n",
              "      <td>2018-12-26 8:36:56</td>\n",
              "    </tr>\n",
              "    <tr>\n",
              "      <th>7255</th>\n",
              "      <td>0578c6c8-759f-4940-b80e-bacfd680b6cc</td>\n",
              "      <td>Pengguna Google</td>\n",
              "      <td>https://play-lh.googleusercontent.com/EGemoI2N...</td>\n",
              "      <td>Udah lama download ini cuma buat nonton preman...</td>\n",
              "      <td>1</td>\n",
              "      <td>0</td>\n",
              "      <td>NaN</td>\n",
              "      <td>2019-11-21 9:06:01</td>\n",
              "      <td>Mohon Maaf atas ketidaknyamanannya. Untuk Seri...</td>\n",
              "      <td>2019-11-21 9:29:56</td>\n",
              "    </tr>\n",
              "    <tr>\n",
              "      <th>4822</th>\n",
              "      <td>427b2609-92d7-4f55-b233-5d336a2d9bd0</td>\n",
              "      <td>Yusuf Mhmmd</td>\n",
              "      <td>https://play-lh.googleusercontent.com/a-/ACB-R...</td>\n",
              "      <td>sangat oke buat nntn tv bisa dimana aja kualit...</td>\n",
              "      <td>5</td>\n",
              "      <td>0</td>\n",
              "      <td>NaN</td>\n",
              "      <td>2020-11-24 19:45:44</td>\n",
              "      <td>Terima kasih atas review-nya, selamat menikmat...</td>\n",
              "      <td>2020-11-25 9:54:06</td>\n",
              "    </tr>\n",
              "    <tr>\n",
              "      <th>3852</th>\n",
              "      <td>01bfab5e-0f3d-4861-936d-07caa466e094</td>\n",
              "      <td>Aziih Rachman</td>\n",
              "      <td>https://play-lh.googleusercontent.com/a/AGNmyx...</td>\n",
              "      <td>sangat tidak menyenangkan kenapa sekarang visi...</td>\n",
              "      <td>1</td>\n",
              "      <td>0</td>\n",
              "      <td>6.18.0</td>\n",
              "      <td>2022-09-07 6:25:33</td>\n",
              "      <td>Hi kak Aziih...Mohon Maaf atas ketidaknyamanan...</td>\n",
              "      <td>2022-09-07 8:07:20</td>\n",
              "    </tr>\n",
              "    <tr>\n",
              "      <th>3537</th>\n",
              "      <td>5188e769-e3ad-480a-803e-67b0d610830e</td>\n",
              "      <td>hand dorie</td>\n",
              "      <td>https://play-lh.googleusercontent.com/a-/ACB-R...</td>\n",
              "      <td>Aplikasi sampah sekali FC terus parah</td>\n",
              "      <td>1</td>\n",
              "      <td>0</td>\n",
              "      <td>6.22.0</td>\n",
              "      <td>2023-01-12 19:04:24</td>\n",
              "      <td>Mohon Maaf atas ketidaknyamanannya. Silahkan c...</td>\n",
              "      <td>2023-01-12 20:13:25</td>\n",
              "    </tr>\n",
              "  </tbody>\n",
              "</table>\n",
              "</div>\n",
              "      <button class=\"colab-df-convert\" onclick=\"convertToInteractive('df-206d862e-aa56-453b-be84-dcfbddab635f')\"\n",
              "              title=\"Convert this dataframe to an interactive table.\"\n",
              "              style=\"display:none;\">\n",
              "\n",
              "  <svg xmlns=\"http://www.w3.org/2000/svg\" height=\"24px\"viewBox=\"0 0 24 24\"\n",
              "       width=\"24px\">\n",
              "    <path d=\"M0 0h24v24H0V0z\" fill=\"none\"/>\n",
              "    <path d=\"M18.56 5.44l.94 2.06.94-2.06 2.06-.94-2.06-.94-.94-2.06-.94 2.06-2.06.94zm-11 1L8.5 8.5l.94-2.06 2.06-.94-2.06-.94L8.5 2.5l-.94 2.06-2.06.94zm10 10l.94 2.06.94-2.06 2.06-.94-2.06-.94-.94-2.06-.94 2.06-2.06.94z\"/><path d=\"M17.41 7.96l-1.37-1.37c-.4-.4-.92-.59-1.43-.59-.52 0-1.04.2-1.43.59L10.3 9.45l-7.72 7.72c-.78.78-.78 2.05 0 2.83L4 21.41c.39.39.9.59 1.41.59.51 0 1.02-.2 1.41-.59l7.78-7.78 2.81-2.81c.8-.78.8-2.07 0-2.86zM5.41 20L4 18.59l7.72-7.72 1.47 1.35L5.41 20z\"/>\n",
              "  </svg>\n",
              "      </button>\n",
              "\n",
              "\n",
              "\n",
              "    <div id=\"df-dfb67f47-114d-4712-a04d-4143194a81db\">\n",
              "      <button class=\"colab-df-quickchart\" onclick=\"quickchart('df-dfb67f47-114d-4712-a04d-4143194a81db')\"\n",
              "              title=\"Suggest charts.\"\n",
              "              style=\"display:none;\">\n",
              "\n",
              "<svg xmlns=\"http://www.w3.org/2000/svg\" height=\"24px\"viewBox=\"0 0 24 24\"\n",
              "     width=\"24px\">\n",
              "    <g>\n",
              "        <path d=\"M19 3H5c-1.1 0-2 .9-2 2v14c0 1.1.9 2 2 2h14c1.1 0 2-.9 2-2V5c0-1.1-.9-2-2-2zM9 17H7v-7h2v7zm4 0h-2V7h2v10zm4 0h-2v-4h2v4z\"/>\n",
              "    </g>\n",
              "</svg>\n",
              "      </button>\n",
              "    </div>\n",
              "\n",
              "<style>\n",
              "  .colab-df-quickchart {\n",
              "    background-color: #E8F0FE;\n",
              "    border: none;\n",
              "    border-radius: 50%;\n",
              "    cursor: pointer;\n",
              "    display: none;\n",
              "    fill: #1967D2;\n",
              "    height: 32px;\n",
              "    padding: 0 0 0 0;\n",
              "    width: 32px;\n",
              "  }\n",
              "\n",
              "  .colab-df-quickchart:hover {\n",
              "    background-color: #E2EBFA;\n",
              "    box-shadow: 0px 1px 2px rgba(60, 64, 67, 0.3), 0px 1px 3px 1px rgba(60, 64, 67, 0.15);\n",
              "    fill: #174EA6;\n",
              "  }\n",
              "\n",
              "  [theme=dark] .colab-df-quickchart {\n",
              "    background-color: #3B4455;\n",
              "    fill: #D2E3FC;\n",
              "  }\n",
              "\n",
              "  [theme=dark] .colab-df-quickchart:hover {\n",
              "    background-color: #434B5C;\n",
              "    box-shadow: 0px 1px 3px 1px rgba(0, 0, 0, 0.15);\n",
              "    filter: drop-shadow(0px 1px 2px rgba(0, 0, 0, 0.3));\n",
              "    fill: #FFFFFF;\n",
              "  }\n",
              "</style>\n",
              "\n",
              "    <script>\n",
              "      async function quickchart(key) {\n",
              "        const containerElement = document.querySelector('#' + key);\n",
              "        const charts = await google.colab.kernel.invokeFunction(\n",
              "            'suggestCharts', [key], {});\n",
              "      }\n",
              "    </script>\n",
              "\n",
              "      <script>\n",
              "\n",
              "function displayQuickchartButton(domScope) {\n",
              "  let quickchartButtonEl =\n",
              "    domScope.querySelector('#df-dfb67f47-114d-4712-a04d-4143194a81db button.colab-df-quickchart');\n",
              "  quickchartButtonEl.style.display =\n",
              "    google.colab.kernel.accessAllowed ? 'block' : 'none';\n",
              "}\n",
              "\n",
              "        displayQuickchartButton(document);\n",
              "      </script>\n",
              "      <style>\n",
              "    .colab-df-container {\n",
              "      display:flex;\n",
              "      flex-wrap:wrap;\n",
              "      gap: 12px;\n",
              "    }\n",
              "\n",
              "    .colab-df-convert {\n",
              "      background-color: #E8F0FE;\n",
              "      border: none;\n",
              "      border-radius: 50%;\n",
              "      cursor: pointer;\n",
              "      display: none;\n",
              "      fill: #1967D2;\n",
              "      height: 32px;\n",
              "      padding: 0 0 0 0;\n",
              "      width: 32px;\n",
              "    }\n",
              "\n",
              "    .colab-df-convert:hover {\n",
              "      background-color: #E2EBFA;\n",
              "      box-shadow: 0px 1px 2px rgba(60, 64, 67, 0.3), 0px 1px 3px 1px rgba(60, 64, 67, 0.15);\n",
              "      fill: #174EA6;\n",
              "    }\n",
              "\n",
              "    [theme=dark] .colab-df-convert {\n",
              "      background-color: #3B4455;\n",
              "      fill: #D2E3FC;\n",
              "    }\n",
              "\n",
              "    [theme=dark] .colab-df-convert:hover {\n",
              "      background-color: #434B5C;\n",
              "      box-shadow: 0px 1px 3px 1px rgba(0, 0, 0, 0.15);\n",
              "      filter: drop-shadow(0px 1px 2px rgba(0, 0, 0, 0.3));\n",
              "      fill: #FFFFFF;\n",
              "    }\n",
              "  </style>\n",
              "\n",
              "      <script>\n",
              "        const buttonEl =\n",
              "          document.querySelector('#df-206d862e-aa56-453b-be84-dcfbddab635f button.colab-df-convert');\n",
              "        buttonEl.style.display =\n",
              "          google.colab.kernel.accessAllowed ? 'block' : 'none';\n",
              "\n",
              "        async function convertToInteractive(key) {\n",
              "          const element = document.querySelector('#df-206d862e-aa56-453b-be84-dcfbddab635f');\n",
              "          const dataTable =\n",
              "            await google.colab.kernel.invokeFunction('convertToInteractive',\n",
              "                                                     [key], {});\n",
              "          if (!dataTable) return;\n",
              "\n",
              "          const docLinkHtml = 'Like what you see? Visit the ' +\n",
              "            '<a target=\"_blank\" href=https://colab.research.google.com/notebooks/data_table.ipynb>data table notebook</a>'\n",
              "            + ' to learn more about interactive tables.';\n",
              "          element.innerHTML = '';\n",
              "          dataTable['output_type'] = 'display_data';\n",
              "          await google.colab.output.renderOutput(dataTable, element);\n",
              "          const docLink = document.createElement('div');\n",
              "          docLink.innerHTML = docLinkHtml;\n",
              "          element.appendChild(docLink);\n",
              "        }\n",
              "      </script>\n",
              "    </div>\n",
              "  </div>\n"
            ]
          },
          "metadata": {},
          "execution_count": 76
        }
      ]
    },
    {
      "cell_type": "code",
      "execution_count": 77,
      "metadata": {
        "colab": {
          "base_uri": "https://localhost:8080/"
        },
        "id": "ya7zzlmQyXkb",
        "outputId": "f2313084-60ac-4575-865a-a4fabc8d8ccb"
      },
      "outputs": [
        {
          "output_type": "stream",
          "name": "stdout",
          "text": [
            "shape: (8000, 10)\n"
          ]
        }
      ],
      "source": [
        "print(f'shape: {df.shape}')"
      ]
    },
    {
      "cell_type": "code",
      "execution_count": 78,
      "metadata": {
        "colab": {
          "base_uri": "https://localhost:8080/",
          "height": 458
        },
        "id": "qKFy_vZdOgft",
        "outputId": "bad6895a-e646-4b85-d0d1-ba42af7589ce"
      },
      "outputs": [
        {
          "output_type": "display_data",
          "data": {
            "text/plain": [
              "<Figure size 640x480 with 1 Axes>"
            ],
            "image/png": "[encoded data removed]"
          },
          "metadata": {}
        }
      ],
      "source": [
        "sns.countplot(x=df[\"score\"])\n",
        "plt.xlabel('review score');"
      ]
    },
    {
      "cell_type": "code",
      "execution_count": 79,
      "metadata": {
        "id": "d9G7OB8OOgft"
      },
      "outputs": [],
      "source": [
        "def to_sentiment(rating):\n",
        "\n",
        "    rating = int(rating)\n",
        "\n",
        "    # Convert to class\n",
        "    if rating <= 2:\n",
        "        return 0\n",
        "    elif rating == 3:\n",
        "        return 1\n",
        "    else:\n",
        "        return 2\n",
        "\n",
        "# Apply to the dataset\n",
        "df['category'] = df[\"score\"].apply(to_sentiment)\n"
      ]
    },
    {
      "cell_type": "code",
      "execution_count": 80,
      "metadata": {
        "colab": {
          "base_uri": "https://localhost:8080/",
          "height": 424
        },
        "id": "s3ZQJByuOgft",
        "outputId": "f83614c1-46d9-4031-c27f-11a073409e4f"
      },
      "outputs": [
        {
          "output_type": "execute_result",
          "data": {
            "text/plain": [
              "                               reviewId                userName  \\\n",
              "0  e62be63f-800b-4aa1-acb1-235a13cd3ba9    Muhammad Sofyan Zain   \n",
              "1  8857ee5e-6a31-404e-a3bc-547b0c2337ba            Dinna Agsari   \n",
              "2  c7de4e7e-dd9a-4319-9186-4ee6abb3bec6  Bary Hastomo Kristyadi   \n",
              "3  4d2a5e1d-a99c-4b18-a2d0-75252bf6d544                 Syamila   \n",
              "4  2e1c3d16-21e5-4d33-a626-08ba1d003c75                     Ash   \n",
              "\n",
              "                                           userImage  \\\n",
              "0  https://play-lh.googleusercontent.com/a-/ACB-R...   \n",
              "1  https://play-lh.googleusercontent.com/a-/ACB-R...   \n",
              "2  https://play-lh.googleusercontent.com/a-/ACB-R...   \n",
              "3  https://play-lh.googleusercontent.com/a-/ACB-R...   \n",
              "4  https://play-lh.googleusercontent.com/a-/ACB-R...   \n",
              "\n",
              "                                             content  score  thumbsUpCount  \\\n",
              "0  Saya masih ngetes dulu nih berlangganan 1 bula...      1              4   \n",
              "1  Tolong tingkatkan lagi Lagi enak2 nonton sampa...      1             29   \n",
              "2  Wah Status langganan masih aktif tp dipake nnt...      1              1   \n",
              "3  Aplikasinya jelek udah langganan premium eh bu...      1              1   \n",
              "4  Kalo mau pilih episode susah dipencet2 tetep g...      2             52   \n",
              "\n",
              "  reviewCreatedVersion                   at  \\\n",
              "0               6.24.0  2023-04-28 19:36:30   \n",
              "1               6.24.0   2023-04-23 9:10:39   \n",
              "2               6.24.0  2023-04-29 20:23:21   \n",
              "3               6.24.0  2023-04-28 14:06:58   \n",
              "4               6.22.0  2023-02-07 20:19:35   \n",
              "\n",
              "                                        replyContent            repliedAt  \\\n",
              "0  Hi Villenial...Mohon Maaf atas ketidaknyamanan...  2023-04-28 21:13:27   \n",
              "1  Mohon Maaf atas ketidaknyamanannya kak Dinna. ...  2023-04-23 10:15:16   \n",
              "2  Mohon Maaf atas ketidaknyamanannya kak Bary .....   2023-04-30 0:50:53   \n",
              "3  Hi Villenial....Mohon Maaf atas ketidaknyamana...  2023-04-28 14:17:52   \n",
              "4  Hi Villenial....Mohon maaf atas ketidaknyamana...  2023-02-07 20:35:53   \n",
              "\n",
              "   category  \n",
              "0         0  \n",
              "1         0  \n",
              "2         0  \n",
              "3         0  \n",
              "4         0  "
            ],
            "text/html": [
              "\n",
              "\n",
              "  <div id=\"df-935af2ba-4e2f-432e-9411-a7dddd6d128b\">\n",
              "    <div class=\"colab-df-container\">\n",
              "      <div>\n",
              "<style scoped>\n",
              "    .dataframe tbody tr th:only-of-type {\n",
              "        vertical-align: middle;\n",
              "    }\n",
              "\n",
              "    .dataframe tbody tr th {\n",
              "        vertical-align: top;\n",
              "    }\n",
              "\n",
              "    .dataframe thead th {\n",
              "        text-align: right;\n",
              "    }\n",
              "</style>\n",
              "<table border=\"1\" class=\"dataframe\">\n",
              "  <thead>\n",
              "    <tr style=\"text-align: right;\">\n",
              "      <th></th>\n",
              "      <th>reviewId</th>\n",
              "      <th>userName</th>\n",
              "      <th>userImage</th>\n",
              "      <th>content</th>\n",
              "      <th>score</th>\n",
              "      <th>thumbsUpCount</th>\n",
              "      <th>reviewCreatedVersion</th>\n",
              "      <th>at</th>\n",
              "      <th>replyContent</th>\n",
              "      <th>repliedAt</th>\n",
              "      <th>category</th>\n",
              "    </tr>\n",
              "  </thead>\n",
              "  <tbody>\n",
              "    <tr>\n",
              "      <th>0</th>\n",
              "      <td>e62be63f-800b-4aa1-acb1-235a13cd3ba9</td>\n",
              "      <td>Muhammad Sofyan Zain</td>\n",
              "      <td>https://play-lh.googleusercontent.com/a-/ACB-R...</td>\n",
              "      <td>Saya masih ngetes dulu nih berlangganan 1 bula...</td>\n",
              "      <td>1</td>\n",
              "      <td>4</td>\n",
              "      <td>6.24.0</td>\n",
              "      <td>2023-04-28 19:36:30</td>\n",
              "      <td>Hi Villenial...Mohon Maaf atas ketidaknyamanan...</td>\n",
              "      <td>2023-04-28 21:13:27</td>\n",
              "      <td>0</td>\n",
              "    </tr>\n",
              "    <tr>\n",
              "      <th>1</th>\n",
              "      <td>8857ee5e-6a31-404e-a3bc-547b0c2337ba</td>\n",
              "      <td>Dinna Agsari</td>\n",
              "      <td>https://play-lh.googleusercontent.com/a-/ACB-R...</td>\n",
              "      <td>Tolong tingkatkan lagi Lagi enak2 nonton sampa...</td>\n",
              "      <td>1</td>\n",
              "      <td>29</td>\n",
              "      <td>6.24.0</td>\n",
              "      <td>2023-04-23 9:10:39</td>\n",
              "      <td>Mohon Maaf atas ketidaknyamanannya kak Dinna. ...</td>\n",
              "      <td>2023-04-23 10:15:16</td>\n",
              "      <td>0</td>\n",
              "    </tr>\n",
              "    <tr>\n",
              "      <th>2</th>\n",
              "      <td>c7de4e7e-dd9a-4319-9186-4ee6abb3bec6</td>\n",
              "      <td>Bary Hastomo Kristyadi</td>\n",
              "      <td>https://play-lh.googleusercontent.com/a-/ACB-R...</td>\n",
              "      <td>Wah Status langganan masih aktif tp dipake nnt...</td>\n",
              "      <td>1</td>\n",
              "      <td>1</td>\n",
              "      <td>6.24.0</td>\n",
              "      <td>2023-04-29 20:23:21</td>\n",
              "      <td>Mohon Maaf atas ketidaknyamanannya kak Bary .....</td>\n",
              "      <td>2023-04-30 0:50:53</td>\n",
              "      <td>0</td>\n",
              "    </tr>\n",
              "    <tr>\n",
              "      <th>3</th>\n",
              "      <td>4d2a5e1d-a99c-4b18-a2d0-75252bf6d544</td>\n",
              "      <td>Syamila</td>\n",
              "      <td>https://play-lh.googleusercontent.com/a-/ACB-R...</td>\n",
              "      <td>Aplikasinya jelek udah langganan premium eh bu...</td>\n",
              "      <td>1</td>\n",
              "      <td>1</td>\n",
              "      <td>6.24.0</td>\n",
              "      <td>2023-04-28 14:06:58</td>\n",
              "      <td>Hi Villenial....Mohon Maaf atas ketidaknyamana...</td>\n",
              "      <td>2023-04-28 14:17:52</td>\n",
              "      <td>0</td>\n",
              "    </tr>\n",
              "    <tr>\n",
              "      <th>4</th>\n",
              "      <td>2e1c3d16-21e5-4d33-a626-08ba1d003c75</td>\n",
              "      <td>Ash</td>\n",
              "      <td>https://play-lh.googleusercontent.com/a-/ACB-R...</td>\n",
              "      <td>Kalo mau pilih episode susah dipencet2 tetep g...</td>\n",
              "      <td>2</td>\n",
              "      <td>52</td>\n",
              "      <td>6.22.0</td>\n",
              "      <td>2023-02-07 20:19:35</td>\n",
              "      <td>Hi Villenial....Mohon maaf atas ketidaknyamana...</td>\n",
              "      <td>2023-02-07 20:35:53</td>\n",
              "      <td>0</td>\n",
              "    </tr>\n",
              "  </tbody>\n",
              "</table>\n",
              "</div>\n",
              "      <button class=\"colab-df-convert\" onclick=\"convertToInteractive('df-935af2ba-4e2f-432e-9411-a7dddd6d128b')\"\n",
              "              title=\"Convert this dataframe to an interactive table.\"\n",
              "              style=\"display:none;\">\n",
              "\n",
              "  <svg xmlns=\"http://www.w3.org/2000/svg\" height=\"24px\"viewBox=\"0 0 24 24\"\n",
              "       width=\"24px\">\n",
              "    <path d=\"M0 0h24v24H0V0z\" fill=\"none\"/>\n",
              "    <path d=\"M18.56 5.44l.94 2.06.94-2.06 2.06-.94-2.06-.94-.94-2.06-.94 2.06-2.06.94zm-11 1L8.5 8.5l.94-2.06 2.06-.94-2.06-.94L8.5 2.5l-.94 2.06-2.06.94zm10 10l.94 2.06.94-2.06 2.06-.94-2.06-.94-.94-2.06-.94 2.06-2.06.94z\"/><path d=\"M17.41 7.96l-1.37-1.37c-.4-.4-.92-.59-1.43-.59-.52 0-1.04.2-1.43.59L10.3 9.45l-7.72 7.72c-.78.78-.78 2.05 0 2.83L4 21.41c.39.39.9.59 1.41.59.51 0 1.02-.2 1.41-.59l7.78-7.78 2.81-2.81c.8-.78.8-2.07 0-2.86zM5.41 20L4 18.59l7.72-7.72 1.47 1.35L5.41 20z\"/>\n",
              "  </svg>\n",
              "      </button>\n",
              "\n",
              "\n",
              "\n",
              "    <div id=\"df-dbdb03ff-9f1e-4eb4-924b-549f084af2fe\">\n",
              "      <button class=\"colab-df-quickchart\" onclick=\"quickchart('df-dbdb03ff-9f1e-4eb4-924b-549f084af2fe')\"\n",
              "              title=\"Suggest charts.\"\n",
              "              style=\"display:none;\">\n",
              "\n",
              "<svg xmlns=\"http://www.w3.org/2000/svg\" height=\"24px\"viewBox=\"0 0 24 24\"\n",
              "     width=\"24px\">\n",
              "    <g>\n",
              "        <path d=\"M19 3H5c-1.1 0-2 .9-2 2v14c0 1.1.9 2 2 2h14c1.1 0 2-.9 2-2V5c0-1.1-.9-2-2-2zM9 17H7v-7h2v7zm4 0h-2V7h2v10zm4 0h-2v-4h2v4z\"/>\n",
              "    </g>\n",
              "</svg>\n",
              "      </button>\n",
              "    </div>\n",
              "\n",
              "<style>\n",
              "  .colab-df-quickchart {\n",
              "    background-color: #E8F0FE;\n",
              "    border: none;\n",
              "    border-radius: 50%;\n",
              "    cursor: pointer;\n",
              "    display: none;\n",
              "    fill: #1967D2;\n",
              "    height: 32px;\n",
              "    padding: 0 0 0 0;\n",
              "    width: 32px;\n",
              "  }\n",
              "\n",
              "  .colab-df-quickchart:hover {\n",
              "    background-color: #E2EBFA;\n",
              "    box-shadow: 0px 1px 2px rgba(60, 64, 67, 0.3), 0px 1px 3px 1px rgba(60, 64, 67, 0.15);\n",
              "    fill: #174EA6;\n",
              "  }\n",
              "\n",
              "  [theme=dark] .colab-df-quickchart {\n",
              "    background-color: #3B4455;\n",
              "    fill: #D2E3FC;\n",
              "  }\n",
              "\n",
              "  [theme=dark] .colab-df-quickchart:hover {\n",
              "    background-color: #434B5C;\n",
              "    box-shadow: 0px 1px 3px 1px rgba(0, 0, 0, 0.15);\n",
              "    filter: drop-shadow(0px 1px 2px rgba(0, 0, 0, 0.3));\n",
              "    fill: #FFFFFF;\n",
              "  }\n",
              "</style>\n",
              "\n",
              "    <script>\n",
              "      async function quickchart(key) {\n",
              "        const containerElement = document.querySelector('#' + key);\n",
              "        const charts = await google.colab.kernel.invokeFunction(\n",
              "            'suggestCharts', [key], {});\n",
              "      }\n",
              "    </script>\n",
              "\n",
              "      <script>\n",
              "\n",
              "function displayQuickchartButton(domScope) {\n",
              "  let quickchartButtonEl =\n",
              "    domScope.querySelector('#df-dbdb03ff-9f1e-4eb4-924b-549f084af2fe button.colab-df-quickchart');\n",
              "  quickchartButtonEl.style.display =\n",
              "    google.colab.kernel.accessAllowed ? 'block' : 'none';\n",
              "}\n",
              "\n",
              "        displayQuickchartButton(document);\n",
              "      </script>\n",
              "      <style>\n",
              "    .colab-df-container {\n",
              "      display:flex;\n",
              "      flex-wrap:wrap;\n",
              "      gap: 12px;\n",
              "    }\n",
              "\n",
              "    .colab-df-convert {\n",
              "      background-color: #E8F0FE;\n",
              "      border: none;\n",
              "      border-radius: 50%;\n",
              "      cursor: pointer;\n",
              "      display: none;\n",
              "      fill: #1967D2;\n",
              "      height: 32px;\n",
              "      padding: 0 0 0 0;\n",
              "      width: 32px;\n",
              "    }\n",
              "\n",
              "    .colab-df-convert:hover {\n",
              "      background-color: #E2EBFA;\n",
              "      box-shadow: 0px 1px 2px rgba(60, 64, 67, 0.3), 0px 1px 3px 1px rgba(60, 64, 67, 0.15);\n",
              "      fill: #174EA6;\n",
              "    }\n",
              "\n",
              "    [theme=dark] .colab-df-convert {\n",
              "      background-color: #3B4455;\n",
              "      fill: #D2E3FC;\n",
              "    }\n",
              "\n",
              "    [theme=dark] .colab-df-convert:hover {\n",
              "      background-color: #434B5C;\n",
              "      box-shadow: 0px 1px 3px 1px rgba(0, 0, 0, 0.15);\n",
              "      filter: drop-shadow(0px 1px 2px rgba(0, 0, 0, 0.3));\n",
              "      fill: #FFFFFF;\n",
              "    }\n",
              "  </style>\n",
              "\n",
              "      <script>\n",
              "        const buttonEl =\n",
              "          document.querySelector('#df-935af2ba-4e2f-432e-9411-a7dddd6d128b button.colab-df-convert');\n",
              "        buttonEl.style.display =\n",
              "          google.colab.kernel.accessAllowed ? 'block' : 'none';\n",
              "\n",
              "        async function convertToInteractive(key) {\n",
              "          const element = document.querySelector('#df-935af2ba-4e2f-432e-9411-a7dddd6d128b');\n",
              "          const dataTable =\n",
              "            await google.colab.kernel.invokeFunction('convertToInteractive',\n",
              "                                                     [key], {});\n",
              "          if (!dataTable) return;\n",
              "\n",
              "          const docLinkHtml = 'Like what you see? Visit the ' +\n",
              "            '<a target=\"_blank\" href=https://colab.research.google.com/notebooks/data_table.ipynb>data table notebook</a>'\n",
              "            + ' to learn more about interactive tables.';\n",
              "          element.innerHTML = '';\n",
              "          dataTable['output_type'] = 'display_data';\n",
              "          await google.colab.output.renderOutput(dataTable, element);\n",
              "          const docLink = document.createElement('div');\n",
              "          docLink.innerHTML = docLinkHtml;\n",
              "          element.appendChild(docLink);\n",
              "        }\n",
              "      </script>\n",
              "    </div>\n",
              "  </div>\n"
            ]
          },
          "metadata": {},
          "execution_count": 80
        }
      ],
      "source": [
        "df.head()"
      ]
    },
    {
      "cell_type": "code",
      "execution_count": 81,
      "metadata": {
        "colab": {
          "base_uri": "https://localhost:8080/",
          "height": 458
        },
        "id": "jLXNfmCrOgft",
        "outputId": "1f7ac2a9-4dd4-408e-a1bf-27059767b070"
      },
      "outputs": [
        {
          "output_type": "display_data",
          "data": {
            "text/plain": [
              "<Figure size 640x480 with 1 Axes>"
            ],
            "image/png": "[encoded data removed]"
          },
          "metadata": {}
        }
      ],
      "source": [
        "class_names = ['negative', 'neutral', 'positive']\n",
        "\n",
        "ax = sns.countplot(x = df[\"category\"])\n",
        "ax.set_xticks(range(len(class_names)))\n",
        "ax.set_xticklabels(class_names)\n",
        "\n",
        "plt.xlabel('review sentiment')\n",
        "plt.show()"
      ]
    },
    {
      "cell_type": "code",
      "execution_count": 82,
      "metadata": {
        "id": "oyis_FNSOgfu"
      },
      "outputs": [],
      "source": [
        "def to_sentiment(rating):\n",
        "\n",
        "    rating = int(rating)\n",
        "\n",
        "    # Convert to class\n",
        "    if rating <= 2:\n",
        "        return \"negative\"\n",
        "    elif rating == 3:\n",
        "        return \"neutral\"\n",
        "    else:\n",
        "        return \"positive\"\n",
        "\n",
        "# Apply to the dataset\n",
        "df['category'] = df[\"score\"].apply(to_sentiment)"
      ]
    },
    {
      "cell_type": "code",
      "execution_count": 83,
      "metadata": {
        "colab": {
          "base_uri": "https://localhost:8080/"
        },
        "id": "IpgmB5XtOgfu",
        "outputId": "e934d57b-58e0-4ba3-b0d6-1cc7cca612bd"
      },
      "outputs": [
        {
          "output_type": "execute_result",
          "data": {
            "text/plain": [
              "positive    4219\n",
              "negative    3060\n",
              "neutral      721\n",
              "Name: category, dtype: int64"
            ]
          },
          "metadata": {},
          "execution_count": 83
        }
      ],
      "source": [
        "df[\"category\"].value_counts()"
      ]
    },
    {
      "cell_type": "markdown",
      "metadata": {
        "id": "VSN_4zfhNbxo"
      },
      "source": [
        "## Proporsi Variabel Target"
      ]
    },
    {
      "cell_type": "code",
      "execution_count": 84,
      "metadata": {
        "colab": {
          "base_uri": "https://localhost:8080/"
        },
        "id": "wUvBSxB4ya4W",
        "outputId": "9937b190-5f84-4c64-ab39-1165d4abdd76"
      },
      "outputs": [
        {
          "output_type": "execute_result",
          "data": {
            "text/plain": [
              "positive    4219\n",
              "negative    3060\n",
              "neutral      721\n",
              "Name: category, dtype: int64"
            ]
          },
          "metadata": {},
          "execution_count": 84
        }
      ],
      "source": [
        "df['category'].value_counts()"
      ]
    },
    {
      "cell_type": "code",
      "execution_count": 85,
      "metadata": {
        "id": "XZG7YoIENYjq"
      },
      "outputs": [],
      "source": [
        "# Function to make a donut chart\n",
        "def donut(sizes, ax, angle=90, labels=None,colors=None, explode=None, shadow=None):\n",
        "\n",
        "    # Plot\n",
        "    ax.pie(sizes, colors = colors, labels=labels, autopct='%.1f%%',\n",
        "           startangle = angle, pctdistance=0.8, explode = explode,\n",
        "           wedgeprops=dict(width=0.4), shadow=shadow)\n",
        "\n",
        "    # Formatting\n",
        "    plt.axis('equal')\n",
        "    plt.tight_layout()"
      ]
    },
    {
      "cell_type": "code",
      "execution_count": 86,
      "metadata": {
        "colab": {
          "base_uri": "https://localhost:8080/",
          "height": 449
        },
        "id": "eRDwtqUJOKOx",
        "outputId": "72f67388-c3c3-4c0a-812e-1c70763f1301"
      },
      "outputs": [
        {
          "output_type": "display_data",
          "data": {
            "text/plain": [
              "<Figure size 600x400 with 1 Axes>"
            ],
            "image/png": "[encoded data removed]"
          },
          "metadata": {}
        }
      ],
      "source": [
        "# Create axes\n",
        "f, ax = plt.subplots(figsize=(6,4))\n",
        "# Plot arguments\n",
        "sizes = df.category.value_counts()\n",
        "labels = ['Review Positif', 'Review Negative', 'Review Netral']\n",
        "colors = ['lightgreen', 'lightcoral', 'lightskyblue']\n",
        "explode = (0,0,0)\n",
        "# plot donut\n",
        "donut(sizes, ax, 90, labels, colors=colors, explode=explode, shadow=True)\n",
        "ax.set_title('Review Category Proportions')\n",
        "\n",
        "plt.show()"
      ]
    },
    {
      "cell_type": "markdown",
      "metadata": {
        "id": "8O0LhuQZxnrI"
      },
      "source": [
        "# 3. PreProcessing"
      ]
    },
    {
      "cell_type": "markdown",
      "metadata": {
        "id": "8ntmcT2RPDN6"
      },
      "source": [
        "## Preprocessing Tahap 1"
      ]
    },
    {
      "cell_type": "code",
      "execution_count": 87,
      "metadata": {
        "id": "Wfu8bOVwq0HN"
      },
      "outputs": [],
      "source": [
        "character = ['.',',',';',':','-,','...','?','!','(',')','[',']','{','}','<','>','\"','/','\\'','#','-','@',\n",
        "             'a','b','c','d','e','f','g','h','i','j','k','l','m','n','o','p','q','r','s','t','u','v','w','x','y','z',\n",
        "             'A','B','C','D','E','F','G','H','I','J','K','L','M','N','O','P','Q','R','S','T','U','V','W','X','Y','Z']\n",
        "\n",
        "# hapus karakter yang berulang\n",
        "def repeatcharClean(text):\n",
        "  for i in range(len(character)):\n",
        "    charac_long = 5\n",
        "    while charac_long > 2:\n",
        "      char = character[i]*charac_long\n",
        "      text = text.replace(char,character[i])\n",
        "      charac_long -= 1\n",
        "  return text"
      ]
    },
    {
      "cell_type": "code",
      "execution_count": 88,
      "metadata": {
        "id": "WeUKmZzT1Htu",
        "colab": {
          "base_uri": "https://localhost:8080/",
          "height": 424
        },
        "outputId": "ce3c128c-7cbb-4797-ea1f-fcfd20f0c13a"
      },
      "outputs": [
        {
          "output_type": "execute_result",
          "data": {
            "text/plain": [
              "                               reviewId                userName  \\\n",
              "0  e62be63f-800b-4aa1-acb1-235a13cd3ba9    Muhammad Sofyan Zain   \n",
              "1  8857ee5e-6a31-404e-a3bc-547b0c2337ba            Dinna Agsari   \n",
              "2  c7de4e7e-dd9a-4319-9186-4ee6abb3bec6  Bary Hastomo Kristyadi   \n",
              "3  4d2a5e1d-a99c-4b18-a2d0-75252bf6d544                 Syamila   \n",
              "4  2e1c3d16-21e5-4d33-a626-08ba1d003c75                     Ash   \n",
              "\n",
              "                                           userImage  \\\n",
              "0  https://play-lh.googleusercontent.com/a-/ACB-R...   \n",
              "1  https://play-lh.googleusercontent.com/a-/ACB-R...   \n",
              "2  https://play-lh.googleusercontent.com/a-/ACB-R...   \n",
              "3  https://play-lh.googleusercontent.com/a-/ACB-R...   \n",
              "4  https://play-lh.googleusercontent.com/a-/ACB-R...   \n",
              "\n",
              "                                             content  score  thumbsUpCount  \\\n",
              "0  Saya masih ngetes dulu nih berlangganan 1 bula...      1              4   \n",
              "1  Tolong tingkatkan lagi Lagi enak2 nonton sampa...      1             29   \n",
              "2  Wah Status langganan masih aktif tp dipake nnt...      1              1   \n",
              "3  Aplikasinya jelek udah langganan premium eh bu...      1              1   \n",
              "4  Kalo mau pilih episode susah dipencet2 tetep g...      2             52   \n",
              "\n",
              "  reviewCreatedVersion                   at  \\\n",
              "0               6.24.0  2023-04-28 19:36:30   \n",
              "1               6.24.0   2023-04-23 9:10:39   \n",
              "2               6.24.0  2023-04-29 20:23:21   \n",
              "3               6.24.0  2023-04-28 14:06:58   \n",
              "4               6.22.0  2023-02-07 20:19:35   \n",
              "\n",
              "                                        replyContent            repliedAt  \\\n",
              "0  Hi Villenial...Mohon Maaf atas ketidaknyamanan...  2023-04-28 21:13:27   \n",
              "1  Mohon Maaf atas ketidaknyamanannya kak Dinna. ...  2023-04-23 10:15:16   \n",
              "2  Mohon Maaf atas ketidaknyamanannya kak Bary .....   2023-04-30 0:50:53   \n",
              "3  Hi Villenial....Mohon Maaf atas ketidaknyamana...  2023-04-28 14:17:52   \n",
              "4  Hi Villenial....Mohon maaf atas ketidaknyamana...  2023-02-07 20:35:53   \n",
              "\n",
              "   category  \n",
              "0  negative  \n",
              "1  negative  \n",
              "2  negative  \n",
              "3  negative  \n",
              "4  negative  "
            ],
            "text/html": [
              "\n",
              "\n",
              "  <div id=\"df-e93a1c74-e001-4392-a8df-4b6a92d90b01\">\n",
              "    <div class=\"colab-df-container\">\n",
              "      <div>\n",
              "<style scoped>\n",
              "    .dataframe tbody tr th:only-of-type {\n",
              "        vertical-align: middle;\n",
              "    }\n",
              "\n",
              "    .dataframe tbody tr th {\n",
              "        vertical-align: top;\n",
              "    }\n",
              "\n",
              "    .dataframe thead th {\n",
              "        text-align: right;\n",
              "    }\n",
              "</style>\n",
              "<table border=\"1\" class=\"dataframe\">\n",
              "  <thead>\n",
              "    <tr style=\"text-align: right;\">\n",
              "      <th></th>\n",
              "      <th>reviewId</th>\n",
              "      <th>userName</th>\n",
              "      <th>userImage</th>\n",
              "      <th>content</th>\n",
              "      <th>score</th>\n",
              "      <th>thumbsUpCount</th>\n",
              "      <th>reviewCreatedVersion</th>\n",
              "      <th>at</th>\n",
              "      <th>replyContent</th>\n",
              "      <th>repliedAt</th>\n",
              "      <th>category</th>\n",
              "    </tr>\n",
              "  </thead>\n",
              "  <tbody>\n",
              "    <tr>\n",
              "      <th>0</th>\n",
              "      <td>e62be63f-800b-4aa1-acb1-235a13cd3ba9</td>\n",
              "      <td>Muhammad Sofyan Zain</td>\n",
              "      <td>https://play-lh.googleusercontent.com/a-/ACB-R...</td>\n",
              "      <td>Saya masih ngetes dulu nih berlangganan 1 bula...</td>\n",
              "      <td>1</td>\n",
              "      <td>4</td>\n",
              "      <td>6.24.0</td>\n",
              "      <td>2023-04-28 19:36:30</td>\n",
              "      <td>Hi Villenial...Mohon Maaf atas ketidaknyamanan...</td>\n",
              "      <td>2023-04-28 21:13:27</td>\n",
              "      <td>negative</td>\n",
              "    </tr>\n",
              "    <tr>\n",
              "      <th>1</th>\n",
              "      <td>8857ee5e-6a31-404e-a3bc-547b0c2337ba</td>\n",
              "      <td>Dinna Agsari</td>\n",
              "      <td>https://play-lh.googleusercontent.com/a-/ACB-R...</td>\n",
              "      <td>Tolong tingkatkan lagi Lagi enak2 nonton sampa...</td>\n",
              "      <td>1</td>\n",
              "      <td>29</td>\n",
              "      <td>6.24.0</td>\n",
              "      <td>2023-04-23 9:10:39</td>\n",
              "      <td>Mohon Maaf atas ketidaknyamanannya kak Dinna. ...</td>\n",
              "      <td>2023-04-23 10:15:16</td>\n",
              "      <td>negative</td>\n",
              "    </tr>\n",
              "    <tr>\n",
              "      <th>2</th>\n",
              "      <td>c7de4e7e-dd9a-4319-9186-4ee6abb3bec6</td>\n",
              "      <td>Bary Hastomo Kristyadi</td>\n",
              "      <td>https://play-lh.googleusercontent.com/a-/ACB-R...</td>\n",
              "      <td>Wah Status langganan masih aktif tp dipake nnt...</td>\n",
              "      <td>1</td>\n",
              "      <td>1</td>\n",
              "      <td>6.24.0</td>\n",
              "      <td>2023-04-29 20:23:21</td>\n",
              "      <td>Mohon Maaf atas ketidaknyamanannya kak Bary .....</td>\n",
              "      <td>2023-04-30 0:50:53</td>\n",
              "      <td>negative</td>\n",
              "    </tr>\n",
              "    <tr>\n",
              "      <th>3</th>\n",
              "      <td>4d2a5e1d-a99c-4b18-a2d0-75252bf6d544</td>\n",
              "      <td>Syamila</td>\n",
              "      <td>https://play-lh.googleusercontent.com/a-/ACB-R...</td>\n",
              "      <td>Aplikasinya jelek udah langganan premium eh bu...</td>\n",
              "      <td>1</td>\n",
              "      <td>1</td>\n",
              "      <td>6.24.0</td>\n",
              "      <td>2023-04-28 14:06:58</td>\n",
              "      <td>Hi Villenial....Mohon Maaf atas ketidaknyamana...</td>\n",
              "      <td>2023-04-28 14:17:52</td>\n",
              "      <td>negative</td>\n",
              "    </tr>\n",
              "    <tr>\n",
              "      <th>4</th>\n",
              "      <td>2e1c3d16-21e5-4d33-a626-08ba1d003c75</td>\n",
              "      <td>Ash</td>\n",
              "      <td>https://play-lh.googleusercontent.com/a-/ACB-R...</td>\n",
              "      <td>Kalo mau pilih episode susah dipencet2 tetep g...</td>\n",
              "      <td>2</td>\n",
              "      <td>52</td>\n",
              "      <td>6.22.0</td>\n",
              "      <td>2023-02-07 20:19:35</td>\n",
              "      <td>Hi Villenial....Mohon maaf atas ketidaknyamana...</td>\n",
              "      <td>2023-02-07 20:35:53</td>\n",
              "      <td>negative</td>\n",
              "    </tr>\n",
              "  </tbody>\n",
              "</table>\n",
              "</div>\n",
              "      <button class=\"colab-df-convert\" onclick=\"convertToInteractive('df-e93a1c74-e001-4392-a8df-4b6a92d90b01')\"\n",
              "              title=\"Convert this dataframe to an interactive table.\"\n",
              "              style=\"display:none;\">\n",
              "\n",
              "  <svg xmlns=\"http://www.w3.org/2000/svg\" height=\"24px\"viewBox=\"0 0 24 24\"\n",
              "       width=\"24px\">\n",
              "    <path d=\"M0 0h24v24H0V0z\" fill=\"none\"/>\n",
              "    <path d=\"M18.56 5.44l.94 2.06.94-2.06 2.06-.94-2.06-.94-.94-2.06-.94 2.06-2.06.94zm-11 1L8.5 8.5l.94-2.06 2.06-.94-2.06-.94L8.5 2.5l-.94 2.06-2.06.94zm10 10l.94 2.06.94-2.06 2.06-.94-2.06-.94-.94-2.06-.94 2.06-2.06.94z\"/><path d=\"M17.41 7.96l-1.37-1.37c-.4-.4-.92-.59-1.43-.59-.52 0-1.04.2-1.43.59L10.3 9.45l-7.72 7.72c-.78.78-.78 2.05 0 2.83L4 21.41c.39.39.9.59 1.41.59.51 0 1.02-.2 1.41-.59l7.78-7.78 2.81-2.81c.8-.78.8-2.07 0-2.86zM5.41 20L4 18.59l7.72-7.72 1.47 1.35L5.41 20z\"/>\n",
              "  </svg>\n",
              "      </button>\n",
              "\n",
              "\n",
              "\n",
              "    <div id=\"df-85412855-eff9-4ab7-8501-42c6c132bc72\">\n",
              "      <button class=\"colab-df-quickchart\" onclick=\"quickchart('df-85412855-eff9-4ab7-8501-42c6c132bc72')\"\n",
              "              title=\"Suggest charts.\"\n",
              "              style=\"display:none;\">\n",
              "\n",
              "<svg xmlns=\"http://www.w3.org/2000/svg\" height=\"24px\"viewBox=\"0 0 24 24\"\n",
              "     width=\"24px\">\n",
              "    <g>\n",
              "        <path d=\"M19 3H5c-1.1 0-2 .9-2 2v14c0 1.1.9 2 2 2h14c1.1 0 2-.9 2-2V5c0-1.1-.9-2-2-2zM9 17H7v-7h2v7zm4 0h-2V7h2v10zm4 0h-2v-4h2v4z\"/>\n",
              "    </g>\n",
              "</svg>\n",
              "      </button>\n",
              "    </div>\n",
              "\n",
              "<style>\n",
              "  .colab-df-quickchart {\n",
              "    background-color: #E8F0FE;\n",
              "    border: none;\n",
              "    border-radius: 50%;\n",
              "    cursor: pointer;\n",
              "    display: none;\n",
              "    fill: #1967D2;\n",
              "    height: 32px;\n",
              "    padding: 0 0 0 0;\n",
              "    width: 32px;\n",
              "  }\n",
              "\n",
              "  .colab-df-quickchart:hover {\n",
              "    background-color: #E2EBFA;\n",
              "    box-shadow: 0px 1px 2px rgba(60, 64, 67, 0.3), 0px 1px 3px 1px rgba(60, 64, 67, 0.15);\n",
              "    fill: #174EA6;\n",
              "  }\n",
              "\n",
              "  [theme=dark] .colab-df-quickchart {\n",
              "    background-color: #3B4455;\n",
              "    fill: #D2E3FC;\n",
              "  }\n",
              "\n",
              "  [theme=dark] .colab-df-quickchart:hover {\n",
              "    background-color: #434B5C;\n",
              "    box-shadow: 0px 1px 3px 1px rgba(0, 0, 0, 0.15);\n",
              "    filter: drop-shadow(0px 1px 2px rgba(0, 0, 0, 0.3));\n",
              "    fill: #FFFFFF;\n",
              "  }\n",
              "</style>\n",
              "\n",
              "    <script>\n",
              "      async function quickchart(key) {\n",
              "        const containerElement = document.querySelector('#' + key);\n",
              "        const charts = await google.colab.kernel.invokeFunction(\n",
              "            'suggestCharts', [key], {});\n",
              "      }\n",
              "    </script>\n",
              "\n",
              "      <script>\n",
              "\n",
              "function displayQuickchartButton(domScope) {\n",
              "  let quickchartButtonEl =\n",
              "    domScope.querySelector('#df-85412855-eff9-4ab7-8501-42c6c132bc72 button.colab-df-quickchart');\n",
              "  quickchartButtonEl.style.display =\n",
              "    google.colab.kernel.accessAllowed ? 'block' : 'none';\n",
              "}\n",
              "\n",
              "        displayQuickchartButton(document);\n",
              "      </script>\n",
              "      <style>\n",
              "    .colab-df-container {\n",
              "      display:flex;\n",
              "      flex-wrap:wrap;\n",
              "      gap: 12px;\n",
              "    }\n",
              "\n",
              "    .colab-df-convert {\n",
              "      background-color: #E8F0FE;\n",
              "      border: none;\n",
              "      border-radius: 50%;\n",
              "      cursor: pointer;\n",
              "      display: none;\n",
              "      fill: #1967D2;\n",
              "      height: 32px;\n",
              "      padding: 0 0 0 0;\n",
              "      width: 32px;\n",
              "    }\n",
              "\n",
              "    .colab-df-convert:hover {\n",
              "      background-color: #E2EBFA;\n",
              "      box-shadow: 0px 1px 2px rgba(60, 64, 67, 0.3), 0px 1px 3px 1px rgba(60, 64, 67, 0.15);\n",
              "      fill: #174EA6;\n",
              "    }\n",
              "\n",
              "    [theme=dark] .colab-df-convert {\n",
              "      background-color: #3B4455;\n",
              "      fill: #D2E3FC;\n",
              "    }\n",
              "\n",
              "    [theme=dark] .colab-df-convert:hover {\n",
              "      background-color: #434B5C;\n",
              "      box-shadow: 0px 1px 3px 1px rgba(0, 0, 0, 0.15);\n",
              "      filter: drop-shadow(0px 1px 2px rgba(0, 0, 0, 0.3));\n",
              "      fill: #FFFFFF;\n",
              "    }\n",
              "  </style>\n",
              "\n",
              "      <script>\n",
              "        const buttonEl =\n",
              "          document.querySelector('#df-e93a1c74-e001-4392-a8df-4b6a92d90b01 button.colab-df-convert');\n",
              "        buttonEl.style.display =\n",
              "          google.colab.kernel.accessAllowed ? 'block' : 'none';\n",
              "\n",
              "        async function convertToInteractive(key) {\n",
              "          const element = document.querySelector('#df-e93a1c74-e001-4392-a8df-4b6a92d90b01');\n",
              "          const dataTable =\n",
              "            await google.colab.kernel.invokeFunction('convertToInteractive',\n",
              "                                                     [key], {});\n",
              "          if (!dataTable) return;\n",
              "\n",
              "          const docLinkHtml = 'Like what you see? Visit the ' +\n",
              "            '<a target=\"_blank\" href=https://colab.research.google.com/notebooks/data_table.ipynb>data table notebook</a>'\n",
              "            + ' to learn more about interactive tables.';\n",
              "          element.innerHTML = '';\n",
              "          dataTable['output_type'] = 'display_data';\n",
              "          await google.colab.output.renderOutput(dataTable, element);\n",
              "          const docLink = document.createElement('div');\n",
              "          docLink.innerHTML = docLinkHtml;\n",
              "          element.appendChild(docLink);\n",
              "        }\n",
              "      </script>\n",
              "    </div>\n",
              "  </div>\n"
            ]
          },
          "metadata": {},
          "execution_count": 88
        }
      ],
      "source": [
        "df['content'] = df['content'].str.replace('!', '')\n",
        "\n",
        "df.head(5)"
      ]
    },
    {
      "cell_type": "code",
      "execution_count": 89,
      "metadata": {
        "id": "DTvdDAYFz5_P"
      },
      "outputs": [],
      "source": [
        "import string\n",
        "import re #regex library\n",
        "\n",
        "# import word_tokenize & FreqDist from NLTK\n",
        "from nltk.tokenize import word_tokenize\n",
        "from nltk.probability import FreqDist\n",
        "\n",
        "# ------ Tokenizing ---------\n",
        "\n",
        "def remove_review_text_special(text):\n",
        "    # remove tab, new line, ans back slice\n",
        "    text = text.replace('\\\\t',\" \").replace('\\\\n',\" \").replace('\\\\u',\" \").replace('\\\\',\"\")\n",
        "    # remove non ASCII (emoticon, chinese word, .etc)\n",
        "    text = text.encode('ascii', 'replace').decode('ascii')\n",
        "    # remove mention, link, hashtag\n",
        "    text = ' '.join(re.sub(\"([@#][A-Za-z0-9]+)|(\\w+:\\/\\/\\S+)\",\" \", text).split())\n",
        "    # remove incomplete URL\n",
        "    return text.replace(\"http://\", \" \").replace(\"https://\", \" \")\n",
        "\n",
        "df['content'] = df['content'].apply(remove_review_text_special)\n",
        "\n",
        "#remove number\n",
        "def remove_number(text):\n",
        "    return  re.sub(r\"\\d+\", \"\", text)\n",
        "\n",
        "df['content'] = df['content'].apply(remove_number)\n",
        "\n",
        "#remove punctuation\n",
        "def remove_punctuation(text):\n",
        "    # hapus angka dan beberapa simbol\n",
        "  text = re.sub('[^a-zA-Z,.?!]+',' ',text)\n",
        "  return text\n",
        "\n",
        "df['content'] = df['content'].apply(remove_punctuation)\n",
        "\n",
        "#remove whitespace leading & trailing\n",
        "def remove_whitespace_LT(text):\n",
        "    return text.strip()\n",
        "\n",
        "df['content'] = df['content'].apply(remove_whitespace_LT)\n",
        "\n",
        "#remove multiple whitespace into single whitespace\n",
        "def remove_whitespace_multiple(text):\n",
        "    return re.sub('\\s+',' ',text)\n",
        "\n",
        "df['content'] = df['content'].apply(remove_whitespace_multiple)\n",
        "\n",
        "# remove single char\n",
        "def remove_singl_char(text):\n",
        "    return re.sub(r\"\\b[a-zA-Z]\\b\", \"\", text)\n",
        "\n",
        "df['content'] = df['content'].apply(remove_singl_char)\n",
        "\n",
        "# NLTK word rokenize\n",
        "def word_tokenize_wrapper(text):\n",
        "    return word_tokenize(text)"
      ]
    },
    {
      "cell_type": "code",
      "source": [],
      "metadata": {
        "id": "PYmgImG4m40n"
      },
      "execution_count": 89,
      "outputs": []
    },
    {
      "cell_type": "code",
      "execution_count": 90,
      "metadata": {
        "id": "UgGizhXf6lGk"
      },
      "outputs": [],
      "source": [
        "df_v1 = df"
      ]
    },
    {
      "cell_type": "code",
      "execution_count": 91,
      "metadata": {
        "id": "YQLDUjxIPBR6"
      },
      "outputs": [],
      "source": [
        "# export to tsv\n",
        "df_v1.to_csv('df_v2.tsv', sep='\\t', header=None, index=False)"
      ]
    },
    {
      "cell_type": "code",
      "source": [
        "df_v1.head(10)"
      ],
      "metadata": {
        "colab": {
          "base_uri": "https://localhost:8080/",
          "height": 754
        },
        "id": "oCs-OHUjcxez",
        "outputId": "fa95ac96-cd27-41b2-cd59-ce8bd7f81332"
      },
      "execution_count": 92,
      "outputs": [
        {
          "output_type": "execute_result",
          "data": {
            "text/plain": [
              "                               reviewId                userName  \\\n",
              "0  e62be63f-800b-4aa1-acb1-235a13cd3ba9    Muhammad Sofyan Zain   \n",
              "1  8857ee5e-6a31-404e-a3bc-547b0c2337ba            Dinna Agsari   \n",
              "2  c7de4e7e-dd9a-4319-9186-4ee6abb3bec6  Bary Hastomo Kristyadi   \n",
              "3  4d2a5e1d-a99c-4b18-a2d0-75252bf6d544                 Syamila   \n",
              "4  2e1c3d16-21e5-4d33-a626-08ba1d003c75                     Ash   \n",
              "5  fe91bcfc-5c8d-45d7-b355-3c544c564fba        Rivandy Alfianto   \n",
              "6  245e58a9-e28d-413d-90af-3581abf59f64                  Wijaya   \n",
              "7  3246a792-be77-447c-bcd8-13ca18523f49        Ferry Kurniyawan   \n",
              "8  0084062a-a1e5-4a30-a6a5-1211bab319ef             Aisya Nahda   \n",
              "9  86fb7f56-3c40-4ae8-a676-0869df19c791             Benedick Tj   \n",
              "\n",
              "                                           userImage  \\\n",
              "0  https://play-lh.googleusercontent.com/a-/ACB-R...   \n",
              "1  https://play-lh.googleusercontent.com/a-/ACB-R...   \n",
              "2  https://play-lh.googleusercontent.com/a-/ACB-R...   \n",
              "3  https://play-lh.googleusercontent.com/a-/ACB-R...   \n",
              "4  https://play-lh.googleusercontent.com/a-/ACB-R...   \n",
              "5  https://play-lh.googleusercontent.com/a-/ACB-R...   \n",
              "6  https://play-lh.googleusercontent.com/a/AGNmyx...   \n",
              "7  https://play-lh.googleusercontent.com/a-/ACB-R...   \n",
              "8  https://play-lh.googleusercontent.com/a/AGNmyx...   \n",
              "9  https://play-lh.googleusercontent.com/a-/ACB-R...   \n",
              "\n",
              "                                             content  score  thumbsUpCount  \\\n",
              "0  Saya masih ngetes dulu nih berlangganan bulan ...      1              4   \n",
              "1  Tolong tingkatkan lagi Lagi enak nonton sampai...      1             29   \n",
              "2  Wah Status langganan masih aktif tp dipake nnt...      1              1   \n",
              "3  Aplikasinya jelek udah langganan premium eh bu...      1              1   \n",
              "4  Kalo mau pilih episode susah dipencet tetep ga...      2             52   \n",
              "5  Aplikasinya buruk banget Mau nonton live slalu...      1              0   \n",
              "6  Saya sudah langganan premium sport maupun prem...      1              1   \n",
              "7  Terlalu lelet banget padahal sinyal full terus...      1              1   \n",
              "8  Prh bngt aplikasi nya pas udh di download pas ...      1              0   \n",
              "9  Tidak bisa berjalan di google TV sangat mengec...      1             50   \n",
              "\n",
              "  reviewCreatedVersion                   at  \\\n",
              "0               6.24.0  2023-04-28 19:36:30   \n",
              "1               6.24.0   2023-04-23 9:10:39   \n",
              "2               6.24.0  2023-04-29 20:23:21   \n",
              "3               6.24.0  2023-04-28 14:06:58   \n",
              "4               6.22.0  2023-02-07 20:19:35   \n",
              "5               6.24.0  2023-04-29 18:18:14   \n",
              "6               6.24.0  2023-04-16 23:36:53   \n",
              "7               6.24.0  2023-04-18 12:42:55   \n",
              "8               6.24.0  2023-04-27 10:18:59   \n",
              "9               6.24.0  2023-04-17 15:20:44   \n",
              "\n",
              "                                        replyContent            repliedAt  \\\n",
              "0  Hi Villenial...Mohon Maaf atas ketidaknyamanan...  2023-04-28 21:13:27   \n",
              "1  Mohon Maaf atas ketidaknyamanannya kak Dinna. ...  2023-04-23 10:15:16   \n",
              "2  Mohon Maaf atas ketidaknyamanannya kak Bary .....   2023-04-30 0:50:53   \n",
              "3  Hi Villenial....Mohon Maaf atas ketidaknyamana...  2023-04-28 14:17:52   \n",
              "4  Hi Villenial....Mohon maaf atas ketidaknyamana...  2023-02-07 20:35:53   \n",
              "5  Mohon Maaf atas ketidaknyamanannya. Silahkan c...  2023-04-29 20:33:47   \n",
              "6  Hi Villenial....Mohon Maaf atas ketidaknyamana...  2023-04-16 23:44:18   \n",
              "7  Hi Villenial....Mohon Maaf atas ketidaknyamana...  2023-04-18 13:02:14   \n",
              "8  Hi Villenial....Mohon Maaf atas ketidaknyamana...  2023-04-27 10:33:33   \n",
              "9                                                NaN                  NaN   \n",
              "\n",
              "   category  \n",
              "0  negative  \n",
              "1  negative  \n",
              "2  negative  \n",
              "3  negative  \n",
              "4  negative  \n",
              "5  negative  \n",
              "6  negative  \n",
              "7  negative  \n",
              "8  negative  \n",
              "9  negative  "
            ],
            "text/html": [
              "\n",
              "\n",
              "  <div id=\"df-39587200-9c66-4d8f-9250-0760ba664329\">\n",
              "    <div class=\"colab-df-container\">\n",
              "      <div>\n",
              "<style scoped>\n",
              "    .dataframe tbody tr th:only-of-type {\n",
              "        vertical-align: middle;\n",
              "    }\n",
              "\n",
              "    .dataframe tbody tr th {\n",
              "        vertical-align: top;\n",
              "    }\n",
              "\n",
              "    .dataframe thead th {\n",
              "        text-align: right;\n",
              "    }\n",
              "</style>\n",
              "<table border=\"1\" class=\"dataframe\">\n",
              "  <thead>\n",
              "    <tr style=\"text-align: right;\">\n",
              "      <th></th>\n",
              "      <th>reviewId</th>\n",
              "      <th>userName</th>\n",
              "      <th>userImage</th>\n",
              "      <th>content</th>\n",
              "      <th>score</th>\n",
              "      <th>thumbsUpCount</th>\n",
              "      <th>reviewCreatedVersion</th>\n",
              "      <th>at</th>\n",
              "      <th>replyContent</th>\n",
              "      <th>repliedAt</th>\n",
              "      <th>category</th>\n",
              "    </tr>\n",
              "  </thead>\n",
              "  <tbody>\n",
              "    <tr>\n",
              "      <th>0</th>\n",
              "      <td>e62be63f-800b-4aa1-acb1-235a13cd3ba9</td>\n",
              "      <td>Muhammad Sofyan Zain</td>\n",
              "      <td>https://play-lh.googleusercontent.com/a-/ACB-R...</td>\n",
              "      <td>Saya masih ngetes dulu nih berlangganan bulan ...</td>\n",
              "      <td>1</td>\n",
              "      <td>4</td>\n",
              "      <td>6.24.0</td>\n",
              "      <td>2023-04-28 19:36:30</td>\n",
              "      <td>Hi Villenial...Mohon Maaf atas ketidaknyamanan...</td>\n",
              "      <td>2023-04-28 21:13:27</td>\n",
              "      <td>negative</td>\n",
              "    </tr>\n",
              "    <tr>\n",
              "      <th>1</th>\n",
              "      <td>8857ee5e-6a31-404e-a3bc-547b0c2337ba</td>\n",
              "      <td>Dinna Agsari</td>\n",
              "      <td>https://play-lh.googleusercontent.com/a-/ACB-R...</td>\n",
              "      <td>Tolong tingkatkan lagi Lagi enak nonton sampai...</td>\n",
              "      <td>1</td>\n",
              "      <td>29</td>\n",
              "      <td>6.24.0</td>\n",
              "      <td>2023-04-23 9:10:39</td>\n",
              "      <td>Mohon Maaf atas ketidaknyamanannya kak Dinna. ...</td>\n",
              "      <td>2023-04-23 10:15:16</td>\n",
              "      <td>negative</td>\n",
              "    </tr>\n",
              "    <tr>\n",
              "      <th>2</th>\n",
              "      <td>c7de4e7e-dd9a-4319-9186-4ee6abb3bec6</td>\n",
              "      <td>Bary Hastomo Kristyadi</td>\n",
              "      <td>https://play-lh.googleusercontent.com/a-/ACB-R...</td>\n",
              "      <td>Wah Status langganan masih aktif tp dipake nnt...</td>\n",
              "      <td>1</td>\n",
              "      <td>1</td>\n",
              "      <td>6.24.0</td>\n",
              "      <td>2023-04-29 20:23:21</td>\n",
              "      <td>Mohon Maaf atas ketidaknyamanannya kak Bary .....</td>\n",
              "      <td>2023-04-30 0:50:53</td>\n",
              "      <td>negative</td>\n",
              "    </tr>\n",
              "    <tr>\n",
              "      <th>3</th>\n",
              "      <td>4d2a5e1d-a99c-4b18-a2d0-75252bf6d544</td>\n",
              "      <td>Syamila</td>\n",
              "      <td>https://play-lh.googleusercontent.com/a-/ACB-R...</td>\n",
              "      <td>Aplikasinya jelek udah langganan premium eh bu...</td>\n",
              "      <td>1</td>\n",
              "      <td>1</td>\n",
              "      <td>6.24.0</td>\n",
              "      <td>2023-04-28 14:06:58</td>\n",
              "      <td>Hi Villenial....Mohon Maaf atas ketidaknyamana...</td>\n",
              "      <td>2023-04-28 14:17:52</td>\n",
              "      <td>negative</td>\n",
              "    </tr>\n",
              "    <tr>\n",
              "      <th>4</th>\n",
              "      <td>2e1c3d16-21e5-4d33-a626-08ba1d003c75</td>\n",
              "      <td>Ash</td>\n",
              "      <td>https://play-lh.googleusercontent.com/a-/ACB-R...</td>\n",
              "      <td>Kalo mau pilih episode susah dipencet tetep ga...</td>\n",
              "      <td>2</td>\n",
              "      <td>52</td>\n",
              "      <td>6.22.0</td>\n",
              "      <td>2023-02-07 20:19:35</td>\n",
              "      <td>Hi Villenial....Mohon maaf atas ketidaknyamana...</td>\n",
              "      <td>2023-02-07 20:35:53</td>\n",
              "      <td>negative</td>\n",
              "    </tr>\n",
              "    <tr>\n",
              "      <th>5</th>\n",
              "      <td>fe91bcfc-5c8d-45d7-b355-3c544c564fba</td>\n",
              "      <td>Rivandy Alfianto</td>\n",
              "      <td>https://play-lh.googleusercontent.com/a-/ACB-R...</td>\n",
              "      <td>Aplikasinya buruk banget Mau nonton live slalu...</td>\n",
              "      <td>1</td>\n",
              "      <td>0</td>\n",
              "      <td>6.24.0</td>\n",
              "      <td>2023-04-29 18:18:14</td>\n",
              "      <td>Mohon Maaf atas ketidaknyamanannya. Silahkan c...</td>\n",
              "      <td>2023-04-29 20:33:47</td>\n",
              "      <td>negative</td>\n",
              "    </tr>\n",
              "    <tr>\n",
              "      <th>6</th>\n",
              "      <td>245e58a9-e28d-413d-90af-3581abf59f64</td>\n",
              "      <td>Wijaya</td>\n",
              "      <td>https://play-lh.googleusercontent.com/a/AGNmyx...</td>\n",
              "      <td>Saya sudah langganan premium sport maupun prem...</td>\n",
              "      <td>1</td>\n",
              "      <td>1</td>\n",
              "      <td>6.24.0</td>\n",
              "      <td>2023-04-16 23:36:53</td>\n",
              "      <td>Hi Villenial....Mohon Maaf atas ketidaknyamana...</td>\n",
              "      <td>2023-04-16 23:44:18</td>\n",
              "      <td>negative</td>\n",
              "    </tr>\n",
              "    <tr>\n",
              "      <th>7</th>\n",
              "      <td>3246a792-be77-447c-bcd8-13ca18523f49</td>\n",
              "      <td>Ferry Kurniyawan</td>\n",
              "      <td>https://play-lh.googleusercontent.com/a-/ACB-R...</td>\n",
              "      <td>Terlalu lelet banget padahal sinyal full terus...</td>\n",
              "      <td>1</td>\n",
              "      <td>1</td>\n",
              "      <td>6.24.0</td>\n",
              "      <td>2023-04-18 12:42:55</td>\n",
              "      <td>Hi Villenial....Mohon Maaf atas ketidaknyamana...</td>\n",
              "      <td>2023-04-18 13:02:14</td>\n",
              "      <td>negative</td>\n",
              "    </tr>\n",
              "    <tr>\n",
              "      <th>8</th>\n",
              "      <td>0084062a-a1e5-4a30-a6a5-1211bab319ef</td>\n",
              "      <td>Aisya Nahda</td>\n",
              "      <td>https://play-lh.googleusercontent.com/a/AGNmyx...</td>\n",
              "      <td>Prh bngt aplikasi nya pas udh di download pas ...</td>\n",
              "      <td>1</td>\n",
              "      <td>0</td>\n",
              "      <td>6.24.0</td>\n",
              "      <td>2023-04-27 10:18:59</td>\n",
              "      <td>Hi Villenial....Mohon Maaf atas ketidaknyamana...</td>\n",
              "      <td>2023-04-27 10:33:33</td>\n",
              "      <td>negative</td>\n",
              "    </tr>\n",
              "    <tr>\n",
              "      <th>9</th>\n",
              "      <td>86fb7f56-3c40-4ae8-a676-0869df19c791</td>\n",
              "      <td>Benedick Tj</td>\n",
              "      <td>https://play-lh.googleusercontent.com/a-/ACB-R...</td>\n",
              "      <td>Tidak bisa berjalan di google TV sangat mengec...</td>\n",
              "      <td>1</td>\n",
              "      <td>50</td>\n",
              "      <td>6.24.0</td>\n",
              "      <td>2023-04-17 15:20:44</td>\n",
              "      <td>NaN</td>\n",
              "      <td>NaN</td>\n",
              "      <td>negative</td>\n",
              "    </tr>\n",
              "  </tbody>\n",
              "</table>\n",
              "</div>\n",
              "      <button class=\"colab-df-convert\" onclick=\"convertToInteractive('df-39587200-9c66-4d8f-9250-0760ba664329')\"\n",
              "              title=\"Convert this dataframe to an interactive table.\"\n",
              "              style=\"display:none;\">\n",
              "\n",
              "  <svg xmlns=\"http://www.w3.org/2000/svg\" height=\"24px\"viewBox=\"0 0 24 24\"\n",
              "       width=\"24px\">\n",
              "    <path d=\"M0 0h24v24H0V0z\" fill=\"none\"/>\n",
              "    <path d=\"M18.56 5.44l.94 2.06.94-2.06 2.06-.94-2.06-.94-.94-2.06-.94 2.06-2.06.94zm-11 1L8.5 8.5l.94-2.06 2.06-.94-2.06-.94L8.5 2.5l-.94 2.06-2.06.94zm10 10l.94 2.06.94-2.06 2.06-.94-2.06-.94-.94-2.06-.94 2.06-2.06.94z\"/><path d=\"M17.41 7.96l-1.37-1.37c-.4-.4-.92-.59-1.43-.59-.52 0-1.04.2-1.43.59L10.3 9.45l-7.72 7.72c-.78.78-.78 2.05 0 2.83L4 21.41c.39.39.9.59 1.41.59.51 0 1.02-.2 1.41-.59l7.78-7.78 2.81-2.81c.8-.78.8-2.07 0-2.86zM5.41 20L4 18.59l7.72-7.72 1.47 1.35L5.41 20z\"/>\n",
              "  </svg>\n",
              "      </button>\n",
              "\n",
              "\n",
              "\n",
              "    <div id=\"df-7075483c-ee37-4155-9ff0-d7e8a8c596d4\">\n",
              "      <button class=\"colab-df-quickchart\" onclick=\"quickchart('df-7075483c-ee37-4155-9ff0-d7e8a8c596d4')\"\n",
              "              title=\"Suggest charts.\"\n",
              "              style=\"display:none;\">\n",
              "\n",
              "<svg xmlns=\"http://www.w3.org/2000/svg\" height=\"24px\"viewBox=\"0 0 24 24\"\n",
              "     width=\"24px\">\n",
              "    <g>\n",
              "        <path d=\"M19 3H5c-1.1 0-2 .9-2 2v14c0 1.1.9 2 2 2h14c1.1 0 2-.9 2-2V5c0-1.1-.9-2-2-2zM9 17H7v-7h2v7zm4 0h-2V7h2v10zm4 0h-2v-4h2v4z\"/>\n",
              "    </g>\n",
              "</svg>\n",
              "      </button>\n",
              "    </div>\n",
              "\n",
              "<style>\n",
              "  .colab-df-quickchart {\n",
              "    background-color: #E8F0FE;\n",
              "    border: none;\n",
              "    border-radius: 50%;\n",
              "    cursor: pointer;\n",
              "    display: none;\n",
              "    fill: #1967D2;\n",
              "    height: 32px;\n",
              "    padding: 0 0 0 0;\n",
              "    width: 32px;\n",
              "  }\n",
              "\n",
              "  .colab-df-quickchart:hover {\n",
              "    background-color: #E2EBFA;\n",
              "    box-shadow: 0px 1px 2px rgba(60, 64, 67, 0.3), 0px 1px 3px 1px rgba(60, 64, 67, 0.15);\n",
              "    fill: #174EA6;\n",
              "  }\n",
              "\n",
              "  [theme=dark] .colab-df-quickchart {\n",
              "    background-color: #3B4455;\n",
              "    fill: #D2E3FC;\n",
              "  }\n",
              "\n",
              "  [theme=dark] .colab-df-quickchart:hover {\n",
              "    background-color: #434B5C;\n",
              "    box-shadow: 0px 1px 3px 1px rgba(0, 0, 0, 0.15);\n",
              "    filter: drop-shadow(0px 1px 2px rgba(0, 0, 0, 0.3));\n",
              "    fill: #FFFFFF;\n",
              "  }\n",
              "</style>\n",
              "\n",
              "    <script>\n",
              "      async function quickchart(key) {\n",
              "        const containerElement = document.querySelector('#' + key);\n",
              "        const charts = await google.colab.kernel.invokeFunction(\n",
              "            'suggestCharts', [key], {});\n",
              "      }\n",
              "    </script>\n",
              "\n",
              "      <script>\n",
              "\n",
              "function displayQuickchartButton(domScope) {\n",
              "  let quickchartButtonEl =\n",
              "    domScope.querySelector('#df-7075483c-ee37-4155-9ff0-d7e8a8c596d4 button.colab-df-quickchart');\n",
              "  quickchartButtonEl.style.display =\n",
              "    google.colab.kernel.accessAllowed ? 'block' : 'none';\n",
              "}\n",
              "\n",
              "        displayQuickchartButton(document);\n",
              "      </script>\n",
              "      <style>\n",
              "    .colab-df-container {\n",
              "      display:flex;\n",
              "      flex-wrap:wrap;\n",
              "      gap: 12px;\n",
              "    }\n",
              "\n",
              "    .colab-df-convert {\n",
              "      background-color: #E8F0FE;\n",
              "      border: none;\n",
              "      border-radius: 50%;\n",
              "      cursor: pointer;\n",
              "      display: none;\n",
              "      fill: #1967D2;\n",
              "      height: 32px;\n",
              "      padding: 0 0 0 0;\n",
              "      width: 32px;\n",
              "    }\n",
              "\n",
              "    .colab-df-convert:hover {\n",
              "      background-color: #E2EBFA;\n",
              "      box-shadow: 0px 1px 2px rgba(60, 64, 67, 0.3), 0px 1px 3px 1px rgba(60, 64, 67, 0.15);\n",
              "      fill: #174EA6;\n",
              "    }\n",
              "\n",
              "    [theme=dark] .colab-df-convert {\n",
              "      background-color: #3B4455;\n",
              "      fill: #D2E3FC;\n",
              "    }\n",
              "\n",
              "    [theme=dark] .colab-df-convert:hover {\n",
              "      background-color: #434B5C;\n",
              "      box-shadow: 0px 1px 3px 1px rgba(0, 0, 0, 0.15);\n",
              "      filter: drop-shadow(0px 1px 2px rgba(0, 0, 0, 0.3));\n",
              "      fill: #FFFFFF;\n",
              "    }\n",
              "  </style>\n",
              "\n",
              "      <script>\n",
              "        const buttonEl =\n",
              "          document.querySelector('#df-39587200-9c66-4d8f-9250-0760ba664329 button.colab-df-convert');\n",
              "        buttonEl.style.display =\n",
              "          google.colab.kernel.accessAllowed ? 'block' : 'none';\n",
              "\n",
              "        async function convertToInteractive(key) {\n",
              "          const element = document.querySelector('#df-39587200-9c66-4d8f-9250-0760ba664329');\n",
              "          const dataTable =\n",
              "            await google.colab.kernel.invokeFunction('convertToInteractive',\n",
              "                                                     [key], {});\n",
              "          if (!dataTable) return;\n",
              "\n",
              "          const docLinkHtml = 'Like what you see? Visit the ' +\n",
              "            '<a target=\"_blank\" href=https://colab.research.google.com/notebooks/data_table.ipynb>data table notebook</a>'\n",
              "            + ' to learn more about interactive tables.';\n",
              "          element.innerHTML = '';\n",
              "          dataTable['output_type'] = 'display_data';\n",
              "          await google.colab.output.renderOutput(dataTable, element);\n",
              "          const docLink = document.createElement('div');\n",
              "          docLink.innerHTML = docLinkHtml;\n",
              "          element.appendChild(docLink);\n",
              "        }\n",
              "      </script>\n",
              "    </div>\n",
              "  </div>\n"
            ]
          },
          "metadata": {},
          "execution_count": 92
        }
      ]
    },
    {
      "cell_type": "code",
      "source": [
        "def remove_question_mark(text):\n",
        "    return text.replace(\"?\", \"\")\n",
        "\n",
        "# Apply the remove_question_mark function to the 'content' column\n",
        "df['content'] = df['content'].apply(remove_question_mark)"
      ],
      "metadata": {
        "id": "2V6U96gqMX6B"
      },
      "execution_count": 93,
      "outputs": []
    },
    {
      "cell_type": "markdown",
      "metadata": {
        "id": "0IOxU-KdPOmw"
      },
      "source": [
        "## Preprocessing Tahap 2"
      ]
    },
    {
      "cell_type": "code",
      "execution_count": 94,
      "metadata": {
        "id": "2fPS4naMsTxY"
      },
      "outputs": [],
      "source": [
        "# additional_stopword:list kata tdk penting\n",
        "additional_stop = [] #['ya', 'deh', 'dia']\n",
        "# default stopword\n",
        "default_stop = pd.read_csv(stopword_path, names=['stopwords'])\n",
        "default_stop = default_stop.stopwords.to_list()\n",
        "# combine all stopword\n",
        "list_stopwords = []\n",
        "list_stopwords = default_stop + additional_stop\n",
        "# remove specific stopword\n",
        "# list_stopwords.remove(\"sangat\")\n",
        "# list_stopwords.remove(\"sekali\")"
      ]
    },
    {
      "cell_type": "code",
      "execution_count": 95,
      "metadata": {
        "id": "mUj_Po2suuZf"
      },
      "outputs": [],
      "source": [
        "kamus_alay = pd.read_csv(kamus_alay_path)\n",
        "\n",
        "normalize_word_dict = {}\n",
        "for index, row in kamus_alay.iterrows():\n",
        "    if row[0] not in normalize_word_dict:\n",
        "        normalize_word_dict[row[0]] = row[1]"
      ]
    },
    {
      "cell_type": "code",
      "execution_count": 96,
      "metadata": {
        "id": "M5hkPvo6smFX"
      },
      "outputs": [],
      "source": [
        "def normalize_review(text):\n",
        "  # tokenize\n",
        "  list_text = word_tokenize(text)\n",
        "  # ubah bahasa alay\n",
        "  list_text = [normalize_word_dict[term] if term in normalize_word_dict else term for term in list_text]\n",
        "  # stemming\n",
        "  # factory = StemmerFactory()\n",
        "  # stemmer = factory.create_stemmer()\n",
        "  # list_text = [stemmer.stem(word) for word in list_text]\n",
        "  # hapus kata yang termasuk stopword\n",
        "  # list_text = [word for word in list_text if word not in list_stopwords]\n",
        "  # gabung kembali kalimat\n",
        "  text = \" \".join(list_text)\n",
        "  return text"
      ]
    },
    {
      "cell_type": "code",
      "execution_count": 97,
      "metadata": {
        "id": "_CaD8WmY_WnU"
      },
      "outputs": [],
      "source": [
        "def preprocess_v2(df):\n",
        "  df_pp = df.copy()\n",
        "  df_pp.content = df_pp.content.map(normalize_review)\n",
        "\n",
        "  # delete empty row\n",
        "  df_pp.content.replace('', np.nan, inplace=True)\n",
        "  df_pp.content.replace(' ', np.nan, inplace=True)\n",
        "  df_pp.dropna(subset=['content'], inplace=True)\n",
        "  return df_pp"
      ]
    },
    {
      "cell_type": "code",
      "execution_count": 98,
      "metadata": {
        "id": "TTx_ZyIV_eFh"
      },
      "outputs": [],
      "source": [
        "# take a while\n",
        "df_v2  = preprocess_v2(df_v1)"
      ]
    },
    {
      "cell_type": "code",
      "execution_count": 99,
      "metadata": {
        "id": "ohB2rTxfnOzo"
      },
      "outputs": [],
      "source": [
        "# export to tsv\n",
        "# df_v2.to_csv('df_v2.tsv', sep='\\t', header=None, index=False)"
      ]
    },
    {
      "cell_type": "code",
      "execution_count": 100,
      "metadata": {
        "id": "V2T1mZP71Utm"
      },
      "outputs": [],
      "source": [
        "def make_corpus(column):\n",
        "\n",
        "    corpus_list = []\n",
        "\n",
        "    for text in column:\n",
        "        cleaned_list = text.split(' ')\n",
        "        corpus_list.extend(cleaned_list)\n",
        "\n",
        "    # transform list of words into 1 body of text\n",
        "    corpus = ' '.join(corpus_list)\n",
        "    corpus = re.sub('[ ]+',' ',corpus) # replace double whitespace with one\n",
        "\n",
        "    return corpus"
      ]
    },
    {
      "cell_type": "code",
      "execution_count": 101,
      "metadata": {
        "id": "15MLgols2TrZ"
      },
      "outputs": [],
      "source": [
        "# Takes a while\n",
        "corpus = make_corpus(df_v2.content)"
      ]
    },
    {
      "cell_type": "code",
      "execution_count": 102,
      "metadata": {
        "colab": {
          "base_uri": "https://localhost:8080/"
        },
        "id": "oT8nS9m02eLf",
        "outputId": "704e543b-8d52-4efd-b153-7c06922dae59"
      },
      "outputs": [
        {
          "output_type": "stream",
          "name": "stdout",
          "text": [
            "Count of unique words in corpus: 14682\n"
          ]
        }
      ],
      "source": [
        "# counting unique words\n",
        "corpus_set = set(corpus.split(' '))\n",
        "\n",
        "print(f'Count of unique words in corpus: {len(corpus_set)}')"
      ]
    },
    {
      "cell_type": "code",
      "execution_count": 103,
      "metadata": {
        "id": "7HChDFai2eo4"
      },
      "outputs": [],
      "source": [
        "# function for freqdist\n",
        "def word_freq(corpus, top=5):\n",
        "    tokenized_word = word_tokenize(corpus)\n",
        "    freqdist = FreqDist(tokenized_word)\n",
        "    freqdist = freqdist.most_common(top) # list of tuples\n",
        "\n",
        "    # decompose into label and frequency\n",
        "    label = [tup[0] for tup in freqdist]\n",
        "    freq = [tup[1] for tup in freqdist]\n",
        "    df = pd.DataFrame({'word':label, 'freq':freq})\n",
        "\n",
        "    return df"
      ]
    },
    {
      "cell_type": "code",
      "execution_count": 104,
      "metadata": {
        "id": "G7HE7lEE2il1"
      },
      "outputs": [],
      "source": [
        "corpus_freq = word_freq(corpus, top=20)"
      ]
    },
    {
      "cell_type": "code",
      "execution_count": 105,
      "metadata": {
        "colab": {
          "base_uri": "https://localhost:8080/",
          "height": 574
        },
        "id": "4Xl5tek62lYi",
        "outputId": "a80ce39f-152e-4487-a105-61228128f71f"
      },
      "outputs": [
        {
          "output_type": "display_data",
          "data": {
            "text/plain": [
              "<Figure size 1500x500 with 1 Axes>"
            ],
            "image/png": "[encoded data removed]"
          },
          "metadata": {}
        }
      ],
      "source": [
        "# Config params\n",
        "plt.style.use('default')\n",
        "sns.set(style='ticks', palette='Set2')\n",
        "mpl.rcParams['axes.titlesize'] = 20\n",
        "mpl.rcParams['axes.titlepad'] = 20\n",
        "\n",
        "# Compare plots of train and test corpus\n",
        "f, ax1 = plt.subplots(1,figsize=(15,5))\n",
        "\n",
        "sns.barplot(x='word', y='freq', data=corpus_freq, ax=ax1)\n",
        "ax1.set_title('Word Frequency in Train Data')\n",
        "ax1.tick_params(axis='x', rotation=45)\n",
        "\n",
        "# sns.barplot(x='word', y='freq', data=corpus_freq, ax=ax2)\n",
        "# ax2.set_title('Word Frequency in Train Data')\n",
        "# ax2.tick_params(axis='x', rotation=45)\n",
        "\n",
        "# sns.despine(ax=ax1)\n",
        "# sns.despine(ax=ax2)\n",
        "plt.show()"
      ]
    },
    {
      "cell_type": "code",
      "execution_count": 106,
      "metadata": {
        "colab": {
          "base_uri": "https://localhost:8080/",
          "height": 285
        },
        "id": "t4rw54GG2p4c",
        "outputId": "f1b0f6ed-23cb-48e0-e0af-bac22e6968cb"
      },
      "outputs": [
        {
          "output_type": "display_data",
          "data": {
            "text/plain": [
              "<Figure size 640x480 with 1 Axes>"
            ],
            "image/png": "[encoded data removed]"
          },
          "metadata": {}
        }
      ],
      "source": [
        "# Cloud for corpus\n",
        "wordcloud = WordCloud(max_font_size=50, max_words=100, background_color=\"white\").generate(corpus)\n",
        "plt.figure()\n",
        "plt.imshow(wordcloud, interpolation=\"bilinear\")\n",
        "plt.axis(\"off\")\n",
        "plt.show()"
      ]
    },
    {
      "cell_type": "markdown",
      "metadata": {
        "id": "WRllCseqgC1d"
      },
      "source": [
        "# 4. Splitting"
      ]
    },
    {
      "cell_type": "code",
      "execution_count": 107,
      "metadata": {
        "id": "rSy1HXnfxaCZ"
      },
      "outputs": [],
      "source": [
        "# train val split\n",
        "train_set, val_set = train_test_split(df_v2, test_size=0.3, stratify=df_v2.category, random_state=1)\n",
        "val_set, test_set = train_test_split(val_set, test_size=0.33, stratify=val_set.category, random_state=1)"
      ]
    },
    {
      "cell_type": "code",
      "execution_count": 108,
      "metadata": {
        "colab": {
          "base_uri": "https://localhost:8080/"
        },
        "id": "WSyvFOrHxcLc",
        "outputId": "34113307-3f20-48a7-a3f3-042a7de05b3c"
      },
      "outputs": [
        {
          "output_type": "stream",
          "name": "stdout",
          "text": [
            "Train shape: (5599, 11)\n",
            "Val shape: (1608, 11)\n",
            "Test shape: (792, 11)\n"
          ]
        }
      ],
      "source": [
        "print(f'Train shape: {train_set.shape}')\n",
        "print(f'Val shape: {val_set.shape}')\n",
        "print(f'Test shape: {test_set.shape}')"
      ]
    },
    {
      "cell_type": "code",
      "execution_count": 109,
      "metadata": {
        "colab": {
          "base_uri": "https://localhost:8080/",
          "height": 441
        },
        "id": "YvD1qTdCOgf9",
        "outputId": "7505ea5d-fd63-4c65-f42e-4d3cb98fd605"
      },
      "outputs": [
        {
          "output_type": "execute_result",
          "data": {
            "text/plain": [
              "                                  reviewId         userName  \\\n",
              "2714  aced06de-188f-41df-a255-6ab835ace7ab      elly latifa   \n",
              "5061  ed24ef38-261e-44df-abc7-864ee9d57f17  Pengguna Google   \n",
              "7226  3b86948e-aea8-4a60-99a3-aa48f9caa6f6       Wawan Sndi   \n",
              "760   3c0909ec-02df-46ff-9ef3-e9492fa0ea3a  Pengguna Google   \n",
              "5039  5a6c9027-64b2-4cec-bf24-93bbda5acdb3       Lucas lucy   \n",
              "\n",
              "                                              userImage  \\\n",
              "2714  https://play-lh.googleusercontent.com/a/AGNmyx...   \n",
              "5061  https://play-lh.googleusercontent.com/EGemoI2N...   \n",
              "7226  https://play-lh.googleusercontent.com/a-/ACB-R...   \n",
              "760   https://play-lh.googleusercontent.com/EGemoI2N...   \n",
              "5039  https://play-lh.googleusercontent.com/a/AGNmyx...   \n",
              "\n",
              "                                                content  score  thumbsUpCount  \\\n",
              "2714  Mantul sekale appnya banyak chanel pilihan yan...      5              0   \n",
              "5061  Ya sudah download hanya tidak ada gambarnya se...      5              0   \n",
              "7226  Aplikasi babi buat menonton tv saja susah bang...      1              0   \n",
              "760   streaming terputus otomatis setelah menit engg...      2              0   \n",
              "5039  Aplikasinya bagus tapi pas gue menonton kok ka...      3              0   \n",
              "\n",
              "     reviewCreatedVersion                   at  \\\n",
              "2714                  NaN  2020-10-09 16:08:41   \n",
              "5061             3.3.2009  2018-09-17 20:59:34   \n",
              "7226                  NaN  2023-04-10 22:24:29   \n",
              "760                3.3.21   2019-04-22 9:31:34   \n",
              "5039             4.4.2005  2020-08-01 19:05:48   \n",
              "\n",
              "                                           replyContent            repliedAt  \\\n",
              "2714  Terima kasih reviewnya, kami akan terus tingka...  2020-10-09 16:09:10   \n",
              "5061  Mohon Maaf atas ketidaknyamanannya.Silakan men...  2018-09-17 21:51:38   \n",
              "7226  Mohon Maaf atas ketidaknyamanannya. Silahkan c...  2023-04-10 22:36:40   \n",
              "760   Mohon Maaf atas ketidaknyamanannya.Silakan cob...   2019-04-22 9:32:47   \n",
              "5039  Mohon Maaf atas ketidaknyamanannya. Silakan co...  2020-08-01 21:39:22   \n",
              "\n",
              "      category  \n",
              "2714  positive  \n",
              "5061  positive  \n",
              "7226  negative  \n",
              "760   negative  \n",
              "5039   neutral  "
            ],
            "text/html": [
              "\n",
              "\n",
              "  <div id=\"df-0742de74-34df-42cd-90d4-3697f9df1b13\">\n",
              "    <div class=\"colab-df-container\">\n",
              "      <div>\n",
              "<style scoped>\n",
              "    .dataframe tbody tr th:only-of-type {\n",
              "        vertical-align: middle;\n",
              "    }\n",
              "\n",
              "    .dataframe tbody tr th {\n",
              "        vertical-align: top;\n",
              "    }\n",
              "\n",
              "    .dataframe thead th {\n",
              "        text-align: right;\n",
              "    }\n",
              "</style>\n",
              "<table border=\"1\" class=\"dataframe\">\n",
              "  <thead>\n",
              "    <tr style=\"text-align: right;\">\n",
              "      <th></th>\n",
              "      <th>reviewId</th>\n",
              "      <th>userName</th>\n",
              "      <th>userImage</th>\n",
              "      <th>content</th>\n",
              "      <th>score</th>\n",
              "      <th>thumbsUpCount</th>\n",
              "      <th>reviewCreatedVersion</th>\n",
              "      <th>at</th>\n",
              "      <th>replyContent</th>\n",
              "      <th>repliedAt</th>\n",
              "      <th>category</th>\n",
              "    </tr>\n",
              "  </thead>\n",
              "  <tbody>\n",
              "    <tr>\n",
              "      <th>2714</th>\n",
              "      <td>aced06de-188f-41df-a255-6ab835ace7ab</td>\n",
              "      <td>elly latifa</td>\n",
              "      <td>https://play-lh.googleusercontent.com/a/AGNmyx...</td>\n",
              "      <td>Mantul sekale appnya banyak chanel pilihan yan...</td>\n",
              "      <td>5</td>\n",
              "      <td>0</td>\n",
              "      <td>NaN</td>\n",
              "      <td>2020-10-09 16:08:41</td>\n",
              "      <td>Terima kasih reviewnya, kami akan terus tingka...</td>\n",
              "      <td>2020-10-09 16:09:10</td>\n",
              "      <td>positive</td>\n",
              "    </tr>\n",
              "    <tr>\n",
              "      <th>5061</th>\n",
              "      <td>ed24ef38-261e-44df-abc7-864ee9d57f17</td>\n",
              "      <td>Pengguna Google</td>\n",
              "      <td>https://play-lh.googleusercontent.com/EGemoI2N...</td>\n",
              "      <td>Ya sudah download hanya tidak ada gambarnya se...</td>\n",
              "      <td>5</td>\n",
              "      <td>0</td>\n",
              "      <td>3.3.2009</td>\n",
              "      <td>2018-09-17 20:59:34</td>\n",
              "      <td>Mohon Maaf atas ketidaknyamanannya.Silakan men...</td>\n",
              "      <td>2018-09-17 21:51:38</td>\n",
              "      <td>positive</td>\n",
              "    </tr>\n",
              "    <tr>\n",
              "      <th>7226</th>\n",
              "      <td>3b86948e-aea8-4a60-99a3-aa48f9caa6f6</td>\n",
              "      <td>Wawan Sndi</td>\n",
              "      <td>https://play-lh.googleusercontent.com/a-/ACB-R...</td>\n",
              "      <td>Aplikasi babi buat menonton tv saja susah bang...</td>\n",
              "      <td>1</td>\n",
              "      <td>0</td>\n",
              "      <td>NaN</td>\n",
              "      <td>2023-04-10 22:24:29</td>\n",
              "      <td>Mohon Maaf atas ketidaknyamanannya. Silahkan c...</td>\n",
              "      <td>2023-04-10 22:36:40</td>\n",
              "      <td>negative</td>\n",
              "    </tr>\n",
              "    <tr>\n",
              "      <th>760</th>\n",
              "      <td>3c0909ec-02df-46ff-9ef3-e9492fa0ea3a</td>\n",
              "      <td>Pengguna Google</td>\n",
              "      <td>https://play-lh.googleusercontent.com/EGemoI2N...</td>\n",
              "      <td>streaming terputus otomatis setelah menit engg...</td>\n",
              "      <td>2</td>\n",
              "      <td>0</td>\n",
              "      <td>3.3.21</td>\n",
              "      <td>2019-04-22 9:31:34</td>\n",
              "      <td>Mohon Maaf atas ketidaknyamanannya.Silakan cob...</td>\n",
              "      <td>2019-04-22 9:32:47</td>\n",
              "      <td>negative</td>\n",
              "    </tr>\n",
              "    <tr>\n",
              "      <th>5039</th>\n",
              "      <td>5a6c9027-64b2-4cec-bf24-93bbda5acdb3</td>\n",
              "      <td>Lucas lucy</td>\n",
              "      <td>https://play-lh.googleusercontent.com/a/AGNmyx...</td>\n",
              "      <td>Aplikasinya bagus tapi pas gue menonton kok ka...</td>\n",
              "      <td>3</td>\n",
              "      <td>0</td>\n",
              "      <td>4.4.2005</td>\n",
              "      <td>2020-08-01 19:05:48</td>\n",
              "      <td>Mohon Maaf atas ketidaknyamanannya. Silakan co...</td>\n",
              "      <td>2020-08-01 21:39:22</td>\n",
              "      <td>neutral</td>\n",
              "    </tr>\n",
              "  </tbody>\n",
              "</table>\n",
              "</div>\n",
              "      <button class=\"colab-df-convert\" onclick=\"convertToInteractive('df-0742de74-34df-42cd-90d4-3697f9df1b13')\"\n",
              "              title=\"Convert this dataframe to an interactive table.\"\n",
              "              style=\"display:none;\">\n",
              "\n",
              "  <svg xmlns=\"http://www.w3.org/2000/svg\" height=\"24px\"viewBox=\"0 0 24 24\"\n",
              "       width=\"24px\">\n",
              "    <path d=\"M0 0h24v24H0V0z\" fill=\"none\"/>\n",
              "    <path d=\"M18.56 5.44l.94 2.06.94-2.06 2.06-.94-2.06-.94-.94-2.06-.94 2.06-2.06.94zm-11 1L8.5 8.5l.94-2.06 2.06-.94-2.06-.94L8.5 2.5l-.94 2.06-2.06.94zm10 10l.94 2.06.94-2.06 2.06-.94-2.06-.94-.94-2.06-.94 2.06-2.06.94z\"/><path d=\"M17.41 7.96l-1.37-1.37c-.4-.4-.92-.59-1.43-.59-.52 0-1.04.2-1.43.59L10.3 9.45l-7.72 7.72c-.78.78-.78 2.05 0 2.83L4 21.41c.39.39.9.59 1.41.59.51 0 1.02-.2 1.41-.59l7.78-7.78 2.81-2.81c.8-.78.8-2.07 0-2.86zM5.41 20L4 18.59l7.72-7.72 1.47 1.35L5.41 20z\"/>\n",
              "  </svg>\n",
              "      </button>\n",
              "\n",
              "\n",
              "\n",
              "    <div id=\"df-c2dfb51e-8598-4a33-b3ab-f9619a41d709\">\n",
              "      <button class=\"colab-df-quickchart\" onclick=\"quickchart('df-c2dfb51e-8598-4a33-b3ab-f9619a41d709')\"\n",
              "              title=\"Suggest charts.\"\n",
              "              style=\"display:none;\">\n",
              "\n",
              "<svg xmlns=\"http://www.w3.org/2000/svg\" height=\"24px\"viewBox=\"0 0 24 24\"\n",
              "     width=\"24px\">\n",
              "    <g>\n",
              "        <path d=\"M19 3H5c-1.1 0-2 .9-2 2v14c0 1.1.9 2 2 2h14c1.1 0 2-.9 2-2V5c0-1.1-.9-2-2-2zM9 17H7v-7h2v7zm4 0h-2V7h2v10zm4 0h-2v-4h2v4z\"/>\n",
              "    </g>\n",
              "</svg>\n",
              "      </button>\n",
              "    </div>\n",
              "\n",
              "<style>\n",
              "  .colab-df-quickchart {\n",
              "    background-color: #E8F0FE;\n",
              "    border: none;\n",
              "    border-radius: 50%;\n",
              "    cursor: pointer;\n",
              "    display: none;\n",
              "    fill: #1967D2;\n",
              "    height: 32px;\n",
              "    padding: 0 0 0 0;\n",
              "    width: 32px;\n",
              "  }\n",
              "\n",
              "  .colab-df-quickchart:hover {\n",
              "    background-color: #E2EBFA;\n",
              "    box-shadow: 0px 1px 2px rgba(60, 64, 67, 0.3), 0px 1px 3px 1px rgba(60, 64, 67, 0.15);\n",
              "    fill: #174EA6;\n",
              "  }\n",
              "\n",
              "  [theme=dark] .colab-df-quickchart {\n",
              "    background-color: #3B4455;\n",
              "    fill: #D2E3FC;\n",
              "  }\n",
              "\n",
              "  [theme=dark] .colab-df-quickchart:hover {\n",
              "    background-color: #434B5C;\n",
              "    box-shadow: 0px 1px 3px 1px rgba(0, 0, 0, 0.15);\n",
              "    filter: drop-shadow(0px 1px 2px rgba(0, 0, 0, 0.3));\n",
              "    fill: #FFFFFF;\n",
              "  }\n",
              "</style>\n",
              "\n",
              "    <script>\n",
              "      async function quickchart(key) {\n",
              "        const containerElement = document.querySelector('#' + key);\n",
              "        const charts = await google.colab.kernel.invokeFunction(\n",
              "            'suggestCharts', [key], {});\n",
              "      }\n",
              "    </script>\n",
              "\n",
              "      <script>\n",
              "\n",
              "function displayQuickchartButton(domScope) {\n",
              "  let quickchartButtonEl =\n",
              "    domScope.querySelector('#df-c2dfb51e-8598-4a33-b3ab-f9619a41d709 button.colab-df-quickchart');\n",
              "  quickchartButtonEl.style.display =\n",
              "    google.colab.kernel.accessAllowed ? 'block' : 'none';\n",
              "}\n",
              "\n",
              "        displayQuickchartButton(document);\n",
              "      </script>\n",
              "      <style>\n",
              "    .colab-df-container {\n",
              "      display:flex;\n",
              "      flex-wrap:wrap;\n",
              "      gap: 12px;\n",
              "    }\n",
              "\n",
              "    .colab-df-convert {\n",
              "      background-color: #E8F0FE;\n",
              "      border: none;\n",
              "      border-radius: 50%;\n",
              "      cursor: pointer;\n",
              "      display: none;\n",
              "      fill: #1967D2;\n",
              "      height: 32px;\n",
              "      padding: 0 0 0 0;\n",
              "      width: 32px;\n",
              "    }\n",
              "\n",
              "    .colab-df-convert:hover {\n",
              "      background-color: #E2EBFA;\n",
              "      box-shadow: 0px 1px 2px rgba(60, 64, 67, 0.3), 0px 1px 3px 1px rgba(60, 64, 67, 0.15);\n",
              "      fill: #174EA6;\n",
              "    }\n",
              "\n",
              "    [theme=dark] .colab-df-convert {\n",
              "      background-color: #3B4455;\n",
              "      fill: #D2E3FC;\n",
              "    }\n",
              "\n",
              "    [theme=dark] .colab-df-convert:hover {\n",
              "      background-color: #434B5C;\n",
              "      box-shadow: 0px 1px 3px 1px rgba(0, 0, 0, 0.15);\n",
              "      filter: drop-shadow(0px 1px 2px rgba(0, 0, 0, 0.3));\n",
              "      fill: #FFFFFF;\n",
              "    }\n",
              "  </style>\n",
              "\n",
              "      <script>\n",
              "        const buttonEl =\n",
              "          document.querySelector('#df-0742de74-34df-42cd-90d4-3697f9df1b13 button.colab-df-convert');\n",
              "        buttonEl.style.display =\n",
              "          google.colab.kernel.accessAllowed ? 'block' : 'none';\n",
              "\n",
              "        async function convertToInteractive(key) {\n",
              "          const element = document.querySelector('#df-0742de74-34df-42cd-90d4-3697f9df1b13');\n",
              "          const dataTable =\n",
              "            await google.colab.kernel.invokeFunction('convertToInteractive',\n",
              "                                                     [key], {});\n",
              "          if (!dataTable) return;\n",
              "\n",
              "          const docLinkHtml = 'Like what you see? Visit the ' +\n",
              "            '<a target=\"_blank\" href=https://colab.research.google.com/notebooks/data_table.ipynb>data table notebook</a>'\n",
              "            + ' to learn more about interactive tables.';\n",
              "          element.innerHTML = '';\n",
              "          dataTable['output_type'] = 'display_data';\n",
              "          await google.colab.output.renderOutput(dataTable, element);\n",
              "          const docLink = document.createElement('div');\n",
              "          docLink.innerHTML = docLinkHtml;\n",
              "          element.appendChild(docLink);\n",
              "        }\n",
              "      </script>\n",
              "    </div>\n",
              "  </div>\n"
            ]
          },
          "metadata": {},
          "execution_count": 109
        }
      ],
      "source": [
        "train_set.head()"
      ]
    },
    {
      "cell_type": "code",
      "execution_count": 110,
      "metadata": {
        "colab": {
          "base_uri": "https://localhost:8080/",
          "height": 206
        },
        "id": "yjZL6GLyOgf9",
        "outputId": "b36ae73d-789f-4561-a881-1622e7712550"
      },
      "outputs": [
        {
          "output_type": "execute_result",
          "data": {
            "text/plain": [
              "                                                content  category\n",
              "2714  Mantul sekale appnya banyak chanel pilihan yan...  positive\n",
              "5061  Ya sudah download hanya tidak ada gambarnya se...  positive\n",
              "7226  Aplikasi babi buat menonton tv saja susah bang...  negative\n",
              "760   streaming terputus otomatis setelah menit engg...  negative\n",
              "5039  Aplikasinya bagus tapi pas gue menonton kok ka...   neutral"
            ],
            "text/html": [
              "\n",
              "\n",
              "  <div id=\"df-6df6356c-06c4-47c4-8bf4-79a629dd904a\">\n",
              "    <div class=\"colab-df-container\">\n",
              "      <div>\n",
              "<style scoped>\n",
              "    .dataframe tbody tr th:only-of-type {\n",
              "        vertical-align: middle;\n",
              "    }\n",
              "\n",
              "    .dataframe tbody tr th {\n",
              "        vertical-align: top;\n",
              "    }\n",
              "\n",
              "    .dataframe thead th {\n",
              "        text-align: right;\n",
              "    }\n",
              "</style>\n",
              "<table border=\"1\" class=\"dataframe\">\n",
              "  <thead>\n",
              "    <tr style=\"text-align: right;\">\n",
              "      <th></th>\n",
              "      <th>content</th>\n",
              "      <th>category</th>\n",
              "    </tr>\n",
              "  </thead>\n",
              "  <tbody>\n",
              "    <tr>\n",
              "      <th>2714</th>\n",
              "      <td>Mantul sekale appnya banyak chanel pilihan yan...</td>\n",
              "      <td>positive</td>\n",
              "    </tr>\n",
              "    <tr>\n",
              "      <th>5061</th>\n",
              "      <td>Ya sudah download hanya tidak ada gambarnya se...</td>\n",
              "      <td>positive</td>\n",
              "    </tr>\n",
              "    <tr>\n",
              "      <th>7226</th>\n",
              "      <td>Aplikasi babi buat menonton tv saja susah bang...</td>\n",
              "      <td>negative</td>\n",
              "    </tr>\n",
              "    <tr>\n",
              "      <th>760</th>\n",
              "      <td>streaming terputus otomatis setelah menit engg...</td>\n",
              "      <td>negative</td>\n",
              "    </tr>\n",
              "    <tr>\n",
              "      <th>5039</th>\n",
              "      <td>Aplikasinya bagus tapi pas gue menonton kok ka...</td>\n",
              "      <td>neutral</td>\n",
              "    </tr>\n",
              "  </tbody>\n",
              "</table>\n",
              "</div>\n",
              "      <button class=\"colab-df-convert\" onclick=\"convertToInteractive('df-6df6356c-06c4-47c4-8bf4-79a629dd904a')\"\n",
              "              title=\"Convert this dataframe to an interactive table.\"\n",
              "              style=\"display:none;\">\n",
              "\n",
              "  <svg xmlns=\"http://www.w3.org/2000/svg\" height=\"24px\"viewBox=\"0 0 24 24\"\n",
              "       width=\"24px\">\n",
              "    <path d=\"M0 0h24v24H0V0z\" fill=\"none\"/>\n",
              "    <path d=\"M18.56 5.44l.94 2.06.94-2.06 2.06-.94-2.06-.94-.94-2.06-.94 2.06-2.06.94zm-11 1L8.5 8.5l.94-2.06 2.06-.94-2.06-.94L8.5 2.5l-.94 2.06-2.06.94zm10 10l.94 2.06.94-2.06 2.06-.94-2.06-.94-.94-2.06-.94 2.06-2.06.94z\"/><path d=\"M17.41 7.96l-1.37-1.37c-.4-.4-.92-.59-1.43-.59-.52 0-1.04.2-1.43.59L10.3 9.45l-7.72 7.72c-.78.78-.78 2.05 0 2.83L4 21.41c.39.39.9.59 1.41.59.51 0 1.02-.2 1.41-.59l7.78-7.78 2.81-2.81c.8-.78.8-2.07 0-2.86zM5.41 20L4 18.59l7.72-7.72 1.47 1.35L5.41 20z\"/>\n",
              "  </svg>\n",
              "      </button>\n",
              "\n",
              "\n",
              "\n",
              "    <div id=\"df-122dc101-9c5d-4afd-969a-ab564a563780\">\n",
              "      <button class=\"colab-df-quickchart\" onclick=\"quickchart('df-122dc101-9c5d-4afd-969a-ab564a563780')\"\n",
              "              title=\"Suggest charts.\"\n",
              "              style=\"display:none;\">\n",
              "\n",
              "<svg xmlns=\"http://www.w3.org/2000/svg\" height=\"24px\"viewBox=\"0 0 24 24\"\n",
              "     width=\"24px\">\n",
              "    <g>\n",
              "        <path d=\"M19 3H5c-1.1 0-2 .9-2 2v14c0 1.1.9 2 2 2h14c1.1 0 2-.9 2-2V5c0-1.1-.9-2-2-2zM9 17H7v-7h2v7zm4 0h-2V7h2v10zm4 0h-2v-4h2v4z\"/>\n",
              "    </g>\n",
              "</svg>\n",
              "      </button>\n",
              "    </div>\n",
              "\n",
              "<style>\n",
              "  .colab-df-quickchart {\n",
              "    background-color: #E8F0FE;\n",
              "    border: none;\n",
              "    border-radius: 50%;\n",
              "    cursor: pointer;\n",
              "    display: none;\n",
              "    fill: #1967D2;\n",
              "    height: 32px;\n",
              "    padding: 0 0 0 0;\n",
              "    width: 32px;\n",
              "  }\n",
              "\n",
              "  .colab-df-quickchart:hover {\n",
              "    background-color: #E2EBFA;\n",
              "    box-shadow: 0px 1px 2px rgba(60, 64, 67, 0.3), 0px 1px 3px 1px rgba(60, 64, 67, 0.15);\n",
              "    fill: #174EA6;\n",
              "  }\n",
              "\n",
              "  [theme=dark] .colab-df-quickchart {\n",
              "    background-color: #3B4455;\n",
              "    fill: #D2E3FC;\n",
              "  }\n",
              "\n",
              "  [theme=dark] .colab-df-quickchart:hover {\n",
              "    background-color: #434B5C;\n",
              "    box-shadow: 0px 1px 3px 1px rgba(0, 0, 0, 0.15);\n",
              "    filter: drop-shadow(0px 1px 2px rgba(0, 0, 0, 0.3));\n",
              "    fill: #FFFFFF;\n",
              "  }\n",
              "</style>\n",
              "\n",
              "    <script>\n",
              "      async function quickchart(key) {\n",
              "        const containerElement = document.querySelector('#' + key);\n",
              "        const charts = await google.colab.kernel.invokeFunction(\n",
              "            'suggestCharts', [key], {});\n",
              "      }\n",
              "    </script>\n",
              "\n",
              "      <script>\n",
              "\n",
              "function displayQuickchartButton(domScope) {\n",
              "  let quickchartButtonEl =\n",
              "    domScope.querySelector('#df-122dc101-9c5d-4afd-969a-ab564a563780 button.colab-df-quickchart');\n",
              "  quickchartButtonEl.style.display =\n",
              "    google.colab.kernel.accessAllowed ? 'block' : 'none';\n",
              "}\n",
              "\n",
              "        displayQuickchartButton(document);\n",
              "      </script>\n",
              "      <style>\n",
              "    .colab-df-container {\n",
              "      display:flex;\n",
              "      flex-wrap:wrap;\n",
              "      gap: 12px;\n",
              "    }\n",
              "\n",
              "    .colab-df-convert {\n",
              "      background-color: #E8F0FE;\n",
              "      border: none;\n",
              "      border-radius: 50%;\n",
              "      cursor: pointer;\n",
              "      display: none;\n",
              "      fill: #1967D2;\n",
              "      height: 32px;\n",
              "      padding: 0 0 0 0;\n",
              "      width: 32px;\n",
              "    }\n",
              "\n",
              "    .colab-df-convert:hover {\n",
              "      background-color: #E2EBFA;\n",
              "      box-shadow: 0px 1px 2px rgba(60, 64, 67, 0.3), 0px 1px 3px 1px rgba(60, 64, 67, 0.15);\n",
              "      fill: #174EA6;\n",
              "    }\n",
              "\n",
              "    [theme=dark] .colab-df-convert {\n",
              "      background-color: #3B4455;\n",
              "      fill: #D2E3FC;\n",
              "    }\n",
              "\n",
              "    [theme=dark] .colab-df-convert:hover {\n",
              "      background-color: #434B5C;\n",
              "      box-shadow: 0px 1px 3px 1px rgba(0, 0, 0, 0.15);\n",
              "      filter: drop-shadow(0px 1px 2px rgba(0, 0, 0, 0.3));\n",
              "      fill: #FFFFFF;\n",
              "    }\n",
              "  </style>\n",
              "\n",
              "      <script>\n",
              "        const buttonEl =\n",
              "          document.querySelector('#df-6df6356c-06c4-47c4-8bf4-79a629dd904a button.colab-df-convert');\n",
              "        buttonEl.style.display =\n",
              "          google.colab.kernel.accessAllowed ? 'block' : 'none';\n",
              "\n",
              "        async function convertToInteractive(key) {\n",
              "          const element = document.querySelector('#df-6df6356c-06c4-47c4-8bf4-79a629dd904a');\n",
              "          const dataTable =\n",
              "            await google.colab.kernel.invokeFunction('convertToInteractive',\n",
              "                                                     [key], {});\n",
              "          if (!dataTable) return;\n",
              "\n",
              "          const docLinkHtml = 'Like what you see? Visit the ' +\n",
              "            '<a target=\"_blank\" href=https://colab.research.google.com/notebooks/data_table.ipynb>data table notebook</a>'\n",
              "            + ' to learn more about interactive tables.';\n",
              "          element.innerHTML = '';\n",
              "          dataTable['output_type'] = 'display_data';\n",
              "          await google.colab.output.renderOutput(dataTable, element);\n",
              "          const docLink = document.createElement('div');\n",
              "          docLink.innerHTML = docLinkHtml;\n",
              "          element.appendChild(docLink);\n",
              "        }\n",
              "      </script>\n",
              "    </div>\n",
              "  </div>\n"
            ]
          },
          "metadata": {},
          "execution_count": 110
        }
      ],
      "source": [
        "train_set_main = train_set[[\"content\", \"category\"]]\n",
        "val_set_main = val_set[[\"content\", \"category\"]]\n",
        "test_set_main = test_set[[\"content\", \"category\"]]\n",
        "train_set_main.head()"
      ]
    },
    {
      "cell_type": "code",
      "execution_count": 111,
      "metadata": {
        "id": "SjyhWJIF448b"
      },
      "outputs": [],
      "source": [
        "# export to tsv\n",
        "train_set_main.to_csv('train_set.tsv', sep='\\t', header=None, index=False)\n",
        "val_set_main.to_csv('val_set.tsv', sep='\\t', header=None, index=False)\n",
        "test_set_main.to_csv('test_set.tsv', sep='\\t', header=None, index=False)"
      ]
    },
    {
      "cell_type": "markdown",
      "metadata": {
        "id": "ZCWqc8alniBC"
      },
      "source": [
        "# 5. Modeling"
      ]
    },
    {
      "cell_type": "markdown",
      "metadata": {
        "id": "EbJo9evyo4V3"
      },
      "source": [
        "## a. Finetuning IndoBERT"
      ]
    },
    {
      "cell_type": "code",
      "execution_count": 112,
      "metadata": {
        "id": "iU1ivYtXnkMI"
      },
      "outputs": [],
      "source": [
        "###\n",
        "# common functions\n",
        "###\n",
        "def set_seed(seed):\n",
        "    random.seed(seed)\n",
        "    np.random.seed(seed)\n",
        "    torch.manual_seed(seed)\n",
        "    torch.cuda.manual_seed(seed)\n",
        "\n",
        "def count_param(module, trainable=False):\n",
        "    if trainable:\n",
        "        return sum(p.numel() for p in module.parameters() if p.requires_grad)\n",
        "    else:\n",
        "        return sum(p.numel() for p in module.parameters())\n",
        "\n",
        "def get_lr(optimizer):\n",
        "    for param_group in optimizer.param_groups:\n",
        "        return param_group['lr']\n",
        "\n",
        "def metrics_to_string(metric_dict):\n",
        "    string_list = []\n",
        "    for key, value in metric_dict.items():\n",
        "        string_list.append('{}:{:.2f}'.format(key, value))\n",
        "    return ' '.join(string_list)"
      ]
    },
    {
      "cell_type": "code",
      "execution_count": 113,
      "metadata": {
        "id": "yW1z-vg7oZXj"
      },
      "outputs": [],
      "source": [
        "# Set random seed\n",
        "set_seed(27)"
      ]
    },
    {
      "cell_type": "markdown",
      "metadata": {
        "id": "K8PY7WgGohZt"
      },
      "source": [
        "## b. Load Model"
      ]
    },
    {
      "cell_type": "code",
      "execution_count": 114,
      "metadata": {
        "colab": {
          "base_uri": "https://localhost:8080/",
          "height": 212,
          "referenced_widgets": [
            "db872fe6863b4968854bf9762ee1f15e",
            "5dc179e0f37d42829bf96f90c9036e72",
            "1efd93f26cae4662868b444e45c1c945",
            "3a23e43b0605489eb827cc83d98c357f",
            "ce8c07d80fa74d0a8c4169ce1e5121ec",
            "d56aa25118524897beb7a275cae4650b",
            "8e063fe80de1453da0039fbf974eba89",
            "37375b806aa2445f9bf76d481904c56a",
            "d23e0b2cce9b4fa2bc515535120df5aa",
            "2600930946b143ac81ebb82150d26b13",
            "594ecda1e02e46d3ba33cec4209b1f28",
            "453783ce894f48cbbfbecd0d38184d7f",
            "4d6b06b9d3fb4334802cbf4dd8952506",
            "fc5c96c44d544eb1ac29e5a61b52f24d",
            "92ad7dd765ee4d36b9d88f82d0979ea0",
            "32352bfbfcce497f9a7c77b0f54cdf46",
            "3367eace90c14ed289456ce269367802",
            "919e8bbe5a804e1b996d8f12641e7c7e",
            "af5b127259884af8ba8ff0faa812e9dc",
            "ae91ec929edb4d078abff478bc64afe9",
            "66dd41ba93104cbf9e8ae2c02db38a10",
            "7c4e46f9437e4ac88ec6ca32f5e40255",
            "7a38d6641bb840b894c59595d6251444",
            "2a74d0e53c264589a67b737a56121e0b",
            "afd5cbeb12584ab1b00bb25c58f4b4d9",
            "56c4ad5de7474c938131e677b85801bf",
            "76ece55702ff47048c07f6041b090a38",
            "f3d7a0cc083e465e883ec1ea1885b174",
            "ce4d6f9dc40a4e698f0daaaf0fc22c1d",
            "6a4e68fa56e043f3beed880a3284c86b",
            "63b11011a86145a5a02ecfc09c206520",
            "5632e7d9b88746cb9b9f3ef283a23db7",
            "ee0de6cae5e742459586a0a46daf3bc3",
            "02339125afdd44a19498361f121196c4",
            "cd117265ec33495998b3ea323358ba96",
            "a1759bd0fada4142914679203a3081f2",
            "b97a33ca3d33420da116eaf9a4b4440d",
            "69a530202fc54930ae830f40954a3cd4",
            "b9e4571f32ec46789815693eafa4bf7b",
            "fb20ac4e732f4b8aa2528e32112cf239",
            "18d109e2657546868f2e05886c518f7f",
            "4b762be9a9fc47d182b224a755a1acca",
            "3f0133473d244d31947cdec902822c0c",
            "da5b4a1308e84977abfc2c70943e3dfd",
            "615ab622ffe44048b43ec7cfabedee2b",
            "181084c1672d462fa77b87a938792c89",
            "a47f1960fac343ac85845661895faf06",
            "980f0f04fb3b4681a579da057c95b14c",
            "779cdf0484344512989181d26fa72acd",
            "2976c89dd6ea4637b67993c1044cebad",
            "aae7321e19fa4b328f82c627fa0f5a15",
            "20a43655e6f345e5a97404786159731d",
            "23a78dd065aa4361b0ae5de66ece2505",
            "fd8da75cb9334d4b8151d2a964f74bc7",
            "6d27f41e4a9c414eb3c77f9f93461f06"
          ]
        },
        "id": "hjWu4VL9ocDA",
        "outputId": "46412fa6-7a2f-4de5-e869-b659081067ea"
      },
      "outputs": [
        {
          "output_type": "display_data",
          "data": {
            "text/plain": [
              "Downloading (…)solve/main/vocab.txt:   0%|          | 0.00/229k [00:00<?, ?B/s]"
            ],
            "application/vnd.jupyter.widget-view+json": {
              "version_major": 2,
              "version_minor": 0,
              "model_id": "db872fe6863b4968854bf9762ee1f15e"
            }
          },
          "metadata": {}
        },
        {
          "output_type": "display_data",
          "data": {
            "text/plain": [
              "Downloading (…)cial_tokens_map.json:   0%|          | 0.00/112 [00:00<?, ?B/s]"
            ],
            "application/vnd.jupyter.widget-view+json": {
              "version_major": 2,
              "version_minor": 0,
              "model_id": "453783ce894f48cbbfbecd0d38184d7f"
            }
          },
          "metadata": {}
        },
        {
          "output_type": "display_data",
          "data": {
            "text/plain": [
              "Downloading (…)okenizer_config.json:   0%|          | 0.00/2.00 [00:00<?, ?B/s]"
            ],
            "application/vnd.jupyter.widget-view+json": {
              "version_major": 2,
              "version_minor": 0,
              "model_id": "7a38d6641bb840b894c59595d6251444"
            }
          },
          "metadata": {}
        },
        {
          "output_type": "display_data",
          "data": {
            "text/plain": [
              "Downloading (…)lve/main/config.json:   0%|          | 0.00/1.53k [00:00<?, ?B/s]"
            ],
            "application/vnd.jupyter.widget-view+json": {
              "version_major": 2,
              "version_minor": 0,
              "model_id": "02339125afdd44a19498361f121196c4"
            }
          },
          "metadata": {}
        },
        {
          "output_type": "display_data",
          "data": {
            "text/plain": [
              "Downloading pytorch_model.bin:   0%|          | 0.00/498M [00:00<?, ?B/s]"
            ],
            "application/vnd.jupyter.widget-view+json": {
              "version_major": 2,
              "version_minor": 0,
              "model_id": "615ab622ffe44048b43ec7cfabedee2b"
            }
          },
          "metadata": {}
        },
        {
          "output_type": "stream",
          "name": "stderr",
          "text": [
            "Some weights of BertForSequenceClassification were not initialized from the model checkpoint at indobenchmark/indobert-base-p1 and are newly initialized: ['classifier.weight', 'classifier.bias']\n",
            "You should probably TRAIN this model on a down-stream task to be able to use it for predictions and inference.\n"
          ]
        }
      ],
      "source": [
        "# Load Tokenizer and Config\n",
        "tokenizer = BertTokenizer.from_pretrained('indobenchmark/indobert-base-p1')\n",
        "config = BertConfig.from_pretrained('indobenchmark/indobert-base-p1')\n",
        "config.num_labels = DocumentSentimentDataset.NUM_LABELS\n",
        "\n",
        "# Instantiate model\n",
        "model = BertForSequenceClassification.from_pretrained('indobenchmark/indobert-base-p1', config=config)"
      ]
    },
    {
      "cell_type": "code",
      "execution_count": 115,
      "metadata": {
        "colab": {
          "base_uri": "https://localhost:8080/"
        },
        "id": "zVX7X2GTotg1",
        "outputId": "11ffa40e-0ab6-41ca-df5f-d0d9cb1fb0a7"
      },
      "outputs": [
        {
          "output_type": "execute_result",
          "data": {
            "text/plain": [
              "BertForSequenceClassification(\n",
              "  (bert): BertModel(\n",
              "    (embeddings): BertEmbeddings(\n",
              "      (word_embeddings): Embedding(50000, 768, padding_idx=0)\n",
              "      (position_embeddings): Embedding(512, 768)\n",
              "      (token_type_embeddings): Embedding(2, 768)\n",
              "      (LayerNorm): LayerNorm((768,), eps=1e-12, elementwise_affine=True)\n",
              "      (dropout): Dropout(p=0.1, inplace=False)\n",
              "    )\n",
              "    (encoder): BertEncoder(\n",
              "      (layer): ModuleList(\n",
              "        (0-11): 12 x BertLayer(\n",
              "          (attention): BertAttention(\n",
              "            (self): BertSelfAttention(\n",
              "              (query): Linear(in_features=768, out_features=768, bias=True)\n",
              "              (key): Linear(in_features=768, out_features=768, bias=True)\n",
              "              (value): Linear(in_features=768, out_features=768, bias=True)\n",
              "              (dropout): Dropout(p=0.1, inplace=False)\n",
              "            )\n",
              "            (output): BertSelfOutput(\n",
              "              (dense): Linear(in_features=768, out_features=768, bias=True)\n",
              "              (LayerNorm): LayerNorm((768,), eps=1e-12, elementwise_affine=True)\n",
              "              (dropout): Dropout(p=0.1, inplace=False)\n",
              "            )\n",
              "          )\n",
              "          (intermediate): BertIntermediate(\n",
              "            (dense): Linear(in_features=768, out_features=3072, bias=True)\n",
              "            (intermediate_act_fn): GELUActivation()\n",
              "          )\n",
              "          (output): BertOutput(\n",
              "            (dense): Linear(in_features=3072, out_features=768, bias=True)\n",
              "            (LayerNorm): LayerNorm((768,), eps=1e-12, elementwise_affine=True)\n",
              "            (dropout): Dropout(p=0.1, inplace=False)\n",
              "          )\n",
              "        )\n",
              "      )\n",
              "    )\n",
              "    (pooler): BertPooler(\n",
              "      (dense): Linear(in_features=768, out_features=768, bias=True)\n",
              "      (activation): Tanh()\n",
              "    )\n",
              "  )\n",
              "  (dropout): Dropout(p=0.1, inplace=False)\n",
              "  (classifier): Linear(in_features=768, out_features=3, bias=True)\n",
              ")"
            ]
          },
          "metadata": {},
          "execution_count": 115
        }
      ],
      "source": [
        "# Struktur model\n",
        "model"
      ]
    },
    {
      "cell_type": "code",
      "execution_count": 116,
      "metadata": {
        "colab": {
          "base_uri": "https://localhost:8080/"
        },
        "id": "O36tVHiBouFu",
        "outputId": "7386fa32-ea58-4c50-bdbf-5e487b39294d"
      },
      "outputs": [
        {
          "output_type": "execute_result",
          "data": {
            "text/plain": [
              "124443651"
            ]
          },
          "metadata": {},
          "execution_count": 116
        }
      ],
      "source": [
        "count_param(model)"
      ]
    },
    {
      "cell_type": "markdown",
      "metadata": {
        "id": "hPjPa94opYh5"
      },
      "source": [
        "## c. Prepare Dataset"
      ]
    },
    {
      "cell_type": "code",
      "execution_count": 117,
      "metadata": {
        "id": "_QnPcTQIoxbb"
      },
      "outputs": [],
      "source": [
        "train_dataset_path = 'train_set.tsv'\n",
        "valid_dataset_path = 'val_set.tsv'\n",
        "test_dataset_path = 'test_set.tsv'"
      ]
    },
    {
      "cell_type": "code",
      "execution_count": 118,
      "metadata": {
        "colab": {
          "base_uri": "https://localhost:8080/"
        },
        "id": "iCh-goe_pr1A",
        "outputId": "efc0ea60-af45-47de-95d0-fb92fb983a52"
      },
      "outputs": [
        {
          "output_type": "stream",
          "name": "stderr",
          "text": [
            "/usr/local/lib/python3.10/dist-packages/torch/utils/data/dataloader.py:560: UserWarning: This DataLoader will create 16 worker processes in total. Our suggested max number of worker in current system is 2, which is smaller than what this DataLoader is going to create. Please be aware that excessive worker creation might get DataLoader running slow or even freeze, lower the worker number to avoid potential slowness/freeze if necessary.\n",
            "  warnings.warn(_create_warning_msg(\n"
          ]
        }
      ],
      "source": [
        "# fungsi dataset loader dari utils IndoNLU\n",
        "train_dataset = DocumentSentimentDataset(train_dataset_path, tokenizer, lowercase=True)\n",
        "valid_dataset = DocumentSentimentDataset(valid_dataset_path, tokenizer, lowercase=True)\n",
        "test_dataset = DocumentSentimentDataset(test_dataset_path, tokenizer, lowercase=True)\n",
        "\n",
        "train_loader = DocumentSentimentDataLoader(dataset=train_dataset, max_seq_len=512, batch_size=32, num_workers=16, shuffle=True)\n",
        "valid_loader = DocumentSentimentDataLoader(dataset=valid_dataset, max_seq_len=512, batch_size=32, num_workers=16, shuffle=False)\n",
        "test_loader = DocumentSentimentDataLoader(dataset=test_dataset, max_seq_len=512, batch_size=32, num_workers=16, shuffle=False)"
      ]
    },
    {
      "cell_type": "code",
      "execution_count": 119,
      "metadata": {
        "colab": {
          "base_uri": "https://localhost:8080/"
        },
        "id": "s2jeFxPWuGb2",
        "outputId": "bcb1b992-3a2b-49d2-b369-7a3322518ed2"
      },
      "outputs": [
        {
          "output_type": "stream",
          "name": "stdout",
          "text": [
            "{'positive': 0, 'neutral': 1, 'negative': 2}\n",
            "{0: 'positive', 1: 'neutral', 2: 'negative'}\n"
          ]
        }
      ],
      "source": [
        "w2i, i2w = DocumentSentimentDataset.LABEL2INDEX, DocumentSentimentDataset.INDEX2LABEL\n",
        "print(w2i) #word to index\n",
        "print(i2w) #index to word"
      ]
    },
    {
      "cell_type": "markdown",
      "metadata": {
        "id": "B5Ecm6csuTIi"
      },
      "source": [
        "## d. Uji coba pre-trained model"
      ]
    },
    {
      "cell_type": "code",
      "execution_count": 120,
      "metadata": {
        "colab": {
          "base_uri": "https://localhost:8080/"
        },
        "id": "hIlSeernuWNz",
        "outputId": "00400c62-52b5-4289-d097-94cb51aca34e"
      },
      "outputs": [
        {
          "output_type": "stream",
          "name": "stdout",
          "text": [
            "Text: Saya masih ngetes dulu nih berlangganan 1 bulan yg sport | Label : negative (47.005%)\n"
          ]
        }
      ],
      "source": [
        "text = 'Saya masih ngetes dulu nih berlangganan 1 bulan yg sport'\n",
        "subwords = tokenizer.encode(text)\n",
        "subwords = torch.LongTensor(subwords).view(1, -1).to(model.device)\n",
        "\n",
        "logits = model(subwords)[0]\n",
        "label = torch.topk(logits, k=1, dim=-1)[1].squeeze().item()\n",
        "\n",
        "print(f'Text: {text} | Label : {i2w[label]} ({F.softmax(logits, dim=-1).squeeze()[label] * 100:.3f}%)')"
      ]
    },
    {
      "cell_type": "code",
      "execution_count": 121,
      "metadata": {
        "colab": {
          "base_uri": "https://localhost:8080/"
        },
        "id": "S6cbg2DDud1O",
        "outputId": "4b015a60-5ad2-43d2-c94c-3b377a58407d"
      },
      "outputs": [
        {
          "output_type": "stream",
          "name": "stdout",
          "text": [
            "Text: bisa transfer antar bank? | Label : negative (48.371%)\n"
          ]
        }
      ],
      "source": [
        "text = 'bisa transfer antar bank?'\n",
        "subwords = tokenizer.encode(text)\n",
        "subwords = torch.LongTensor(subwords).view(1, -1).to(model.device)\n",
        "\n",
        "logits = model(subwords)[0]\n",
        "label = torch.topk(logits, k=1, dim=-1)[1].squeeze().item()\n",
        "\n",
        "print(f'Text: {text} | Label : {i2w[label]} ({F.softmax(logits, dim=-1).squeeze()[label] * 100:.3f}%)')"
      ]
    },
    {
      "cell_type": "code",
      "execution_count": 122,
      "metadata": {
        "colab": {
          "base_uri": "https://localhost:8080/"
        },
        "id": "6XgeK_YXuhD4",
        "outputId": "e4d3dab6-5f06-4396-bfc3-1580cd9ea94c"
      },
      "outputs": [
        {
          "output_type": "stream",
          "name": "stdout",
          "text": [
            "Text: Sudah beli paket premium tapi gak bisa dipake nonton, harus login terus.. habis login tetep aja gak bisa dipake, suruh beli paket lagi | Label : negative (49.653%)\n"
          ]
        }
      ],
      "source": [
        "text = 'Sudah beli paket premium tapi gak bisa dipake nonton, harus login terus.. habis login tetep aja gak bisa dipake, suruh beli paket lagi'\n",
        "subwords = tokenizer.encode(text)\n",
        "subwords = torch.LongTensor(subwords).view(1, -1).to(model.device)\n",
        "\n",
        "logits = model(subwords)[0]\n",
        "label = torch.topk(logits, k=1, dim=-1)[1].squeeze().item()\n",
        "\n",
        "print(f'Text: {text} | Label : {i2w[label]} ({F.softmax(logits, dim=-1).squeeze()[label] * 100:.3f}%)')"
      ]
    },
    {
      "cell_type": "code",
      "execution_count": 123,
      "metadata": {
        "colab": {
          "base_uri": "https://localhost:8080/"
        },
        "id": "DO1hY_XZOggA",
        "outputId": "5da22093-0d34-4913-d35d-0a91ece05581"
      },
      "outputs": [
        {
          "output_type": "stream",
          "name": "stdout",
          "text": [
            "True\n"
          ]
        }
      ],
      "source": [
        "print(torch.cuda.is_available())"
      ]
    },
    {
      "cell_type": "markdown",
      "metadata": {
        "id": "ppc6rGx_um2S"
      },
      "source": [
        "## e. Fine Tuning & Prediksi Evaluation"
      ]
    },
    {
      "cell_type": "code",
      "execution_count": 124,
      "metadata": {
        "id": "YGZJDVKlurcb"
      },
      "outputs": [],
      "source": [
        "# Tentukan optimizer\n",
        "optimizer = optim.Adam(model.parameters(), lr=3e-6)\n",
        "model = model.cuda()"
      ]
    },
    {
      "cell_type": "markdown",
      "metadata": {
        "id": "8T16Q4xvQBWN"
      },
      "source": [
        "### Training"
      ]
    },
    {
      "cell_type": "code",
      "execution_count": 125,
      "metadata": {
        "colab": {
          "base_uri": "https://localhost:8080/"
        },
        "id": "EWmlScnxu-C0",
        "outputId": "15f5410d-ce3c-4cf1-c610-f2a1f9eab983"
      },
      "outputs": [
        {
          "output_type": "stream",
          "name": "stderr",
          "text": [
            "(Epoch 1) TRAIN LOSS:0.5917 LR:0.00000300: 100%|██████████| 175/175 [01:10<00:00,  2.49it/s]\n"
          ]
        },
        {
          "output_type": "stream",
          "name": "stdout",
          "text": [
            "(Epoch 1) TRAIN LOSS:0.5917 ACC:0.77 F1:0.54 REC:0.56 PRE:0.58 LR:0.00000300\n"
          ]
        },
        {
          "output_type": "stream",
          "name": "stderr",
          "text": [
            "\r  0%|          | 0/51 [00:00<?, ?it/s]/usr/local/lib/python3.10/dist-packages/torch/utils/data/dataloader.py:560: UserWarning: This DataLoader will create 16 worker processes in total. Our suggested max number of worker in current system is 2, which is smaller than what this DataLoader is going to create. Please be aware that excessive worker creation might get DataLoader running slow or even freeze, lower the worker number to avoid potential slowness/freeze if necessary.\n",
            "  warnings.warn(_create_warning_msg(\n",
            "/usr/local/lib/python3.10/dist-packages/sklearn/metrics/_classification.py:1344: UndefinedMetricWarning: Precision is ill-defined and being set to 0.0 in labels with no predicted samples. Use `zero_division` parameter to control this behavior.\n",
            "  _warn_prf(average, modifier, msg_start, len(result))\n",
            "VALID LOSS:0.6316 ACC:0.72 F1:0.52 REC:0.63 PRE:0.47:   2%|▏         | 1/51 [00:01<01:15,  1.51s/it]/usr/local/lib/python3.10/dist-packages/sklearn/metrics/_classification.py:1344: UndefinedMetricWarning: Precision is ill-defined and being set to 0.0 in labels with no predicted samples. Use `zero_division` parameter to control this behavior.\n",
            "  _warn_prf(average, modifier, msg_start, len(result))\n",
            "VALID LOSS:0.5221 ACC:0.78 F1:0.54 REC:0.63 PRE:0.49:   4%|▍         | 2/51 [00:01<00:34,  1.41it/s]/usr/local/lib/python3.10/dist-packages/sklearn/metrics/_classification.py:1344: UndefinedMetricWarning: Precision is ill-defined and being set to 0.0 in labels with no predicted samples. Use `zero_division` parameter to control this behavior.\n",
            "  _warn_prf(average, modifier, msg_start, len(result))\n",
            "VALID LOSS:0.5262 ACC:0.78 F1:0.54 REC:0.62 PRE:0.49:   6%|▌         | 3/51 [00:01<00:21,  2.20it/s]/usr/local/lib/python3.10/dist-packages/sklearn/metrics/_classification.py:1344: UndefinedMetricWarning: Precision is ill-defined and being set to 0.0 in labels with no predicted samples. Use `zero_division` parameter to control this behavior.\n",
            "  _warn_prf(average, modifier, msg_start, len(result))\n",
            "VALID LOSS:0.5638 ACC:0.77 F1:0.54 REC:0.61 PRE:0.50:   8%|▊         | 4/51 [00:02<00:16,  2.83it/s]/usr/local/lib/python3.10/dist-packages/sklearn/metrics/_classification.py:1344: UndefinedMetricWarning: Precision is ill-defined and being set to 0.0 in labels with no predicted samples. Use `zero_division` parameter to control this behavior.\n",
            "  _warn_prf(average, modifier, msg_start, len(result))\n",
            "VALID LOSS:0.5293 ACC:0.78 F1:0.53 REC:0.61 PRE:0.50:  10%|▉         | 5/51 [00:02<00:12,  3.68it/s]/usr/local/lib/python3.10/dist-packages/sklearn/metrics/_classification.py:1344: UndefinedMetricWarning: Precision is ill-defined and being set to 0.0 in labels with no predicted samples. Use `zero_division` parameter to control this behavior.\n",
            "  _warn_prf(average, modifier, msg_start, len(result))\n",
            "VALID LOSS:0.5795 ACC:0.77 F1:0.53 REC:0.60 PRE:0.50:  12%|█▏        | 6/51 [00:02<00:10,  4.47it/s]/usr/local/lib/python3.10/dist-packages/sklearn/metrics/_classification.py:1344: UndefinedMetricWarning: Precision is ill-defined and being set to 0.0 in labels with no predicted samples. Use `zero_division` parameter to control this behavior.\n",
            "  _warn_prf(average, modifier, msg_start, len(result))\n",
            "VALID LOSS:0.5824 ACC:0.76 F1:0.53 REC:0.59 PRE:0.51:  12%|█▏        | 6/51 [00:02<00:10,  4.47it/s]/usr/local/lib/python3.10/dist-packages/sklearn/metrics/_classification.py:1344: UndefinedMetricWarning: Precision is ill-defined and being set to 0.0 in labels with no predicted samples. Use `zero_division` parameter to control this behavior.\n",
            "  _warn_prf(average, modifier, msg_start, len(result))\n",
            "VALID LOSS:0.5807 ACC:0.77 F1:0.53 REC:0.59 PRE:0.51:  16%|█▌        | 8/51 [00:02<00:06,  6.16it/s]/usr/local/lib/python3.10/dist-packages/sklearn/metrics/_classification.py:1344: UndefinedMetricWarning: Precision is ill-defined and being set to 0.0 in labels with no predicted samples. Use `zero_division` parameter to control this behavior.\n",
            "  _warn_prf(average, modifier, msg_start, len(result))\n",
            "VALID LOSS:0.5565 ACC:0.78 F1:0.54 REC:0.59 PRE:0.52:  18%|█▊        | 9/51 [00:02<00:06,  6.38it/s]/usr/local/lib/python3.10/dist-packages/sklearn/metrics/_classification.py:1344: UndefinedMetricWarning: Precision is ill-defined and being set to 0.0 in labels with no predicted samples. Use `zero_division` parameter to control this behavior.\n",
            "  _warn_prf(average, modifier, msg_start, len(result))\n",
            "VALID LOSS:0.5294 ACC:0.79 F1:0.55 REC:0.60 PRE:0.53:  20%|█▉        | 10/51 [00:02<00:06,  6.81it/s]/usr/local/lib/python3.10/dist-packages/sklearn/metrics/_classification.py:1344: UndefinedMetricWarning: Precision is ill-defined and being set to 0.0 in labels with no predicted samples. Use `zero_division` parameter to control this behavior.\n",
            "  _warn_prf(average, modifier, msg_start, len(result))\n",
            "VALID LOSS:0.5165 ACC:0.80 F1:0.56 REC:0.60 PRE:0.54:  22%|██▏       | 11/51 [00:02<00:05,  6.91it/s]/usr/local/lib/python3.10/dist-packages/sklearn/metrics/_classification.py:1344: UndefinedMetricWarning: Precision is ill-defined and being set to 0.0 in labels with no predicted samples. Use `zero_division` parameter to control this behavior.\n",
            "  _warn_prf(average, modifier, msg_start, len(result))\n",
            "VALID LOSS:0.5282 ACC:0.79 F1:0.55 REC:0.60 PRE:0.53:  24%|██▎       | 12/51 [00:03<00:05,  6.63it/s]/usr/local/lib/python3.10/dist-packages/sklearn/metrics/_classification.py:1344: UndefinedMetricWarning: Precision is ill-defined and being set to 0.0 in labels with no predicted samples. Use `zero_division` parameter to control this behavior.\n",
            "  _warn_prf(average, modifier, msg_start, len(result))\n",
            "VALID LOSS:0.5311 ACC:0.79 F1:0.55 REC:0.60 PRE:0.53:  25%|██▌       | 13/51 [00:03<00:05,  6.57it/s]/usr/local/lib/python3.10/dist-packages/sklearn/metrics/_classification.py:1344: UndefinedMetricWarning: Precision is ill-defined and being set to 0.0 in labels with no predicted samples. Use `zero_division` parameter to control this behavior.\n",
            "  _warn_prf(average, modifier, msg_start, len(result))\n",
            "VALID LOSS:0.5228 ACC:0.80 F1:0.55 REC:0.60 PRE:0.53:  27%|██▋       | 14/51 [00:03<00:05,  7.08it/s]/usr/local/lib/python3.10/dist-packages/sklearn/metrics/_classification.py:1344: UndefinedMetricWarning: Precision is ill-defined and being set to 0.0 in labels with no predicted samples. Use `zero_division` parameter to control this behavior.\n",
            "  _warn_prf(average, modifier, msg_start, len(result))\n",
            "VALID LOSS:0.5190 ACC:0.80 F1:0.55 REC:0.60 PRE:0.53:  29%|██▉       | 15/51 [00:03<00:05,  7.15it/s]/usr/local/lib/python3.10/dist-packages/sklearn/metrics/_classification.py:1344: UndefinedMetricWarning: Precision is ill-defined and being set to 0.0 in labels with no predicted samples. Use `zero_division` parameter to control this behavior.\n",
            "  _warn_prf(average, modifier, msg_start, len(result))\n",
            "VALID LOSS:0.5115 ACC:0.80 F1:0.55 REC:0.60 PRE:0.53:  29%|██▉       | 15/51 [00:03<00:05,  7.15it/s]/usr/local/lib/python3.10/dist-packages/sklearn/metrics/_classification.py:1344: UndefinedMetricWarning: Precision is ill-defined and being set to 0.0 in labels with no predicted samples. Use `zero_division` parameter to control this behavior.\n",
            "  _warn_prf(average, modifier, msg_start, len(result))\n",
            "VALID LOSS:0.5160 ACC:0.80 F1:0.55 REC:0.60 PRE:0.53:  33%|███▎      | 17/51 [00:03<00:04,  7.18it/s]/usr/local/lib/python3.10/dist-packages/sklearn/metrics/_classification.py:1344: UndefinedMetricWarning: Precision is ill-defined and being set to 0.0 in labels with no predicted samples. Use `zero_division` parameter to control this behavior.\n",
            "  _warn_prf(average, modifier, msg_start, len(result))\n",
            "VALID LOSS:0.5169 ACC:0.79 F1:0.55 REC:0.60 PRE:0.53:  33%|███▎      | 17/51 [00:03<00:04,  7.18it/s]/usr/local/lib/python3.10/dist-packages/sklearn/metrics/_classification.py:1344: UndefinedMetricWarning: Precision is ill-defined and being set to 0.0 in labels with no predicted samples. Use `zero_division` parameter to control this behavior.\n",
            "  _warn_prf(average, modifier, msg_start, len(result))\n",
            "VALID LOSS:0.5114 ACC:0.80 F1:0.56 REC:0.60 PRE:0.53:  37%|███▋      | 19/51 [00:03<00:04,  7.43it/s]/usr/local/lib/python3.10/dist-packages/sklearn/metrics/_classification.py:1344: UndefinedMetricWarning: Precision is ill-defined and being set to 0.0 in labels with no predicted samples. Use `zero_division` parameter to control this behavior.\n",
            "  _warn_prf(average, modifier, msg_start, len(result))\n",
            "VALID LOSS:0.5027 ACC:0.80 F1:0.56 REC:0.60 PRE:0.53:  39%|███▉      | 20/51 [00:04<00:04,  7.39it/s]/usr/local/lib/python3.10/dist-packages/sklearn/metrics/_classification.py:1344: UndefinedMetricWarning: Precision is ill-defined and being set to 0.0 in labels with no predicted samples. Use `zero_division` parameter to control this behavior.\n",
            "  _warn_prf(average, modifier, msg_start, len(result))\n",
            "VALID LOSS:0.5091 ACC:0.80 F1:0.55 REC:0.60 PRE:0.53:  41%|████      | 21/51 [00:04<00:04,  7.11it/s]/usr/local/lib/python3.10/dist-packages/sklearn/metrics/_classification.py:1344: UndefinedMetricWarning: Precision is ill-defined and being set to 0.0 in labels with no predicted samples. Use `zero_division` parameter to control this behavior.\n",
            "  _warn_prf(average, modifier, msg_start, len(result))\n",
            "VALID LOSS:0.4953 ACC:0.80 F1:0.56 REC:0.60 PRE:0.53:  41%|████      | 21/51 [00:04<00:04,  7.11it/s]/usr/local/lib/python3.10/dist-packages/sklearn/metrics/_classification.py:1344: UndefinedMetricWarning: Precision is ill-defined and being set to 0.0 in labels with no predicted samples. Use `zero_division` parameter to control this behavior.\n",
            "  _warn_prf(average, modifier, msg_start, len(result))\n",
            "VALID LOSS:0.4905 ACC:0.81 F1:0.56 REC:0.60 PRE:0.54:  45%|████▌     | 23/51 [00:04<00:03,  8.44it/s]/usr/local/lib/python3.10/dist-packages/sklearn/metrics/_classification.py:1344: UndefinedMetricWarning: Precision is ill-defined and being set to 0.0 in labels with no predicted samples. Use `zero_division` parameter to control this behavior.\n",
            "  _warn_prf(average, modifier, msg_start, len(result))\n",
            "VALID LOSS:0.4910 ACC:0.81 F1:0.56 REC:0.60 PRE:0.54:  47%|████▋     | 24/51 [00:04<00:03,  7.21it/s]/usr/local/lib/python3.10/dist-packages/sklearn/metrics/_classification.py:1344: UndefinedMetricWarning: Precision is ill-defined and being set to 0.0 in labels with no predicted samples. Use `zero_division` parameter to control this behavior.\n",
            "  _warn_prf(average, modifier, msg_start, len(result))\n",
            "VALID LOSS:0.4875 ACC:0.81 F1:0.56 REC:0.60 PRE:0.54:  49%|████▉     | 25/51 [00:04<00:03,  6.78it/s]/usr/local/lib/python3.10/dist-packages/sklearn/metrics/_classification.py:1344: UndefinedMetricWarning: Precision is ill-defined and being set to 0.0 in labels with no predicted samples. Use `zero_division` parameter to control this behavior.\n",
            "  _warn_prf(average, modifier, msg_start, len(result))\n",
            "VALID LOSS:0.4917 ACC:0.81 F1:0.56 REC:0.60 PRE:0.54:  51%|█████     | 26/51 [00:04<00:03,  6.84it/s]/usr/local/lib/python3.10/dist-packages/sklearn/metrics/_classification.py:1344: UndefinedMetricWarning: Precision is ill-defined and being set to 0.0 in labels with no predicted samples. Use `zero_division` parameter to control this behavior.\n",
            "  _warn_prf(average, modifier, msg_start, len(result))\n",
            "VALID LOSS:0.4940 ACC:0.81 F1:0.56 REC:0.60 PRE:0.54:  53%|█████▎    | 27/51 [00:05<00:03,  6.98it/s]/usr/local/lib/python3.10/dist-packages/sklearn/metrics/_classification.py:1344: UndefinedMetricWarning: Precision is ill-defined and being set to 0.0 in labels with no predicted samples. Use `zero_division` parameter to control this behavior.\n",
            "  _warn_prf(average, modifier, msg_start, len(result))\n",
            "VALID LOSS:0.4953 ACC:0.81 F1:0.56 REC:0.60 PRE:0.54:  53%|█████▎    | 27/51 [00:05<00:03,  6.98it/s]/usr/local/lib/python3.10/dist-packages/sklearn/metrics/_classification.py:1344: UndefinedMetricWarning: Precision is ill-defined and being set to 0.0 in labels with no predicted samples. Use `zero_division` parameter to control this behavior.\n",
            "  _warn_prf(average, modifier, msg_start, len(result))\n",
            "VALID LOSS:0.4958 ACC:0.80 F1:0.56 REC:0.60 PRE:0.54:  57%|█████▋    | 29/51 [00:05<00:02,  8.44it/s]/usr/local/lib/python3.10/dist-packages/sklearn/metrics/_classification.py:1344: UndefinedMetricWarning: Precision is ill-defined and being set to 0.0 in labels with no predicted samples. Use `zero_division` parameter to control this behavior.\n",
            "  _warn_prf(average, modifier, msg_start, len(result))\n",
            "VALID LOSS:0.4970 ACC:0.81 F1:0.56 REC:0.60 PRE:0.54:  59%|█████▉    | 30/51 [00:05<00:02,  8.59it/s]/usr/local/lib/python3.10/dist-packages/sklearn/metrics/_classification.py:1344: UndefinedMetricWarning: Precision is ill-defined and being set to 0.0 in labels with no predicted samples. Use `zero_division` parameter to control this behavior.\n",
            "  _warn_prf(average, modifier, msg_start, len(result))\n",
            "VALID LOSS:0.4959 ACC:0.81 F1:0.56 REC:0.60 PRE:0.54:  61%|██████    | 31/51 [00:05<00:02,  8.55it/s]/usr/local/lib/python3.10/dist-packages/sklearn/metrics/_classification.py:1344: UndefinedMetricWarning: Precision is ill-defined and being set to 0.0 in labels with no predicted samples. Use `zero_division` parameter to control this behavior.\n",
            "  _warn_prf(average, modifier, msg_start, len(result))\n",
            "VALID LOSS:0.4914 ACC:0.81 F1:0.56 REC:0.60 PRE:0.54:  63%|██████▎   | 32/51 [00:05<00:02,  8.45it/s]/usr/local/lib/python3.10/dist-packages/sklearn/metrics/_classification.py:1344: UndefinedMetricWarning: Precision is ill-defined and being set to 0.0 in labels with no predicted samples. Use `zero_division` parameter to control this behavior.\n",
            "  _warn_prf(average, modifier, msg_start, len(result))\n",
            "VALID LOSS:0.4966 ACC:0.80 F1:0.56 REC:0.60 PRE:0.54:  65%|██████▍   | 33/51 [00:05<00:02,  7.34it/s]/usr/local/lib/python3.10/dist-packages/sklearn/metrics/_classification.py:1344: UndefinedMetricWarning: Precision is ill-defined and being set to 0.0 in labels with no predicted samples. Use `zero_division` parameter to control this behavior.\n",
            "  _warn_prf(average, modifier, msg_start, len(result))\n",
            "VALID LOSS:0.4937 ACC:0.81 F1:0.56 REC:0.60 PRE:0.54:  65%|██████▍   | 33/51 [00:05<00:02,  7.34it/s]/usr/local/lib/python3.10/dist-packages/sklearn/metrics/_classification.py:1344: UndefinedMetricWarning: Precision is ill-defined and being set to 0.0 in labels with no predicted samples. Use `zero_division` parameter to control this behavior.\n",
            "  _warn_prf(average, modifier, msg_start, len(result))\n",
            "VALID LOSS:0.4898 ACC:0.81 F1:0.56 REC:0.60 PRE:0.54:  69%|██████▊   | 35/51 [00:06<00:02,  7.92it/s]/usr/local/lib/python3.10/dist-packages/sklearn/metrics/_classification.py:1344: UndefinedMetricWarning: Precision is ill-defined and being set to 0.0 in labels with no predicted samples. Use `zero_division` parameter to control this behavior.\n",
            "  _warn_prf(average, modifier, msg_start, len(result))\n",
            "VALID LOSS:0.4907 ACC:0.81 F1:0.56 REC:0.60 PRE:0.54:  71%|███████   | 36/51 [00:06<00:02,  7.31it/s]/usr/local/lib/python3.10/dist-packages/sklearn/metrics/_classification.py:1344: UndefinedMetricWarning: Precision is ill-defined and being set to 0.0 in labels with no predicted samples. Use `zero_division` parameter to control this behavior.\n",
            "  _warn_prf(average, modifier, msg_start, len(result))\n",
            "VALID LOSS:0.4903 ACC:0.81 F1:0.56 REC:0.60 PRE:0.54:  73%|███████▎  | 37/51 [00:06<00:01,  7.27it/s]/usr/local/lib/python3.10/dist-packages/sklearn/metrics/_classification.py:1344: UndefinedMetricWarning: Precision is ill-defined and being set to 0.0 in labels with no predicted samples. Use `zero_division` parameter to control this behavior.\n",
            "  _warn_prf(average, modifier, msg_start, len(result))\n",
            "VALID LOSS:0.4842 ACC:0.81 F1:0.56 REC:0.60 PRE:0.54:  75%|███████▍  | 38/51 [00:06<00:01,  6.93it/s]/usr/local/lib/python3.10/dist-packages/sklearn/metrics/_classification.py:1344: UndefinedMetricWarning: Precision is ill-defined and being set to 0.0 in labels with no predicted samples. Use `zero_division` parameter to control this behavior.\n",
            "  _warn_prf(average, modifier, msg_start, len(result))\n",
            "VALID LOSS:0.4792 ACC:0.81 F1:0.57 REC:0.60 PRE:0.54:  76%|███████▋  | 39/51 [00:06<00:01,  6.44it/s]/usr/local/lib/python3.10/dist-packages/sklearn/metrics/_classification.py:1344: UndefinedMetricWarning: Precision is ill-defined and being set to 0.0 in labels with no predicted samples. Use `zero_division` parameter to control this behavior.\n",
            "  _warn_prf(average, modifier, msg_start, len(result))\n",
            "VALID LOSS:0.4788 ACC:0.81 F1:0.57 REC:0.60 PRE:0.54:  78%|███████▊  | 40/51 [00:06<00:01,  7.00it/s]/usr/local/lib/python3.10/dist-packages/sklearn/metrics/_classification.py:1344: UndefinedMetricWarning: Precision is ill-defined and being set to 0.0 in labels with no predicted samples. Use `zero_division` parameter to control this behavior.\n",
            "  _warn_prf(average, modifier, msg_start, len(result))\n",
            "VALID LOSS:0.4776 ACC:0.81 F1:0.57 REC:0.60 PRE:0.54:  80%|████████  | 41/51 [00:06<00:01,  6.58it/s]/usr/local/lib/python3.10/dist-packages/sklearn/metrics/_classification.py:1344: UndefinedMetricWarning: Precision is ill-defined and being set to 0.0 in labels with no predicted samples. Use `zero_division` parameter to control this behavior.\n",
            "  _warn_prf(average, modifier, msg_start, len(result))\n",
            "VALID LOSS:0.4820 ACC:0.81 F1:0.56 REC:0.60 PRE:0.54:  82%|████████▏ | 42/51 [00:07<00:01,  6.35it/s]/usr/local/lib/python3.10/dist-packages/sklearn/metrics/_classification.py:1344: UndefinedMetricWarning: Precision is ill-defined and being set to 0.0 in labels with no predicted samples. Use `zero_division` parameter to control this behavior.\n",
            "  _warn_prf(average, modifier, msg_start, len(result))\n",
            "VALID LOSS:0.4803 ACC:0.81 F1:0.57 REC:0.60 PRE:0.54:  82%|████████▏ | 42/51 [00:07<00:01,  6.35it/s]/usr/local/lib/python3.10/dist-packages/sklearn/metrics/_classification.py:1344: UndefinedMetricWarning: Precision is ill-defined and being set to 0.0 in labels with no predicted samples. Use `zero_division` parameter to control this behavior.\n",
            "  _warn_prf(average, modifier, msg_start, len(result))\n",
            "VALID LOSS:0.4772 ACC:0.82 F1:0.57 REC:0.60 PRE:0.54:  86%|████████▋ | 44/51 [00:07<00:00,  7.50it/s]/usr/local/lib/python3.10/dist-packages/sklearn/metrics/_classification.py:1344: UndefinedMetricWarning: Precision is ill-defined and being set to 0.0 in labels with no predicted samples. Use `zero_division` parameter to control this behavior.\n",
            "  _warn_prf(average, modifier, msg_start, len(result))\n",
            "VALID LOSS:0.4804 ACC:0.81 F1:0.57 REC:0.60 PRE:0.54:  88%|████████▊ | 45/51 [00:07<00:00,  7.81it/s]/usr/local/lib/python3.10/dist-packages/sklearn/metrics/_classification.py:1344: UndefinedMetricWarning: Precision is ill-defined and being set to 0.0 in labels with no predicted samples. Use `zero_division` parameter to control this behavior.\n",
            "  _warn_prf(average, modifier, msg_start, len(result))\n",
            "VALID LOSS:0.4815 ACC:0.81 F1:0.57 REC:0.60 PRE:0.54:  90%|█████████ | 46/51 [00:07<00:00,  7.03it/s]/usr/local/lib/python3.10/dist-packages/sklearn/metrics/_classification.py:1344: UndefinedMetricWarning: Precision is ill-defined and being set to 0.0 in labels with no predicted samples. Use `zero_division` parameter to control this behavior.\n",
            "  _warn_prf(average, modifier, msg_start, len(result))\n",
            "VALID LOSS:0.4818 ACC:0.81 F1:0.57 REC:0.60 PRE:0.54:  90%|█████████ | 46/51 [00:07<00:00,  7.03it/s]/usr/local/lib/python3.10/dist-packages/sklearn/metrics/_classification.py:1344: UndefinedMetricWarning: Precision is ill-defined and being set to 0.0 in labels with no predicted samples. Use `zero_division` parameter to control this behavior.\n",
            "  _warn_prf(average, modifier, msg_start, len(result))\n",
            "VALID LOSS:0.4796 ACC:0.82 F1:0.57 REC:0.60 PRE:0.54:  94%|█████████▍| 48/51 [00:07<00:00,  7.58it/s]/usr/local/lib/python3.10/dist-packages/sklearn/metrics/_classification.py:1344: UndefinedMetricWarning: Precision is ill-defined and being set to 0.0 in labels with no predicted samples. Use `zero_division` parameter to control this behavior.\n",
            "  _warn_prf(average, modifier, msg_start, len(result))\n",
            "VALID LOSS:0.4832 ACC:0.81 F1:0.57 REC:0.60 PRE:0.54:  96%|█████████▌| 49/51 [00:08<00:00,  7.17it/s]/usr/local/lib/python3.10/dist-packages/sklearn/metrics/_classification.py:1344: UndefinedMetricWarning: Precision is ill-defined and being set to 0.0 in labels with no predicted samples. Use `zero_division` parameter to control this behavior.\n",
            "  _warn_prf(average, modifier, msg_start, len(result))\n",
            "VALID LOSS:0.4840 ACC:0.81 F1:0.57 REC:0.60 PRE:0.54:  98%|█████████▊| 50/51 [00:08<00:00,  7.37it/s]/usr/local/lib/python3.10/dist-packages/sklearn/metrics/_classification.py:1344: UndefinedMetricWarning: Precision is ill-defined and being set to 0.0 in labels with no predicted samples. Use `zero_division` parameter to control this behavior.\n",
            "  _warn_prf(average, modifier, msg_start, len(result))\n",
            "VALID LOSS:0.4828 ACC:0.81 F1:0.57 REC:0.60 PRE:0.54: 100%|██████████| 51/51 [00:08<00:00,  5.93it/s]\n",
            "/usr/local/lib/python3.10/dist-packages/sklearn/metrics/_classification.py:1344: UndefinedMetricWarning: Precision is ill-defined and being set to 0.0 in labels with no predicted samples. Use `zero_division` parameter to control this behavior.\n",
            "  _warn_prf(average, modifier, msg_start, len(result))\n"
          ]
        },
        {
          "output_type": "stream",
          "name": "stdout",
          "text": [
            "(Epoch 1) VALID LOSS:0.4828 ACC:0.81 F1:0.57 REC:0.60 PRE:0.54\n"
          ]
        },
        {
          "output_type": "stream",
          "name": "stderr",
          "text": [
            "\r  0%|          | 0/175 [00:00<?, ?it/s]/usr/local/lib/python3.10/dist-packages/torch/utils/data/dataloader.py:560: UserWarning: This DataLoader will create 16 worker processes in total. Our suggested max number of worker in current system is 2, which is smaller than what this DataLoader is going to create. Please be aware that excessive worker creation might get DataLoader running slow or even freeze, lower the worker number to avoid potential slowness/freeze if necessary.\n",
            "  warnings.warn(_create_warning_msg(\n",
            "(Epoch 2) TRAIN LOSS:0.4472 LR:0.00000300: 100%|██████████| 175/175 [01:09<00:00,  2.51it/s]\n"
          ]
        },
        {
          "output_type": "stream",
          "name": "stdout",
          "text": [
            "(Epoch 2) TRAIN LOSS:0.4472 ACC:0.84 F1:0.59 REC:0.62 PRE:0.63 LR:0.00000300\n"
          ]
        },
        {
          "output_type": "stream",
          "name": "stderr",
          "text": [
            "\r  0%|          | 0/51 [00:00<?, ?it/s]/usr/local/lib/python3.10/dist-packages/torch/utils/data/dataloader.py:560: UserWarning: This DataLoader will create 16 worker processes in total. Our suggested max number of worker in current system is 2, which is smaller than what this DataLoader is going to create. Please be aware that excessive worker creation might get DataLoader running slow or even freeze, lower the worker number to avoid potential slowness/freeze if necessary.\n",
            "  warnings.warn(_create_warning_msg(\n",
            "/usr/local/lib/python3.10/dist-packages/sklearn/metrics/_classification.py:1344: UndefinedMetricWarning: Precision is ill-defined and being set to 0.0 in labels with no predicted samples. Use `zero_division` parameter to control this behavior.\n",
            "  _warn_prf(average, modifier, msg_start, len(result))\n",
            "VALID LOSS:0.5490 ACC:0.72 F1:0.52 REC:0.63 PRE:0.46:   2%|▏         | 1/51 [00:01<00:54,  1.09s/it]/usr/local/lib/python3.10/dist-packages/sklearn/metrics/_classification.py:1344: UndefinedMetricWarning: Precision is ill-defined and being set to 0.0 in labels with no predicted samples. Use `zero_division` parameter to control this behavior.\n",
            "  _warn_prf(average, modifier, msg_start, len(result))\n",
            "VALID LOSS:0.4663 ACC:0.78 F1:0.55 REC:0.63 PRE:0.49:   4%|▍         | 2/51 [00:01<00:30,  1.60it/s]/usr/local/lib/python3.10/dist-packages/sklearn/metrics/_classification.py:1344: UndefinedMetricWarning: Precision is ill-defined and being set to 0.0 in labels with no predicted samples. Use `zero_division` parameter to control this behavior.\n",
            "  _warn_prf(average, modifier, msg_start, len(result))\n",
            "VALID LOSS:0.4925 ACC:0.75 F1:0.51 REC:0.58 PRE:0.47:   6%|▌         | 3/51 [00:01<00:20,  2.37it/s]/usr/local/lib/python3.10/dist-packages/sklearn/metrics/_classification.py:1344: UndefinedMetricWarning: Precision is ill-defined and being set to 0.0 in labels with no predicted samples. Use `zero_division` parameter to control this behavior.\n",
            "  _warn_prf(average, modifier, msg_start, len(result))\n",
            "VALID LOSS:0.5311 ACC:0.76 F1:0.53 REC:0.59 PRE:0.49:   8%|▊         | 4/51 [00:01<00:15,  2.96it/s]/usr/local/lib/python3.10/dist-packages/sklearn/metrics/_classification.py:1344: UndefinedMetricWarning: Precision is ill-defined and being set to 0.0 in labels with no predicted samples. Use `zero_division` parameter to control this behavior.\n",
            "  _warn_prf(average, modifier, msg_start, len(result))\n",
            "VALID LOSS:0.4902 ACC:0.78 F1:0.53 REC:0.58 PRE:0.49:  10%|▉         | 5/51 [00:01<00:12,  3.80it/s]/usr/local/lib/python3.10/dist-packages/sklearn/metrics/_classification.py:1344: UndefinedMetricWarning: Precision is ill-defined and being set to 0.0 in labels with no predicted samples. Use `zero_division` parameter to control this behavior.\n",
            "  _warn_prf(average, modifier, msg_start, len(result))\n",
            "VALID LOSS:0.5322 ACC:0.77 F1:0.52 REC:0.58 PRE:0.49:  12%|█▏        | 6/51 [00:02<00:09,  4.57it/s]/usr/local/lib/python3.10/dist-packages/sklearn/metrics/_classification.py:1344: UndefinedMetricWarning: Precision is ill-defined and being set to 0.0 in labels with no predicted samples. Use `zero_division` parameter to control this behavior.\n",
            "  _warn_prf(average, modifier, msg_start, len(result))\n",
            "VALID LOSS:0.5328 ACC:0.77 F1:0.53 REC:0.59 PRE:0.50:  12%|█▏        | 6/51 [00:02<00:09,  4.57it/s]/usr/local/lib/python3.10/dist-packages/sklearn/metrics/_classification.py:1344: UndefinedMetricWarning: Precision is ill-defined and being set to 0.0 in labels with no predicted samples. Use `zero_division` parameter to control this behavior.\n",
            "  _warn_prf(average, modifier, msg_start, len(result))\n",
            "VALID LOSS:0.5460 ACC:0.77 F1:0.53 REC:0.58 PRE:0.50:  16%|█▌        | 8/51 [00:02<00:06,  6.29it/s]/usr/local/lib/python3.10/dist-packages/sklearn/metrics/_classification.py:1344: UndefinedMetricWarning: Precision is ill-defined and being set to 0.0 in labels with no predicted samples. Use `zero_division` parameter to control this behavior.\n",
            "  _warn_prf(average, modifier, msg_start, len(result))\n",
            "VALID LOSS:0.5209 ACC:0.79 F1:0.55 REC:0.59 PRE:0.52:  18%|█▊        | 9/51 [00:02<00:06,  6.31it/s]/usr/local/lib/python3.10/dist-packages/sklearn/metrics/_classification.py:1344: UndefinedMetricWarning: Precision is ill-defined and being set to 0.0 in labels with no predicted samples. Use `zero_division` parameter to control this behavior.\n",
            "  _warn_prf(average, modifier, msg_start, len(result))\n",
            "VALID LOSS:0.4974 ACC:0.80 F1:0.55 REC:0.59 PRE:0.53:  20%|█▉        | 10/51 [00:02<00:06,  6.79it/s]/usr/local/lib/python3.10/dist-packages/sklearn/metrics/_classification.py:1344: UndefinedMetricWarning: Precision is ill-defined and being set to 0.0 in labels with no predicted samples. Use `zero_division` parameter to control this behavior.\n",
            "  _warn_prf(average, modifier, msg_start, len(result))\n",
            "VALID LOSS:0.4905 ACC:0.81 F1:0.56 REC:0.60 PRE:0.54:  22%|██▏       | 11/51 [00:02<00:05,  6.88it/s]/usr/local/lib/python3.10/dist-packages/sklearn/metrics/_classification.py:1344: UndefinedMetricWarning: Precision is ill-defined and being set to 0.0 in labels with no predicted samples. Use `zero_division` parameter to control this behavior.\n",
            "  _warn_prf(average, modifier, msg_start, len(result))\n",
            "VALID LOSS:0.4996 ACC:0.80 F1:0.56 REC:0.60 PRE:0.53:  24%|██▎       | 12/51 [00:02<00:06,  6.49it/s]/usr/local/lib/python3.10/dist-packages/sklearn/metrics/_classification.py:1344: UndefinedMetricWarning: Precision is ill-defined and being set to 0.0 in labels with no predicted samples. Use `zero_division` parameter to control this behavior.\n",
            "  _warn_prf(average, modifier, msg_start, len(result))\n",
            "VALID LOSS:0.5010 ACC:0.81 F1:0.56 REC:0.60 PRE:0.53:  25%|██▌       | 13/51 [00:02<00:05,  6.44it/s]/usr/local/lib/python3.10/dist-packages/sklearn/metrics/_classification.py:1344: UndefinedMetricWarning: Precision is ill-defined and being set to 0.0 in labels with no predicted samples. Use `zero_division` parameter to control this behavior.\n",
            "  _warn_prf(average, modifier, msg_start, len(result))\n",
            "VALID LOSS:0.4961 ACC:0.81 F1:0.56 REC:0.60 PRE:0.54:  27%|██▋       | 14/51 [00:03<00:05,  6.95it/s]/usr/local/lib/python3.10/dist-packages/sklearn/metrics/_classification.py:1344: UndefinedMetricWarning: Precision is ill-defined and being set to 0.0 in labels with no predicted samples. Use `zero_division` parameter to control this behavior.\n",
            "  _warn_prf(average, modifier, msg_start, len(result))\n",
            "VALID LOSS:0.4561 ACC:0.83 F1:0.59 REC:0.61 PRE:0.77: 100%|██████████| 51/51 [00:08<00:00,  6.01it/s]\n"
          ]
        },
        {
          "output_type": "stream",
          "name": "stdout",
          "text": [
            "(Epoch 2) VALID LOSS:0.4561 ACC:0.83 F1:0.59 REC:0.61 PRE:0.77\n"
          ]
        },
        {
          "output_type": "stream",
          "name": "stderr",
          "text": [
            "\r  0%|          | 0/175 [00:00<?, ?it/s]/usr/local/lib/python3.10/dist-packages/torch/utils/data/dataloader.py:560: UserWarning: This DataLoader will create 16 worker processes in total. Our suggested max number of worker in current system is 2, which is smaller than what this DataLoader is going to create. Please be aware that excessive worker creation might get DataLoader running slow or even freeze, lower the worker number to avoid potential slowness/freeze if necessary.\n",
            "  warnings.warn(_create_warning_msg(\n",
            "(Epoch 3) TRAIN LOSS:0.4052 LR:0.00000300: 100%|██████████| 175/175 [01:10<00:00,  2.49it/s]\n"
          ]
        },
        {
          "output_type": "stream",
          "name": "stdout",
          "text": [
            "(Epoch 3) TRAIN LOSS:0.4052 ACC:0.85 F1:0.62 REC:0.63 PRE:0.70 LR:0.00000300\n"
          ]
        },
        {
          "output_type": "stream",
          "name": "stderr",
          "text": [
            "\r  0%|          | 0/51 [00:00<?, ?it/s]/usr/local/lib/python3.10/dist-packages/torch/utils/data/dataloader.py:560: UserWarning: This DataLoader will create 16 worker processes in total. Our suggested max number of worker in current system is 2, which is smaller than what this DataLoader is going to create. Please be aware that excessive worker creation might get DataLoader running slow or even freeze, lower the worker number to avoid potential slowness/freeze if necessary.\n",
            "  warnings.warn(_create_warning_msg(\n",
            "VALID LOSS:0.4517 ACC:0.83 F1:0.61 REC:0.62 PRE:0.68: 100%|██████████| 51/51 [00:09<00:00,  5.62it/s]\n"
          ]
        },
        {
          "output_type": "stream",
          "name": "stdout",
          "text": [
            "(Epoch 3) VALID LOSS:0.4517 ACC:0.83 F1:0.61 REC:0.62 PRE:0.68\n"
          ]
        },
        {
          "output_type": "stream",
          "name": "stderr",
          "text": [
            "\r  0%|          | 0/175 [00:00<?, ?it/s]/usr/local/lib/python3.10/dist-packages/torch/utils/data/dataloader.py:560: UserWarning: This DataLoader will create 16 worker processes in total. Our suggested max number of worker in current system is 2, which is smaller than what this DataLoader is going to create. Please be aware that excessive worker creation might get DataLoader running slow or even freeze, lower the worker number to avoid potential slowness/freeze if necessary.\n",
            "  warnings.warn(_create_warning_msg(\n",
            "(Epoch 4) TRAIN LOSS:0.3741 LR:0.00000300: 100%|██████████| 175/175 [01:09<00:00,  2.51it/s]\n"
          ]
        },
        {
          "output_type": "stream",
          "name": "stdout",
          "text": [
            "(Epoch 4) TRAIN LOSS:0.3741 ACC:0.86 F1:0.65 REC:0.66 PRE:0.72 LR:0.00000300\n"
          ]
        },
        {
          "output_type": "stream",
          "name": "stderr",
          "text": [
            "\r  0%|          | 0/51 [00:00<?, ?it/s]/usr/local/lib/python3.10/dist-packages/torch/utils/data/dataloader.py:560: UserWarning: This DataLoader will create 16 worker processes in total. Our suggested max number of worker in current system is 2, which is smaller than what this DataLoader is going to create. Please be aware that excessive worker creation might get DataLoader running slow or even freeze, lower the worker number to avoid potential slowness/freeze if necessary.\n",
            "  warnings.warn(_create_warning_msg(\n",
            "VALID LOSS:0.4611 ACC:0.83 F1:0.63 REC:0.64 PRE:0.68: 100%|██████████| 51/51 [00:09<00:00,  5.64it/s]\n"
          ]
        },
        {
          "output_type": "stream",
          "name": "stdout",
          "text": [
            "(Epoch 4) VALID LOSS:0.4611 ACC:0.83 F1:0.63 REC:0.64 PRE:0.68\n"
          ]
        },
        {
          "output_type": "stream",
          "name": "stderr",
          "text": [
            "\r  0%|          | 0/175 [00:00<?, ?it/s]/usr/local/lib/python3.10/dist-packages/torch/utils/data/dataloader.py:560: UserWarning: This DataLoader will create 16 worker processes in total. Our suggested max number of worker in current system is 2, which is smaller than what this DataLoader is going to create. Please be aware that excessive worker creation might get DataLoader running slow or even freeze, lower the worker number to avoid potential slowness/freeze if necessary.\n",
            "  warnings.warn(_create_warning_msg(\n",
            "(Epoch 5) TRAIN LOSS:0.3402 LR:0.00000300: 100%|██████████| 175/175 [01:09<00:00,  2.53it/s]\n"
          ]
        },
        {
          "output_type": "stream",
          "name": "stdout",
          "text": [
            "(Epoch 5) TRAIN LOSS:0.3402 ACC:0.87 F1:0.70 REC:0.69 PRE:0.76 LR:0.00000300\n"
          ]
        },
        {
          "output_type": "stream",
          "name": "stderr",
          "text": [
            "\r  0%|          | 0/51 [00:00<?, ?it/s]/usr/local/lib/python3.10/dist-packages/torch/utils/data/dataloader.py:560: UserWarning: This DataLoader will create 16 worker processes in total. Our suggested max number of worker in current system is 2, which is smaller than what this DataLoader is going to create. Please be aware that excessive worker creation might get DataLoader running slow or even freeze, lower the worker number to avoid potential slowness/freeze if necessary.\n",
            "  warnings.warn(_create_warning_msg(\n",
            "VALID LOSS:0.4718 ACC:0.82 F1:0.66 REC:0.66 PRE:0.67: 100%|██████████| 51/51 [00:08<00:00,  5.70it/s]\n"
          ]
        },
        {
          "output_type": "stream",
          "name": "stdout",
          "text": [
            "(Epoch 5) VALID LOSS:0.4718 ACC:0.82 F1:0.66 REC:0.66 PRE:0.67\n"
          ]
        },
        {
          "output_type": "stream",
          "name": "stderr",
          "text": [
            "\r  0%|          | 0/175 [00:00<?, ?it/s]/usr/local/lib/python3.10/dist-packages/torch/utils/data/dataloader.py:560: UserWarning: This DataLoader will create 16 worker processes in total. Our suggested max number of worker in current system is 2, which is smaller than what this DataLoader is going to create. Please be aware that excessive worker creation might get DataLoader running slow or even freeze, lower the worker number to avoid potential slowness/freeze if necessary.\n",
            "  warnings.warn(_create_warning_msg(\n",
            "(Epoch 6) TRAIN LOSS:0.3044 LR:0.00000300: 100%|██████████| 175/175 [01:08<00:00,  2.56it/s]\n"
          ]
        },
        {
          "output_type": "stream",
          "name": "stdout",
          "text": [
            "(Epoch 6) TRAIN LOSS:0.3044 ACC:0.88 F1:0.73 REC:0.72 PRE:0.78 LR:0.00000300\n"
          ]
        },
        {
          "output_type": "stream",
          "name": "stderr",
          "text": [
            "\r  0%|          | 0/51 [00:00<?, ?it/s]/usr/local/lib/python3.10/dist-packages/torch/utils/data/dataloader.py:560: UserWarning: This DataLoader will create 16 worker processes in total. Our suggested max number of worker in current system is 2, which is smaller than what this DataLoader is going to create. Please be aware that excessive worker creation might get DataLoader running slow or even freeze, lower the worker number to avoid potential slowness/freeze if necessary.\n",
            "  warnings.warn(_create_warning_msg(\n",
            "VALID LOSS:0.5071 ACC:0.81 F1:0.64 REC:0.64 PRE:0.65: 100%|██████████| 51/51 [00:09<00:00,  5.36it/s]\n"
          ]
        },
        {
          "output_type": "stream",
          "name": "stdout",
          "text": [
            "(Epoch 6) VALID LOSS:0.5071 ACC:0.81 F1:0.64 REC:0.64 PRE:0.65\n"
          ]
        },
        {
          "output_type": "stream",
          "name": "stderr",
          "text": [
            "\r  0%|          | 0/175 [00:00<?, ?it/s]/usr/local/lib/python3.10/dist-packages/torch/utils/data/dataloader.py:560: UserWarning: This DataLoader will create 16 worker processes in total. Our suggested max number of worker in current system is 2, which is smaller than what this DataLoader is going to create. Please be aware that excessive worker creation might get DataLoader running slow or even freeze, lower the worker number to avoid potential slowness/freeze if necessary.\n",
            "  warnings.warn(_create_warning_msg(\n",
            "(Epoch 7) TRAIN LOSS:0.2651 LR:0.00000300: 100%|██████████| 175/175 [01:08<00:00,  2.55it/s]\n"
          ]
        },
        {
          "output_type": "stream",
          "name": "stdout",
          "text": [
            "(Epoch 7) TRAIN LOSS:0.2651 ACC:0.90 F1:0.78 REC:0.76 PRE:0.81 LR:0.00000300\n"
          ]
        },
        {
          "output_type": "stream",
          "name": "stderr",
          "text": [
            "\r  0%|          | 0/51 [00:00<?, ?it/s]/usr/local/lib/python3.10/dist-packages/torch/utils/data/dataloader.py:560: UserWarning: This DataLoader will create 16 worker processes in total. Our suggested max number of worker in current system is 2, which is smaller than what this DataLoader is going to create. Please be aware that excessive worker creation might get DataLoader running slow or even freeze, lower the worker number to avoid potential slowness/freeze if necessary.\n",
            "  warnings.warn(_create_warning_msg(\n",
            "VALID LOSS:0.5262 ACC:0.81 F1:0.65 REC:0.66 PRE:0.66: 100%|██████████| 51/51 [00:09<00:00,  5.47it/s]"
          ]
        },
        {
          "output_type": "stream",
          "name": "stdout",
          "text": [
            "(Epoch 7) VALID LOSS:0.5262 ACC:0.81 F1:0.65 REC:0.66 PRE:0.66\n"
          ]
        },
        {
          "output_type": "stream",
          "name": "stderr",
          "text": [
            "\n"
          ]
        }
      ],
      "source": [
        "# Train\n",
        "n_epochs = 7\n",
        "history = defaultdict(list)\n",
        "for epoch in range(n_epochs):\n",
        "    model.train()\n",
        "    torch.set_grad_enabled(True)\n",
        "\n",
        "    total_train_loss = 0\n",
        "    list_hyp_train, list_label = [], []\n",
        "\n",
        "    train_pbar = tqdm(train_loader, leave=True, total=len(train_loader))\n",
        "    for i, batch_data in enumerate(train_pbar):\n",
        "        # Forward model\n",
        "        loss, batch_hyp, batch_label = forward_sequence_classification(model, batch_data[:-1], i2w=i2w, device='cuda')\n",
        "\n",
        "        # Update model\n",
        "        optimizer.zero_grad()\n",
        "        loss.backward()\n",
        "        optimizer.step()\n",
        "\n",
        "        tr_loss = loss.item()\n",
        "        total_train_loss = total_train_loss + tr_loss\n",
        "\n",
        "        # Hitung skor train metrics\n",
        "        list_hyp_train += batch_hyp\n",
        "        list_label += batch_label\n",
        "\n",
        "        train_pbar.set_description(\"(Epoch {}) TRAIN LOSS:{:.4f} LR:{:.8f}\".format((epoch+1),\n",
        "            total_train_loss/(i+1), get_lr(optimizer)))\n",
        "\n",
        "    metrics = document_sentiment_metrics_fn(list_hyp_train, list_label)\n",
        "    print(\"(Epoch {}) TRAIN LOSS:{:.4f} {} LR:{:.8f}\".format((epoch+1),\n",
        "        total_train_loss/(i+1), metrics_to_string(metrics), get_lr(optimizer)))\n",
        "\n",
        "    # save train acc for learning curve\n",
        "    history['train_acc'].append(metrics['ACC'])\n",
        "\n",
        "    # Evaluate di validation set\n",
        "    model.eval()\n",
        "    torch.set_grad_enabled(False)\n",
        "\n",
        "    total_loss, total_correct, total_labels = 0, 0, 0\n",
        "    list_hyp, list_label = [], []\n",
        "\n",
        "    pbar = tqdm(valid_loader, leave=True, total=len(valid_loader))\n",
        "    for i, batch_data in enumerate(pbar):\n",
        "        batch_seq = batch_data[-1]\n",
        "        loss, batch_hyp, batch_label = forward_sequence_classification(model, batch_data[:-1], i2w=i2w, device='cuda')\n",
        "\n",
        "        # Hitung total loss\n",
        "        valid_loss = loss.item()\n",
        "        total_loss = total_loss + valid_loss\n",
        "\n",
        "        # Hitung skor evaluation metrics\n",
        "        list_hyp += batch_hyp\n",
        "        list_label += batch_label\n",
        "        metrics = document_sentiment_metrics_fn(list_hyp, list_label)\n",
        "\n",
        "        pbar.set_description(\"VALID LOSS:{:.4f} {}\".format(total_loss/(i+1), metrics_to_string(metrics)))\n",
        "\n",
        "    metrics = document_sentiment_metrics_fn(list_hyp, list_label)\n",
        "    print(\"(Epoch {}) VALID LOSS:{:.4f} {}\".format((epoch+1),\n",
        "        total_loss/(i+1), metrics_to_string(metrics)))\n",
        "\n",
        "    # save validation acc for learning curve\n",
        "    history['val_acc'].append(metrics['ACC'])"
      ]
    },
    {
      "cell_type": "markdown",
      "metadata": {
        "id": "doUUU4O0PjJO"
      },
      "source": [
        "### Learning Curve"
      ]
    },
    {
      "cell_type": "code",
      "execution_count": 126,
      "metadata": {
        "colab": {
          "base_uri": "https://localhost:8080/",
          "height": 508
        },
        "id": "dYzpLwbiZVyq",
        "outputId": "5d1b39b4-39f5-4ddf-e1e1-ffefcdb9645c"
      },
      "outputs": [
        {
          "output_type": "display_data",
          "data": {
            "text/plain": [
              "<Figure size 640x480 with 1 Axes>"
            ],
            "image/png": "[encoded data removed]"
          },
          "metadata": {}
        }
      ],
      "source": [
        "plt.plot(history['train_acc'], label='train acc')\n",
        "plt.plot(history['val_acc'], label='validation acc')\n",
        "plt.title('Training history')\n",
        "plt.ylabel('acc')\n",
        "plt.xlabel('Epoch')\n",
        "plt.legend()\n",
        "plt.ylim([0, 1]);"
      ]
    },
    {
      "cell_type": "code",
      "execution_count": 127,
      "metadata": {
        "id": "uoXQFKD5xd3J"
      },
      "outputs": [],
      "source": [
        "# Simpan Hasil Prediksi Validation Set\n",
        "val_df = pd.read_csv(valid_dataset_path, sep='\\t', names=['review_text', 'category'])\n",
        "val_df['pred'] = list_hyp\n",
        "val_df.head()\n",
        "val_df.to_csv('val result.csv', index=False)"
      ]
    },
    {
      "cell_type": "markdown",
      "metadata": {
        "id": "JY7LeCMAyR-4"
      },
      "source": [
        "## f. Prediksi Test Set"
      ]
    },
    {
      "cell_type": "code",
      "execution_count": 128,
      "metadata": {
        "colab": {
          "base_uri": "https://localhost:8080/"
        },
        "id": "T8XQ76juyTpF",
        "outputId": "60f07ab4-93e3-44f6-e288-2f083f1f33cf"
      },
      "outputs": [
        {
          "output_type": "stream",
          "name": "stderr",
          "text": [
            "\r  0%|          | 0/25 [00:00<?, ?it/s]/usr/local/lib/python3.10/dist-packages/torch/utils/data/dataloader.py:560: UserWarning: This DataLoader will create 16 worker processes in total. Our suggested max number of worker in current system is 2, which is smaller than what this DataLoader is going to create. Please be aware that excessive worker creation might get DataLoader running slow or even freeze, lower the worker number to avoid potential slowness/freeze if necessary.\n",
            "  warnings.warn(_create_warning_msg(\n",
            "100%|██████████| 25/25 [00:05<00:00,  4.97it/s]\n"
          ]
        }
      ],
      "source": [
        "# Prediksi test set\n",
        "model.eval()\n",
        "torch.set_grad_enabled(False)\n",
        "\n",
        "total_loss, total_correct, total_labels = 0, 0, 0\n",
        "pred, list_label = [], []\n",
        "\n",
        "pbar = tqdm(test_loader, leave=True, total=len(test_loader))\n",
        "for i, batch_data in enumerate(pbar):\n",
        "    _, batch_hyp, _ = forward_sequence_classification(model, batch_data[:-1], i2w=i2w, device='cuda')\n",
        "    pred += batch_hyp"
      ]
    },
    {
      "cell_type": "code",
      "execution_count": 129,
      "metadata": {
        "id": "uUIhv4hP1oJY"
      },
      "outputs": [],
      "source": [
        "# Simpan prediksi test set\n",
        "test_df = pd.read_csv(test_dataset_path, sep='\\t', names=['review_text', 'category'])\n",
        "test_df['pred'] = pred\n",
        "test_df.head()\n",
        "test_df.to_csv('test result.csv', index=False)"
      ]
    },
    {
      "cell_type": "markdown",
      "metadata": {
        "id": "Qhyz7aMCAeb4"
      },
      "source": [
        "## e. Test fine-tuned model on sample sentences"
      ]
    },
    {
      "cell_type": "code",
      "execution_count": 130,
      "metadata": {
        "colab": {
          "base_uri": "https://localhost:8080/"
        },
        "id": "CxY6ymrQAtWA",
        "outputId": "4e976647-e53d-46cc-abf5-45573d04047e"
      },
      "outputs": [
        {
          "output_type": "stream",
          "name": "stdout",
          "text": [
            "Text: Tolong tingkatkan lagi. Lagi enak2 nonton sampai pertengahan suka mbalik lagi ke awal. Ksel bgt gtu2 terus jadi ga nyaman bgt. Pdhl pngen nostalgia senitron2 lama tapi aplikasi nya krg memuaskan bgt ...!!!!!!! | Label : negative (51.072%)\n"
          ]
        }
      ],
      "source": [
        "text = 'Tolong tingkatkan lagi. Lagi enak2 nonton sampai pertengahan suka mbalik lagi ke awal. Ksel bgt gtu2 terus jadi ga nyaman bgt. Pdhl pngen nostalgia senitron2 lama tapi aplikasi nya krg memuaskan bgt ...!!!!!!!'\n",
        "subwords = tokenizer.encode(text)\n",
        "subwords = torch.LongTensor(subwords).view(1, -1).to(model.device)\n",
        "\n",
        "logits = model(subwords)[0]\n",
        "label = torch.topk(logits, k=1, dim=-1)[1].squeeze().item()\n",
        "\n",
        "print(f'Text: {text} | Label : {i2w[label]} ({F.softmax(logits, dim=-1).squeeze()[label] * 100:.3f}%)')"
      ]
    },
    {
      "cell_type": "code",
      "execution_count": 131,
      "metadata": {
        "colab": {
          "base_uri": "https://localhost:8080/"
        },
        "id": "E2p2ed5gAvrS",
        "outputId": "c7de1f91-7379-41cf-d31d-3752cc3a2a0c"
      },
      "outputs": [
        {
          "output_type": "stream",
          "name": "stdout",
          "text": [
            "Text: Suka banget sm vision smoga lancar lancar terus | Label : positive (99.686%)\n"
          ]
        }
      ],
      "source": [
        "text = 'Suka banget sm vision smoga lancar lancar terus'\n",
        "subwords = tokenizer.encode(text)\n",
        "subwords = torch.LongTensor(subwords).view(1, -1).to(model.device)\n",
        "\n",
        "logits = model(subwords)[0]\n",
        "label = torch.topk(logits, k=1, dim=-1)[1].squeeze().item()\n",
        "\n",
        "print(f'Text: {text} | Label : {i2w[label]} ({F.softmax(logits, dim=-1).squeeze()[label] * 100:.3f}%)')"
      ]
    },
    {
      "cell_type": "code",
      "execution_count": 132,
      "metadata": {
        "colab": {
          "base_uri": "https://localhost:8080/"
        },
        "id": "VQGgwcLHAxqy",
        "outputId": "39884af4-0858-43f8-a907-876190511869"
      },
      "outputs": [
        {
          "output_type": "stream",
          "name": "stdout",
          "text": [
            "Text: permisi masalah kendala kemarin sudah selesai sekarang ada kendala lagi kenapa sekarang tidak ada load more nya ya sekarang kalo mau scroll episode kebawah lama banget dan juga agak eror karena setiap saya scroll kebawah untuk episode berikut nya selalu kembali ke halaman pencarian tolong ya diperbaiki dan saran saya kalo bisa di buat auto play untuk episode selanjutnya | Label : neutral (58.574%)\n"
          ]
        }
      ],
      "source": [
        "text = 'permisi masalah kendala kemarin sudah selesai sekarang ada kendala lagi kenapa sekarang tidak ada load more nya ya sekarang kalo mau scroll episode kebawah lama banget dan juga agak eror karena setiap saya scroll kebawah untuk episode berikut nya selalu kembali ke halaman pencarian tolong ya diperbaiki dan saran saya kalo bisa di buat auto play untuk episode selanjutnya'\n",
        "subwords = tokenizer.encode(text)\n",
        "subwords = torch.LongTensor(subwords).view(1, -1).to(model.device)\n",
        "\n",
        "logits = model(subwords)[0]\n",
        "label = torch.topk(logits, k=1, dim=-1)[1].squeeze().item()\n",
        "\n",
        "print(f'Text: {text} | Label : {i2w[label]} ({F.softmax(logits, dim=-1).squeeze()[label] * 100:.3f}%)')"
      ]
    },
    {
      "cell_type": "markdown",
      "metadata": {
        "id": "cS5jEnRrPvm_"
      },
      "source": [
        "# 6. Evaluasi"
      ]
    },
    {
      "cell_type": "code",
      "execution_count": 133,
      "metadata": {
        "id": "zMSkxyV-M1Y7"
      },
      "outputs": [],
      "source": [
        "val_real = val_df.category\n",
        "val_pred = val_df.pred\n",
        "\n",
        "test_real = test_df.category\n",
        "test_pred = test_df.pred"
      ]
    },
    {
      "cell_type": "code",
      "execution_count": 134,
      "metadata": {
        "colab": {
          "base_uri": "https://localhost:8080/",
          "height": 489
        },
        "id": "mi3iklJsKsdN",
        "outputId": "36f1ed0b-a28e-48e2-e2c8-d942537f13a7"
      },
      "outputs": [
        {
          "output_type": "display_data",
          "data": {
            "text/plain": [
              "<Figure size 640x480 with 2 Axes>"
            ],
            "image/png": "[encoded data removed]"
          },
          "metadata": {}
        }
      ],
      "source": [
        "def show_confusion_matrix(confusion_matrix):\n",
        "  hmap = sns.heatmap(confusion_matrix, annot=True, fmt=\"d\", cmap=\"Blues\")\n",
        "  hmap.yaxis.set_ticklabels(hmap.yaxis.get_ticklabels(), rotation=0, ha='right')\n",
        "  hmap.xaxis.set_ticklabels(hmap.xaxis.get_ticklabels(), rotation=30, ha='right')\n",
        "  plt.ylabel('True sentiment')\n",
        "  plt.xlabel('Predicted sentiment');\n",
        "\n",
        "cm = confusion_matrix(val_real, val_pred)\n",
        "df_cm = pd.DataFrame(cm, index=['positive', 'neutral', 'negative'], columns=['positive', 'neutral', 'negative'])\n",
        "show_confusion_matrix(df_cm)"
      ]
    },
    {
      "cell_type": "code",
      "execution_count": 135,
      "metadata": {
        "colab": {
          "base_uri": "https://localhost:8080/"
        },
        "id": "uH_AbCgkxFQw",
        "outputId": "dd1c9da7-3c98-4b4e-b5fc-13b6fa7fb0e8"
      },
      "outputs": [
        {
          "output_type": "stream",
          "name": "stdout",
          "text": [
            "              precision    recall  f1-score   support\n",
            "\n",
            "    positive       0.78      0.87      0.83       615\n",
            "     neutral       0.27      0.23      0.25       145\n",
            "    negative       0.92      0.86      0.89       848\n",
            "\n",
            "    accuracy                           0.81      1608\n",
            "   macro avg       0.66      0.66      0.65      1608\n",
            "weighted avg       0.81      0.81      0.81      1608\n",
            "\n"
          ]
        }
      ],
      "source": [
        "print(classification_report(val_real, val_pred, target_names=['positive', 'neutral', 'negative']))"
      ]
    },
    {
      "cell_type": "code",
      "execution_count": 136,
      "metadata": {
        "colab": {
          "base_uri": "https://localhost:8080/",
          "height": 489
        },
        "id": "IPgzBcKdz08F",
        "outputId": "688c88ac-5e54-46be-916f-8379b873acc4"
      },
      "outputs": [
        {
          "output_type": "display_data",
          "data": {
            "text/plain": [
              "<Figure size 640x480 with 2 Axes>"
            ],
            "image/png": "[encoded data removed]"
          },
          "metadata": {}
        }
      ],
      "source": [
        "def show_confusion_matrix(confusion_matrix):\n",
        "  hmap = sns.heatmap(confusion_matrix, annot=True, fmt=\"d\", cmap=\"Blues\")\n",
        "  hmap.yaxis.set_ticklabels(hmap.yaxis.get_ticklabels(), rotation=0, ha='right')\n",
        "  hmap.xaxis.set_ticklabels(hmap.xaxis.get_ticklabels(), rotation=30, ha='right')\n",
        "  plt.ylabel('True sentiment')\n",
        "  plt.xlabel('Predicted sentiment');\n",
        "\n",
        "cm = confusion_matrix(test_real, test_pred)\n",
        "df_cm = pd.DataFrame(cm, index=['positive', 'neutral', 'negative'], columns=['positive', 'neutral', 'negative'])\n",
        "show_confusion_matrix(df_cm)"
      ]
    },
    {
      "cell_type": "code",
      "execution_count": 137,
      "metadata": {
        "colab": {
          "base_uri": "https://localhost:8080/"
        },
        "id": "DkMoab730HT3",
        "outputId": "4f84d5fc-1dc2-4ec7-88f4-b45eddcea510"
      },
      "outputs": [
        {
          "output_type": "stream",
          "name": "stdout",
          "text": [
            "              precision    recall  f1-score   support\n",
            "\n",
            "    positive       0.78      0.88      0.83       303\n",
            "     neutral       0.30      0.24      0.27        71\n",
            "    negative       0.92      0.87      0.90       418\n",
            "\n",
            "    accuracy                           0.82       792\n",
            "   macro avg       0.67      0.66      0.66       792\n",
            "weighted avg       0.81      0.82      0.81       792\n",
            "\n"
          ]
        }
      ],
      "source": [
        "print(classification_report(test_real, test_pred, target_names=['positive', 'neutral', 'negative']))"
      ]
    },
    {
      "cell_type": "code",
      "execution_count": 137,
      "metadata": {
        "id": "Lza3ZftC2MCH"
      },
      "outputs": [],
      "source": []
    }
  ],
  "metadata": {
    "accelerator": "GPU",
    "colab": {
      "provenance": []
    },
    "kernelspec": {
      "display_name": "Python 3",
      "name": "python3"
    },
    "language_info": {
      "codemirror_mode": {
        "name": "ipython",
        "version": 3
      },
      "file_extension": ".py",
      "mimetype": "text/x-python",
      "name": "python",
      "nbconvert_exporter": "python",
      "pygments_lexer": "ipython3",
      "version": "3.9.4"
    },
    "widgets": {
      "application/vnd.jupyter.widget-state+json": {
        "db872fe6863b4968854bf9762ee1f15e": {
          "model_module": "@jupyter-widgets/controls",
          "model_name": "HBoxModel",
          "model_module_version": "1.5.0",
          "state": {
            "_dom_classes": [],
            "_model_module": "@jupyter-widgets/controls",
            "_model_module_version": "1.5.0",
            "_model_name": "HBoxModel",
            "_view_count": null,
            "_view_module": "@jupyter-widgets/controls",
            "_view_module_version": "1.5.0",
            "_view_name": "HBoxView",
            "box_style": "",
            "children": [
              "IPY_MODEL_5dc179e0f37d42829bf96f90c9036e72",
              "IPY_MODEL_1efd93f26cae4662868b444e45c1c945",
              "IPY_MODEL_3a23e43b0605489eb827cc83d98c357f"
            ],
            "version_major": 2,
            "version_minor": 0,
            "layout": "IPY_MODEL_ce8c07d80fa74d0a8c4169ce1e5121ec"
          }
        },
        "5dc179e0f37d42829bf96f90c9036e72": {
          "model_module": "@jupyter-widgets/controls",
          "model_name": "HTMLModel",
          "model_module_version": "1.5.0",
          "state": {
            "_dom_classes": [],
            "_model_module": "@jupyter-widgets/controls",
            "_model_module_version": "1.5.0",
            "_model_name": "HTMLModel",
            "_view_count": null,
            "_view_module": "@jupyter-widgets/controls",
            "_view_module_version": "1.5.0",
            "_view_name": "HTMLView",
            "description": "",
            "description_tooltip": null,
            "layout": "IPY_MODEL_d56aa25118524897beb7a275cae4650b",
            "placeholder": "​",
            "style": "IPY_MODEL_8e063fe80de1453da0039fbf974eba89",
            "value": "Downloading (…)solve/main/vocab.txt: 100%"
          }
        },
        "1efd93f26cae4662868b444e45c1c945": {
          "model_module": "@jupyter-widgets/controls",
          "model_name": "FloatProgressModel",
          "model_module_version": "1.5.0",
          "state": {
            "_dom_classes": [],
            "_model_module": "@jupyter-widgets/controls",
            "_model_module_version": "1.5.0",
            "_model_name": "FloatProgressModel",
            "_view_count": null,
            "_view_module": "@jupyter-widgets/controls",
            "_view_module_version": "1.5.0",
            "_view_name": "ProgressView",
            "bar_style": "success",
            "description": "",
            "description_tooltip": null,
            "layout": "IPY_MODEL_37375b806aa2445f9bf76d481904c56a",
            "max": 229167,
            "min": 0,
            "orientation": "horizontal",
            "style": "IPY_MODEL_d23e0b2cce9b4fa2bc515535120df5aa",
            "value": 229167
          }
        },
        "3a23e43b0605489eb827cc83d98c357f": {
          "model_module": "@jupyter-widgets/controls",
          "model_name": "HTMLModel",
          "model_module_version": "1.5.0",
          "state": {
            "_dom_classes": [],
            "_model_module": "@jupyter-widgets/controls",
            "_model_module_version": "1.5.0",
            "_model_name": "HTMLModel",
            "_view_count": null,
            "_view_module": "@jupyter-widgets/controls",
            "_view_module_version": "1.5.0",
            "_view_name": "HTMLView",
            "description": "",
            "description_tooltip": null,
            "layout": "IPY_MODEL_2600930946b143ac81ebb82150d26b13",
            "placeholder": "​",
            "style": "IPY_MODEL_594ecda1e02e46d3ba33cec4209b1f28",
            "value": " 229k/229k [00:00&lt;00:00, 2.45MB/s]"
          }
        },
        "ce8c07d80fa74d0a8c4169ce1e5121ec": {
          "model_module": "@jupyter-widgets/base",
          "model_name": "LayoutModel",
          "model_module_version": "1.2.0",
          "state": {
            "_model_module": "@jupyter-widgets/base",
            "_model_module_version": "1.2.0",
            "_model_name": "LayoutModel",
            "_view_count": null,
            "_view_module": "@jupyter-widgets/base",
            "_view_module_version": "1.2.0",
            "_view_name": "LayoutView",
            "align_content": null,
            "align_items": null,
            "align_self": null,
            "border": null,
            "bottom": null,
            "display": null,
            "flex": null,
            "flex_flow": null,
            "grid_area": null,
            "grid_auto_columns": null,
            "grid_auto_flow": null,
            "grid_auto_rows": null,
            "grid_column": null,
            "grid_gap": null,
            "grid_row": null,
            "grid_template_areas": null,
            "grid_template_columns": null,
            "grid_template_rows": null,
            "height": null,
            "justify_content": null,
            "justify_items": null,
            "left": null,
            "margin": null,
            "max_height": null,
            "max_width": null,
            "min_height": null,
            "min_width": null,
            "object_fit": null,
            "object_position": null,
            "order": null,
            "overflow": null,
            "overflow_x": null,
            "overflow_y": null,
            "padding": null,
            "right": null,
            "top": null,
            "visibility": null,
            "width": null
          }
        },
        "d56aa25118524897beb7a275cae4650b": {
          "model_module": "@jupyter-widgets/base",
          "model_name": "LayoutModel",
          "model_module_version": "1.2.0",
          "state": {
            "_model_module": "@jupyter-widgets/base",
            "_model_module_version": "1.2.0",
            "_model_name": "LayoutModel",
            "_view_count": null,
            "_view_module": "@jupyter-widgets/base",
            "_view_module_version": "1.2.0",
            "_view_name": "LayoutView",
            "align_content": null,
            "align_items": null,
            "align_self": null,
            "border": null,
            "bottom": null,
            "display": null,
            "flex": null,
            "flex_flow": null,
            "grid_area": null,
            "grid_auto_columns": null,
            "grid_auto_flow": null,
            "grid_auto_rows": null,
            "grid_column": null,
            "grid_gap": null,
            "grid_row": null,
            "grid_template_areas": null,
            "grid_template_columns": null,
            "grid_template_rows": null,
            "height": null,
            "justify_content": null,
            "justify_items": null,
            "left": null,
            "margin": null,
            "max_height": null,
            "max_width": null,
            "min_height": null,
            "min_width": null,
            "object_fit": null,
            "object_position": null,
            "order": null,
            "overflow": null,
            "overflow_x": null,
            "overflow_y": null,
            "padding": null,
            "right": null,
            "top": null,
            "visibility": null,
            "width": null
          }
        },
        "8e063fe80de1453da0039fbf974eba89": {
          "model_module": "@jupyter-widgets/controls",
          "model_name": "DescriptionStyleModel",
          "model_module_version": "1.5.0",
          "state": {
            "_model_module": "@jupyter-widgets/controls",
            "_model_module_version": "1.5.0",
            "_model_name": "DescriptionStyleModel",
            "_view_count": null,
            "_view_module": "@jupyter-widgets/base",
            "_view_module_version": "1.2.0",
            "_view_name": "StyleView",
            "description_width": ""
          }
        },
        "37375b806aa2445f9bf76d481904c56a": {
          "model_module": "@jupyter-widgets/base",
          "model_name": "LayoutModel",
          "model_module_version": "1.2.0",
          "state": {
            "_model_module": "@jupyter-widgets/base",
            "_model_module_version": "1.2.0",
            "_model_name": "LayoutModel",
            "_view_count": null,
            "_view_module": "@jupyter-widgets/base",
            "_view_module_version": "1.2.0",
            "_view_name": "LayoutView",
            "align_content": null,
            "align_items": null,
            "align_self": null,
            "border": null,
            "bottom": null,
            "display": null,
            "flex": null,
            "flex_flow": null,
            "grid_area": null,
            "grid_auto_columns": null,
            "grid_auto_flow": null,
            "grid_auto_rows": null,
            "grid_column": null,
            "grid_gap": null,
            "grid_row": null,
            "grid_template_areas": null,
            "grid_template_columns": null,
            "grid_template_rows": null,
            "height": null,
            "justify_content": null,
            "justify_items": null,
            "left": null,
            "margin": null,
            "max_height": null,
            "max_width": null,
            "min_height": null,
            "min_width": null,
            "object_fit": null,
            "object_position": null,
            "order": null,
            "overflow": null,
            "overflow_x": null,
            "overflow_y": null,
            "padding": null,
            "right": null,
            "top": null,
            "visibility": null,
            "width": null
          }
        },
        "d23e0b2cce9b4fa2bc515535120df5aa": {
          "model_module": "@jupyter-widgets/controls",
          "model_name": "ProgressStyleModel",
          "model_module_version": "1.5.0",
          "state": {
            "_model_module": "@jupyter-widgets/controls",
            "_model_module_version": "1.5.0",
            "_model_name": "ProgressStyleModel",
            "_view_count": null,
            "_view_module": "@jupyter-widgets/base",
            "_view_module_version": "1.2.0",
            "_view_name": "StyleView",
            "bar_color": null,
            "description_width": ""
          }
        },
        "2600930946b143ac81ebb82150d26b13": {
          "model_module": "@jupyter-widgets/base",
          "model_name": "LayoutModel",
          "model_module_version": "1.2.0",
          "state": {
            "_model_module": "@jupyter-widgets/base",
            "_model_module_version": "1.2.0",
            "_model_name": "LayoutModel",
            "_view_count": null,
            "_view_module": "@jupyter-widgets/base",
            "_view_module_version": "1.2.0",
            "_view_name": "LayoutView",
            "align_content": null,
            "align_items": null,
            "align_self": null,
            "border": null,
            "bottom": null,
            "display": null,
            "flex": null,
            "flex_flow": null,
            "grid_area": null,
            "grid_auto_columns": null,
            "grid_auto_flow": null,
            "grid_auto_rows": null,
            "grid_column": null,
            "grid_gap": null,
            "grid_row": null,
            "grid_template_areas": null,
            "grid_template_columns": null,
            "grid_template_rows": null,
            "height": null,
            "justify_content": null,
            "justify_items": null,
            "left": null,
            "margin": null,
            "max_height": null,
            "max_width": null,
            "min_height": null,
            "min_width": null,
            "object_fit": null,
            "object_position": null,
            "order": null,
            "overflow": null,
            "overflow_x": null,
            "overflow_y": null,
            "padding": null,
            "right": null,
            "top": null,
            "visibility": null,
            "width": null
          }
        },
        "594ecda1e02e46d3ba33cec4209b1f28": {
          "model_module": "@jupyter-widgets/controls",
          "model_name": "DescriptionStyleModel",
          "model_module_version": "1.5.0",
          "state": {
            "_model_module": "@jupyter-widgets/controls",
            "_model_module_version": "1.5.0",
            "_model_name": "DescriptionStyleModel",
            "_view_count": null,
            "_view_module": "@jupyter-widgets/base",
            "_view_module_version": "1.2.0",
            "_view_name": "StyleView",
            "description_width": ""
          }
        },
        "453783ce894f48cbbfbecd0d38184d7f": {
          "model_module": "@jupyter-widgets/controls",
          "model_name": "HBoxModel",
          "model_module_version": "1.5.0",
          "state": {
            "_dom_classes": [],
            "_model_module": "@jupyter-widgets/controls",
            "_model_module_version": "1.5.0",
            "_model_name": "HBoxModel",
            "_view_count": null,
            "_view_module": "@jupyter-widgets/controls",
            "_view_module_version": "1.5.0",
            "_view_name": "HBoxView",
            "box_style": "",
            "children": [
              "IPY_MODEL_4d6b06b9d3fb4334802cbf4dd8952506",
              "IPY_MODEL_fc5c96c44d544eb1ac29e5a61b52f24d",
              "IPY_MODEL_92ad7dd765ee4d36b9d88f82d0979ea0"
            ],
            "layout": "IPY_MODEL_32352bfbfcce497f9a7c77b0f54cdf46"
          }
        },
        "4d6b06b9d3fb4334802cbf4dd8952506": {
          "model_module": "@jupyter-widgets/controls",
          "model_name": "HTMLModel",
          "model_module_version": "1.5.0",
          "state": {
            "_dom_classes": [],
            "_model_module": "@jupyter-widgets/controls",
            "_model_module_version": "1.5.0",
            "_model_name": "HTMLModel",
            "_view_count": null,
            "_view_module": "@jupyter-widgets/controls",
            "_view_module_version": "1.5.0",
            "_view_name": "HTMLView",
            "description": "",
            "description_tooltip": null,
            "layout": "IPY_MODEL_3367eace90c14ed289456ce269367802",
            "placeholder": "​",
            "style": "IPY_MODEL_919e8bbe5a804e1b996d8f12641e7c7e",
            "value": "Downloading (…)cial_tokens_map.json: 100%"
          }
        },
        "fc5c96c44d544eb1ac29e5a61b52f24d": {
          "model_module": "@jupyter-widgets/controls",
          "model_name": "FloatProgressModel",
          "model_module_version": "1.5.0",
          "state": {
            "_dom_classes": [],
            "_model_module": "@jupyter-widgets/controls",
            "_model_module_version": "1.5.0",
            "_model_name": "FloatProgressModel",
            "_view_count": null,
            "_view_module": "@jupyter-widgets/controls",
            "_view_module_version": "1.5.0",
            "_view_name": "ProgressView",
            "bar_style": "success",
            "description": "",
            "description_tooltip": null,
            "layout": "IPY_MODEL_af5b127259884af8ba8ff0faa812e9dc",
            "max": 112,
            "min": 0,
            "orientation": "horizontal",
            "style": "IPY_MODEL_ae91ec929edb4d078abff478bc64afe9",
            "value": 112
          }
        },
        "92ad7dd765ee4d36b9d88f82d0979ea0": {
          "model_module": "@jupyter-widgets/controls",
          "model_name": "HTMLModel",
          "model_module_version": "1.5.0",
          "state": {
            "_dom_classes": [],
            "_model_module": "@jupyter-widgets/controls",
            "_model_module_version": "1.5.0",
            "_model_name": "HTMLModel",
            "_view_count": null,
            "_view_module": "@jupyter-widgets/controls",
            "_view_module_version": "1.5.0",
            "_view_name": "HTMLView",
            "description": "",
            "description_tooltip": null,
            "layout": "IPY_MODEL_66dd41ba93104cbf9e8ae2c02db38a10",
            "placeholder": "​",
            "style": "IPY_MODEL_7c4e46f9437e4ac88ec6ca32f5e40255",
            "value": " 112/112 [00:00&lt;00:00, 2.31kB/s]"
          }
        },
        "32352bfbfcce497f9a7c77b0f54cdf46": {
          "model_module": "@jupyter-widgets/base",
          "model_name": "LayoutModel",
          "model_module_version": "1.2.0",
          "state": {
            "_model_module": "@jupyter-widgets/base",
            "_model_module_version": "1.2.0",
            "_model_name": "LayoutModel",
            "_view_count": null,
            "_view_module": "@jupyter-widgets/base",
            "_view_module_version": "1.2.0",
            "_view_name": "LayoutView",
            "align_content": null,
            "align_items": null,
            "align_self": null,
            "border": null,
            "bottom": null,
            "display": null,
            "flex": null,
            "flex_flow": null,
            "grid_area": null,
            "grid_auto_columns": null,
            "grid_auto_flow": null,
            "grid_auto_rows": null,
            "grid_column": null,
            "grid_gap": null,
            "grid_row": null,
            "grid_template_areas": null,
            "grid_template_columns": null,
            "grid_template_rows": null,
            "height": null,
            "justify_content": null,
            "justify_items": null,
            "left": null,
            "margin": null,
            "max_height": null,
            "max_width": null,
            "min_height": null,
            "min_width": null,
            "object_fit": null,
            "object_position": null,
            "order": null,
            "overflow": null,
            "overflow_x": null,
            "overflow_y": null,
            "padding": null,
            "right": null,
            "top": null,
            "visibility": null,
            "width": null
          }
        },
        "3367eace90c14ed289456ce269367802": {
          "model_module": "@jupyter-widgets/base",
          "model_name": "LayoutModel",
          "model_module_version": "1.2.0",
          "state": {
            "_model_module": "@jupyter-widgets/base",
            "_model_module_version": "1.2.0",
            "_model_name": "LayoutModel",
            "_view_count": null,
            "_view_module": "@jupyter-widgets/base",
            "_view_module_version": "1.2.0",
            "_view_name": "LayoutView",
            "align_content": null,
            "align_items": null,
            "align_self": null,
            "border": null,
            "bottom": null,
            "display": null,
            "flex": null,
            "flex_flow": null,
            "grid_area": null,
            "grid_auto_columns": null,
            "grid_auto_flow": null,
            "grid_auto_rows": null,
            "grid_column": null,
            "grid_gap": null,
            "grid_row": null,
            "grid_template_areas": null,
            "grid_template_columns": null,
            "grid_template_rows": null,
            "height": null,
            "justify_content": null,
            "justify_items": null,
            "left": null,
            "margin": null,
            "max_height": null,
            "max_width": null,
            "min_height": null,
            "min_width": null,
            "object_fit": null,
            "object_position": null,
            "order": null,
            "overflow": null,
            "overflow_x": null,
            "overflow_y": null,
            "padding": null,
            "right": null,
            "top": null,
            "visibility": null,
            "width": null
          }
        },
        "919e8bbe5a804e1b996d8f12641e7c7e": {
          "model_module": "@jupyter-widgets/controls",
          "model_name": "DescriptionStyleModel",
          "model_module_version": "1.5.0",
          "state": {
            "_model_module": "@jupyter-widgets/controls",
            "_model_module_version": "1.5.0",
            "_model_name": "DescriptionStyleModel",
            "_view_count": null,
            "_view_module": "@jupyter-widgets/base",
            "_view_module_version": "1.2.0",
            "_view_name": "StyleView",
            "description_width": ""
          }
        },
        "af5b127259884af8ba8ff0faa812e9dc": {
          "model_module": "@jupyter-widgets/base",
          "model_name": "LayoutModel",
          "model_module_version": "1.2.0",
          "state": {
            "_model_module": "@jupyter-widgets/base",
            "_model_module_version": "1.2.0",
            "_model_name": "LayoutModel",
            "_view_count": null,
            "_view_module": "@jupyter-widgets/base",
            "_view_module_version": "1.2.0",
            "_view_name": "LayoutView",
            "align_content": null,
            "align_items": null,
            "align_self": null,
            "border": null,
            "bottom": null,
            "display": null,
            "flex": null,
            "flex_flow": null,
            "grid_area": null,
            "grid_auto_columns": null,
            "grid_auto_flow": null,
            "grid_auto_rows": null,
            "grid_column": null,
            "grid_gap": null,
            "grid_row": null,
            "grid_template_areas": null,
            "grid_template_columns": null,
            "grid_template_rows": null,
            "height": null,
            "justify_content": null,
            "justify_items": null,
            "left": null,
            "margin": null,
            "max_height": null,
            "max_width": null,
            "min_height": null,
            "min_width": null,
            "object_fit": null,
            "object_position": null,
            "order": null,
            "overflow": null,
            "overflow_x": null,
            "overflow_y": null,
            "padding": null,
            "right": null,
            "top": null,
            "visibility": null,
            "width": null
          }
        },
        "ae91ec929edb4d078abff478bc64afe9": {
          "model_module": "@jupyter-widgets/controls",
          "model_name": "ProgressStyleModel",
          "model_module_version": "1.5.0",
          "state": {
            "_model_module": "@jupyter-widgets/controls",
            "_model_module_version": "1.5.0",
            "_model_name": "ProgressStyleModel",
            "_view_count": null,
            "_view_module": "@jupyter-widgets/base",
            "_view_module_version": "1.2.0",
            "_view_name": "StyleView",
            "bar_color": null,
            "description_width": ""
          }
        },
        "66dd41ba93104cbf9e8ae2c02db38a10": {
          "model_module": "@jupyter-widgets/base",
          "model_name": "LayoutModel",
          "model_module_version": "1.2.0",
          "state": {
            "_model_module": "@jupyter-widgets/base",
            "_model_module_version": "1.2.0",
            "_model_name": "LayoutModel",
            "_view_count": null,
            "_view_module": "@jupyter-widgets/base",
            "_view_module_version": "1.2.0",
            "_view_name": "LayoutView",
            "align_content": null,
            "align_items": null,
            "align_self": null,
            "border": null,
            "bottom": null,
            "display": null,
            "flex": null,
            "flex_flow": null,
            "grid_area": null,
            "grid_auto_columns": null,
            "grid_auto_flow": null,
            "grid_auto_rows": null,
            "grid_column": null,
            "grid_gap": null,
            "grid_row": null,
            "grid_template_areas": null,
            "grid_template_columns": null,
            "grid_template_rows": null,
            "height": null,
            "justify_content": null,
            "justify_items": null,
            "left": null,
            "margin": null,
            "max_height": null,
            "max_width": null,
            "min_height": null,
            "min_width": null,
            "object_fit": null,
            "object_position": null,
            "order": null,
            "overflow": null,
            "overflow_x": null,
            "overflow_y": null,
            "padding": null,
            "right": null,
            "top": null,
            "visibility": null,
            "width": null
          }
        },
        "7c4e46f9437e4ac88ec6ca32f5e40255": {
          "model_module": "@jupyter-widgets/controls",
          "model_name": "DescriptionStyleModel",
          "model_module_version": "1.5.0",
          "state": {
            "_model_module": "@jupyter-widgets/controls",
            "_model_module_version": "1.5.0",
            "_model_name": "DescriptionStyleModel",
            "_view_count": null,
            "_view_module": "@jupyter-widgets/base",
            "_view_module_version": "1.2.0",
            "_view_name": "StyleView",
            "description_width": ""
          }
        },
        "7a38d6641bb840b894c59595d6251444": {
          "model_module": "@jupyter-widgets/controls",
          "model_name": "HBoxModel",
          "model_module_version": "1.5.0",
          "state": {
            "_dom_classes": [],
            "_model_module": "@jupyter-widgets/controls",
            "_model_module_version": "1.5.0",
            "_model_name": "HBoxModel",
            "_view_count": null,
            "_view_module": "@jupyter-widgets/controls",
            "_view_module_version": "1.5.0",
            "_view_name": "HBoxView",
            "box_style": "",
            "children": [
              "IPY_MODEL_2a74d0e53c264589a67b737a56121e0b",
              "IPY_MODEL_afd5cbeb12584ab1b00bb25c58f4b4d9",
              "IPY_MODEL_56c4ad5de7474c938131e677b85801bf"
            ],
            "layout": "IPY_MODEL_76ece55702ff47048c07f6041b090a38"
          }
        },
        "2a74d0e53c264589a67b737a56121e0b": {
          "model_module": "@jupyter-widgets/controls",
          "model_name": "HTMLModel",
          "model_module_version": "1.5.0",
          "state": {
            "_dom_classes": [],
            "_model_module": "@jupyter-widgets/controls",
            "_model_module_version": "1.5.0",
            "_model_name": "HTMLModel",
            "_view_count": null,
            "_view_module": "@jupyter-widgets/controls",
            "_view_module_version": "1.5.0",
            "_view_name": "HTMLView",
            "description": "",
            "description_tooltip": null,
            "layout": "IPY_MODEL_f3d7a0cc083e465e883ec1ea1885b174",
            "placeholder": "​",
            "style": "IPY_MODEL_ce4d6f9dc40a4e698f0daaaf0fc22c1d",
            "value": "Downloading (…)okenizer_config.json: 100%"
          }
        },
        "afd5cbeb12584ab1b00bb25c58f4b4d9": {
          "model_module": "@jupyter-widgets/controls",
          "model_name": "FloatProgressModel",
          "model_module_version": "1.5.0",
          "state": {
            "_dom_classes": [],
            "_model_module": "@jupyter-widgets/controls",
            "_model_module_version": "1.5.0",
            "_model_name": "FloatProgressModel",
            "_view_count": null,
            "_view_module": "@jupyter-widgets/controls",
            "_view_module_version": "1.5.0",
            "_view_name": "ProgressView",
            "bar_style": "success",
            "description": "",
            "description_tooltip": null,
            "layout": "IPY_MODEL_6a4e68fa56e043f3beed880a3284c86b",
            "max": 2,
            "min": 0,
            "orientation": "horizontal",
            "style": "IPY_MODEL_63b11011a86145a5a02ecfc09c206520",
            "value": 2
          }
        },
        "56c4ad5de7474c938131e677b85801bf": {
          "model_module": "@jupyter-widgets/controls",
          "model_name": "HTMLModel",
          "model_module_version": "1.5.0",
          "state": {
            "_dom_classes": [],
            "_model_module": "@jupyter-widgets/controls",
            "_model_module_version": "1.5.0",
            "_model_name": "HTMLModel",
            "_view_count": null,
            "_view_module": "@jupyter-widgets/controls",
            "_view_module_version": "1.5.0",
            "_view_name": "HTMLView",
            "description": "",
            "description_tooltip": null,
            "layout": "IPY_MODEL_5632e7d9b88746cb9b9f3ef283a23db7",
            "placeholder": "​",
            "style": "IPY_MODEL_ee0de6cae5e742459586a0a46daf3bc3",
            "value": " 2.00/2.00 [00:00&lt;00:00, 76.9B/s]"
          }
        },
        "76ece55702ff47048c07f6041b090a38": {
          "model_module": "@jupyter-widgets/base",
          "model_name": "LayoutModel",
          "model_module_version": "1.2.0",
          "state": {
            "_model_module": "@jupyter-widgets/base",
            "_model_module_version": "1.2.0",
            "_model_name": "LayoutModel",
            "_view_count": null,
            "_view_module": "@jupyter-widgets/base",
            "_view_module_version": "1.2.0",
            "_view_name": "LayoutView",
            "align_content": null,
            "align_items": null,
            "align_self": null,
            "border": null,
            "bottom": null,
            "display": null,
            "flex": null,
            "flex_flow": null,
            "grid_area": null,
            "grid_auto_columns": null,
            "grid_auto_flow": null,
            "grid_auto_rows": null,
            "grid_column": null,
            "grid_gap": null,
            "grid_row": null,
            "grid_template_areas": null,
            "grid_template_columns": null,
            "grid_template_rows": null,
            "height": null,
            "justify_content": null,
            "justify_items": null,
            "left": null,
            "margin": null,
            "max_height": null,
            "max_width": null,
            "min_height": null,
            "min_width": null,
            "object_fit": null,
            "object_position": null,
            "order": null,
            "overflow": null,
            "overflow_x": null,
            "overflow_y": null,
            "padding": null,
            "right": null,
            "top": null,
            "visibility": null,
            "width": null
          }
        },
        "f3d7a0cc083e465e883ec1ea1885b174": {
          "model_module": "@jupyter-widgets/base",
          "model_name": "LayoutModel",
          "model_module_version": "1.2.0",
          "state": {
            "_model_module": "@jupyter-widgets/base",
            "_model_module_version": "1.2.0",
            "_model_name": "LayoutModel",
            "_view_count": null,
            "_view_module": "@jupyter-widgets/base",
            "_view_module_version": "1.2.0",
            "_view_name": "LayoutView",
            "align_content": null,
            "align_items": null,
            "align_self": null,
            "border": null,
            "bottom": null,
            "display": null,
            "flex": null,
            "flex_flow": null,
            "grid_area": null,
            "grid_auto_columns": null,
            "grid_auto_flow": null,
            "grid_auto_rows": null,
            "grid_column": null,
            "grid_gap": null,
            "grid_row": null,
            "grid_template_areas": null,
            "grid_template_columns": null,
            "grid_template_rows": null,
            "height": null,
            "justify_content": null,
            "justify_items": null,
            "left": null,
            "margin": null,
            "max_height": null,
            "max_width": null,
            "min_height": null,
            "min_width": null,
            "object_fit": null,
            "object_position": null,
            "order": null,
            "overflow": null,
            "overflow_x": null,
            "overflow_y": null,
            "padding": null,
            "right": null,
            "top": null,
            "visibility": null,
            "width": null
          }
        },
        "ce4d6f9dc40a4e698f0daaaf0fc22c1d": {
          "model_module": "@jupyter-widgets/controls",
          "model_name": "DescriptionStyleModel",
          "model_module_version": "1.5.0",
          "state": {
            "_model_module": "@jupyter-widgets/controls",
            "_model_module_version": "1.5.0",
            "_model_name": "DescriptionStyleModel",
            "_view_count": null,
            "_view_module": "@jupyter-widgets/base",
            "_view_module_version": "1.2.0",
            "_view_name": "StyleView",
            "description_width": ""
          }
        },
        "6a4e68fa56e043f3beed880a3284c86b": {
          "model_module": "@jupyter-widgets/base",
          "model_name": "LayoutModel",
          "model_module_version": "1.2.0",
          "state": {
            "_model_module": "@jupyter-widgets/base",
            "_model_module_version": "1.2.0",
            "_model_name": "LayoutModel",
            "_view_count": null,
            "_view_module": "@jupyter-widgets/base",
            "_view_module_version": "1.2.0",
            "_view_name": "LayoutView",
            "align_content": null,
            "align_items": null,
            "align_self": null,
            "border": null,
            "bottom": null,
            "display": null,
            "flex": null,
            "flex_flow": null,
            "grid_area": null,
            "grid_auto_columns": null,
            "grid_auto_flow": null,
            "grid_auto_rows": null,
            "grid_column": null,
            "grid_gap": null,
            "grid_row": null,
            "grid_template_areas": null,
            "grid_template_columns": null,
            "grid_template_rows": null,
            "height": null,
            "justify_content": null,
            "justify_items": null,
            "left": null,
            "margin": null,
            "max_height": null,
            "max_width": null,
            "min_height": null,
            "min_width": null,
            "object_fit": null,
            "object_position": null,
            "order": null,
            "overflow": null,
            "overflow_x": null,
            "overflow_y": null,
            "padding": null,
            "right": null,
            "top": null,
            "visibility": null,
            "width": null
          }
        },
        "63b11011a86145a5a02ecfc09c206520": {
          "model_module": "@jupyter-widgets/controls",
          "model_name": "ProgressStyleModel",
          "model_module_version": "1.5.0",
          "state": {
            "_model_module": "@jupyter-widgets/controls",
            "_model_module_version": "1.5.0",
            "_model_name": "ProgressStyleModel",
            "_view_count": null,
            "_view_module": "@jupyter-widgets/base",
            "_view_module_version": "1.2.0",
            "_view_name": "StyleView",
            "bar_color": null,
            "description_width": ""
          }
        },
        "5632e7d9b88746cb9b9f3ef283a23db7": {
          "model_module": "@jupyter-widgets/base",
          "model_name": "LayoutModel",
          "model_module_version": "1.2.0",
          "state": {
            "_model_module": "@jupyter-widgets/base",
            "_model_module_version": "1.2.0",
            "_model_name": "LayoutModel",
            "_view_count": null,
            "_view_module": "@jupyter-widgets/base",
            "_view_module_version": "1.2.0",
            "_view_name": "LayoutView",
            "align_content": null,
            "align_items": null,
            "align_self": null,
            "border": null,
            "bottom": null,
            "display": null,
            "flex": null,
            "flex_flow": null,
            "grid_area": null,
            "grid_auto_columns": null,
            "grid_auto_flow": null,
            "grid_auto_rows": null,
            "grid_column": null,
            "grid_gap": null,
            "grid_row": null,
            "grid_template_areas": null,
            "grid_template_columns": null,
            "grid_template_rows": null,
            "height": null,
            "justify_content": null,
            "justify_items": null,
            "left": null,
            "margin": null,
            "max_height": null,
            "max_width": null,
            "min_height": null,
            "min_width": null,
            "object_fit": null,
            "object_position": null,
            "order": null,
            "overflow": null,
            "overflow_x": null,
            "overflow_y": null,
            "padding": null,
            "right": null,
            "top": null,
            "visibility": null,
            "width": null
          }
        },
        "ee0de6cae5e742459586a0a46daf3bc3": {
          "model_module": "@jupyter-widgets/controls",
          "model_name": "DescriptionStyleModel",
          "model_module_version": "1.5.0",
          "state": {
            "_model_module": "@jupyter-widgets/controls",
            "_model_module_version": "1.5.0",
            "_model_name": "DescriptionStyleModel",
            "_view_count": null,
            "_view_module": "@jupyter-widgets/base",
            "_view_module_version": "1.2.0",
            "_view_name": "StyleView",
            "description_width": ""
          }
        },
        "02339125afdd44a19498361f121196c4": {
          "model_module": "@jupyter-widgets/controls",
          "model_name": "HBoxModel",
          "model_module_version": "1.5.0",
          "state": {
            "_dom_classes": [],
            "_model_module": "@jupyter-widgets/controls",
            "_model_module_version": "1.5.0",
            "_model_name": "HBoxModel",
            "_view_count": null,
            "_view_module": "@jupyter-widgets/controls",
            "_view_module_version": "1.5.0",
            "_view_name": "HBoxView",
            "box_style": "",
            "children": [
              "IPY_MODEL_cd117265ec33495998b3ea323358ba96",
              "IPY_MODEL_a1759bd0fada4142914679203a3081f2",
              "IPY_MODEL_b97a33ca3d33420da116eaf9a4b4440d"
            ],
            "layout": "IPY_MODEL_69a530202fc54930ae830f40954a3cd4"
          }
        },
        "cd117265ec33495998b3ea323358ba96": {
          "model_module": "@jupyter-widgets/controls",
          "model_name": "HTMLModel",
          "model_module_version": "1.5.0",
          "state": {
            "_dom_classes": [],
            "_model_module": "@jupyter-widgets/controls",
            "_model_module_version": "1.5.0",
            "_model_name": "HTMLModel",
            "_view_count": null,
            "_view_module": "@jupyter-widgets/controls",
            "_view_module_version": "1.5.0",
            "_view_name": "HTMLView",
            "description": "",
            "description_tooltip": null,
            "layout": "IPY_MODEL_b9e4571f32ec46789815693eafa4bf7b",
            "placeholder": "​",
            "style": "IPY_MODEL_fb20ac4e732f4b8aa2528e32112cf239",
            "value": "Downloading (…)lve/main/config.json: 100%"
          }
        },
        "a1759bd0fada4142914679203a3081f2": {
          "model_module": "@jupyter-widgets/controls",
          "model_name": "FloatProgressModel",
          "model_module_version": "1.5.0",
          "state": {
            "_dom_classes": [],
            "_model_module": "@jupyter-widgets/controls",
            "_model_module_version": "1.5.0",
            "_model_name": "FloatProgressModel",
            "_view_count": null,
            "_view_module": "@jupyter-widgets/controls",
            "_view_module_version": "1.5.0",
            "_view_name": "ProgressView",
            "bar_style": "success",
            "description": "",
            "description_tooltip": null,
            "layout": "IPY_MODEL_18d109e2657546868f2e05886c518f7f",
            "max": 1534,
            "min": 0,
            "orientation": "horizontal",
            "style": "IPY_MODEL_4b762be9a9fc47d182b224a755a1acca",
            "value": 1534
          }
        },
        "b97a33ca3d33420da116eaf9a4b4440d": {
          "model_module": "@jupyter-widgets/controls",
          "model_name": "HTMLModel",
          "model_module_version": "1.5.0",
          "state": {
            "_dom_classes": [],
            "_model_module": "@jupyter-widgets/controls",
            "_model_module_version": "1.5.0",
            "_model_name": "HTMLModel",
            "_view_count": null,
            "_view_module": "@jupyter-widgets/controls",
            "_view_module_version": "1.5.0",
            "_view_name": "HTMLView",
            "description": "",
            "description_tooltip": null,
            "layout": "IPY_MODEL_3f0133473d244d31947cdec902822c0c",
            "placeholder": "​",
            "style": "IPY_MODEL_da5b4a1308e84977abfc2c70943e3dfd",
            "value": " 1.53k/1.53k [00:00&lt;00:00, 35.4kB/s]"
          }
        },
        "69a530202fc54930ae830f40954a3cd4": {
          "model_module": "@jupyter-widgets/base",
          "model_name": "LayoutModel",
          "model_module_version": "1.2.0",
          "state": {
            "_model_module": "@jupyter-widgets/base",
            "_model_module_version": "1.2.0",
            "_model_name": "LayoutModel",
            "_view_count": null,
            "_view_module": "@jupyter-widgets/base",
            "_view_module_version": "1.2.0",
            "_view_name": "LayoutView",
            "align_content": null,
            "align_items": null,
            "align_self": null,
            "border": null,
            "bottom": null,
            "display": null,
            "flex": null,
            "flex_flow": null,
            "grid_area": null,
            "grid_auto_columns": null,
            "grid_auto_flow": null,
            "grid_auto_rows": null,
            "grid_column": null,
            "grid_gap": null,
            "grid_row": null,
            "grid_template_areas": null,
            "grid_template_columns": null,
            "grid_template_rows": null,
            "height": null,
            "justify_content": null,
            "justify_items": null,
            "left": null,
            "margin": null,
            "max_height": null,
            "max_width": null,
            "min_height": null,
            "min_width": null,
            "object_fit": null,
            "object_position": null,
            "order": null,
            "overflow": null,
            "overflow_x": null,
            "overflow_y": null,
            "padding": null,
            "right": null,
            "top": null,
            "visibility": null,
            "width": null
          }
        },
        "b9e4571f32ec46789815693eafa4bf7b": {
          "model_module": "@jupyter-widgets/base",
          "model_name": "LayoutModel",
          "model_module_version": "1.2.0",
          "state": {
            "_model_module": "@jupyter-widgets/base",
            "_model_module_version": "1.2.0",
            "_model_name": "LayoutModel",
            "_view_count": null,
            "_view_module": "@jupyter-widgets/base",
            "_view_module_version": "1.2.0",
            "_view_name": "LayoutView",
            "align_content": null,
            "align_items": null,
            "align_self": null,
            "border": null,
            "bottom": null,
            "display": null,
            "flex": null,
            "flex_flow": null,
            "grid_area": null,
            "grid_auto_columns": null,
            "grid_auto_flow": null,
            "grid_auto_rows": null,
            "grid_column": null,
            "grid_gap": null,
            "grid_row": null,
            "grid_template_areas": null,
            "grid_template_columns": null,
            "grid_template_rows": null,
            "height": null,
            "justify_content": null,
            "justify_items": null,
            "left": null,
            "margin": null,
            "max_height": null,
            "max_width": null,
            "min_height": null,
            "min_width": null,
            "object_fit": null,
            "object_position": null,
            "order": null,
            "overflow": null,
            "overflow_x": null,
            "overflow_y": null,
            "padding": null,
            "right": null,
            "top": null,
            "visibility": null,
            "width": null
          }
        },
        "fb20ac4e732f4b8aa2528e32112cf239": {
          "model_module": "@jupyter-widgets/controls",
          "model_name": "DescriptionStyleModel",
          "model_module_version": "1.5.0",
          "state": {
            "_model_module": "@jupyter-widgets/controls",
            "_model_module_version": "1.5.0",
            "_model_name": "DescriptionStyleModel",
            "_view_count": null,
            "_view_module": "@jupyter-widgets/base",
            "_view_module_version": "1.2.0",
            "_view_name": "StyleView",
            "description_width": ""
          }
        },
        "18d109e2657546868f2e05886c518f7f": {
          "model_module": "@jupyter-widgets/base",
          "model_name": "LayoutModel",
          "model_module_version": "1.2.0",
          "state": {
            "_model_module": "@jupyter-widgets/base",
            "_model_module_version": "1.2.0",
            "_model_name": "LayoutModel",
            "_view_count": null,
            "_view_module": "@jupyter-widgets/base",
            "_view_module_version": "1.2.0",
            "_view_name": "LayoutView",
            "align_content": null,
            "align_items": null,
            "align_self": null,
            "border": null,
            "bottom": null,
            "display": null,
            "flex": null,
            "flex_flow": null,
            "grid_area": null,
            "grid_auto_columns": null,
            "grid_auto_flow": null,
            "grid_auto_rows": null,
            "grid_column": null,
            "grid_gap": null,
            "grid_row": null,
            "grid_template_areas": null,
            "grid_template_columns": null,
            "grid_template_rows": null,
            "height": null,
            "justify_content": null,
            "justify_items": null,
            "left": null,
            "margin": null,
            "max_height": null,
            "max_width": null,
            "min_height": null,
            "min_width": null,
            "object_fit": null,
            "object_position": null,
            "order": null,
            "overflow": null,
            "overflow_x": null,
            "overflow_y": null,
            "padding": null,
            "right": null,
            "top": null,
            "visibility": null,
            "width": null
          }
        },
        "4b762be9a9fc47d182b224a755a1acca": {
          "model_module": "@jupyter-widgets/controls",
          "model_name": "ProgressStyleModel",
          "model_module_version": "1.5.0",
          "state": {
            "_model_module": "@jupyter-widgets/controls",
            "_model_module_version": "1.5.0",
            "_model_name": "ProgressStyleModel",
            "_view_count": null,
            "_view_module": "@jupyter-widgets/base",
            "_view_module_version": "1.2.0",
            "_view_name": "StyleView",
            "bar_color": null,
            "description_width": ""
          }
        },
        "3f0133473d244d31947cdec902822c0c": {
          "model_module": "@jupyter-widgets/base",
          "model_name": "LayoutModel",
          "model_module_version": "1.2.0",
          "state": {
            "_model_module": "@jupyter-widgets/base",
            "_model_module_version": "1.2.0",
            "_model_name": "LayoutModel",
            "_view_count": null,
            "_view_module": "@jupyter-widgets/base",
            "_view_module_version": "1.2.0",
            "_view_name": "LayoutView",
            "align_content": null,
            "align_items": null,
            "align_self": null,
            "border": null,
            "bottom": null,
            "display": null,
            "flex": null,
            "flex_flow": null,
            "grid_area": null,
            "grid_auto_columns": null,
            "grid_auto_flow": null,
            "grid_auto_rows": null,
            "grid_column": null,
            "grid_gap": null,
            "grid_row": null,
            "grid_template_areas": null,
            "grid_template_columns": null,
            "grid_template_rows": null,
            "height": null,
            "justify_content": null,
            "justify_items": null,
            "left": null,
            "margin": null,
            "max_height": null,
            "max_width": null,
            "min_height": null,
            "min_width": null,
            "object_fit": null,
            "object_position": null,
            "order": null,
            "overflow": null,
            "overflow_x": null,
            "overflow_y": null,
            "padding": null,
            "right": null,
            "top": null,
            "visibility": null,
            "width": null
          }
        },
        "da5b4a1308e84977abfc2c70943e3dfd": {
          "model_module": "@jupyter-widgets/controls",
          "model_name": "DescriptionStyleModel",
          "model_module_version": "1.5.0",
          "state": {
            "_model_module": "@jupyter-widgets/controls",
            "_model_module_version": "1.5.0",
            "_model_name": "DescriptionStyleModel",
            "_view_count": null,
            "_view_module": "@jupyter-widgets/base",
            "_view_module_version": "1.2.0",
            "_view_name": "StyleView",
            "description_width": ""
          }
        },
        "615ab622ffe44048b43ec7cfabedee2b": {
          "model_module": "@jupyter-widgets/controls",
          "model_name": "HBoxModel",
          "model_module_version": "1.5.0",
          "state": {
            "_dom_classes": [],
            "_model_module": "@jupyter-widgets/controls",
            "_model_module_version": "1.5.0",
            "_model_name": "HBoxModel",
            "_view_count": null,
            "_view_module": "@jupyter-widgets/controls",
            "_view_module_version": "1.5.0",
            "_view_name": "HBoxView",
            "box_style": "",
            "children": [
              "IPY_MODEL_181084c1672d462fa77b87a938792c89",
              "IPY_MODEL_a47f1960fac343ac85845661895faf06",
              "IPY_MODEL_980f0f04fb3b4681a579da057c95b14c"
            ],
            "layout": "IPY_MODEL_779cdf0484344512989181d26fa72acd"
          }
        },
        "181084c1672d462fa77b87a938792c89": {
          "model_module": "@jupyter-widgets/controls",
          "model_name": "HTMLModel",
          "model_module_version": "1.5.0",
          "state": {
            "_dom_classes": [],
            "_model_module": "@jupyter-widgets/controls",
            "_model_module_version": "1.5.0",
            "_model_name": "HTMLModel",
            "_view_count": null,
            "_view_module": "@jupyter-widgets/controls",
            "_view_module_version": "1.5.0",
            "_view_name": "HTMLView",
            "description": "",
            "description_tooltip": null,
            "layout": "IPY_MODEL_2976c89dd6ea4637b67993c1044cebad",
            "placeholder": "​",
            "style": "IPY_MODEL_aae7321e19fa4b328f82c627fa0f5a15",
            "value": "Downloading pytorch_model.bin: 100%"
          }
        },
        "a47f1960fac343ac85845661895faf06": {
          "model_module": "@jupyter-widgets/controls",
          "model_name": "FloatProgressModel",
          "model_module_version": "1.5.0",
          "state": {
            "_dom_classes": [],
            "_model_module": "@jupyter-widgets/controls",
            "_model_module_version": "1.5.0",
            "_model_name": "FloatProgressModel",
            "_view_count": null,
            "_view_module": "@jupyter-widgets/controls",
            "_view_module_version": "1.5.0",
            "_view_name": "ProgressView",
            "bar_style": "success",
            "description": "",
            "description_tooltip": null,
            "layout": "IPY_MODEL_20a43655e6f345e5a97404786159731d",
            "max": 497810400,
            "min": 0,
            "orientation": "horizontal",
            "style": "IPY_MODEL_23a78dd065aa4361b0ae5de66ece2505",
            "value": 497810400
          }
        },
        "980f0f04fb3b4681a579da057c95b14c": {
          "model_module": "@jupyter-widgets/controls",
          "model_name": "HTMLModel",
          "model_module_version": "1.5.0",
          "state": {
            "_dom_classes": [],
            "_model_module": "@jupyter-widgets/controls",
            "_model_module_version": "1.5.0",
            "_model_name": "HTMLModel",
            "_view_count": null,
            "_view_module": "@jupyter-widgets/controls",
            "_view_module_version": "1.5.0",
            "_view_name": "HTMLView",
            "description": "",
            "description_tooltip": null,
            "layout": "IPY_MODEL_fd8da75cb9334d4b8151d2a964f74bc7",
            "placeholder": "​",
            "style": "IPY_MODEL_6d27f41e4a9c414eb3c77f9f93461f06",
            "value": " 498M/498M [00:03&lt;00:00, 160MB/s]"
          }
        },
        "779cdf0484344512989181d26fa72acd": {
          "model_module": "@jupyter-widgets/base",
          "model_name": "LayoutModel",
          "model_module_version": "1.2.0",
          "state": {
            "_model_module": "@jupyter-widgets/base",
            "_model_module_version": "1.2.0",
            "_model_name": "LayoutModel",
            "_view_count": null,
            "_view_module": "@jupyter-widgets/base",
            "_view_module_version": "1.2.0",
            "_view_name": "LayoutView",
            "align_content": null,
            "align_items": null,
            "align_self": null,
            "border": null,
            "bottom": null,
            "display": null,
            "flex": null,
            "flex_flow": null,
            "grid_area": null,
            "grid_auto_columns": null,
            "grid_auto_flow": null,
            "grid_auto_rows": null,
            "grid_column": null,
            "grid_gap": null,
            "grid_row": null,
            "grid_template_areas": null,
            "grid_template_columns": null,
            "grid_template_rows": null,
            "height": null,
            "justify_content": null,
            "justify_items": null,
            "left": null,
            "margin": null,
            "max_height": null,
            "max_width": null,
            "min_height": null,
            "min_width": null,
            "object_fit": null,
            "object_position": null,
            "order": null,
            "overflow": null,
            "overflow_x": null,
            "overflow_y": null,
            "padding": null,
            "right": null,
            "top": null,
            "visibility": null,
            "width": null
          }
        },
        "2976c89dd6ea4637b67993c1044cebad": {
          "model_module": "@jupyter-widgets/base",
          "model_name": "LayoutModel",
          "model_module_version": "1.2.0",
          "state": {
            "_model_module": "@jupyter-widgets/base",
            "_model_module_version": "1.2.0",
            "_model_name": "LayoutModel",
            "_view_count": null,
            "_view_module": "@jupyter-widgets/base",
            "_view_module_version": "1.2.0",
            "_view_name": "LayoutView",
            "align_content": null,
            "align_items": null,
            "align_self": null,
            "border": null,
            "bottom": null,
            "display": null,
            "flex": null,
            "flex_flow": null,
            "grid_area": null,
            "grid_auto_columns": null,
            "grid_auto_flow": null,
            "grid_auto_rows": null,
            "grid_column": null,
            "grid_gap": null,
            "grid_row": null,
            "grid_template_areas": null,
            "grid_template_columns": null,
            "grid_template_rows": null,
            "height": null,
            "justify_content": null,
            "justify_items": null,
            "left": null,
            "margin": null,
            "max_height": null,
            "max_width": null,
            "min_height": null,
            "min_width": null,
            "object_fit": null,
            "object_position": null,
            "order": null,
            "overflow": null,
            "overflow_x": null,
            "overflow_y": null,
            "padding": null,
            "right": null,
            "top": null,
            "visibility": null,
            "width": null
          }
        },
        "aae7321e19fa4b328f82c627fa0f5a15": {
          "model_module": "@jupyter-widgets/controls",
          "model_name": "DescriptionStyleModel",
          "model_module_version": "1.5.0",
          "state": {
            "_model_module": "@jupyter-widgets/controls",
            "_model_module_version": "1.5.0",
            "_model_name": "DescriptionStyleModel",
            "_view_count": null,
            "_view_module": "@jupyter-widgets/base",
            "_view_module_version": "1.2.0",
            "_view_name": "StyleView",
            "description_width": ""
          }
        },
        "20a43655e6f345e5a97404786159731d": {
          "model_module": "@jupyter-widgets/base",
          "model_name": "LayoutModel",
          "model_module_version": "1.2.0",
          "state": {
            "_model_module": "@jupyter-widgets/base",
            "_model_module_version": "1.2.0",
            "_model_name": "LayoutModel",
            "_view_count": null,
            "_view_module": "@jupyter-widgets/base",
            "_view_module_version": "1.2.0",
            "_view_name": "LayoutView",
            "align_content": null,
            "align_items": null,
            "align_self": null,
            "border": null,
            "bottom": null,
            "display": null,
            "flex": null,
            "flex_flow": null,
            "grid_area": null,
            "grid_auto_columns": null,
            "grid_auto_flow": null,
            "grid_auto_rows": null,
            "grid_column": null,
            "grid_gap": null,
            "grid_row": null,
            "grid_template_areas": null,
            "grid_template_columns": null,
            "grid_template_rows": null,
            "height": null,
            "justify_content": null,
            "justify_items": null,
            "left": null,
            "margin": null,
            "max_height": null,
            "max_width": null,
            "min_height": null,
            "min_width": null,
            "object_fit": null,
            "object_position": null,
            "order": null,
            "overflow": null,
            "overflow_x": null,
            "overflow_y": null,
            "padding": null,
            "right": null,
            "top": null,
            "visibility": null,
            "width": null
          }
        },
        "23a78dd065aa4361b0ae5de66ece2505": {
          "model_module": "@jupyter-widgets/controls",
          "model_name": "ProgressStyleModel",
          "model_module_version": "1.5.0",
          "state": {
            "_model_module": "@jupyter-widgets/controls",
            "_model_module_version": "1.5.0",
            "_model_name": "ProgressStyleModel",
            "_view_count": null,
            "_view_module": "@jupyter-widgets/base",
            "_view_module_version": "1.2.0",
            "_view_name": "StyleView",
            "bar_color": null,
            "description_width": ""
          }
        },
        "fd8da75cb9334d4b8151d2a964f74bc7": {
          "model_module": "@jupyter-widgets/base",
          "model_name": "LayoutModel",
          "model_module_version": "1.2.0",
          "state": {
            "_model_module": "@jupyter-widgets/base",
            "_model_module_version": "1.2.0",
            "_model_name": "LayoutModel",
            "_view_count": null,
            "_view_module": "@jupyter-widgets/base",
            "_view_module_version": "1.2.0",
            "_view_name": "LayoutView",
            "align_content": null,
            "align_items": null,
            "align_self": null,
            "border": null,
            "bottom": null,
            "display": null,
            "flex": null,
            "flex_flow": null,
            "grid_area": null,
            "grid_auto_columns": null,
            "grid_auto_flow": null,
            "grid_auto_rows": null,
            "grid_column": null,
            "grid_gap": null,
            "grid_row": null,
            "grid_template_areas": null,
            "grid_template_columns": null,
            "grid_template_rows": null,
            "height": null,
            "justify_content": null,
            "justify_items": null,
            "left": null,
            "margin": null,
            "max_height": null,
            "max_width": null,
            "min_height": null,
            "min_width": null,
            "object_fit": null,
            "object_position": null,
            "order": null,
            "overflow": null,
            "overflow_x": null,
            "overflow_y": null,
            "padding": null,
            "right": null,
            "top": null,
            "visibility": null,
            "width": null
          }
        },
        "6d27f41e4a9c414eb3c77f9f93461f06": {
          "model_module": "@jupyter-widgets/controls",
          "model_name": "DescriptionStyleModel",
          "model_module_version": "1.5.0",
          "state": {
            "_model_module": "@jupyter-widgets/controls",
            "_model_module_version": "1.5.0",
            "_model_name": "DescriptionStyleModel",
            "_view_count": null,
            "_view_module": "@jupyter-widgets/base",
            "_view_module_version": "1.2.0",
            "_view_name": "StyleView",
            "description_width": ""
          }
        }
      }
    }
  },
  "nbformat": 4,
  "nbformat_minor": 0
}
